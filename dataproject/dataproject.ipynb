{
 "cells": [
  {
   "cell_type": "markdown",
   "metadata": {},
   "source": [
    "# DATA PROJECT: A dive into the Danish private sector"
   ]
  },
  {
   "cell_type": "markdown",
   "metadata": {},
   "source": [
    "**TABLE OF CONTENTS**<a id='toc0_'></a>    \n",
    "- [1. Project description](#toc1_)    \n",
    "- [2. Imports and set magics](#toc2_) \n",
    "- [3. Read, clean and explore data](#toc3_)\n",
    "    - 3.1. [Dataset GF02 - active firms given time, industry, size and region](#toc3_1_)\n",
    "    - 3.2. [Dataset DEMO4 - start-ups and bankruptcies over time and for different industries](#toc3_2_)  \n",
    "- [4. Merging the datasets](#toc4_)\n",
    "- [5. Analysis](#toc5_)\n",
    "- [6. Concluding remarks](#toc6_)\n",
    "   "
   ]
  },
  {
   "cell_type": "markdown",
   "metadata": {},
   "source": [
    "## 1. <a id='toc1_'></a>[Project description](#toc0_)"
   ]
  },
  {
   "cell_type": "markdown",
   "metadata": {},
   "source": [
    "The idea behind the project is to..."
   ]
  },
  {
   "cell_type": "markdown",
   "metadata": {},
   "source": [
    "## 2. <a id='toc2_'></a>[Imports and set magics](#toc0_)"
   ]
  },
  {
   "cell_type": "code",
   "execution_count": 24,
   "metadata": {},
   "outputs": [],
   "source": [
    "# As we will use data from Statistics Denmark (Statistikbanken) we will be using the DstApi to access that data.\n",
    "# If you previously have not installed it through github, the hashtag below should be deleted and the \"%pip...\" line should be run.\n",
    "# More info the DstApi can be found by following the link below to the githhub page explaining the Api.\n",
    "\n",
    "#%pip install git+https://github.com/alemartinello/dstapi\n"
   ]
  },
  {
   "cell_type": "code",
   "execution_count": 25,
   "metadata": {},
   "outputs": [
    {
     "name": "stdout",
     "output_type": "stream",
     "text": [
      "The autoreload extension is already loaded. To reload it, use:\n",
      "  %reload_ext autoreload\n"
     ]
    }
   ],
   "source": [
    "# We import different packages for the further analysis - among these the DstApi that has been installed via the code above.\n",
    "import pandas as pd\n",
    "import numpy as np\n",
    "import matplotlib.pyplot as plt\n",
    "import datetime\n",
    "import ipywidgets as widgets\n",
    "from matplotlib_venn import venn2\n",
    "from dstapi import DstApi\n",
    "\n",
    "# autoreload modules when code is run\n",
    "%load_ext autoreload\n",
    "%autoreload 2\n",
    "\n",
    "# user written modules\n",
    "import dataproject\n"
   ]
  },
  {
   "cell_type": "markdown",
   "metadata": {},
   "source": [
    "## 3. <a id='toc3_'></a>[Read, clean and explore data](#toc0_)"
   ]
  },
  {
   "cell_type": "markdown",
   "metadata": {},
   "source": [
    "### 3.1. <a id='toc3_1_'></a>[Dataset GF02 - active firms given time, industry, size and region](#toc0_)"
   ]
  },
  {
   "cell_type": "markdown",
   "metadata": {},
   "source": [
    "#### Importing the dataset"
   ]
  },
  {
   "cell_type": "code",
   "execution_count": 26,
   "metadata": {},
   "outputs": [],
   "source": [
    "gf02_api = DstApi('GF02') "
   ]
  },
  {
   "cell_type": "code",
   "execution_count": 27,
   "metadata": {},
   "outputs": [
    {
     "name": "stdout",
     "output_type": "stream",
     "text": [
      "Table GF02: General enterprise statistics by Municipality, Industry (DB07 10- 19- and 127 grouping and detailed), enterprise size (full time equivalents) and time\n",
      "Last update: 2023-05-05T08:00:00\n"
     ]
    },
    {
     "data": {
      "text/html": [
       "<div>\n",
       "<style scoped>\n",
       "    .dataframe tbody tr th:only-of-type {\n",
       "        vertical-align: middle;\n",
       "    }\n",
       "\n",
       "    .dataframe tbody tr th {\n",
       "        vertical-align: top;\n",
       "    }\n",
       "\n",
       "    .dataframe thead th {\n",
       "        text-align: right;\n",
       "    }\n",
       "</style>\n",
       "<table border=\"1\" class=\"dataframe\">\n",
       "  <thead>\n",
       "    <tr style=\"text-align: right;\">\n",
       "      <th></th>\n",
       "      <th>variable name</th>\n",
       "      <th># values</th>\n",
       "      <th>First value</th>\n",
       "      <th>First value label</th>\n",
       "      <th>Last value</th>\n",
       "      <th>Last value label</th>\n",
       "      <th>Time variable</th>\n",
       "    </tr>\n",
       "  </thead>\n",
       "  <tbody>\n",
       "    <tr>\n",
       "      <th>0</th>\n",
       "      <td>KOMK</td>\n",
       "      <td>118</td>\n",
       "      <td>000</td>\n",
       "      <td>All Denmark</td>\n",
       "      <td>12</td>\n",
       "      <td>Outside from Denmark</td>\n",
       "      <td>False</td>\n",
       "    </tr>\n",
       "    <tr>\n",
       "      <th>1</th>\n",
       "      <td>BRANCHEDB0710TIL127</td>\n",
       "      <td>902</td>\n",
       "      <td>TOT</td>\n",
       "      <td>TOT Industry total</td>\n",
       "      <td>999999</td>\n",
       "      <td>999999 Activity not stated</td>\n",
       "      <td>False</td>\n",
       "    </tr>\n",
       "    <tr>\n",
       "      <th>2</th>\n",
       "      <td>FIRMSTR</td>\n",
       "      <td>6</td>\n",
       "      <td>TOT</td>\n",
       "      <td>Total, all enterprises</td>\n",
       "      <td>103</td>\n",
       "      <td>250 employees and more</td>\n",
       "      <td>False</td>\n",
       "    </tr>\n",
       "    <tr>\n",
       "      <th>3</th>\n",
       "      <td>Tid</td>\n",
       "      <td>15</td>\n",
       "      <td>2007</td>\n",
       "      <td>2007</td>\n",
       "      <td>2021</td>\n",
       "      <td>2021</td>\n",
       "      <td>True</td>\n",
       "    </tr>\n",
       "  </tbody>\n",
       "</table>\n",
       "</div>"
      ],
      "text/plain": [
       "         variable name  # values First value       First value label  \\\n",
       "0                 KOMK       118         000             All Denmark   \n",
       "1  BRANCHEDB0710TIL127       902         TOT      TOT Industry total   \n",
       "2              FIRMSTR         6         TOT  Total, all enterprises   \n",
       "3                  Tid        15        2007                    2007   \n",
       "\n",
       "  Last value             Last value label  Time variable  \n",
       "0         12         Outside from Denmark          False  \n",
       "1     999999  999999 Activity not stated           False  \n",
       "2        103       250 employees and more          False  \n",
       "3       2021                         2021           True  "
      ]
     },
     "metadata": {},
     "output_type": "display_data"
    }
   ],
   "source": [
    "tabsum = gf02_api.tablesummary(language='en')\n",
    "display(tabsum)"
   ]
  },
  {
   "cell_type": "code",
   "execution_count": 28,
   "metadata": {},
   "outputs": [
    {
     "name": "stdout",
     "output_type": "stream",
     "text": [
      "KOMK:\n"
     ]
    },
    {
     "data": {
      "text/html": [
       "<div>\n",
       "<style scoped>\n",
       "    .dataframe tbody tr th:only-of-type {\n",
       "        vertical-align: middle;\n",
       "    }\n",
       "\n",
       "    .dataframe tbody tr th {\n",
       "        vertical-align: top;\n",
       "    }\n",
       "\n",
       "    .dataframe thead th {\n",
       "        text-align: right;\n",
       "    }\n",
       "</style>\n",
       "<table border=\"1\" class=\"dataframe\">\n",
       "  <thead>\n",
       "    <tr style=\"text-align: right;\">\n",
       "      <th></th>\n",
       "      <th>id</th>\n",
       "      <th>text</th>\n",
       "    </tr>\n",
       "  </thead>\n",
       "  <tbody>\n",
       "    <tr>\n",
       "      <th>0</th>\n",
       "      <td>000</td>\n",
       "      <td>All Denmark</td>\n",
       "    </tr>\n",
       "    <tr>\n",
       "      <th>1</th>\n",
       "      <td>084</td>\n",
       "      <td>Region Hovedstaden</td>\n",
       "    </tr>\n",
       "    <tr>\n",
       "      <th>2</th>\n",
       "      <td>01</td>\n",
       "      <td>Province Byen København</td>\n",
       "    </tr>\n",
       "    <tr>\n",
       "      <th>3</th>\n",
       "      <td>101</td>\n",
       "      <td>Copenhagen</td>\n",
       "    </tr>\n",
       "    <tr>\n",
       "      <th>4</th>\n",
       "      <td>147</td>\n",
       "      <td>Frederiksberg</td>\n",
       "    </tr>\n",
       "    <tr>\n",
       "      <th>...</th>\n",
       "      <td>...</td>\n",
       "      <td>...</td>\n",
       "    </tr>\n",
       "    <tr>\n",
       "      <th>113</th>\n",
       "      <td>820</td>\n",
       "      <td>Vesthimmerlands</td>\n",
       "    </tr>\n",
       "    <tr>\n",
       "      <th>114</th>\n",
       "      <td>851</td>\n",
       "      <td>Aalborg</td>\n",
       "    </tr>\n",
       "    <tr>\n",
       "      <th>115</th>\n",
       "      <td>099</td>\n",
       "      <td>Region unknown</td>\n",
       "    </tr>\n",
       "    <tr>\n",
       "      <th>116</th>\n",
       "      <td>098</td>\n",
       "      <td>Municipality unknown</td>\n",
       "    </tr>\n",
       "    <tr>\n",
       "      <th>117</th>\n",
       "      <td>12</td>\n",
       "      <td>Outside from Denmark</td>\n",
       "    </tr>\n",
       "  </tbody>\n",
       "</table>\n",
       "<p>118 rows × 2 columns</p>\n",
       "</div>"
      ],
      "text/plain": [
       "      id                     text\n",
       "0    000              All Denmark\n",
       "1    084       Region Hovedstaden\n",
       "2     01  Province Byen København\n",
       "3    101               Copenhagen\n",
       "4    147            Frederiksberg\n",
       "..   ...                      ...\n",
       "113  820          Vesthimmerlands\n",
       "114  851                  Aalborg\n",
       "115  099           Region unknown\n",
       "116  098    Municipality unknown \n",
       "117   12     Outside from Denmark\n",
       "\n",
       "[118 rows x 2 columns]"
      ]
     },
     "metadata": {},
     "output_type": "display_data"
    },
    {
     "name": "stdout",
     "output_type": "stream",
     "text": [
      "BRANCHEDB0710TIL127:\n"
     ]
    },
    {
     "data": {
      "text/html": [
       "<div>\n",
       "<style scoped>\n",
       "    .dataframe tbody tr th:only-of-type {\n",
       "        vertical-align: middle;\n",
       "    }\n",
       "\n",
       "    .dataframe tbody tr th {\n",
       "        vertical-align: top;\n",
       "    }\n",
       "\n",
       "    .dataframe thead th {\n",
       "        text-align: right;\n",
       "    }\n",
       "</style>\n",
       "<table border=\"1\" class=\"dataframe\">\n",
       "  <thead>\n",
       "    <tr style=\"text-align: right;\">\n",
       "      <th></th>\n",
       "      <th>id</th>\n",
       "      <th>text</th>\n",
       "    </tr>\n",
       "  </thead>\n",
       "  <tbody>\n",
       "    <tr>\n",
       "      <th>0</th>\n",
       "      <td>TOT</td>\n",
       "      <td>TOT Industry total</td>\n",
       "    </tr>\n",
       "    <tr>\n",
       "      <th>1</th>\n",
       "      <td>1</td>\n",
       "      <td>1 Agriculture, forestry and fishing</td>\n",
       "    </tr>\n",
       "    <tr>\n",
       "      <th>2</th>\n",
       "      <td>A</td>\n",
       "      <td>A Agriculture, forestry and fishing</td>\n",
       "    </tr>\n",
       "    <tr>\n",
       "      <th>3</th>\n",
       "      <td>01000</td>\n",
       "      <td>01000 Agriculture and horticulture</td>\n",
       "    </tr>\n",
       "    <tr>\n",
       "      <th>4</th>\n",
       "      <td>011100</td>\n",
       "      <td>011100 Growing of cereals (except rice), legum...</td>\n",
       "    </tr>\n",
       "    <tr>\n",
       "      <th>...</th>\n",
       "      <td>...</td>\n",
       "      <td>...</td>\n",
       "    </tr>\n",
       "    <tr>\n",
       "      <th>897</th>\n",
       "      <td>990000</td>\n",
       "      <td>990000 Activities of extraterritorial organiza...</td>\n",
       "    </tr>\n",
       "    <tr>\n",
       "      <th>898</th>\n",
       "      <td>11</td>\n",
       "      <td>11 Activity not stated</td>\n",
       "    </tr>\n",
       "    <tr>\n",
       "      <th>899</th>\n",
       "      <td>X</td>\n",
       "      <td>X Activity not stated</td>\n",
       "    </tr>\n",
       "    <tr>\n",
       "      <th>900</th>\n",
       "      <td>99999</td>\n",
       "      <td>99999 Activity not stated</td>\n",
       "    </tr>\n",
       "    <tr>\n",
       "      <th>901</th>\n",
       "      <td>999999</td>\n",
       "      <td>999999 Activity not stated</td>\n",
       "    </tr>\n",
       "  </tbody>\n",
       "</table>\n",
       "<p>902 rows × 2 columns</p>\n",
       "</div>"
      ],
      "text/plain": [
       "         id                                               text\n",
       "0       TOT                                 TOT Industry total\n",
       "1         1                1 Agriculture, forestry and fishing\n",
       "2         A                A Agriculture, forestry and fishing\n",
       "3     01000                 01000 Agriculture and horticulture\n",
       "4    011100  011100 Growing of cereals (except rice), legum...\n",
       "..      ...                                                ...\n",
       "897  990000  990000 Activities of extraterritorial organiza...\n",
       "898      11                             11 Activity not stated\n",
       "899       X                              X Activity not stated\n",
       "900   99999                          99999 Activity not stated\n",
       "901  999999                        999999 Activity not stated \n",
       "\n",
       "[902 rows x 2 columns]"
      ]
     },
     "metadata": {},
     "output_type": "display_data"
    },
    {
     "name": "stdout",
     "output_type": "stream",
     "text": [
      "FIRMSTR:\n"
     ]
    },
    {
     "data": {
      "text/html": [
       "<div>\n",
       "<style scoped>\n",
       "    .dataframe tbody tr th:only-of-type {\n",
       "        vertical-align: middle;\n",
       "    }\n",
       "\n",
       "    .dataframe tbody tr th {\n",
       "        vertical-align: top;\n",
       "    }\n",
       "\n",
       "    .dataframe thead th {\n",
       "        text-align: right;\n",
       "    }\n",
       "</style>\n",
       "<table border=\"1\" class=\"dataframe\">\n",
       "  <thead>\n",
       "    <tr style=\"text-align: right;\">\n",
       "      <th></th>\n",
       "      <th>id</th>\n",
       "      <th>text</th>\n",
       "    </tr>\n",
       "  </thead>\n",
       "  <tbody>\n",
       "    <tr>\n",
       "      <th>0</th>\n",
       "      <td>TOT</td>\n",
       "      <td>Total, all enterprises</td>\n",
       "    </tr>\n",
       "    <tr>\n",
       "      <th>1</th>\n",
       "      <td>0000</td>\n",
       "      <td>No employed</td>\n",
       "    </tr>\n",
       "    <tr>\n",
       "      <th>2</th>\n",
       "      <td>010</td>\n",
       "      <td>Less than 10 employed</td>\n",
       "    </tr>\n",
       "    <tr>\n",
       "      <th>3</th>\n",
       "      <td>101</td>\n",
       "      <td>10-49 employees</td>\n",
       "    </tr>\n",
       "    <tr>\n",
       "      <th>4</th>\n",
       "      <td>102</td>\n",
       "      <td>50-249 employees</td>\n",
       "    </tr>\n",
       "    <tr>\n",
       "      <th>5</th>\n",
       "      <td>103</td>\n",
       "      <td>250 employees and more</td>\n",
       "    </tr>\n",
       "  </tbody>\n",
       "</table>\n",
       "</div>"
      ],
      "text/plain": [
       "     id                    text\n",
       "0   TOT  Total, all enterprises\n",
       "1  0000             No employed\n",
       "2   010   Less than 10 employed\n",
       "3   101         10-49 employees\n",
       "4   102        50-249 employees\n",
       "5   103  250 employees and more"
      ]
     },
     "metadata": {},
     "output_type": "display_data"
    },
    {
     "name": "stdout",
     "output_type": "stream",
     "text": [
      "Tid:\n"
     ]
    },
    {
     "data": {
      "text/html": [
       "<div>\n",
       "<style scoped>\n",
       "    .dataframe tbody tr th:only-of-type {\n",
       "        vertical-align: middle;\n",
       "    }\n",
       "\n",
       "    .dataframe tbody tr th {\n",
       "        vertical-align: top;\n",
       "    }\n",
       "\n",
       "    .dataframe thead th {\n",
       "        text-align: right;\n",
       "    }\n",
       "</style>\n",
       "<table border=\"1\" class=\"dataframe\">\n",
       "  <thead>\n",
       "    <tr style=\"text-align: right;\">\n",
       "      <th></th>\n",
       "      <th>id</th>\n",
       "      <th>text</th>\n",
       "    </tr>\n",
       "  </thead>\n",
       "  <tbody>\n",
       "    <tr>\n",
       "      <th>0</th>\n",
       "      <td>2007</td>\n",
       "      <td>2007</td>\n",
       "    </tr>\n",
       "    <tr>\n",
       "      <th>1</th>\n",
       "      <td>2008</td>\n",
       "      <td>2008</td>\n",
       "    </tr>\n",
       "    <tr>\n",
       "      <th>2</th>\n",
       "      <td>2009</td>\n",
       "      <td>2009</td>\n",
       "    </tr>\n",
       "    <tr>\n",
       "      <th>3</th>\n",
       "      <td>2010</td>\n",
       "      <td>2010</td>\n",
       "    </tr>\n",
       "    <tr>\n",
       "      <th>4</th>\n",
       "      <td>2011</td>\n",
       "      <td>2011</td>\n",
       "    </tr>\n",
       "    <tr>\n",
       "      <th>5</th>\n",
       "      <td>2012</td>\n",
       "      <td>2012</td>\n",
       "    </tr>\n",
       "    <tr>\n",
       "      <th>6</th>\n",
       "      <td>2013</td>\n",
       "      <td>2013</td>\n",
       "    </tr>\n",
       "    <tr>\n",
       "      <th>7</th>\n",
       "      <td>2014</td>\n",
       "      <td>2014</td>\n",
       "    </tr>\n",
       "    <tr>\n",
       "      <th>8</th>\n",
       "      <td>2015</td>\n",
       "      <td>2015</td>\n",
       "    </tr>\n",
       "    <tr>\n",
       "      <th>9</th>\n",
       "      <td>2016</td>\n",
       "      <td>2016</td>\n",
       "    </tr>\n",
       "    <tr>\n",
       "      <th>10</th>\n",
       "      <td>2017</td>\n",
       "      <td>2017</td>\n",
       "    </tr>\n",
       "    <tr>\n",
       "      <th>11</th>\n",
       "      <td>2018</td>\n",
       "      <td>2018</td>\n",
       "    </tr>\n",
       "    <tr>\n",
       "      <th>12</th>\n",
       "      <td>2019</td>\n",
       "      <td>2019</td>\n",
       "    </tr>\n",
       "    <tr>\n",
       "      <th>13</th>\n",
       "      <td>2020</td>\n",
       "      <td>2020</td>\n",
       "    </tr>\n",
       "    <tr>\n",
       "      <th>14</th>\n",
       "      <td>2021</td>\n",
       "      <td>2021</td>\n",
       "    </tr>\n",
       "  </tbody>\n",
       "</table>\n",
       "</div>"
      ],
      "text/plain": [
       "      id  text\n",
       "0   2007  2007\n",
       "1   2008  2008\n",
       "2   2009  2009\n",
       "3   2010  2010\n",
       "4   2011  2011\n",
       "5   2012  2012\n",
       "6   2013  2013\n",
       "7   2014  2014\n",
       "8   2015  2015\n",
       "9   2016  2016\n",
       "10  2017  2017\n",
       "11  2018  2018\n",
       "12  2019  2019\n",
       "13  2020  2020\n",
       "14  2021  2021"
      ]
     },
     "metadata": {},
     "output_type": "display_data"
    }
   ],
   "source": [
    "# The available values for a each variable: \n",
    "for variable in tabsum['variable name']:\n",
    "    print(variable+':')\n",
    "    display(gf02_api.variable_levels(variable, language='en'))"
   ]
  },
  {
   "cell_type": "code",
   "execution_count": 29,
   "metadata": {},
   "outputs": [
    {
     "data": {
      "text/plain": [
       "{'table': 'gf02',\n",
       " 'format': 'BULK',\n",
       " 'lang': 'en',\n",
       " 'variables': [{'code': 'KOMK', 'values': ['*']},\n",
       "  {'code': 'BRANCHEDB0710TIL127', 'values': ['*']},\n",
       "  {'code': 'FIRMSTR', 'values': ['*']},\n",
       "  {'code': 'Tid', 'values': ['*']}]}"
      ]
     },
     "execution_count": 29,
     "metadata": {},
     "output_type": "execute_result"
    }
   ],
   "source": [
    "params = gf02_api._define_base_params(language='en')\n",
    "params"
   ]
  },
  {
   "cell_type": "code",
   "execution_count": 30,
   "metadata": {},
   "outputs": [],
   "source": [
    "params_gf02 = {'table': 'gf02',\n",
    " 'format': 'BULK',\n",
    " 'lang': 'en',\n",
    " 'variables': [{'code': 'KOMK', 'values': ['000']}, #we look at companies in all of Denmark\n",
    "  {'code': 'BRANCHEDB0710TIL127', 'values': ['TOT']}, #we look at all industries in Denmark\n",
    "  {'code': 'FIRMSTR', 'values': ['*']},\n",
    "  {'code': 'Tid', 'values': ['*']}]}"
   ]
  },
  {
   "cell_type": "code",
   "execution_count": 31,
   "metadata": {},
   "outputs": [
    {
     "data": {
      "text/html": [
       "<div>\n",
       "<style scoped>\n",
       "    .dataframe tbody tr th:only-of-type {\n",
       "        vertical-align: middle;\n",
       "    }\n",
       "\n",
       "    .dataframe tbody tr th {\n",
       "        vertical-align: top;\n",
       "    }\n",
       "\n",
       "    .dataframe thead th {\n",
       "        text-align: right;\n",
       "    }\n",
       "</style>\n",
       "<table border=\"1\" class=\"dataframe\">\n",
       "  <thead>\n",
       "    <tr style=\"text-align: right;\">\n",
       "      <th></th>\n",
       "      <th>KOMK</th>\n",
       "      <th>BRANCHEDB0710TIL127</th>\n",
       "      <th>FIRMSTR</th>\n",
       "      <th>TID</th>\n",
       "      <th>INDHOLD</th>\n",
       "    </tr>\n",
       "  </thead>\n",
       "  <tbody>\n",
       "    <tr>\n",
       "      <th>0</th>\n",
       "      <td>All Denmark</td>\n",
       "      <td>TOT Industry total</td>\n",
       "      <td>No employed</td>\n",
       "      <td>2007</td>\n",
       "      <td>168183</td>\n",
       "    </tr>\n",
       "    <tr>\n",
       "      <th>1</th>\n",
       "      <td>All Denmark</td>\n",
       "      <td>TOT Industry total</td>\n",
       "      <td>Less than 10 employed</td>\n",
       "      <td>2007</td>\n",
       "      <td>111481</td>\n",
       "    </tr>\n",
       "    <tr>\n",
       "      <th>2</th>\n",
       "      <td>All Denmark</td>\n",
       "      <td>TOT Industry total</td>\n",
       "      <td>10-49 employees</td>\n",
       "      <td>2007</td>\n",
       "      <td>21004</td>\n",
       "    </tr>\n",
       "    <tr>\n",
       "      <th>3</th>\n",
       "      <td>All Denmark</td>\n",
       "      <td>TOT Industry total</td>\n",
       "      <td>50-249 employees</td>\n",
       "      <td>2007</td>\n",
       "      <td>3816</td>\n",
       "    </tr>\n",
       "    <tr>\n",
       "      <th>4</th>\n",
       "      <td>All Denmark</td>\n",
       "      <td>TOT Industry total</td>\n",
       "      <td>250 employees and more</td>\n",
       "      <td>2007</td>\n",
       "      <td>835</td>\n",
       "    </tr>\n",
       "  </tbody>\n",
       "</table>\n",
       "</div>"
      ],
      "text/plain": [
       "          KOMK BRANCHEDB0710TIL127                 FIRMSTR   TID  INDHOLD\n",
       "0  All Denmark  TOT Industry total             No employed  2007   168183\n",
       "1  All Denmark  TOT Industry total   Less than 10 employed  2007   111481\n",
       "2  All Denmark  TOT Industry total         10-49 employees  2007    21004\n",
       "3  All Denmark  TOT Industry total        50-249 employees  2007     3816\n",
       "4  All Denmark  TOT Industry total  250 employees and more  2007      835"
      ]
     },
     "execution_count": 31,
     "metadata": {},
     "output_type": "execute_result"
    }
   ],
   "source": [
    "gf02_all = gf02_api.get_data(params=params_gf02)\n",
    "gf02_all.head(5)"
   ]
  },
  {
   "cell_type": "code",
   "execution_count": 32,
   "metadata": {},
   "outputs": [
    {
     "data": {
      "text/html": [
       "<div>\n",
       "<style scoped>\n",
       "    .dataframe tbody tr th:only-of-type {\n",
       "        vertical-align: middle;\n",
       "    }\n",
       "\n",
       "    .dataframe tbody tr th {\n",
       "        vertical-align: top;\n",
       "    }\n",
       "\n",
       "    .dataframe thead th {\n",
       "        text-align: right;\n",
       "    }\n",
       "</style>\n",
       "<table border=\"1\" class=\"dataframe\">\n",
       "  <thead>\n",
       "    <tr style=\"text-align: right;\">\n",
       "      <th></th>\n",
       "      <th>KOMK</th>\n",
       "      <th>BRANCHEDB0710TIL127</th>\n",
       "      <th>FIRMSTR</th>\n",
       "      <th>TID</th>\n",
       "      <th>INDHOLD</th>\n",
       "    </tr>\n",
       "  </thead>\n",
       "  <tbody>\n",
       "    <tr>\n",
       "      <th>0</th>\n",
       "      <td>All Denmark</td>\n",
       "      <td>TOT Industry total</td>\n",
       "      <td>No employed</td>\n",
       "      <td>2007</td>\n",
       "      <td>168183</td>\n",
       "    </tr>\n",
       "    <tr>\n",
       "      <th>1</th>\n",
       "      <td>All Denmark</td>\n",
       "      <td>TOT Industry total</td>\n",
       "      <td>Less than 10 employed</td>\n",
       "      <td>2007</td>\n",
       "      <td>111481</td>\n",
       "    </tr>\n",
       "    <tr>\n",
       "      <th>2</th>\n",
       "      <td>All Denmark</td>\n",
       "      <td>TOT Industry total</td>\n",
       "      <td>10-49 employees</td>\n",
       "      <td>2007</td>\n",
       "      <td>21004</td>\n",
       "    </tr>\n",
       "    <tr>\n",
       "      <th>3</th>\n",
       "      <td>All Denmark</td>\n",
       "      <td>TOT Industry total</td>\n",
       "      <td>50-249 employees</td>\n",
       "      <td>2007</td>\n",
       "      <td>3816</td>\n",
       "    </tr>\n",
       "    <tr>\n",
       "      <th>4</th>\n",
       "      <td>All Denmark</td>\n",
       "      <td>TOT Industry total</td>\n",
       "      <td>250 employees and more</td>\n",
       "      <td>2007</td>\n",
       "      <td>835</td>\n",
       "    </tr>\n",
       "    <tr>\n",
       "      <th>...</th>\n",
       "      <td>...</td>\n",
       "      <td>...</td>\n",
       "      <td>...</td>\n",
       "      <td>...</td>\n",
       "      <td>...</td>\n",
       "    </tr>\n",
       "    <tr>\n",
       "      <th>85</th>\n",
       "      <td>All Denmark</td>\n",
       "      <td>TOT Industry total</td>\n",
       "      <td>Less than 10 employed</td>\n",
       "      <td>2021</td>\n",
       "      <td>154138</td>\n",
       "    </tr>\n",
       "    <tr>\n",
       "      <th>86</th>\n",
       "      <td>All Denmark</td>\n",
       "      <td>TOT Industry total</td>\n",
       "      <td>10-49 employees</td>\n",
       "      <td>2021</td>\n",
       "      <td>19594</td>\n",
       "    </tr>\n",
       "    <tr>\n",
       "      <th>87</th>\n",
       "      <td>All Denmark</td>\n",
       "      <td>TOT Industry total</td>\n",
       "      <td>50-249 employees</td>\n",
       "      <td>2021</td>\n",
       "      <td>3945</td>\n",
       "    </tr>\n",
       "    <tr>\n",
       "      <th>88</th>\n",
       "      <td>All Denmark</td>\n",
       "      <td>TOT Industry total</td>\n",
       "      <td>250 employees and more</td>\n",
       "      <td>2021</td>\n",
       "      <td>870</td>\n",
       "    </tr>\n",
       "    <tr>\n",
       "      <th>89</th>\n",
       "      <td>All Denmark</td>\n",
       "      <td>TOT Industry total</td>\n",
       "      <td>Total, all enterprises</td>\n",
       "      <td>2021</td>\n",
       "      <td>328445</td>\n",
       "    </tr>\n",
       "  </tbody>\n",
       "</table>\n",
       "<p>90 rows × 5 columns</p>\n",
       "</div>"
      ],
      "text/plain": [
       "           KOMK BRANCHEDB0710TIL127                 FIRMSTR   TID  INDHOLD\n",
       "0   All Denmark  TOT Industry total             No employed  2007   168183\n",
       "1   All Denmark  TOT Industry total   Less than 10 employed  2007   111481\n",
       "2   All Denmark  TOT Industry total         10-49 employees  2007    21004\n",
       "3   All Denmark  TOT Industry total        50-249 employees  2007     3816\n",
       "4   All Denmark  TOT Industry total  250 employees and more  2007      835\n",
       "..          ...                 ...                     ...   ...      ...\n",
       "85  All Denmark  TOT Industry total   Less than 10 employed  2021   154138\n",
       "86  All Denmark  TOT Industry total         10-49 employees  2021    19594\n",
       "87  All Denmark  TOT Industry total        50-249 employees  2021     3945\n",
       "88  All Denmark  TOT Industry total  250 employees and more  2021      870\n",
       "89  All Denmark  TOT Industry total  Total, all enterprises  2021   328445\n",
       "\n",
       "[90 rows x 5 columns]"
      ]
     },
     "execution_count": 32,
     "metadata": {},
     "output_type": "execute_result"
    }
   ],
   "source": [
    "gf02_size = gf02_api.get_data(params=params_gf02)\n",
    "gf02_size"
   ]
  },
  {
   "cell_type": "markdown",
   "metadata": {},
   "source": [
    "#### Cleaning and renaming the dataset"
   ]
  },
  {
   "cell_type": "code",
   "execution_count": 33,
   "metadata": {},
   "outputs": [
    {
     "data": {
      "text/html": [
       "<div>\n",
       "<style scoped>\n",
       "    .dataframe tbody tr th:only-of-type {\n",
       "        vertical-align: middle;\n",
       "    }\n",
       "\n",
       "    .dataframe tbody tr th {\n",
       "        vertical-align: top;\n",
       "    }\n",
       "\n",
       "    .dataframe thead th {\n",
       "        text-align: right;\n",
       "    }\n",
       "</style>\n",
       "<table border=\"1\" class=\"dataframe\">\n",
       "  <thead>\n",
       "    <tr style=\"text-align: right;\">\n",
       "      <th></th>\n",
       "      <th>size</th>\n",
       "      <th>year</th>\n",
       "      <th>#companies</th>\n",
       "    </tr>\n",
       "  </thead>\n",
       "  <tbody>\n",
       "    <tr>\n",
       "      <th>0</th>\n",
       "      <td>No employed</td>\n",
       "      <td>2007</td>\n",
       "      <td>168183</td>\n",
       "    </tr>\n",
       "    <tr>\n",
       "      <th>1</th>\n",
       "      <td>Less than 10 employed</td>\n",
       "      <td>2007</td>\n",
       "      <td>111481</td>\n",
       "    </tr>\n",
       "    <tr>\n",
       "      <th>2</th>\n",
       "      <td>10-49 employees</td>\n",
       "      <td>2007</td>\n",
       "      <td>21004</td>\n",
       "    </tr>\n",
       "    <tr>\n",
       "      <th>3</th>\n",
       "      <td>50-249 employees</td>\n",
       "      <td>2007</td>\n",
       "      <td>3816</td>\n",
       "    </tr>\n",
       "    <tr>\n",
       "      <th>4</th>\n",
       "      <td>250 employees and more</td>\n",
       "      <td>2007</td>\n",
       "      <td>835</td>\n",
       "    </tr>\n",
       "    <tr>\n",
       "      <th>...</th>\n",
       "      <td>...</td>\n",
       "      <td>...</td>\n",
       "      <td>...</td>\n",
       "    </tr>\n",
       "    <tr>\n",
       "      <th>85</th>\n",
       "      <td>Less than 10 employed</td>\n",
       "      <td>2021</td>\n",
       "      <td>154138</td>\n",
       "    </tr>\n",
       "    <tr>\n",
       "      <th>86</th>\n",
       "      <td>10-49 employees</td>\n",
       "      <td>2021</td>\n",
       "      <td>19594</td>\n",
       "    </tr>\n",
       "    <tr>\n",
       "      <th>87</th>\n",
       "      <td>50-249 employees</td>\n",
       "      <td>2021</td>\n",
       "      <td>3945</td>\n",
       "    </tr>\n",
       "    <tr>\n",
       "      <th>88</th>\n",
       "      <td>250 employees and more</td>\n",
       "      <td>2021</td>\n",
       "      <td>870</td>\n",
       "    </tr>\n",
       "    <tr>\n",
       "      <th>89</th>\n",
       "      <td>Total, all enterprises</td>\n",
       "      <td>2021</td>\n",
       "      <td>328445</td>\n",
       "    </tr>\n",
       "  </tbody>\n",
       "</table>\n",
       "<p>90 rows × 3 columns</p>\n",
       "</div>"
      ],
      "text/plain": [
       "                      size  year  #companies\n",
       "0              No employed  2007      168183\n",
       "1    Less than 10 employed  2007      111481\n",
       "2          10-49 employees  2007       21004\n",
       "3         50-249 employees  2007        3816\n",
       "4   250 employees and more  2007         835\n",
       "..                     ...   ...         ...\n",
       "85   Less than 10 employed  2021      154138\n",
       "86         10-49 employees  2021       19594\n",
       "87        50-249 employees  2021        3945\n",
       "88  250 employees and more  2021         870\n",
       "89  Total, all enterprises  2021      328445\n",
       "\n",
       "[90 rows x 3 columns]"
      ]
     },
     "execution_count": 33,
     "metadata": {},
     "output_type": "execute_result"
    }
   ],
   "source": [
    "gf02_size.drop(['KOMK', 'BRANCHEDB0710TIL127'] , axis=1, inplace=True,)\n",
    "gf02_size.rename(columns = {'FIRMSTR':'size', 'TID':'year', 'INDHOLD':'#companies'}, inplace=True)\n",
    "gf02_size"
   ]
  },
  {
   "cell_type": "code",
   "execution_count": 34,
   "metadata": {},
   "outputs": [
    {
     "data": {
      "text/html": [
       "<div>\n",
       "<style scoped>\n",
       "    .dataframe tbody tr th:only-of-type {\n",
       "        vertical-align: middle;\n",
       "    }\n",
       "\n",
       "    .dataframe tbody tr th {\n",
       "        vertical-align: top;\n",
       "    }\n",
       "\n",
       "    .dataframe thead th {\n",
       "        text-align: right;\n",
       "    }\n",
       "</style>\n",
       "<table border=\"1\" class=\"dataframe\">\n",
       "  <thead>\n",
       "    <tr style=\"text-align: right;\">\n",
       "      <th>year</th>\n",
       "      <th>2007</th>\n",
       "      <th>2008</th>\n",
       "      <th>2009</th>\n",
       "      <th>2010</th>\n",
       "      <th>2011</th>\n",
       "      <th>2012</th>\n",
       "      <th>2013</th>\n",
       "      <th>2014</th>\n",
       "      <th>2015</th>\n",
       "      <th>2016</th>\n",
       "      <th>2017</th>\n",
       "      <th>2018</th>\n",
       "      <th>2019</th>\n",
       "      <th>2020</th>\n",
       "      <th>2021</th>\n",
       "    </tr>\n",
       "    <tr>\n",
       "      <th>size</th>\n",
       "      <th></th>\n",
       "      <th></th>\n",
       "      <th></th>\n",
       "      <th></th>\n",
       "      <th></th>\n",
       "      <th></th>\n",
       "      <th></th>\n",
       "      <th></th>\n",
       "      <th></th>\n",
       "      <th></th>\n",
       "      <th></th>\n",
       "      <th></th>\n",
       "      <th></th>\n",
       "      <th></th>\n",
       "      <th></th>\n",
       "    </tr>\n",
       "  </thead>\n",
       "  <tbody>\n",
       "    <tr>\n",
       "      <th>No employed</th>\n",
       "      <td>168183</td>\n",
       "      <td>168010</td>\n",
       "      <td>156529</td>\n",
       "      <td>158551</td>\n",
       "      <td>160589</td>\n",
       "      <td>161036</td>\n",
       "      <td>153368</td>\n",
       "      <td>139273</td>\n",
       "      <td>134794</td>\n",
       "      <td>142595</td>\n",
       "      <td>144520</td>\n",
       "      <td>145036</td>\n",
       "      <td>147459</td>\n",
       "      <td>147315</td>\n",
       "      <td>149898</td>\n",
       "    </tr>\n",
       "    <tr>\n",
       "      <th>Less than 10 employed</th>\n",
       "      <td>111481</td>\n",
       "      <td>117855</td>\n",
       "      <td>116338</td>\n",
       "      <td>117684</td>\n",
       "      <td>118175</td>\n",
       "      <td>118479</td>\n",
       "      <td>123337</td>\n",
       "      <td>138907</td>\n",
       "      <td>140447</td>\n",
       "      <td>143122</td>\n",
       "      <td>145775</td>\n",
       "      <td>147930</td>\n",
       "      <td>150226</td>\n",
       "      <td>151612</td>\n",
       "      <td>154138</td>\n",
       "    </tr>\n",
       "    <tr>\n",
       "      <th>10-49 employees</th>\n",
       "      <td>21004</td>\n",
       "      <td>20998</td>\n",
       "      <td>19053</td>\n",
       "      <td>17917</td>\n",
       "      <td>17938</td>\n",
       "      <td>17911</td>\n",
       "      <td>17855</td>\n",
       "      <td>17449</td>\n",
       "      <td>17771</td>\n",
       "      <td>18110</td>\n",
       "      <td>18596</td>\n",
       "      <td>19349</td>\n",
       "      <td>19141</td>\n",
       "      <td>19093</td>\n",
       "      <td>19594</td>\n",
       "    </tr>\n",
       "    <tr>\n",
       "      <th>50-249 employees</th>\n",
       "      <td>3816</td>\n",
       "      <td>3814</td>\n",
       "      <td>3379</td>\n",
       "      <td>3170</td>\n",
       "      <td>3261</td>\n",
       "      <td>3293</td>\n",
       "      <td>3270</td>\n",
       "      <td>3384</td>\n",
       "      <td>3436</td>\n",
       "      <td>3512</td>\n",
       "      <td>3628</td>\n",
       "      <td>3798</td>\n",
       "      <td>3813</td>\n",
       "      <td>3825</td>\n",
       "      <td>3945</td>\n",
       "    </tr>\n",
       "    <tr>\n",
       "      <th>250 employees and more</th>\n",
       "      <td>835</td>\n",
       "      <td>841</td>\n",
       "      <td>773</td>\n",
       "      <td>759</td>\n",
       "      <td>770</td>\n",
       "      <td>764</td>\n",
       "      <td>751</td>\n",
       "      <td>750</td>\n",
       "      <td>790</td>\n",
       "      <td>818</td>\n",
       "      <td>812</td>\n",
       "      <td>857</td>\n",
       "      <td>855</td>\n",
       "      <td>850</td>\n",
       "      <td>870</td>\n",
       "    </tr>\n",
       "    <tr>\n",
       "      <th>Total, all enterprises</th>\n",
       "      <td>305319</td>\n",
       "      <td>311518</td>\n",
       "      <td>296072</td>\n",
       "      <td>298081</td>\n",
       "      <td>300733</td>\n",
       "      <td>301483</td>\n",
       "      <td>298581</td>\n",
       "      <td>299763</td>\n",
       "      <td>297238</td>\n",
       "      <td>308157</td>\n",
       "      <td>313331</td>\n",
       "      <td>316970</td>\n",
       "      <td>321494</td>\n",
       "      <td>322695</td>\n",
       "      <td>328445</td>\n",
       "    </tr>\n",
       "  </tbody>\n",
       "</table>\n",
       "</div>"
      ],
      "text/plain": [
       "year                      2007    2008    2009    2010    2011    2012  \\\n",
       "size                                                                     \n",
       "No employed             168183  168010  156529  158551  160589  161036   \n",
       "Less than 10 employed   111481  117855  116338  117684  118175  118479   \n",
       "10-49 employees          21004   20998   19053   17917   17938   17911   \n",
       "50-249 employees          3816    3814    3379    3170    3261    3293   \n",
       "250 employees and more     835     841     773     759     770     764   \n",
       "Total, all enterprises  305319  311518  296072  298081  300733  301483   \n",
       "\n",
       "year                      2013    2014    2015    2016    2017    2018  \\\n",
       "size                                                                     \n",
       "No employed             153368  139273  134794  142595  144520  145036   \n",
       "Less than 10 employed   123337  138907  140447  143122  145775  147930   \n",
       "10-49 employees          17855   17449   17771   18110   18596   19349   \n",
       "50-249 employees          3270    3384    3436    3512    3628    3798   \n",
       "250 employees and more     751     750     790     818     812     857   \n",
       "Total, all enterprises  298581  299763  297238  308157  313331  316970   \n",
       "\n",
       "year                      2019    2020    2021  \n",
       "size                                            \n",
       "No employed             147459  147315  149898  \n",
       "Less than 10 employed   150226  151612  154138  \n",
       "10-49 employees          19141   19093   19594  \n",
       "50-249 employees          3813    3825    3945  \n",
       "250 employees and more     855     850     870  \n",
       "Total, all enterprises  321494  322695  328445  "
      ]
     },
     "execution_count": 34,
     "metadata": {},
     "output_type": "execute_result"
    }
   ],
   "source": [
    "gf02_size_wide = gf02_size.pivot(index='size', columns='year', values='#companies')\n",
    "gf02_size_wide = gf02_size_wide.reindex(['No employed', 'Less than 10 employed', '10-49 employees', '50-249 employees', '250 employees and more','Total, all enterprises'])\n",
    "gf02_size_wide"
   ]
  },
  {
   "cell_type": "code",
   "execution_count": 35,
   "metadata": {},
   "outputs": [
    {
     "data": {
      "text/html": [
       "<div>\n",
       "<style scoped>\n",
       "    .dataframe tbody tr th:only-of-type {\n",
       "        vertical-align: middle;\n",
       "    }\n",
       "\n",
       "    .dataframe tbody tr th {\n",
       "        vertical-align: top;\n",
       "    }\n",
       "\n",
       "    .dataframe thead th {\n",
       "        text-align: right;\n",
       "    }\n",
       "</style>\n",
       "<table border=\"1\" class=\"dataframe\">\n",
       "  <thead>\n",
       "    <tr style=\"text-align: right;\">\n",
       "      <th>year</th>\n",
       "      <th>2007</th>\n",
       "      <th>2008</th>\n",
       "      <th>2009</th>\n",
       "      <th>2010</th>\n",
       "      <th>2011</th>\n",
       "      <th>2012</th>\n",
       "      <th>2013</th>\n",
       "      <th>2014</th>\n",
       "      <th>2015</th>\n",
       "      <th>2016</th>\n",
       "      <th>2017</th>\n",
       "      <th>2018</th>\n",
       "      <th>2019</th>\n",
       "      <th>2020</th>\n",
       "      <th>2021</th>\n",
       "    </tr>\n",
       "  </thead>\n",
       "  <tbody>\n",
       "    <tr>\n",
       "      <th>count</th>\n",
       "      <td>6.000000</td>\n",
       "      <td>6.000000</td>\n",
       "      <td>6.000000</td>\n",
       "      <td>6.000000</td>\n",
       "      <td>6.000000</td>\n",
       "      <td>6.000000</td>\n",
       "      <td>6.00000</td>\n",
       "      <td>6.000000</td>\n",
       "      <td>6.000000</td>\n",
       "      <td>6.00000</td>\n",
       "      <td>6.000000</td>\n",
       "      <td>6.000000</td>\n",
       "      <td>6.000000</td>\n",
       "      <td>6.000000</td>\n",
       "      <td>6.000000</td>\n",
       "    </tr>\n",
       "    <tr>\n",
       "      <th>mean</th>\n",
       "      <td>101773.000000</td>\n",
       "      <td>103839.333333</td>\n",
       "      <td>98690.666667</td>\n",
       "      <td>99360.333333</td>\n",
       "      <td>100244.333333</td>\n",
       "      <td>100494.333333</td>\n",
       "      <td>99527.00000</td>\n",
       "      <td>99921.000000</td>\n",
       "      <td>99079.333333</td>\n",
       "      <td>102719.00000</td>\n",
       "      <td>104443.666667</td>\n",
       "      <td>105656.666667</td>\n",
       "      <td>107164.666667</td>\n",
       "      <td>107565.000000</td>\n",
       "      <td>109481.666667</td>\n",
       "    </tr>\n",
       "    <tr>\n",
       "      <th>std</th>\n",
       "      <td>120202.489603</td>\n",
       "      <td>122410.091453</td>\n",
       "      <td>116301.705168</td>\n",
       "      <td>117419.772481</td>\n",
       "      <td>118519.142342</td>\n",
       "      <td>118827.127626</td>\n",
       "      <td>117286.56198</td>\n",
       "      <td>117440.387821</td>\n",
       "      <td>116338.440563</td>\n",
       "      <td>120674.59978</td>\n",
       "      <td>122655.169063</td>\n",
       "      <td>123934.065441</td>\n",
       "      <td>125814.508684</td>\n",
       "      <td>126315.866951</td>\n",
       "      <td>128519.947259</td>\n",
       "    </tr>\n",
       "    <tr>\n",
       "      <th>min</th>\n",
       "      <td>835.000000</td>\n",
       "      <td>841.000000</td>\n",
       "      <td>773.000000</td>\n",
       "      <td>759.000000</td>\n",
       "      <td>770.000000</td>\n",
       "      <td>764.000000</td>\n",
       "      <td>751.00000</td>\n",
       "      <td>750.000000</td>\n",
       "      <td>790.000000</td>\n",
       "      <td>818.00000</td>\n",
       "      <td>812.000000</td>\n",
       "      <td>857.000000</td>\n",
       "      <td>855.000000</td>\n",
       "      <td>850.000000</td>\n",
       "      <td>870.000000</td>\n",
       "    </tr>\n",
       "    <tr>\n",
       "      <th>25%</th>\n",
       "      <td>8113.000000</td>\n",
       "      <td>8110.000000</td>\n",
       "      <td>7297.500000</td>\n",
       "      <td>6856.750000</td>\n",
       "      <td>6930.250000</td>\n",
       "      <td>6947.500000</td>\n",
       "      <td>6916.25000</td>\n",
       "      <td>6900.250000</td>\n",
       "      <td>7019.750000</td>\n",
       "      <td>7161.50000</td>\n",
       "      <td>7370.000000</td>\n",
       "      <td>7685.750000</td>\n",
       "      <td>7645.000000</td>\n",
       "      <td>7642.000000</td>\n",
       "      <td>7857.250000</td>\n",
       "    </tr>\n",
       "    <tr>\n",
       "      <th>50%</th>\n",
       "      <td>66242.500000</td>\n",
       "      <td>69426.500000</td>\n",
       "      <td>67695.500000</td>\n",
       "      <td>67800.500000</td>\n",
       "      <td>68056.500000</td>\n",
       "      <td>68195.000000</td>\n",
       "      <td>70596.00000</td>\n",
       "      <td>78178.000000</td>\n",
       "      <td>76282.500000</td>\n",
       "      <td>80352.50000</td>\n",
       "      <td>81558.000000</td>\n",
       "      <td>82192.500000</td>\n",
       "      <td>83300.000000</td>\n",
       "      <td>83204.000000</td>\n",
       "      <td>84746.000000</td>\n",
       "    </tr>\n",
       "    <tr>\n",
       "      <th>75%</th>\n",
       "      <td>154007.500000</td>\n",
       "      <td>155471.250000</td>\n",
       "      <td>146481.250000</td>\n",
       "      <td>148334.250000</td>\n",
       "      <td>149985.500000</td>\n",
       "      <td>150396.750000</td>\n",
       "      <td>145860.25000</td>\n",
       "      <td>139181.500000</td>\n",
       "      <td>139033.750000</td>\n",
       "      <td>142990.25000</td>\n",
       "      <td>145461.250000</td>\n",
       "      <td>147206.500000</td>\n",
       "      <td>149534.250000</td>\n",
       "      <td>150537.750000</td>\n",
       "      <td>153078.000000</td>\n",
       "    </tr>\n",
       "    <tr>\n",
       "      <th>max</th>\n",
       "      <td>305319.000000</td>\n",
       "      <td>311518.000000</td>\n",
       "      <td>296072.000000</td>\n",
       "      <td>298081.000000</td>\n",
       "      <td>300733.000000</td>\n",
       "      <td>301483.000000</td>\n",
       "      <td>298581.00000</td>\n",
       "      <td>299763.000000</td>\n",
       "      <td>297238.000000</td>\n",
       "      <td>308157.00000</td>\n",
       "      <td>313331.000000</td>\n",
       "      <td>316970.000000</td>\n",
       "      <td>321494.000000</td>\n",
       "      <td>322695.000000</td>\n",
       "      <td>328445.000000</td>\n",
       "    </tr>\n",
       "  </tbody>\n",
       "</table>\n",
       "</div>"
      ],
      "text/plain": [
       "year            2007           2008           2009           2010  \\\n",
       "count       6.000000       6.000000       6.000000       6.000000   \n",
       "mean   101773.000000  103839.333333   98690.666667   99360.333333   \n",
       "std    120202.489603  122410.091453  116301.705168  117419.772481   \n",
       "min       835.000000     841.000000     773.000000     759.000000   \n",
       "25%      8113.000000    8110.000000    7297.500000    6856.750000   \n",
       "50%     66242.500000   69426.500000   67695.500000   67800.500000   \n",
       "75%    154007.500000  155471.250000  146481.250000  148334.250000   \n",
       "max    305319.000000  311518.000000  296072.000000  298081.000000   \n",
       "\n",
       "year            2011           2012          2013           2014  \\\n",
       "count       6.000000       6.000000       6.00000       6.000000   \n",
       "mean   100244.333333  100494.333333   99527.00000   99921.000000   \n",
       "std    118519.142342  118827.127626  117286.56198  117440.387821   \n",
       "min       770.000000     764.000000     751.00000     750.000000   \n",
       "25%      6930.250000    6947.500000    6916.25000    6900.250000   \n",
       "50%     68056.500000   68195.000000   70596.00000   78178.000000   \n",
       "75%    149985.500000  150396.750000  145860.25000  139181.500000   \n",
       "max    300733.000000  301483.000000  298581.00000  299763.000000   \n",
       "\n",
       "year            2015          2016           2017           2018  \\\n",
       "count       6.000000       6.00000       6.000000       6.000000   \n",
       "mean    99079.333333  102719.00000  104443.666667  105656.666667   \n",
       "std    116338.440563  120674.59978  122655.169063  123934.065441   \n",
       "min       790.000000     818.00000     812.000000     857.000000   \n",
       "25%      7019.750000    7161.50000    7370.000000    7685.750000   \n",
       "50%     76282.500000   80352.50000   81558.000000   82192.500000   \n",
       "75%    139033.750000  142990.25000  145461.250000  147206.500000   \n",
       "max    297238.000000  308157.00000  313331.000000  316970.000000   \n",
       "\n",
       "year            2019           2020           2021  \n",
       "count       6.000000       6.000000       6.000000  \n",
       "mean   107164.666667  107565.000000  109481.666667  \n",
       "std    125814.508684  126315.866951  128519.947259  \n",
       "min       855.000000     850.000000     870.000000  \n",
       "25%      7645.000000    7642.000000    7857.250000  \n",
       "50%     83300.000000   83204.000000   84746.000000  \n",
       "75%    149534.250000  150537.750000  153078.000000  \n",
       "max    321494.000000  322695.000000  328445.000000  "
      ]
     },
     "execution_count": 35,
     "metadata": {},
     "output_type": "execute_result"
    }
   ],
   "source": [
    "gf02_size_wide.describe()"
   ]
  },
  {
   "cell_type": "code",
   "execution_count": null,
   "metadata": {},
   "outputs": [],
   "source": [
    "#Call function from py-file\n",
    "#var_keep = ['region', 'All Denmark']\n",
    "#gf02_filtered = dataproject.keep_regs(gf02_all, var_keep)"
   ]
  },
  {
   "cell_type": "code",
   "execution_count": null,
   "metadata": {},
   "outputs": [],
   "source": [
    "#I = gf02_all.regions.str.contains('Region')\n",
    "#I |= gf02_all.regions.str.contains('All Denmark')\n",
    "#gf02_all.loc[I, :]"
   ]
  },
  {
   "cell_type": "code",
   "execution_count": null,
   "metadata": {},
   "outputs": [],
   "source": [
    "#gf02_reduce = gf02_all.loc[I == True] # drop everything else\n",
    "#gf02_reduce.reset_index(inplace = True, drop = True) # Drop old index too. If the drop is not used, python will create another dataset with the old index.\n",
    "#gf02_reduce.iloc[0:153,:]\n",
    "#gf02_reduce"
   ]
  },
  {
   "cell_type": "markdown",
   "metadata": {},
   "source": [
    "#### Exploring the dataset"
   ]
  },
  {
   "cell_type": "code",
   "execution_count": 36,
   "metadata": {},
   "outputs": [
    {
     "data": {
      "image/png": "[encoded data removed]",
      "text/plain": [
       "<Figure size 640x480 with 1 Axes>"
      ]
     },
     "metadata": {},
     "output_type": "display_data"
    }
   ],
   "source": [
    "# Data frame with roskilde\n",
    "gf02_size_plot1 = gf02_size.loc[gf02_size['size'] == 'Total, all enterprises', :]\n",
    "\n",
    "# Plot the content of the data frame\n",
    "gf02_size_plot1.plot(x='year',y='#companies',legend=\"total companies in Denmark\");"
   ]
  },
  {
   "cell_type": "code",
   "execution_count": 42,
   "metadata": {},
   "outputs": [],
   "source": [
    "def plot_gf02_size(df, size): \n",
    "    I = df['size'] == size\n",
    "    ax=df.loc[I,:].plot(x='year', y='#companies', style='-o', legend=False)"
   ]
  },
  {
   "cell_type": "code",
   "execution_count": 47,
   "metadata": {},
   "outputs": [
    {
     "data": {
      "application/vnd.jupyter.widget-view+json": {
       "model_id": "820169750cce43b9bfbcf1936d43d740",
       "version_major": 2,
       "version_minor": 0
      },
      "text/plain": [
       "interactive(children=(Dropdown(description='Size', index=5, options=('No employed', 'Less than 10 employed', '…"
      ]
     },
     "metadata": {},
     "output_type": "display_data"
    }
   ],
   "source": [
    "widgets.interact(plot_gf02_size, \n",
    "    df = widgets.fixed(gf02_size),\n",
    "    size = widgets.Dropdown(description='Size', \n",
    "                            options=gf02_size['size'].unique(), \n",
    "                            value='Total, all enterprises')\n",
    ");"
   ]
  },
  {
   "cell_type": "markdown",
   "metadata": {},
   "source": [
    "### 3.2. <a id='toc3_2_'></a>[Dataset DEMO4 - start-ups and bankruptcies over time and for different industries](#toc0_)"
   ]
  },
  {
   "cell_type": "markdown",
   "metadata": {},
   "source": [
    "#### Importing the dataset"
   ]
  },
  {
   "cell_type": "markdown",
   "metadata": {},
   "source": [
    "As we are using another dataset from Statistics Denmark, we apply the same approach as described with the previous dataset (GF02)."
   ]
  },
  {
   "cell_type": "code",
   "execution_count": null,
   "metadata": {},
   "outputs": [],
   "source": [
    "demo4_api = DstApi('DEMO4')"
   ]
  },
  {
   "cell_type": "code",
   "execution_count": null,
   "metadata": {},
   "outputs": [],
   "source": [
    "tabsum2 = demo4_api.tablesummary(language='en')\n",
    "display(tabsum2)"
   ]
  },
  {
   "cell_type": "code",
   "execution_count": null,
   "metadata": {},
   "outputs": [],
   "source": [
    "# The available values for a each variable: \n",
    "for variable in tabsum2['variable name']:\n",
    "    print(variable+':')\n",
    "    display(ind2.variable_levels(variable, language='en'))"
   ]
  },
  {
   "cell_type": "code",
   "execution_count": null,
   "metadata": {},
   "outputs": [],
   "source": [
    "params_demo4 = demo4_api._define_base_params(language='en')\n",
    "params_demo4"
   ]
  },
  {
   "cell_type": "code",
   "execution_count": null,
   "metadata": {},
   "outputs": [],
   "source": [
    "params_demo4 = {'table': 'demo4',\n",
    " 'format': 'BULK',\n",
    " 'lang': 'en',\n",
    " 'variables': [{'code': 'REGION', 'values': ['*']},\n",
    "  {'code': 'BRANCHEDB0710', 'values': ['*']},\n",
    "  {'code': 'MÆNGDE4', 'values': ['*']},\n",
    "  {'code': 'Tid', 'values': ['*']}]}"
   ]
  },
  {
   "cell_type": "code",
   "execution_count": null,
   "metadata": {},
   "outputs": [],
   "source": [
    "demo4_all = demo4_api.get_data(params=params_demo4)\n",
    "demo4_all.head(5)"
   ]
  },
  {
   "cell_type": "markdown",
   "metadata": {},
   "source": [
    "#### Cleaning and renaming the dataset"
   ]
  },
  {
   "cell_type": "code",
   "execution_count": null,
   "metadata": {},
   "outputs": [],
   "source": [
    "demo4_all.rename(columns = {'REGION':'regions','BRANCHEDB0710':'Industry', 'MÆNGDE4': 'X', 'TID':'Time', 'INDHOLD':'Total'}, inplace=True)\n",
    "demo4_all.head()"
   ]
  },
  {
   "cell_type": "code",
   "execution_count": null,
   "metadata": {},
   "outputs": [],
   "source": [
    "I = demo4_all.regions.str.contains('regions')\n",
    "I |= demo4_all.regions.str.contains('All Denmark')\n",
    "demo4_all.loc[I, :]"
   ]
  },
  {
   "cell_type": "code",
   "execution_count": null,
   "metadata": {},
   "outputs": [],
   "source": [
    "demo4_reduce = demo4_all.loc[I == True] # drop everything else\n",
    "demo4_reduce.reset_index(inplace = True, drop = True) # Drop old index too. If the drop is not used, python will create another dataset with the old index.\n",
    "demo4_reduce.iloc[0:214,:]\n",
    "demo4_reduce"
   ]
  },
  {
   "cell_type": "code",
   "execution_count": null,
   "metadata": {},
   "outputs": [],
   "source": [
    "demo4_reduce.describe()"
   ]
  },
  {
   "cell_type": "code",
   "execution_count": null,
   "metadata": {},
   "outputs": [],
   "source": [
    "I = demo4_all.regions.str.contains('Region')\n",
    "demo4_all.loc[I, :]"
   ]
  },
  {
   "cell_type": "code",
   "execution_count": null,
   "metadata": {},
   "outputs": [],
   "source": [
    "demo4_reduced = demo4_all.loc[I == False] # keep everything else\n",
    "demo4_reduced.head(10)"
   ]
  },
  {
   "cell_type": "code",
   "execution_count": null,
   "metadata": {},
   "outputs": [],
   "source": [
    "demo4_reduced.reset_index(inplace = True, drop = True) # Drop old index too. If the drop is not used, python will create another dataset with the old index.\n",
    "demo4_reduced.iloc[0:214,:]\n",
    "demo4_reduced"
   ]
  },
  {
   "cell_type": "code",
   "execution_count": null,
   "metadata": {},
   "outputs": [],
   "source": []
  },
  {
   "cell_type": "markdown",
   "metadata": {},
   "source": [
    "#### Exploring the dataset"
   ]
  },
  {
   "cell_type": "markdown",
   "metadata": {},
   "source": [
    "In order to be able to **explore the raw data**, you may provide **static** and **interactive plots** to show important developments "
   ]
  },
  {
   "cell_type": "markdown",
   "metadata": {},
   "source": [
    "**Interactive plot** :"
   ]
  },
  {
   "cell_type": "code",
   "execution_count": null,
   "metadata": {},
   "outputs": [],
   "source": [
    "def plot_func():\n",
    "    # Function that operates on data set\n",
    "    pass\n",
    "\n",
    "widgets.interact(plot_func, \n",
    "    # Let the widget interact with data through plot_func()    \n",
    "); \n"
   ]
  },
  {
   "cell_type": "markdown",
   "metadata": {},
   "source": [
    "Explain what you see when moving elements of the interactive plot around. "
   ]
  },
  {
   "cell_type": "markdown",
   "metadata": {},
   "source": [
    "## 4. <a id='toc4_'></a>[Merging the datasets](#toc0_)"
   ]
  },
  {
   "cell_type": "markdown",
   "metadata": {},
   "source": [
    "Now you create combinations of your loaded data sets. Remember the illustration of a (inner) **merge**:"
   ]
  },
  {
   "cell_type": "code",
   "execution_count": null,
   "metadata": {},
   "outputs": [],
   "source": [
    "plt.figure(figsize=(15,7))\n",
    "v = venn2(subsets = (4, 4, 10), set_labels = ('Data X', 'Data Y'))\n",
    "v.get_label_by_id('100').set_text('dropped')\n",
    "v.get_label_by_id('010').set_text('dropped' )\n",
    "v.get_label_by_id('110').set_text('included')\n",
    "plt.show()"
   ]
  },
  {
   "cell_type": "markdown",
   "metadata": {},
   "source": [
    "Here we are dropping elements from both data set X and data set Y. A left join would keep all observations in data X intact and subset only from Y. \n",
    "\n",
    "Make sure that your resulting data sets have the correct number of rows and columns. That is, be clear about which observations are thrown away. \n",
    "\n",
    "**Note:** Don't make Venn diagrams in your own data project. It is just for exposition. "
   ]
  },
  {
   "cell_type": "markdown",
   "metadata": {},
   "source": [
    "## 5. <a id='toc5_'></a>[Analysis](#toc0_)"
   ]
  },
  {
   "cell_type": "markdown",
   "metadata": {},
   "source": [
    "To get a quick overview of the data, we show some **summary statistics** on a meaningful aggregation. "
   ]
  },
  {
   "cell_type": "markdown",
   "metadata": {},
   "source": [
    "MAKE FURTHER ANALYSIS. EXPLAIN THE CODE BRIEFLY AND SUMMARIZE THE RESULTS."
   ]
  },
  {
   "cell_type": "markdown",
   "metadata": {},
   "source": [
    "## 6. <a id='toc6_'></a>[Concluding remarks](#toc0_)"
   ]
  },
  {
   "cell_type": "markdown",
   "metadata": {},
   "source": [
    "ADD CONCISE CONLUSION."
   ]
  }
 ],
 "metadata": {
  "kernelspec": {
   "display_name": "Python 3",
   "language": "python",
   "name": "python3"
  },
  "language_info": {
   "codemirror_mode": {
    "name": "ipython",
    "version": 3
   },
   "file_extension": ".py",
   "mimetype": "text/x-python",
   "name": "python",
   "nbconvert_exporter": "python",
   "pygments_lexer": "ipython3",
   "version": "3.11.7"
  },
  "toc-autonumbering": true,
  "vscode": {
   "interpreter": {
    "hash": "d082443479dcf0bb109497657c949fcf3a4bd1d96297faded59d95be7509270b"
   }
  }
 },
 "nbformat": 4,
 "nbformat_minor": 4
}
