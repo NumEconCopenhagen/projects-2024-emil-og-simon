{
 "cells": [
  {
   "cell_type": "markdown",
   "metadata": {},
   "source": [
    "**Table of contents**<a id='toc0_'></a>    \n",
    "- 1. [Problem 1: Production economy and CO2 taxation](#toc1_)    \n",
    "- 2. [Problem 2: Career choice model](#toc2_)    \n",
    "- 3. [Problem 3: Barycentric interpolation](#toc3_)    \n",
    "\n",
    "<!-- vscode-jupyter-toc-config\n",
    "\tnumbering=true\n",
    "\tanchor=true\n",
    "\tflat=false\n",
    "\tminLevel=2\n",
    "\tmaxLevel=6\n",
    "\t/vscode-jupyter-toc-config -->\n",
    "<!-- THIS CELL WILL BE REPLACED ON TOC UPDATE. DO NOT WRITE YOUR TEXT IN THIS CELL -->"
   ]
  },
  {
   "cell_type": "code",
   "execution_count": 1,
   "metadata": {},
   "outputs": [],
   "source": [
    "# Standard modules needed\n",
    "import numpy as np\n",
    "from types import SimpleNamespace\n",
    "import pandas as pd\n",
    "import datetime as dt\n",
    "from types import SimpleNamespace\n",
    "from scipy import optimize\n",
    "from scipy import interpolate\n",
    "\n",
    "\n",
    "%load_ext autoreload\n",
    "%autoreload 2\n",
    "\n",
    "%matplotlib inline\n",
    "import matplotlib.pyplot as plt\n",
    "import seaborn as sns\n",
    "\n",
    "import exam_prob1 as prob1"
   ]
  },
  {
   "cell_type": "markdown",
   "metadata": {},
   "source": [
    "## 1. <a id='toc1_'></a>[Problem 1: Production economy and CO2 taxation](#toc0_)"
   ]
  },
  {
   "cell_type": "markdown",
   "metadata": {},
   "source": [
    "Consider a production economy with two firms indexed by $j \\in \\{1,2\\}$. Each produce its own good. They solve\n",
    "\n",
    "$$\n",
    "\\begin{align*}\n",
    "\\max_{y_{j}}\\pi_{j}&=p_{j}y_{j}-w_{j}\\ell_{j}\\\\\\text{s.t.}\\;&y_{j}=A\\ell_{j}^{\\gamma}.\n",
    "\\end{align*}\n",
    "$$\n",
    "\n",
    "Optimal firm behavior is\n",
    "\n",
    "$$\n",
    "\\begin{align*}\n",
    "\\ell_{j}^{\\star}(w,p_{j})&=\\left(\\frac{p_{j}A\\gamma}{w}\\right)^{\\frac{1}{1-\\gamma}} \\\\\n",
    "y_{j}^{\\star}(w,p_{j})&=A\\left(\\ell_{j}^{\\star}(w,p_{j})\\right)^{\\gamma}\n",
    "\\end{align*}\n",
    "$$\n",
    "\n",
    "The implied profits are\n",
    "\n",
    "$$\n",
    "\\pi_{j}^*(w,p_{j})=\\frac{1-\\gamma}{\\gamma}w\\cdot\\left(\\frac{p_{j}A\\gamma}{w}\\right)^{\\frac{1}{1-\\gamma}}\n",
    "$$\n",
    "\n",
    "A single consumer supplies labor, and consumes the goods the firms produce. She also recieves the implied profits of the firm.<br>\n",
    "She solves:\n",
    "\n",
    "$$\n",
    "\\begin{align*}\n",
    "U(p_1,p_2,w,\\tau,T) = \\max_{c_{1},c_{2},\\ell} & \\log(c_{1}^{\\alpha}c_{2}^{1-\\alpha})-\\nu\\frac{\\ell^{1+\\epsilon}}{1+\\epsilon} \\\\\n",
    "\\text{s.t.}\\,\\,\\,&p_{1}c_{1}+(p_{2}+\\tau)c_{2}=w\\ell+T+\\pi_{1}^*(w,p_{1})+\\pi_{2}^*(w,p_{2})\n",
    "\\end{align*}\n",
    "$$\n",
    "\n",
    "where $\\tau$ is a tax and $T$ is lump-sum transfer. <br>\n",
    "For a given $\\ell$, it can be shown that optimal behavior is\n",
    "\n",
    "$$\n",
    "\\begin{align*}\n",
    "c_{1}(\\ell)&=\\alpha\\frac{w\\ell+T+\\pi_{1}^*(w,p_{1})+\\pi_{2}^*(w,p_{2})}{p_{1}} \\\\\n",
    "c_{2}(\\ell)&=(1-\\alpha)\\frac{w\\ell+T+\\pi_{1}^*(w,p_{1})+\\pi_{2}^*(w,p_{2})}{p_{2}+\\tau} \\\\\n",
    "\\end{align*}\n",
    "$$\n",
    "Such that optimal behavior is:\n",
    "$$\n",
    "\\ell^* = \\underset{\\ell}{\\arg\\max} \\log(\\left(c_{1}(\\ell)\\right)^{\\alpha}\\cdot \\left(c_{2}(\\ell)\\right)^{1-\\alpha})-\\nu\\frac{\\ell^{1+\\epsilon}}{1+\\epsilon} \n",
    "$$\n",
    "With optimal consumption:\n",
    "$$\n",
    "\\begin{align*}\n",
    "c_1^*=c_{1}(\\ell^*) \\\\\n",
    "c_2^*=c_{2}(\\ell^*)\\\\\n",
    "\\end{align*}\n",
    "$$\n",
    "\n",
    "\n",
    "The government chooses $\\tau$ and balances its budget so $T=\\tau c_2^*$. We initially set $\\tau,T=0$.\n",
    "\n",
    "Market clearing requires:\n",
    "\n",
    "1. Labor market: $\\ell^* = \\ell_1^* + \\ell_2^*$\n",
    "1. Good market 1: $c_1^* = y_1^*$\n",
    "1. Good market 2: $c_2^* = y_2^*$\n"
   ]
  },
  {
   "cell_type": "markdown",
   "metadata": {},
   "source": [
    "**Question 1:** Check market clearing conditions for $p_1$ in `linspace(0.1,2.0,10)` and $p_2$ in `linspace(0.1,2.0,10)`. We choose $w=1$ as numeraire."
   ]
  },
  {
   "cell_type": "code",
   "execution_count": 2,
   "metadata": {},
   "outputs": [],
   "source": [
    "import exam_prob1 as prob1\n",
    "import numpy as np\n",
    "from types import SimpleNamespace\n",
    "from scipy import optimize\n",
    "import matplotlib.pyplot as plt"
   ]
  },
  {
   "cell_type": "code",
   "execution_count": 3,
   "metadata": {},
   "outputs": [],
   "source": [
    "par = SimpleNamespace()\n",
    "par.A = 1.0\n",
    "par.gamma = 0.5\n",
    "par.alpha = 0.3\n",
    "par.nu = 1.0\n",
    "par.epsilon = 2.0\n",
    "par.tau = 0.0\n",
    "par.T = 0.0\n",
    "par.kappa = 0.1"
   ]
  },
  {
   "cell_type": "code",
   "execution_count": 4,
   "metadata": {},
   "outputs": [
    {
     "name": "stdout",
     "output_type": "stream",
     "text": [
      "For: p1 = 0.100, p2 = 0.100 -> labor market = 0.993, c1 = 2.960, c2 = 6.973\n",
      "For: p1 = 0.100, p2 = 0.311 -> labor market = 0.964, c1 = 3.004, c2 = 2.135\n",
      "For: p1 = 0.100, p2 = 0.522 -> labor market = 0.906, c1 = 3.093, c2 = 1.143\n",
      "For: p1 = 0.100, p2 = 0.733 -> labor market = 0.819, c1 = 3.230, c2 = 0.677\n",
      "For: p1 = 0.100, p2 = 0.944 -> labor market = 0.705, c1 = 3.417, c2 = 0.384\n",
      "For: p1 = 0.100, p2 = 1.156 -> labor market = 0.563, c1 = 3.658, c2 = 0.171\n",
      "For: p1 = 0.100, p2 = 1.367 -> labor market = 0.396, c1 = 3.955, c2 = 0.000\n",
      "For: p1 = 0.100, p2 = 1.578 -> labor market = 0.204, c1 = 4.312, c2 = -0.144\n",
      "For: p1 = 0.100, p2 = 1.789 -> labor market = -0.011, c1 = 4.733, c2 = -0.271\n",
      "For: p1 = 0.100, p2 = 2.000 -> labor market = -0.248, c1 = 5.221, c2 = -0.385\n",
      "For: p1 = 0.311, p2 = 0.100 -> labor market = 0.964, c1 = 0.826, c2 = 7.075\n",
      "For: p1 = 0.311, p2 = 0.311 -> labor market = 0.936, c1 = 0.840, c2 = 2.168\n",
      "For: p1 = 0.311, p2 = 0.522 -> labor market = 0.878, c1 = 0.869, c2 = 1.163\n",
      "For: p1 = 0.311, p2 = 0.733 -> labor market = 0.791, c1 = 0.913, c2 = 0.691\n",
      "For: p1 = 0.311, p2 = 0.944 -> labor market = 0.677, c1 = 0.974, c2 = 0.396\n",
      "For: p1 = 0.311, p2 = 1.156 -> labor market = 0.536, c1 = 1.052, c2 = 0.181\n",
      "For: p1 = 0.311, p2 = 1.367 -> labor market = 0.369, c1 = 1.148, c2 = 0.009\n",
      "For: p1 = 0.311, p2 = 1.578 -> labor market = 0.178, c1 = 1.263, c2 = -0.136\n",
      "For: p1 = 0.311, p2 = 1.789 -> labor market = -0.037, c1 = 1.399, c2 = -0.264\n",
      "For: p1 = 0.311, p2 = 2.000 -> labor market = -0.274, c1 = 1.556, c2 = -0.379\n",
      "For: p1 = 0.522, p2 = 0.100 -> labor market = 0.906, c1 = 0.341, c2 = 7.284\n",
      "For: p1 = 0.522, p2 = 0.311 -> labor market = 0.878, c1 = 0.349, c2 = 2.235\n",
      "For: p1 = 0.522, p2 = 0.522 -> labor market = 0.820, c1 = 0.367, c2 = 1.204\n",
      "For: p1 = 0.522, p2 = 0.733 -> labor market = 0.734, c1 = 0.393, c2 = 0.721\n",
      "For: p1 = 0.522, p2 = 0.944 -> labor market = 0.621, c1 = 0.430, c2 = 0.419\n",
      "For: p1 = 0.522, p2 = 1.156 -> labor market = 0.480, c1 = 0.477, c2 = 0.200\n",
      "For: p1 = 0.522, p2 = 1.367 -> labor market = 0.315, c1 = 0.534, c2 = 0.026\n",
      "For: p1 = 0.522, p2 = 1.578 -> labor market = 0.124, c1 = 0.604, c2 = -0.121\n",
      "For: p1 = 0.522, p2 = 1.789 -> labor market = -0.089, c1 = 0.685, c2 = -0.250\n",
      "For: p1 = 0.522, p2 = 2.000 -> labor market = -0.325, c1 = 0.779, c2 = -0.366\n",
      "For: p1 = 0.733, p2 = 0.100 -> labor market = 0.819, c1 = 0.081, c2 = 7.603\n",
      "For: p1 = 0.733, p2 = 0.311 -> labor market = 0.791, c1 = 0.087, c2 = 2.338\n",
      "For: p1 = 0.733, p2 = 0.522 -> labor market = 0.734, c1 = 0.099, c2 = 1.266\n",
      "For: p1 = 0.733, p2 = 0.733 -> labor market = 0.649, c1 = 0.119, c2 = 0.766\n",
      "For: p1 = 0.733, p2 = 0.944 -> labor market = 0.536, c1 = 0.145, c2 = 0.455\n",
      "For: p1 = 0.733, p2 = 1.156 -> labor market = 0.398, c1 = 0.179, c2 = 0.230\n",
      "For: p1 = 0.733, p2 = 1.367 -> labor market = 0.233, c1 = 0.221, c2 = 0.052\n",
      "For: p1 = 0.733, p2 = 1.578 -> labor market = 0.044, c1 = 0.271, c2 = -0.098\n",
      "For: p1 = 0.733, p2 = 1.789 -> labor market = -0.168, c1 = 0.329, c2 = -0.229\n",
      "For: p1 = 0.733, p2 = 2.000 -> labor market = -0.402, c1 = 0.397, c2 = -0.347\n",
      "For: p1 = 0.944, p2 = 0.100 -> labor market = 0.705, c1 = -0.105, c2 = 8.040\n",
      "For: p1 = 0.944, p2 = 0.311 -> labor market = 0.677, c1 = -0.100, c2 = 2.480\n",
      "For: p1 = 0.944, p2 = 0.522 -> labor market = 0.621, c1 = -0.090, c2 = 1.351\n",
      "For: p1 = 0.944, p2 = 0.733 -> labor market = 0.536, c1 = -0.075, c2 = 0.828\n",
      "For: p1 = 0.944, p2 = 0.944 -> labor market = 0.425, c1 = -0.054, c2 = 0.504\n",
      "For: p1 = 0.944, p2 = 1.156 -> labor market = 0.288, c1 = -0.027, c2 = 0.271\n",
      "For: p1 = 0.944, p2 = 1.367 -> labor market = 0.125, c1 = 0.006, c2 = 0.088\n",
      "For: p1 = 0.944, p2 = 1.578 -> labor market = -0.062, c1 = 0.045, c2 = -0.066\n",
      "Closest to solution: p1 = 0.944, p2 = 1.578 -> labor market = -0.06181, c1 = 0.04518, c2 = -0.06622\n",
      "For: p1 = 0.944, p2 = 1.789 -> labor market = -0.272, c1 = 0.091, c2 = -0.200\n",
      "For: p1 = 0.944, p2 = 2.000 -> labor market = -0.505, c1 = 0.144, c2 = -0.321\n",
      "For: p1 = 1.156, p2 = 0.100 -> labor market = 0.563, c1 = -0.257, c2 = 8.601\n",
      "For: p1 = 1.156, p2 = 0.311 -> labor market = 0.536, c1 = -0.253, c2 = 2.661\n",
      "For: p1 = 1.156, p2 = 0.522 -> labor market = 0.480, c1 = -0.244, c2 = 1.461\n",
      "For: p1 = 1.156, p2 = 0.733 -> labor market = 0.398, c1 = -0.231, c2 = 0.907\n",
      "For: p1 = 1.156, p2 = 0.944 -> labor market = 0.288, c1 = -0.214, c2 = 0.567\n",
      "For: p1 = 1.156, p2 = 1.156 -> labor market = 0.152, c1 = -0.192, c2 = 0.323\n",
      "For: p1 = 1.156, p2 = 1.367 -> labor market = -0.008, c1 = -0.164, c2 = 0.133\n",
      "For: p1 = 1.156, p2 = 1.578 -> labor market = -0.193, c1 = -0.132, c2 = -0.026\n",
      "For: p1 = 1.156, p2 = 1.789 -> labor market = -0.402, c1 = -0.093, c2 = -0.164\n",
      "For: p1 = 1.156, p2 = 2.000 -> labor market = -0.633, c1 = -0.049, c2 = -0.288\n",
      "For: p1 = 1.367, p2 = 0.100 -> labor market = 0.396, c1 = -0.390, c2 = 9.295\n",
      "For: p1 = 1.367, p2 = 0.311 -> labor market = 0.369, c1 = -0.387, c2 = 2.885\n",
      "For: p1 = 1.367, p2 = 0.522 -> labor market = 0.315, c1 = -0.379, c2 = 1.595\n",
      "For: p1 = 1.367, p2 = 0.733 -> labor market = 0.233, c1 = -0.368, c2 = 1.004\n",
      "For: p1 = 1.367, p2 = 0.944 -> labor market = 0.125, c1 = -0.353, c2 = 0.643\n",
      "For: p1 = 1.367, p2 = 1.156 -> labor market = -0.008, c1 = -0.334, c2 = 0.387\n",
      "For: p1 = 1.367, p2 = 1.367 -> labor market = -0.167, c1 = -0.310, c2 = 0.188\n",
      "For: p1 = 1.367, p2 = 1.578 -> labor market = -0.350, c1 = -0.282, c2 = 0.022\n",
      "For: p1 = 1.367, p2 = 1.789 -> labor market = -0.556, c1 = -0.249, c2 = -0.120\n",
      "For: p1 = 1.367, p2 = 2.000 -> labor market = -0.785, c1 = -0.212, c2 = -0.248\n",
      "For: p1 = 1.578, p2 = 0.100 -> labor market = 0.204, c1 = -0.512, c2 = 10.129\n",
      "For: p1 = 1.578, p2 = 0.311 -> labor market = 0.178, c1 = -0.509, c2 = 3.154\n",
      "For: p1 = 1.578, p2 = 0.522 -> labor market = 0.124, c1 = -0.503, c2 = 1.757\n",
      "For: p1 = 1.578, p2 = 0.733 -> labor market = 0.044, c1 = -0.493, c2 = 1.120\n",
      "For: p1 = 1.578, p2 = 0.944 -> labor market = -0.062, c1 = -0.479, c2 = 0.735\n",
      "For: p1 = 1.578, p2 = 1.156 -> labor market = -0.193, c1 = -0.462, c2 = 0.463\n",
      "For: p1 = 1.578, p2 = 1.367 -> labor market = -0.350, c1 = -0.441, c2 = 0.253\n",
      "For: p1 = 1.578, p2 = 1.578 -> labor market = -0.530, c1 = -0.416, c2 = 0.080\n",
      "For: p1 = 1.578, p2 = 1.789 -> labor market = -0.734, c1 = -0.388, c2 = -0.069\n",
      "For: p1 = 1.578, p2 = 2.000 -> labor market = -0.961, c1 = -0.355, c2 = -0.201\n",
      "For: p1 = 1.789, p2 = 0.100 -> labor market = -0.011, c1 = -0.627, c2 = 11.111\n",
      "For: p1 = 1.789, p2 = 0.311 -> labor market = -0.037, c1 = -0.624, c2 = 3.471\n",
      "For: p1 = 1.789, p2 = 0.522 -> labor market = -0.089, c1 = -0.618, c2 = 1.947\n",
      "For: p1 = 1.789, p2 = 0.733 -> labor market = -0.168, c1 = -0.609, c2 = 1.257\n",
      "For: p1 = 1.789, p2 = 0.944 -> labor market = -0.272, c1 = -0.597, c2 = 0.843\n",
      "For: p1 = 1.789, p2 = 1.156 -> labor market = -0.402, c1 = -0.582, c2 = 0.553\n",
      "For: p1 = 1.789, p2 = 1.367 -> labor market = -0.556, c1 = -0.563, c2 = 0.330\n",
      "For: p1 = 1.789, p2 = 1.578 -> labor market = -0.734, c1 = -0.540, c2 = 0.148\n",
      "For: p1 = 1.789, p2 = 1.789 -> labor market = -0.936, c1 = -0.515, c2 = -0.008\n",
      "For: p1 = 1.789, p2 = 2.000 -> labor market = -1.160, c1 = -0.485, c2 = -0.146\n",
      "For: p1 = 2.000, p2 = 0.100 -> labor market = -0.248, c1 = -0.736, c2 = 12.249\n",
      "For: p1 = 2.000, p2 = 0.311 -> labor market = -0.274, c1 = -0.734, c2 = 3.838\n",
      "For: p1 = 2.000, p2 = 0.522 -> labor market = -0.325, c1 = -0.728, c2 = 2.167\n",
      "For: p1 = 2.000, p2 = 0.733 -> labor market = -0.402, c1 = -0.720, c2 = 1.415\n",
      "For: p1 = 2.000, p2 = 0.944 -> labor market = -0.505, c1 = -0.709, c2 = 0.966\n",
      "For: p1 = 2.000, p2 = 1.156 -> labor market = -0.633, c1 = -0.695, c2 = 0.655\n",
      "For: p1 = 2.000, p2 = 1.367 -> labor market = -0.785, c1 = -0.678, c2 = 0.417\n",
      "For: p1 = 2.000, p2 = 1.578 -> labor market = -0.961, c1 = -0.657, c2 = 0.224\n",
      "For: p1 = 2.000, p2 = 1.789 -> labor market = -1.160, c1 = -0.634, c2 = 0.060\n",
      "For: p1 = 2.000, p2 = 2.000 -> labor market = -1.382, c1 = -0.607, c2 = -0.084\n"
     ]
    }
   ],
   "source": [
    "# We w as a numeraire\n",
    "w = 1\n",
    "\n",
    "# We define the prices\n",
    "p1_vals = np.linspace(0.1, 2.0, 10)\n",
    "p2_vals = np.linspace(0.1, 2.0, 10)\n",
    "\n",
    "# In our py-file we have set up the model and defined a function that checks the market clearing conditions\n",
    "\n",
    "# We define a tolerance level for testing market clearing\n",
    "tolerance = 0.1\n",
    "\n",
    "# We loop over combinations of p1 and p2 to check if market clearing conditions are satisfied\n",
    "for p1 in p1_vals:\n",
    "        for p2 in p2_vals:\n",
    "            labor_clear, goods1_clear, goods2_clear = prob1.check_market_clearing([p1, p2], w, par)\n",
    "            \n",
    "            # We print the output for all checked prices and differences in market clearing conditions. The closer to 0, the closer they are to clear\n",
    "            print(f'For: p1 = {p1:.3f}, p2 = {p2:.3f} -> '\n",
    "                  f'labor market = {labor_clear:.3f}, c1 = {goods1_clear:.3f}, c2 = {goods2_clear:.3f}')\n",
    "# We print the best solution for the market clearing conditions given p1 and p2 in p1_vals and p2_vals\n",
    "            if (abs(labor_clear) < tolerance and\n",
    "                abs(goods1_clear) < tolerance and\n",
    "                abs(goods2_clear) < tolerance):\n",
    "                print(f'Closest to solution: p1 = {p1:.3f}, p2 = {p2:.3f} -> '\n",
    "                      f'labor market = {labor_clear:.5f}, c1 = {goods1_clear:.5f}, c2 = {goods2_clear:.5f}')"
   ]
  },
  {
   "cell_type": "markdown",
   "metadata": {},
   "source": [
    "From the result (can be opened in text editor) we see, that for $p_1$ in `linspace(0.1,2.0,10)` and $p_2$ in `linspace(0.1,2.0,10)`, the markets are closet to clearing for p1 = 0.944 and p2 = 1.578. However, for these prices, the markets are still not sufficiently close to clear (we should be able to get closer to 0). This is due to the prices currently being limited to the the 10 points between 0.1 and 2.0 so we have a total of 100 combinations of prices. However, the prices found here is a good starting point for finding equilibrium prices.\n",
    "\n",
    "We create a plot to illustrate the 100 price combinations and the one that is closest."
   ]
  },
  {
   "cell_type": "code",
   "execution_count": 5,
   "metadata": {},
   "outputs": [
    {
     "data": {
      "image/png": "[encoded data removed]",
      "text/plain": [
       "<Figure size 1000x800 with 2 Axes>"
      ]
     },
     "metadata": {},
     "output_type": "display_data"
    },
    {
     "name": "stdout",
     "output_type": "stream",
     "text": [
      "Closest to solution: p1 = 0.944, p2 = 1.578 -> labor market = -0.062, c1 = 0.045, c2 = -0.066\n"
     ]
    }
   ],
   "source": [
    "prob1.plot_best_combination(p1_vals, p2_vals, w, par)"
   ]
  },
  {
   "cell_type": "markdown",
   "metadata": {},
   "source": [
    "**Question 2:** Find the equilibrium prices $p_1$ and $p_2$.<br>\n",
    "*Hint: you can use Walras' law to only check 2 of the market clearings*"
   ]
  },
  {
   "cell_type": "markdown",
   "metadata": {},
   "source": [
    "To find equilibrium prices, we have set up an objective function based on Walras rule, that in this case, if two of the markets clear, the third will as well. Using an optimizer we find the equilibrium prices."
   ]
  },
  {
   "cell_type": "code",
   "execution_count": 6,
   "metadata": {},
   "outputs": [
    {
     "name": "stdout",
     "output_type": "stream",
     "text": [
      "Equilibrium prices: p1 = 0.97878, p2 = 1.49720\n"
     ]
    }
   ],
   "source": [
    "# We set initial guess for p1 and p2 in the ball park of what we found in question 1\n",
    "initial_guess = [1.0, 1.5]  \n",
    "\n",
    "# Define bounds for prices if necessary\n",
    "bounds = [(0.1, 2.0), (0.1, 2.0)]\n",
    "\n",
    "# Perform optimization\n",
    "result = optimize.minimize(lambda p: prob1.obj_walras(p, w, par), initial_guess, bounds=bounds)\n",
    "\n",
    "# Extract equilibrium prices\n",
    "p1_eq, p2_eq = result.x\n",
    "\n",
    "# Print the equilibrium prices\n",
    "print(f'Equilibrium prices: p1 = {p1_eq:.5f}, p2 = {p2_eq:.5f}')\n",
    "labor_clear, goods1_clear, goods2_clear = prob1.check_market_clearing([p1, p2], w, par)"
   ]
  },
  {
   "cell_type": "code",
   "execution_count": 7,
   "metadata": {},
   "outputs": [
    {
     "name": "stdout",
     "output_type": "stream",
     "text": [
      "-0.0074407431540577385 -0.0013186756679703926 -0.004107701723745305\n"
     ]
    }
   ],
   "source": [
    "labor_eq, goods1_eq, goods2_eq = prob1.check_market_clearing([p1_eq,p2_eq ], w, par)\n",
    "\n",
    "print(labor_eq, goods1_eq, goods2_eq)"
   ]
  },
  {
   "cell_type": "markdown",
   "metadata": {},
   "source": [
    "For the equilibrium prices found, we see that they are close to the rough values found in question 1. We can see, that for the equilibrium prices found, all markets are now (almost) 0, which is a better result than for p1 and p2 limited to only 10 points evenly distributed between 0.1 and 2.0 as was the case in question 1. We also see, that all markets clear after having applied Walras Law."
   ]
  },
  {
   "cell_type": "markdown",
   "metadata": {},
   "source": [
    "Assume the government care about the social welfare function:\n",
    "\n",
    "$$\n",
    "SWF = U - \\kappa y_2^*\n",
    "$$"
   ]
  },
  {
   "cell_type": "markdown",
   "metadata": {},
   "source": [
    "Here $\\kappa$ measures the social cost of carbon emitted by the production of $y_2$ in equilibrium."
   ]
  },
  {
   "cell_type": "markdown",
   "metadata": {},
   "source": [
    "**Question 3:** What values of $\\tau$ and (implied) $T$ should the government choose to maximize $SWF$?"
   ]
  },
  {
   "cell_type": "markdown",
   "metadata": {},
   "source": [
    "We calculate the optimal tau from the functions set up in our py-file"
   ]
  },
  {
   "cell_type": "code",
   "execution_count": 8,
   "metadata": {},
   "outputs": [
    {
     "name": "stdout",
     "output_type": "stream",
     "text": [
      "Optimal tau: 0.5324609942166768\n",
      "Optimal T: 0.7981416215444816\n"
     ]
    }
   ],
   "source": [
    "p1_opt = p1_eq \n",
    "p2_opt = p2_eq\n",
    "\n",
    "# Call find_optimal_tau_T with the known optimal prices\n",
    "tau_opt, T_opt = prob1.find_optimal_tau_T(w, par, p1_opt, p2_opt)"
   ]
  },
  {
   "cell_type": "markdown",
   "metadata": {},
   "source": [
    "From the results we see, that the optimal tau is calculated to approx 0.532 with an implied T of approx 0.798. It makes sense that tau should be between 0 and 1 as it represents the level of tax, that we would expect to be between 0 and 1. However, have not been able to compute something that an verify the numbers before the end of the exam.\n",
    "Our idea was make a plot diplaying SWF (y-axis) as a function of tau (x-axis) hoping to verify a maximum of tau equal to the value found above. Had we had more time, this is the way we would have worked for a start."
   ]
  },
  {
   "cell_type": "markdown",
   "metadata": {},
   "source": [
    "## 2. <a id='toc2_'></a>[Problem 2: Career choice model](#toc0_)"
   ]
  },
  {
   "cell_type": "markdown",
   "metadata": {},
   "source": [
    "Consider a graduate $i$ making a choice between entering $J$ different career tracks. <br>\n",
    "Entering career $j$ yields utility $u^k_{ij}$. This value is unknown to the graduate ex ante, but will ex post be: <br>\n",
    "$$\n",
    "    u_{i,j}^k = v_{j} + \\epsilon_{i,j}^k\n",
    "$$\n",
    "\n",
    "They know that $\\epsilon^k_{i,j}\\sim \\mathcal{N}(0,\\sigma^2)$, but they do not observe $\\epsilon^k_{i,j}$ before making their career choice. <br>"
   ]
  },
  {
   "cell_type": "markdown",
   "metadata": {},
   "source": [
    "Consider the concrete case of $J=3$ with:\n",
    "$$\n",
    "\\begin{align*}\n",
    "    v_{1} &= 1 \\\\\n",
    "    v_{2} &= 2 \\\\\n",
    "    v_{3} &= 3\n",
    "\\end{align*}\n",
    "$$"
   ]
  },
  {
   "cell_type": "markdown",
   "metadata": {},
   "source": [
    "If the graduates know the values of $v_j$ and the distribution of $\\epsilon_{i,j}^k$, they can calculate the expected utility of each career track using simulation: <br>\n",
    "$$\n",
    "    \\mathbb{E}\\left[ u^k_{i,j}\\vert v_j \\right] \\approx v_j + \\frac{1}{K}\\sum_{k=1}^K \\epsilon_{i,j}^k\n",
    "$$"
   ]
  },
  {
   "cell_type": "code",
   "execution_count": null,
   "metadata": {},
   "outputs": [],
   "source": [
    "par = SimpleNamespace()\n",
    "par.J = 3\n",
    "par.N = 10\n",
    "par.K = 10000\n",
    "\n",
    "par.F = np.arange(1,par.N+1)\n",
    "par.sigma = 2\n",
    "\n",
    "par.v = np.array([1,2,3])\n",
    "par.c = 1"
   ]
  },
  {
   "cell_type": "markdown",
   "metadata": {},
   "source": [
    "**Question 1:** Simulate and calculate expected utility and the average realised utility for $K=10000$ draws, for each career choice $j$.\n"
   ]
  },
  {
   "cell_type": "code",
   "execution_count": null,
   "metadata": {},
   "outputs": [],
   "source": [
    "# write your answer here"
   ]
  },
  {
   "cell_type": "markdown",
   "metadata": {},
   "source": [
    "Now consider a new scenario: Imagine that the graduate does not know $v_j$. The *only* prior information they have on the value of each job, comes from their $F_{i}$ friends that work in each career $j$. After talking with them, they know the average utility of their friends (which includes their friends' noise term), giving them the prior expecation: <br>\n",
    "$$\n",
    "\\tilde{u}^k_{i,j}\\left( F_{i}\\right) = \\frac{1}{F_{i}}\\sum_{f=1}^{F_{i}} \\left(v_{j} + \\epsilon^k_{f,j}\\right), \\; \\epsilon^k_{f,j}\\sim \\mathcal{N}(0,\\sigma^2)\n",
    "$$\n",
    "For ease of notation consider that each graduate have $F_{i}=i$ friends in each career. <br>"
   ]
  },
  {
   "cell_type": "markdown",
   "metadata": {},
   "source": [
    "For $K$ times do the following: <br>\n",
    "1. For each person $i$ draw $J\\cdot F_i$ values of $\\epsilon_{f,j}^{k}$, and calculate the prior expected utility of each career track, $\\tilde{u}^k_{i,j}\\left( F_{i}\\right)$. <br>\n",
    "Also draw their own $J$ noise terms, $\\epsilon_{i,j}^k$\n",
    "1. Each person $i$ chooses the career track with the highest expected utility: $$j_i^{k*}= \\arg\\max_{j\\in{1,2\\dots,J}}\\left\\{ \\tilde{u}^k_{i,j}\\left( F_{i}\\right)\\right\\} $$\n",
    "1. Store the chosen careers: $j_i^{k*}$, the prior expectation of the value of their chosen career: $\\tilde{u}^k_{i,j=j_i^{k*}}\\left( F_{i}\\right)$, and the realized value of their chosen career track: $u^k_{i,j=j_i^{k*}}=v_{j=j_i^{k*}}+\\epsilon_{i,j=j_i^{k*}}^k$."
   ]
  },
  {
   "cell_type": "markdown",
   "metadata": {},
   "source": [
    "Chosen values will be: <br>\n",
    "$i\\in\\left\\{1,2\\dots,N\\right\\}, N=10$ <br>\n",
    "$F_i = i$<br>\n",
    "So there are 10 graduates. The first has 1 friend in each career, the second has 2 friends, ... the tenth has 10 friends."
   ]
  },
  {
   "cell_type": "markdown",
   "metadata": {},
   "source": [
    "**Question 2:** Simulate and visualize: For each type of graduate, $i$, the share of graduates choosing each career, the average subjective expected utility of the graduates, and the average ex post realized utility given their choice. <br>\n",
    "That is, calculate and visualize: <br>\n",
    "$$\n",
    "\\begin{align*}\n",
    "    \\frac{1}{K} \\sum_{k=1}^{K} \\mathbb{I}\\left\\{ j=j_i^{k*} \\right\\}  \\;\\forall j\\in\\left\\{1,2,\\dots,J\\right\\}\n",
    "\\end{align*}\n",
    "$$\n",
    "$$\n",
    "\\begin{align*}\n",
    "    \\frac{1}{K} \\sum_{k=1}^{K} \\tilde{u}^k_{ij=j_i^{k*}}\\left( F_{i}\\right)\n",
    "\\end{align*}\n",
    "$$\n",
    "And \n",
    "$$\n",
    "\\begin{align*}\n",
    "    \\frac{1}{K} \\sum_{k=1}^{K} u^k_{ij=j_i^{k*}} \n",
    "\\end{align*}\n",
    "$$\n",
    "For each graduate $i$."
   ]
  },
  {
   "cell_type": "code",
   "execution_count": null,
   "metadata": {},
   "outputs": [],
   "source": [
    "# Write your answer here "
   ]
  },
  {
   "cell_type": "markdown",
   "metadata": {},
   "source": [
    "After a year of working in their career, the graduates learn $u^k_{ij}$ for their chosen job $j_i^{k*}$ perfectly. <br>\n",
    "The can switch to one of the two remaining careers, for which they have the same prior as before, but it will now include a switching cost of $c$ which is known.\n",
    "Their new priors can be written as: \n",
    "$$\n",
    "\\tilde{u}^{k,2}_{ij}\\left( F_{i}\\right) = \\begin{cases}\n",
    "            \\tilde{u}^k_{ij}\\left( F_{i}\\right)-c & \\text{if } j \\neq j_i^{k*} \\\\\n",
    "            u_{ij=j_i^{k*}} & \\text{if } j = j_i^{k*}\n",
    "        \\end{cases}\n",
    "$$"
   ]
  },
  {
   "cell_type": "markdown",
   "metadata": {},
   "source": [
    "We will set $c=1$."
   ]
  },
  {
   "cell_type": "markdown",
   "metadata": {},
   "source": [
    "Their realized utility will be: <br>\n",
    "$$\n",
    "u^{k,2}_{ij}= \\begin{cases}\n",
    "            u_{ij}^k -c & \\text{if } j \\neq j_i^{k*} \\\\\n",
    "            u_{ij=j_i^{k*}} & \\text{if } j = j_i^{k*}\n",
    "        \\end{cases}\n",
    "$$"
   ]
  },
  {
   "cell_type": "markdown",
   "metadata": {},
   "source": [
    "**Question 3:** Following the same approach as in question 2, find the new optimal career choice for each $i$, $k$. Then for each $i$, calculate the average subjective expected utility from their new optimal career choice, and the ex post realized utility of that career. Also, for each $i$, calculate the share of graduates that chooses to switch careers, conditional on which career they chose in the first year. <br>"
   ]
  },
  {
   "cell_type": "code",
   "execution_count": null,
   "metadata": {},
   "outputs": [],
   "source": [
    "# write your answer here"
   ]
  },
  {
   "cell_type": "markdown",
   "metadata": {},
   "source": [
    "## 3. <a id='toc3_'></a>[Problem 3: Barycentric interpolation](#toc0_)"
   ]
  },
  {
   "cell_type": "markdown",
   "metadata": {},
   "source": [
    "**Problem:** We have a set of random points in the unit square,\n",
    "\n",
    "$$\n",
    "\\mathcal{X} = \\{(x_1,x_2)\\,|\\,x_1\\sim\\mathcal{U}(0,1),x_2\\sim\\mathcal{U}(0,1)\\}.\n",
    "$$\n",
    "\n",
    "For these points, we know the value of some function $f(x_1,x_2)$,\n",
    "\n",
    "$$\n",
    "\\mathcal{F} = \\{f(x_1,x_2) \\,|\\, (x_1,x_2) \\in \\mathcal{X}\\}.\n",
    "$$\n",
    "\n",
    "Now we want to approximate the value $f(y_1,y_2)$ for some  $y=(y_1,y_2)$, where $y_1\\sim\\mathcal{U}(0,1)$ and $y_2\\sim\\mathcal{U}(0,1)$.\n",
    "\n",
    "**Building block I**\n",
    "\n",
    "For an arbitrary triangle $ABC$ and a point $y$, define the so-called barycentric coordinates as:\n",
    "\n",
    "$$\n",
    "\\begin{align*}\n",
    "  r^{ABC}_1 &= \\frac{(B_2-C_2)(y_1-C_1) + (C_1-B_1)(y_2-C_2)}{(B_2-C_2)(A_1-C_1) + (C_1-B_1)(A_2-C_2)} \\\\\n",
    "  r^{ABC}_2 &= \\frac{(C_2-A_2)(y_1-C_1) + (A_1-C_1)(y_2-C_2)}{(B_2-C_2)(A_1-C_1) + (C_1-B_1)(A_2-C_2)} \\\\\n",
    "  r^{ABC}_3 &= 1 - r_1 - r_2.\n",
    "\\end{align*}\n",
    "$$\n",
    "\n",
    "If $r^{ABC}_1 \\in [0,1]$, $r^{ABC}_2 \\in [0,1]$, and $r^{ABC}_3 \\in [0,1]$, then the point is inside the triangle.\n",
    "\n",
    "We always have $y = r^{ABC}_1 A + r^{ABC}_2 B + r^{ABC}_3 C$.\n",
    "\n",
    "**Building block II**\n",
    "\n",
    "Define the following points:\n",
    "\n",
    "$$\n",
    "\\begin{align*}\n",
    "A&=\\arg\\min_{(x_{1},x_{2})\\in\\mathcal{X}}\\sqrt{\\left(x_{1}-y_{1}\\right)^{2}+\\left(x_{2}-y_{2}\\right)^{2}}\\text{ s.t. }x_{1}>y_{1}\\text{ and }x_{2}>y_{2}\\\\\n",
    "B&=\\arg\\min_{(x_{1},x_{2})\\in\\mathcal{X}}\\sqrt{\\left(x_{1}-y_{1}\\right)^{2}+\\left(x_{2}-y_{2}\\right)^{2}}\\text{ s.t. }x_{1}>y_{1}\\text{ and }x_{2}<y_{2}\\\\\n",
    "C&=\\arg\\min_{(x_{1},x_{2})\\in\\mathcal{X}}\\sqrt{\\left(x_{1}-y_{1}\\right)^{2}+\\left(x_{2}-y_{2}\\right)^{2}}\\text{ s.t. }x_{1}<y_{1}\\text{ and }x_{2}<y_{2}\\\\\n",
    "D&=\\arg\\min_{(x_{1},x_{2})\\in\\mathcal{X}}\\sqrt{\\left(x_{1}-y_{1}\\right)^{2}+\\left(x_{2}-y_{2}\\right)^{2}}\\text{ s.t. }x_{1}<y_{1}\\text{ and }x_{2}>y_{2}.\n",
    "\\end{align*}\n",
    "$$\n",
    "\n",
    "**Algorithm:**\n",
    "\n",
    "1. Compute $A$, $B$, $C$, and $D$. If not possible return `NaN`.\n",
    "1. If $y$ is inside the triangle $ABC$ return $r^{ABC}_1 f(A) + r^{ABC}_2 f(B) + r^{ABC}_3 f(C)$.\n",
    "1. If $y$ is inside the triangle $CDA$ return $r^{CDA}_1 f(C) + r^{CDA}_2 f(D) + r^{CDA}_3 f(A)$.\n",
    "1. Return `NaN`.\n",
    "\n"
   ]
  },
  {
   "cell_type": "markdown",
   "metadata": {},
   "source": [
    "**Sample:**"
   ]
  },
  {
   "cell_type": "code",
   "execution_count": null,
   "metadata": {},
   "outputs": [],
   "source": [
    "rng = np.random.default_rng(2024)\n",
    "\n",
    "X = rng.uniform(size=(50,2))\n",
    "y = rng.uniform(size=(2,))\n"
   ]
  },
  {
   "cell_type": "markdown",
   "metadata": {},
   "source": [
    "**Questions 1:** Find $A$, $B$, $C$ and $D$. Illustrate these together with $X$, $y$ and the triangles $ABC$ and $CDA$."
   ]
  },
  {
   "cell_type": "code",
   "execution_count": null,
   "metadata": {},
   "outputs": [],
   "source": [
    "# write your answer here"
   ]
  },
  {
   "cell_type": "markdown",
   "metadata": {},
   "source": [
    "**Question 2:** Compute the barycentric coordinates of the point $y$ with respect to the triangles $ABC$ and $CDA$. Which triangle is $y$ located inside?"
   ]
  },
  {
   "cell_type": "code",
   "execution_count": null,
   "metadata": {},
   "outputs": [],
   "source": [
    "# write your answer here"
   ]
  },
  {
   "cell_type": "markdown",
   "metadata": {},
   "source": [
    "Now consider the function:\n",
    "$$\n",
    "f(x_1,x_2) = x_1 \\cdot x_2\n",
    "$$"
   ]
  },
  {
   "cell_type": "code",
   "execution_count": null,
   "metadata": {},
   "outputs": [],
   "source": [
    "f = lambda x: x[0]*x[1]\n",
    "F = np.array([f(x) for x in X])"
   ]
  },
  {
   "cell_type": "markdown",
   "metadata": {},
   "source": [
    "**Question 3:** Compute the approximation of $f(y)$ using the full algorithm. Compare with the true value."
   ]
  },
  {
   "cell_type": "code",
   "execution_count": null,
   "metadata": {},
   "outputs": [],
   "source": [
    "# write your answer here"
   ]
  },
  {
   "cell_type": "markdown",
   "metadata": {},
   "source": [
    "**Question 4:** Repeat question 3 for all points in the set $Y$."
   ]
  },
  {
   "cell_type": "code",
   "execution_count": null,
   "metadata": {},
   "outputs": [],
   "source": [
    "Y = [(0.2,0.2),(0.8,0.2),(0.8,0.8),(0.8,0.2),(0.5,0.5)]"
   ]
  },
  {
   "cell_type": "code",
   "execution_count": null,
   "metadata": {},
   "outputs": [],
   "source": [
    "# write your answer here"
   ]
  }
 ],
 "metadata": {
  "kernelspec": {
   "display_name": "Python 3",
   "language": "python",
   "name": "python3"
  },
  "language_info": {
   "codemirror_mode": {
    "name": "ipython",
    "version": 3
   },
   "file_extension": ".py",
   "mimetype": "text/x-python",
   "name": "python",
   "nbconvert_exporter": "python",
   "pygments_lexer": "ipython3",
   "version": "3.11.7"
  },
  "vscode": {
   "interpreter": {
    "hash": "d082443479dcf0bb109497657c949fcf3a4bd1d96297faded59d95be7509270b"
   }
  }
 },
 "nbformat": 4,
 "nbformat_minor": 2
}
