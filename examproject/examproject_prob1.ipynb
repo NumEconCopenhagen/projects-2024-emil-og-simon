{
 "cells": [
  {
   "cell_type": "markdown",
   "metadata": {},
   "source": [
    "**Table of contents**<a id='toc0_'></a>    \n",
    "- 1. [Problem 1: Production economy and CO2 taxation](#toc1_)    \n",
    "- 2. [Problem 2: Career choice model](#toc2_)    \n",
    "- 3. [Problem 3: Barycentric interpolation](#toc3_)    \n",
    "\n",
    "<!-- vscode-jupyter-toc-config\n",
    "\tnumbering=true\n",
    "\tanchor=true\n",
    "\tflat=false\n",
    "\tminLevel=2\n",
    "\tmaxLevel=6\n",
    "\t/vscode-jupyter-toc-config -->\n",
    "<!-- THIS CELL WILL BE REPLACED ON TOC UPDATE. DO NOT WRITE YOUR TEXT IN THIS CELL -->"
   ]
  },
  {
   "cell_type": "code",
   "execution_count": 1,
   "metadata": {},
   "outputs": [],
   "source": [
    "# Standard modules needed\n",
    "import numpy as np\n",
    "from types import SimpleNamespace\n",
    "import pandas as pd\n",
    "import datetime as dt\n",
    "from types import SimpleNamespace\n",
    "from scipy import optimize\n",
    "from scipy import interpolate\n",
    "\n",
    "\n",
    "%load_ext autoreload\n",
    "%autoreload 2\n",
    "\n",
    "%matplotlib inline\n",
    "import matplotlib.pyplot as plt\n",
    "import seaborn as sns\n",
    "\n",
    "import exam_prob1 as p1"
   ]
  },
  {
   "cell_type": "markdown",
   "metadata": {},
   "source": [
    "## 1. <a id='toc1_'></a>[Problem 1: Production economy and CO2 taxation](#toc0_)"
   ]
  },
  {
   "cell_type": "markdown",
   "metadata": {},
   "source": [
    "Consider a production economy with two firms indexed by $j \\in \\{1,2\\}$. Each produce its own good. They solve\n",
    "\n",
    "$$\n",
    "\\begin{align*}\n",
    "\\max_{y_{j}}\\pi_{j}&=p_{j}y_{j}-w_{j}\\ell_{j}\\\\\\text{s.t.}\\;&y_{j}=A\\ell_{j}^{\\gamma}.\n",
    "\\end{align*}\n",
    "$$\n",
    "\n",
    "Optimal firm behavior is\n",
    "\n",
    "$$\n",
    "\\begin{align*}\n",
    "\\ell_{j}^{\\star}(w,p_{j})&=\\left(\\frac{p_{j}A\\gamma}{w}\\right)^{\\frac{1}{1-\\gamma}} \\\\\n",
    "y_{j}^{\\star}(w,p_{j})&=A\\left(\\ell_{j}^{\\star}(w,p_{j})\\right)^{\\gamma}\n",
    "\\end{align*}\n",
    "$$\n",
    "\n",
    "The implied profits are\n",
    "\n",
    "$$\n",
    "\\pi_{j}^*(w,p_{j})=\\frac{1-\\gamma}{\\gamma}w\\cdot\\left(\\frac{p_{j}A\\gamma}{w}\\right)^{\\frac{1}{1-\\gamma}}\n",
    "$$\n",
    "\n",
    "A single consumer supplies labor, and consumes the goods the firms produce. She also recieves the implied profits of the firm.<br>\n",
    "She solves:\n",
    "\n",
    "$$\n",
    "\\begin{align*}\n",
    "U(p_1,p_2,w,\\tau,T) = \\max_{c_{1},c_{2},\\ell} & \\log(c_{1}^{\\alpha}c_{2}^{1-\\alpha})-\\nu\\frac{\\ell^{1+\\epsilon}}{1+\\epsilon} \\\\\n",
    "\\text{s.t.}\\,\\,\\,&p_{1}c_{1}+(p_{2}+\\tau)c_{2}=w\\ell+T+\\pi_{1}^*(w,p_{1})+\\pi_{2}^*(w,p_{2})\n",
    "\\end{align*}\n",
    "$$\n",
    "\n",
    "where $\\tau$ is a tax and $T$ is lump-sum transfer. <br>\n",
    "For a given $\\ell$, it can be shown that optimal behavior is\n",
    "\n",
    "$$\n",
    "\\begin{align*}\n",
    "c_{1}(\\ell)&=\\alpha\\frac{w\\ell+T+\\pi_{1}^*(w,p_{1})+\\pi_{2}^*(w,p_{2})}{p_{1}} \\\\\n",
    "c_{2}(\\ell)&=(1-\\alpha)\\frac{w\\ell+T+\\pi_{1}^*(w,p_{1})+\\pi_{2}^*(w,p_{2})}{p_{2}+\\tau} \\\\\n",
    "\\end{align*}\n",
    "$$\n",
    "Such that optimal behavior is:\n",
    "$$\n",
    "\\ell^* = \\underset{\\ell}{\\arg\\max} \\log(\\left(c_{1}(\\ell)\\right)^{\\alpha}\\cdot \\left(c_{2}(\\ell)\\right)^{1-\\alpha})-\\nu\\frac{\\ell^{1+\\epsilon}}{1+\\epsilon} \n",
    "$$\n",
    "With optimal consumption:\n",
    "$$\n",
    "\\begin{align*}\n",
    "c_1^*=c_{1}(\\ell^*) \\\\\n",
    "c_2^*=c_{2}(\\ell^*)\\\\\n",
    "\\end{align*}\n",
    "$$\n",
    "\n",
    "\n",
    "The government chooses $\\tau$ and balances its budget so $T=\\tau c_2^*$. We initially set $\\tau,T=0$.\n",
    "\n",
    "Market clearing requires:\n",
    "\n",
    "1. Labor market: $\\ell^* = \\ell_1^* + \\ell_2^*$\n",
    "1. Good market 1: $c_1^* = y_1^*$\n",
    "1. Good market 2: $c_2^* = y_2^*$\n"
   ]
  },
  {
   "cell_type": "markdown",
   "metadata": {},
   "source": [
    "**Question 1:** Check market clearing conditions for $p_1$ in `linspace(0.1,2.0,10)` and $p_2$ in `linspace(0.1,2.0,10)`. We choose $w=1$ as numeraire."
   ]
  },
  {
   "cell_type": "code",
   "execution_count": 2,
   "metadata": {},
   "outputs": [],
   "source": [
    "par = SimpleNamespace()\n",
    "par.A = 1.0\n",
    "par.gamma = 0.5\n",
    "par.alpha = 0.3\n",
    "par.nu = 1.0\n",
    "par.epsilon = 2.0\n",
    "par.tau = 0.0\n",
    "par.T = 0.0\n",
    "par.kappa = 0.1"
   ]
  },
  {
   "cell_type": "code",
   "execution_count": 15,
   "metadata": {},
   "outputs": [
    {
     "name": "stdout",
     "output_type": "stream",
     "text": [
      "Checked prices: p1 = 0.10000, p2 = 0.10000 -> labor_market = 0.99334, goods_market_1 = 2.96001, goods_market_2 = 6.97335\n",
      "Checked prices: p1 = 0.10000, p2 = 0.31111 -> labor_market = 0.96448, goods_market_1 = 3.00363, goods_market_2 = 2.13467\n",
      "Checked prices: p1 = 0.10000, p2 = 0.52222 -> labor_market = 0.90630, goods_market_1 = 3.09299, goods_market_2 = 1.14320\n",
      "Checked prices: p1 = 0.10000, p2 = 0.73333 -> labor_market = 0.81943, goods_market_1 = 3.22995, goods_market_2 = 0.67695\n",
      "Checked prices: p1 = 0.10000, p2 = 0.94444 -> labor_market = 0.70471, goods_market_1 = 3.41709, goods_market_2 = 0.38435\n",
      "Checked prices: p1 = 0.10000, p2 = 1.15556 -> labor_market = 0.56320, goods_market_1 = 3.65757, goods_market_2 = 0.17087\n",
      "Checked prices: p1 = 0.10000, p2 = 1.36667 -> labor_market = 0.39605, goods_market_1 = 3.95483, goods_market_2 = 0.00042\n",
      "Checked prices: p1 = 0.10000, p2 = 1.57778 -> labor_market = 0.20443, goods_market_1 = 4.31237, goods_market_2 = -0.14375\n",
      "Checked prices: p1 = 0.10000, p2 = 1.78889 -> labor_market = -0.01059, goods_market_1 = 4.73341, goods_market_2 = -0.27052\n",
      "Checked prices: p1 = 0.10000, p2 = 2.00000 -> labor_market = -0.24806, goods_market_1 = 5.22081, goods_market_2 = -0.38507\n",
      "Checked prices: p1 = 0.31111, p2 = 0.10000 -> labor_market = 0.96448, goods_market_1 = 0.82597, goods_market_2 = 7.07514\n",
      "Checked prices: p1 = 0.31111, p2 = 0.31111 -> labor_market = 0.93573, goods_market_1 = 0.84009, goods_market_2 = 2.16761\n",
      "Checked prices: p1 = 0.31111, p2 = 0.52222 -> labor_market = 0.87776, goods_market_1 = 0.86901, goods_market_2 = 1.16311\n",
      "Checked prices: p1 = 0.31111, p2 = 0.73333 -> labor_market = 0.79118, goods_market_1 = 0.91332, goods_market_2 = 0.69141\n",
      "Checked prices: p1 = 0.31111, p2 = 0.94444 -> labor_market = 0.67683, goods_market_1 = 0.97383, goods_market_2 = 0.39585\n",
      "Checked prices: p1 = 0.31111, p2 = 1.15556 -> labor_market = 0.53575, goods_market_1 = 1.05154, goods_market_2 = 0.18053\n",
      "Checked prices: p1 = 0.31111, p2 = 1.36667 -> labor_market = 0.36908, goods_market_1 = 1.14755, goods_market_2 = 0.00883\n",
      "Checked prices: p1 = 0.31111, p2 = 1.57778 -> labor_market = 0.17795, goods_market_1 = 1.26295, goods_market_2 = -0.13625\n",
      "Checked prices: p1 = 0.31111, p2 = 1.78889 -> labor_market = -0.03658, goods_market_1 = 1.39876, goods_market_2 = -0.26371\n",
      "Checked prices: p1 = 0.31111, p2 = 2.00000 -> labor_market = -0.27357, goods_market_1 = 1.55588, goods_market_2 = -0.37881\n",
      "Checked prices: p1 = 0.52222, p2 = 0.10000 -> labor_market = 0.90630, goods_market_1 = 0.34074, goods_market_2 = 7.28364\n",
      "Checked prices: p1 = 0.52222, p2 = 0.31111 -> labor_market = 0.87776, goods_market_1 = 0.34927, goods_market_2 = 2.23510\n",
      "Checked prices: p1 = 0.52222, p2 = 0.52222 -> labor_market = 0.82019, goods_market_1 = 0.36673, goods_market_2 = 1.20385\n",
      "Checked prices: p1 = 0.52222, p2 = 0.73333 -> labor_market = 0.73419, goods_market_1 = 0.39346, goods_market_2 = 0.72098\n",
      "Checked prices: p1 = 0.52222, p2 = 0.94444 -> labor_market = 0.62058, goods_market_1 = 0.42993, goods_market_2 = 0.41936\n",
      "Checked prices: p1 = 0.52222, p2 = 1.15556 -> labor_market = 0.48037, goods_market_1 = 0.47672, goods_market_2 = 0.20026\n",
      "Checked prices: p1 = 0.52222, p2 = 1.36667 -> labor_market = 0.31463, goods_market_1 = 0.53446, goods_market_2 = 0.02599\n",
      "Checked prices: p1 = 0.52222, p2 = 1.57778 -> labor_market = 0.12447, goods_market_1 = 0.60376, goods_market_2 = -0.12095\n",
      "Checked prices: p1 = 0.52222, p2 = 1.78889 -> labor_market = -0.08908, goods_market_1 = 0.68523, goods_market_2 = -0.24983\n",
      "Checked prices: p1 = 0.52222, p2 = 2.00000 -> labor_market = -0.32514, goods_market_1 = 0.77938, goods_market_2 = -0.36607\n",
      "Checked prices: p1 = 0.73333, p2 = 0.10000 -> labor_market = 0.81943, goods_market_1 = 0.08060, goods_market_2 = 7.60322\n",
      "Checked prices: p1 = 0.73333, p2 = 0.31111 -> labor_market = 0.79118, goods_market_1 = 0.08679, goods_market_2 = 2.33848\n",
      "Checked prices: p1 = 0.73333, p2 = 0.52222 -> labor_market = 0.73419, goods_market_1 = 0.09947, goods_market_2 = 1.26622\n",
      "Checked prices: p1 = 0.73333, p2 = 0.73333 -> labor_market = 0.64904, goods_market_1 = 0.11885, goods_market_2 = 0.76620\n",
      "Checked prices: p1 = 0.73333, p2 = 0.94444 -> labor_market = 0.53650, goods_market_1 = 0.14526, goods_market_2 = 0.45527\n",
      "Checked prices: p1 = 0.73333, p2 = 1.15556 -> labor_market = 0.39751, goods_market_1 = 0.17908, goods_market_2 = 0.23035\n",
      "Checked prices: p1 = 0.73333, p2 = 1.36667 -> labor_market = 0.23313, goods_market_1 = 0.22075, goods_market_2 = 0.05213\n",
      "Checked prices: p1 = 0.73333, p2 = 1.57778 -> labor_market = 0.04438, goods_market_1 = 0.27068, goods_market_2 = -0.09768\n",
      "Checked prices: p1 = 0.73333, p2 = 1.78889 -> labor_market = -0.16778, goods_market_1 = 0.32927, goods_market_2 = -0.22877\n",
      "Checked prices: p1 = 0.73333, p2 = 2.00000 -> labor_market = -0.40247, goods_market_1 = 0.39687, goods_market_2 = -0.34675\n",
      "Checked prices: p1 = 0.94444, p2 = 0.10000 -> labor_market = 0.70471, goods_market_1 = -0.10512, goods_market_2 = 8.03988\n",
      "Checked prices: p1 = 0.94444, p2 = 0.31111 -> labor_market = 0.67683, goods_market_1 = -0.10019, goods_market_2 = 2.47967\n",
      "Checked prices: p1 = 0.94444, p2 = 0.52222 -> labor_market = 0.62058, goods_market_1 = -0.09012, goods_market_2 = 1.35133\n",
      "Checked prices: p1 = 0.94444, p2 = 0.73333 -> labor_market = 0.53650, goods_market_1 = -0.07473, goods_market_2 = 0.82783\n",
      "Checked prices: p1 = 0.94444, p2 = 0.94444 -> labor_market = 0.42530, goods_market_1 = -0.05379, goods_market_2 = 0.50411\n",
      "Checked prices: p1 = 0.94444, p2 = 1.15556 -> labor_market = 0.28788, goods_market_1 = -0.02703, goods_market_2 = 0.27122\n",
      "Checked prices: p1 = 0.94444, p2 = 1.36667 -> labor_market = 0.12518, goods_market_1 = 0.00586, goods_market_2 = 0.08755\n",
      "Checked prices: p1 = 0.94444, p2 = 1.57778 -> labor_market = -0.06181, goods_market_1 = 0.04518, goods_market_2 = -0.06622\n",
      "Checked prices: p1 = 0.94444, p2 = 1.78889 -> labor_market = -0.27220, goods_market_1 = 0.09124, goods_market_2 = -0.20033\n",
      "Checked prices: p1 = 0.94444, p2 = 2.00000 -> labor_market = -0.50518, goods_market_1 = 0.14427, goods_market_2 = -0.32072\n",
      "Checked prices: p1 = 1.15556, p2 = 0.10000 -> labor_market = 0.56320, goods_market_1 = -0.25693, goods_market_2 = 8.60099\n",
      "Checked prices: p1 = 1.15556, p2 = 0.31111 -> labor_market = 0.53575, goods_market_1 = -0.25279, goods_market_2 = 2.66100\n",
      "Checked prices: p1 = 1.15556, p2 = 0.52222 -> labor_market = 0.48037, goods_market_1 = -0.24433, goods_market_2 = 1.46050\n",
      "Checked prices: p1 = 1.15556, p2 = 0.73333 -> labor_market = 0.39751, goods_market_1 = -0.23144, goods_market_2 = 0.90675\n",
      "Checked prices: p1 = 1.15556, p2 = 0.94444 -> labor_market = 0.28788, goods_market_1 = -0.21392, goods_market_2 = 0.56655\n",
      "Checked prices: p1 = 1.15556, p2 = 1.15556 -> labor_market = 0.15225, goods_market_1 = -0.19158, goods_market_2 = 0.32334\n",
      "Checked prices: p1 = 1.15556, p2 = 1.36667 -> labor_market = -0.00848, goods_market_1 = -0.16419, goods_market_2 = 0.13262\n",
      "Checked prices: p1 = 1.15556, p2 = 1.57778 -> labor_market = -0.19344, goods_market_1 = -0.13152, goods_market_2 = -0.02627\n",
      "Checked prices: p1 = 1.15556, p2 = 1.78889 -> labor_market = -0.40179, goods_market_1 = -0.09335, goods_market_2 = -0.16430\n",
      "Checked prices: p1 = 1.15556, p2 = 2.00000 -> labor_market = -0.63280, goods_market_1 = -0.04950, goods_market_2 = -0.28780\n",
      "Checked prices: p1 = 1.36667, p2 = 0.10000 -> labor_market = 0.39605, goods_market_1 = -0.39030, goods_market_2 = 9.29460\n",
      "Checked prices: p1 = 1.36667, p2 = 0.31111 -> labor_market = 0.36908, goods_market_1 = -0.38669, goods_market_2 = 2.88502\n",
      "Checked prices: p1 = 1.36667, p2 = 0.52222 -> labor_market = 0.31463, goods_market_1 = -0.37934, goods_market_2 = 1.59522\n",
      "Checked prices: p1 = 1.36667, p2 = 0.73333 -> labor_market = 0.23313, goods_market_1 = -0.36813, goods_market_2 = 1.00397\n",
      "Checked prices: p1 = 1.36667, p2 = 0.94444 -> labor_market = 0.12518, goods_market_1 = -0.35295, goods_market_2 = 0.64329\n",
      "Checked prices: p1 = 1.36667, p2 = 1.15556 -> labor_market = -0.00848, goods_market_1 = -0.33364, goods_market_2 = 0.38725\n",
      "Checked prices: p1 = 1.36667, p2 = 1.36667 -> labor_market = -0.16708, goods_market_1 = -0.31001, goods_market_2 = 0.18776\n",
      "Checked prices: p1 = 1.36667, p2 = 1.57778 -> labor_market = -0.34982, goods_market_1 = -0.28190, goods_market_2 = 0.02246\n",
      "Checked prices: p1 = 1.36667, p2 = 1.78889 -> labor_market = -0.55595, goods_market_1 = -0.24914, goods_market_2 = -0.12044\n",
      "Checked prices: p1 = 1.36667, p2 = 2.00000 -> labor_market = -0.78481, goods_market_1 = -0.21158, goods_market_2 = -0.24782\n",
      "Checked prices: p1 = 1.57778, p2 = 0.10000 -> labor_market = 0.20443, goods_market_1 = -0.51240, goods_market_2 = 10.12886\n",
      "Checked prices: p1 = 1.57778, p2 = 0.31111 -> labor_market = 0.17795, goods_market_1 = -0.50918, goods_market_2 = 3.15428\n",
      "Checked prices: p1 = 1.57778, p2 = 0.52222 -> labor_market = 0.12447, goods_market_1 = -0.50263, goods_market_2 = 1.75693\n",
      "Checked prices: p1 = 1.57778, p2 = 0.73333 -> labor_market = 0.04438, goods_market_1 = -0.49266, goods_market_2 = 1.12047\n",
      "Checked prices: p1 = 1.57778, p2 = 0.94444 -> labor_market = -0.06181, goods_market_1 = -0.47917, goods_market_2 = 0.73506\n",
      "Checked prices: p1 = 1.57778, p2 = 1.15556 -> labor_market = -0.19344, goods_market_1 = -0.46205, goods_market_2 = 0.46348\n",
      "Checked prices: p1 = 1.57778, p2 = 1.36667 -> labor_market = -0.34982, goods_market_1 = -0.44117, goods_market_2 = 0.25335\n",
      "Checked prices: p1 = 1.57778, p2 = 1.57778 -> labor_market = -0.53025, goods_market_1 = -0.41638, goods_market_2 = 0.08030\n",
      "Checked prices: p1 = 1.57778, p2 = 1.78889 -> labor_market = -0.73406, goods_market_1 = -0.38756, goods_market_2 = -0.06852\n",
      "Checked prices: p1 = 1.57778, p2 = 2.00000 -> labor_market = -0.96067, goods_market_1 = -0.35460, goods_market_2 = -0.20059\n",
      "Checked prices: p1 = 1.78889, p2 = 0.10000 -> labor_market = -0.01059, goods_market_1 = -0.62705, goods_market_2 = 11.11129\n",
      "Checked prices: p1 = 1.78889, p2 = 0.31111 -> labor_market = -0.03658, goods_market_1 = -0.62413, goods_market_2 = 3.47117\n",
      "Checked prices: p1 = 1.78889, p2 = 0.52222 -> labor_market = -0.08908, goods_market_1 = -0.61818, goods_market_2 = 1.94702\n",
      "Checked prices: p1 = 1.78889, p2 = 0.73333 -> labor_market = -0.16778, goods_market_1 = -0.60915, goods_market_2 = 1.25718\n",
      "Checked prices: p1 = 1.78889, p2 = 0.94444 -> labor_market = -0.27220, goods_market_1 = -0.59697, goods_market_2 = 0.84252\n",
      "Checked prices: p1 = 1.78889, p2 = 1.15556 -> labor_market = -0.40179, goods_market_1 = -0.58152, goods_market_2 = 0.55254\n",
      "Checked prices: p1 = 1.78889, p2 = 1.36667 -> labor_market = -0.55595, goods_market_1 = -0.56273, goods_market_2 = 0.32979\n",
      "Checked prices: p1 = 1.78889, p2 = 1.57778 -> labor_market = -0.73406, goods_market_1 = -0.54048, goods_market_2 = 0.14754\n",
      "Checked prices: p1 = 1.78889, p2 = 1.78889 -> labor_market = -0.93555, goods_market_1 = -0.51467, goods_market_2 = -0.00831\n",
      "Checked prices: p1 = 1.78889, p2 = 2.00000 -> labor_market = -1.15988, goods_market_1 = -0.48522, goods_market_2 = -0.14594\n",
      "Checked prices: p1 = 2.00000, p2 = 0.10000 -> labor_market = -0.24806, goods_market_1 = -0.73646, goods_market_2 = 12.24855\n",
      "Checked prices: p1 = 2.00000, p2 = 0.31111 -> labor_market = -0.27357, goods_market_1 = -0.73378, goods_market_2 = 3.83779\n",
      "Checked prices: p1 = 2.00000, p2 = 0.52222 -> labor_market = -0.32514, goods_market_1 = -0.72832, goods_market_2 = 2.16670\n",
      "Checked prices: p1 = 2.00000, p2 = 0.73333 -> labor_market = -0.40247, goods_market_1 = -0.72004, goods_market_2 = 1.41491\n",
      "Checked prices: p1 = 2.00000, p2 = 0.94444 -> labor_market = -0.50518, goods_market_1 = -0.70888, goods_market_2 = 0.96626\n",
      "Checked prices: p1 = 2.00000, p2 = 1.15556 -> labor_market = -0.63280, goods_market_1 = -0.69477, goods_market_2 = 0.65487\n",
      "Checked prices: p1 = 2.00000, p2 = 1.36667 -> labor_market = -0.78481, goods_market_1 = -0.67764, goods_market_2 = 0.41742\n",
      "Checked prices: p1 = 2.00000, p2 = 1.57778 -> labor_market = -0.96067, goods_market_1 = -0.65740, goods_market_2 = 0.22445\n",
      "Checked prices: p1 = 2.00000, p2 = 1.78889 -> labor_market = -1.15988, goods_market_1 = -0.63397, goods_market_2 = 0.06041\n",
      "Checked prices: p1 = 2.00000, p2 = 2.00000 -> labor_market = -1.38197, goods_market_1 = -0.60729, goods_market_2 = -0.08369\n"
     ]
    }
   ],
   "source": [
    "import numpy as np\n",
    "from scipy.optimize import minimize, fsolve\n",
    "from types import SimpleNamespace\n",
    "\n",
    "# Parameters\n",
    "par = SimpleNamespace()\n",
    "par.A = 1.0\n",
    "par.gamma = 0.5\n",
    "par.alpha = 0.3\n",
    "par.nu = 1.0\n",
    "par.epsilon = 2.0\n",
    "par.tau = 0.0\n",
    "par.T = 0.0\n",
    "\n",
    "# Derived parameters\n",
    "w = 1\n",
    "\n",
    "# Firm functions\n",
    "def ell_star(p, A, gamma, w):\n",
    "    return (p * A * gamma / w) ** (1 / (1 - gamma))\n",
    "\n",
    "def y_star(ell, A, gamma):\n",
    "    return A * ell ** gamma\n",
    "\n",
    "def profit_star(p, A, gamma, w):\n",
    "    ell = ell_star(p, A, gamma, w)\n",
    "    y = y_star(ell, A, gamma)\n",
    "    return p * y - w * ell\n",
    "\n",
    "# Consumer functions\n",
    "def c1_star(ell, w, T, pi1, pi2, p1, alpha):\n",
    "    return alpha * (w * ell + T + pi1 + pi2) / p1\n",
    "\n",
    "def c2_star(ell, w, T, pi1, pi2, p2, tau, alpha):\n",
    "    return (1 - alpha) * (w * ell + T + pi1 + pi2) / (p2 + tau)\n",
    "\n",
    "def utility_maximization(ell, par, p1, p2, tau, T):\n",
    "    pi1 = profit_star(p1, par.A, par.gamma, w)\n",
    "    pi2 = profit_star(p2, par.A, par.gamma, w)\n",
    "    c1 = c1_star(ell, w, T, pi1, pi2, p1, par.alpha)\n",
    "    c2 = c2_star(ell, w, T, pi1, pi2, p2, tau, par.alpha)\n",
    "    return -(np.log(c1 ** par.alpha * c2 ** (1 - par.alpha)) - par.nu * ell ** (1 + par.epsilon) / (1 + par.epsilon))\n",
    "\n",
    "# Equilibrium condition functions\n",
    "def market_clearing(p, par):\n",
    "    p1, p2 = p\n",
    "    tau = par.tau\n",
    "    T = par.T\n",
    "\n",
    "    # Consumer optimization\n",
    "    result = minimize(lambda ell: utility_maximization(ell, par, p1, p2, tau, T), x0=1.0, bounds=[(0, None)])\n",
    "    ell_star_consumer = result.x[0]\n",
    "    \n",
    "    pi1 = profit_star(p1, par.A, par.gamma, w)\n",
    "    pi2 = profit_star(p2, par.A, par.gamma, w)\n",
    "    \n",
    "    c1 = c1_star(ell_star_consumer, w, T, pi1, pi2, p1, par.alpha)\n",
    "    c2 = c2_star(ell_star_consumer, w, T, pi1, pi2, p2, tau, par.alpha)\n",
    "    \n",
    "    ell1 = ell_star(p1, par.A, par.gamma, w)\n",
    "    ell2 = ell_star(p2, par.A, par.gamma, w)\n",
    "    \n",
    "    y1 = y_star(ell1, par.A, par.gamma)\n",
    "    y2 = y_star(ell2, par.A, par.gamma)\n",
    "\n",
    "    # Market clearing conditions\n",
    "    labor_market = ell_star_consumer - (ell1 + ell2)\n",
    "    goods_market_1 = c1 - y1\n",
    "    goods_market_2 = c2 - y2\n",
    "\n",
    "    return [labor_market, goods_market_1, goods_market_2]\n",
    "\n",
    "# Grid search for initial guess\n",
    "p1_vals = np.linspace(0.1, 2.0, 10)\n",
    "p2_vals = np.linspace(0.1, 2.0, 10)\n",
    "\n",
    "# Store potential equilibrium prices\n",
    "potential_equilibrium_prices = []\n",
    "\n",
    "for p1 in p1_vals:\n",
    "    for p2 in p2_vals:\n",
    "        clearing_conditions = market_clearing([p1, p2], par)\n",
    "        if np.allclose(clearing_conditions, [0, 0, 0], atol=1e-2):\n",
    "            potential_equilibrium_prices.append((p1, p2))\n",
    "            print(f'Potential equilibrium prices: p1 = {p1:.5f}, p2 = {p2:.5f}')\n",
    "        else:\n",
    "            labor_market, goods_market_1, goods_market_2 = clearing_conditions\n",
    "            print(f'Checked prices: p1 = {p1:.5f}, p2 = {p2:.5f} -> '\n",
    "                  f'labor_market = {labor_market:.5f}, goods_market_1 = {goods_market_1:.5f}, goods_market_2 = {goods_market_2:.5f}')"
   ]
  },
  {
   "cell_type": "code",
   "execution_count": 16,
   "metadata": {},
   "outputs": [
    {
     "name": "stdout",
     "output_type": "stream",
     "text": [
      "Equilibrium prices: p1 = 0.9759306450575872, p2 = 1.4907586846678247\n"
     ]
    }
   ],
   "source": [
    "# Finding equilibrium prices using fsolve\n",
    "def reduced_market_clearing(p):\n",
    "    return market_clearing(p, par)[:2]  # Only use two equations due to Walras' Law\n",
    "\n",
    "equilibrium_prices = fsolve(reduced_market_clearing, x0=[1.0, 1.0])\n",
    "print(f'Equilibrium prices: p1 = {equilibrium_prices[0]}, p2 = {equilibrium_prices[1]}')"
   ]
  },
  {
   "cell_type": "code",
   "execution_count": null,
   "metadata": {},
   "outputs": [],
   "source": [
    "from exam_prob1 import check_market_clearing, SimpleNamespace\n",
    "import numpy as np\n",
    "\n",
    "# Define parameters using SimpleNamespace\n",
    "par = SimpleNamespace()\n",
    "par.A = 1.0\n",
    "par.gamma = 0.5\n",
    "par.alpha = 0.3\n",
    "par.nu = 1.0\n",
    "par.epsilon = 2.0\n",
    "par.tau = 0.0\n",
    "par.T = 0.0\n",
    "\n",
    "# Set wage as the numeraire (w = 1)\n",
    "w = 1.0\n",
    "\n",
    "# Define values for p1 and p2 using np.linspace\n",
    "p1_values = np.linspace(0.1, 2.0, 10)  # Array of 10 values from 0.1 to 2.0\n",
    "p2_values = np.linspace(0.1, 2.0, 10)  # Array of 10 values from 0.1 to 2.0\n"
   ]
  },
  {
   "cell_type": "code",
   "execution_count": null,
   "metadata": {},
   "outputs": [],
   "source": [
    "import numpy as np\n",
    "import matplotlib.pyplot as plt\n",
    "from exam_prob1 import check_market_clearing, par  # Import check_market_clearing and par from exam_prob1.py\n",
    "\n",
    "# Parameters for the grid\n",
    "p1_grid = np.linspace(0.1, 2.0, 10)\n",
    "p2_grid = np.linspace(0.1, 2.0, 10)\n",
    "\n",
    "# Get market clearing results\n",
    "market_clearing_grid = check_market_clearing(p1_grid, p2_grid)\n",
    "\n",
    "# Plotting market clearing conditions\n",
    "P1, P2 = np.meshgrid(p1_grid, p2_grid)\n",
    "plt.contourf(P1, P2, market_clearing_grid.T, levels=[0.5, 1.5], colors=['white', 'green'], alpha=0.3)\n",
    "plt.xlabel('$p_1$')\n",
    "plt.ylabel('$p_2$')\n",
    "plt.title('Market Clearing Regions')\n",
    "plt.colorbar(label='Market Clearing')\n",
    "plt.grid(True)\n",
    "plt.show()"
   ]
  },
  {
   "cell_type": "markdown",
   "metadata": {},
   "source": []
  },
  {
   "cell_type": "code",
   "execution_count": null,
   "metadata": {},
   "outputs": [],
   "source": [
    "import numpy as np\n",
    "import exam_prob1 as q1\n",
    "\n",
    "# Define p1 and p2 grids\n",
    "p1_grid = np.linspace(0.1, 2.0, 10)\n",
    "p2_grid = np.linspace(0.1, 2.0, 10)\n",
    "\n",
    "# Call check_market_clearing function\n",
    "market_clearing_grid = q1.check_market_clearing(p1_grid, p2_grid)\n",
    "\n",
    "# Visualize results or further analyze market clearing_grid\n",
    "print(market_clearing_grid)  # Optionally print the entire grid for inspection"
   ]
  },
  {
   "cell_type": "code",
   "execution_count": null,
   "metadata": {},
   "outputs": [],
   "source": [
    "par = SimpleNamespace()\n",
    "\n",
    "# firms\n",
    "par.A = 1.0\n",
    "par.gamma = 0.5\n",
    "\n",
    "# households\n",
    "par.alpha = 0.3\n",
    "par.nu = 1.0\n",
    "par.epsilon = 2.0\n",
    "\n",
    "# government\n",
    "par.tau = 0.0\n",
    "par.T = 0.0\n",
    "\n",
    "# Question 3\n",
    "par.kappa = 0.1"
   ]
  },
  {
   "cell_type": "code",
   "execution_count": null,
   "metadata": {},
   "outputs": [],
   "source": [
    "# write you answer here"
   ]
  },
  {
   "cell_type": "markdown",
   "metadata": {},
   "source": [
    "**Question 2:** Find the equilibrium prices $p_1$ and $p_2$.<br>\n",
    "*Hint: you can use Walras' law to only check 2 of the market clearings*"
   ]
  },
  {
   "cell_type": "markdown",
   "metadata": {},
   "source": [
    "Assume the government care about the social welfare function:\n",
    "\n",
    "$$\n",
    "SWF = U - \\kappa y_2^*\n",
    "$$"
   ]
  },
  {
   "cell_type": "markdown",
   "metadata": {},
   "source": [
    "Here $\\kappa$ measures the social cost of carbon emitted by the production of $y_2$ in equilibrium."
   ]
  },
  {
   "cell_type": "markdown",
   "metadata": {},
   "source": [
    "**Question 3:** What values of $\\tau$ and (implied) $T$ should the government choose to maximize $SWF$?"
   ]
  },
  {
   "cell_type": "code",
   "execution_count": null,
   "metadata": {},
   "outputs": [],
   "source": [
    "# write your answer here"
   ]
  },
  {
   "cell_type": "markdown",
   "metadata": {},
   "source": [
    "## 2. <a id='toc2_'></a>[Problem 2: Career choice model](#toc0_)"
   ]
  },
  {
   "cell_type": "markdown",
   "metadata": {},
   "source": [
    "Consider a graduate $i$ making a choice between entering $J$ different career tracks. <br>\n",
    "Entering career $j$ yields utility $u^k_{ij}$. This value is unknown to the graduate ex ante, but will ex post be: <br>\n",
    "$$\n",
    "    u_{i,j}^k = v_{j} + \\epsilon_{i,j}^k\n",
    "$$\n",
    "\n",
    "They know that $\\epsilon^k_{i,j}\\sim \\mathcal{N}(0,\\sigma^2)$, but they do not observe $\\epsilon^k_{i,j}$ before making their career choice. <br>"
   ]
  },
  {
   "cell_type": "markdown",
   "metadata": {},
   "source": [
    "Consider the concrete case of $J=3$ with:\n",
    "$$\n",
    "\\begin{align*}\n",
    "    v_{1} &= 1 \\\\\n",
    "    v_{2} &= 2 \\\\\n",
    "    v_{3} &= 3\n",
    "\\end{align*}\n",
    "$$"
   ]
  },
  {
   "cell_type": "markdown",
   "metadata": {},
   "source": [
    "If the graduates know the values of $v_j$ and the distribution of $\\epsilon_{i,j}^k$, they can calculate the expected utility of each career track using simulation: <br>\n",
    "$$\n",
    "    \\mathbb{E}\\left[ u^k_{i,j}\\vert v_j \\right] \\approx v_j + \\frac{1}{K}\\sum_{k=1}^K \\epsilon_{i,j}^k\n",
    "$$"
   ]
  },
  {
   "cell_type": "code",
   "execution_count": null,
   "metadata": {},
   "outputs": [],
   "source": [
    "par = SimpleNamespace()\n",
    "par.J = 3\n",
    "par.N = 10\n",
    "par.K = 10000\n",
    "\n",
    "par.F = np.arange(1,par.N+1)\n",
    "par.sigma = 2\n",
    "\n",
    "par.v = np.array([1,2,3])\n",
    "par.c = 1"
   ]
  },
  {
   "cell_type": "markdown",
   "metadata": {},
   "source": [
    "**Question 1:** Simulate and calculate expected utility and the average realised utility for $K=10000$ draws, for each career choice $j$.\n"
   ]
  },
  {
   "cell_type": "code",
   "execution_count": null,
   "metadata": {},
   "outputs": [],
   "source": [
    "# write your answer here"
   ]
  },
  {
   "cell_type": "markdown",
   "metadata": {},
   "source": [
    "Now consider a new scenario: Imagine that the graduate does not know $v_j$. The *only* prior information they have on the value of each job, comes from their $F_{i}$ friends that work in each career $j$. After talking with them, they know the average utility of their friends (which includes their friends' noise term), giving them the prior expecation: <br>\n",
    "$$\n",
    "\\tilde{u}^k_{i,j}\\left( F_{i}\\right) = \\frac{1}{F_{i}}\\sum_{f=1}^{F_{i}} \\left(v_{j} + \\epsilon^k_{f,j}\\right), \\; \\epsilon^k_{f,j}\\sim \\mathcal{N}(0,\\sigma^2)\n",
    "$$\n",
    "For ease of notation consider that each graduate have $F_{i}=i$ friends in each career. <br>"
   ]
  },
  {
   "cell_type": "markdown",
   "metadata": {},
   "source": [
    "For $K$ times do the following: <br>\n",
    "1. For each person $i$ draw $J\\cdot F_i$ values of $\\epsilon_{f,j}^{k}$, and calculate the prior expected utility of each career track, $\\tilde{u}^k_{i,j}\\left( F_{i}\\right)$. <br>\n",
    "Also draw their own $J$ noise terms, $\\epsilon_{i,j}^k$\n",
    "1. Each person $i$ chooses the career track with the highest expected utility: $$j_i^{k*}= \\arg\\max_{j\\in{1,2\\dots,J}}\\left\\{ \\tilde{u}^k_{i,j}\\left( F_{i}\\right)\\right\\} $$\n",
    "1. Store the chosen careers: $j_i^{k*}$, the prior expectation of the value of their chosen career: $\\tilde{u}^k_{i,j=j_i^{k*}}\\left( F_{i}\\right)$, and the realized value of their chosen career track: $u^k_{i,j=j_i^{k*}}=v_{j=j_i^{k*}}+\\epsilon_{i,j=j_i^{k*}}^k$."
   ]
  },
  {
   "cell_type": "markdown",
   "metadata": {},
   "source": [
    "Chosen values will be: <br>\n",
    "$i\\in\\left\\{1,2\\dots,N\\right\\}, N=10$ <br>\n",
    "$F_i = i$<br>\n",
    "So there are 10 graduates. The first has 1 friend in each career, the second has 2 friends, ... the tenth has 10 friends."
   ]
  },
  {
   "cell_type": "markdown",
   "metadata": {},
   "source": [
    "**Question 2:** Simulate and visualize: For each type of graduate, $i$, the share of graduates choosing each career, the average subjective expected utility of the graduates, and the average ex post realized utility given their choice. <br>\n",
    "That is, calculate and visualize: <br>\n",
    "$$\n",
    "\\begin{align*}\n",
    "    \\frac{1}{K} \\sum_{k=1}^{K} \\mathbb{I}\\left\\{ j=j_i^{k*} \\right\\}  \\;\\forall j\\in\\left\\{1,2,\\dots,J\\right\\}\n",
    "\\end{align*}\n",
    "$$\n",
    "$$\n",
    "\\begin{align*}\n",
    "    \\frac{1}{K} \\sum_{k=1}^{K} \\tilde{u}^k_{ij=j_i^{k*}}\\left( F_{i}\\right)\n",
    "\\end{align*}\n",
    "$$\n",
    "And \n",
    "$$\n",
    "\\begin{align*}\n",
    "    \\frac{1}{K} \\sum_{k=1}^{K} u^k_{ij=j_i^{k*}} \n",
    "\\end{align*}\n",
    "$$\n",
    "For each graduate $i$."
   ]
  },
  {
   "cell_type": "code",
   "execution_count": null,
   "metadata": {},
   "outputs": [],
   "source": [
    "# Write your answer here "
   ]
  },
  {
   "cell_type": "markdown",
   "metadata": {},
   "source": [
    "After a year of working in their career, the graduates learn $u^k_{ij}$ for their chosen job $j_i^{k*}$ perfectly. <br>\n",
    "The can switch to one of the two remaining careers, for which they have the same prior as before, but it will now include a switching cost of $c$ which is known.\n",
    "Their new priors can be written as: \n",
    "$$\n",
    "\\tilde{u}^{k,2}_{ij}\\left( F_{i}\\right) = \\begin{cases}\n",
    "            \\tilde{u}^k_{ij}\\left( F_{i}\\right)-c & \\text{if } j \\neq j_i^{k*} \\\\\n",
    "            u_{ij=j_i^{k*}} & \\text{if } j = j_i^{k*}\n",
    "        \\end{cases}\n",
    "$$"
   ]
  },
  {
   "cell_type": "markdown",
   "metadata": {},
   "source": [
    "We will set $c=1$."
   ]
  },
  {
   "cell_type": "markdown",
   "metadata": {},
   "source": [
    "Their realized utility will be: <br>\n",
    "$$\n",
    "u^{k,2}_{ij}= \\begin{cases}\n",
    "            u_{ij}^k -c & \\text{if } j \\neq j_i^{k*} \\\\\n",
    "            u_{ij=j_i^{k*}} & \\text{if } j = j_i^{k*}\n",
    "        \\end{cases}\n",
    "$$"
   ]
  },
  {
   "cell_type": "markdown",
   "metadata": {},
   "source": [
    "**Question 3:** Following the same approach as in question 2, find the new optimal career choice for each $i$, $k$. Then for each $i$, calculate the average subjective expected utility from their new optimal career choice, and the ex post realized utility of that career. Also, for each $i$, calculate the share of graduates that chooses to switch careers, conditional on which career they chose in the first year. <br>"
   ]
  },
  {
   "cell_type": "code",
   "execution_count": null,
   "metadata": {},
   "outputs": [],
   "source": [
    "# write your answer here"
   ]
  },
  {
   "cell_type": "markdown",
   "metadata": {},
   "source": [
    "## 3. <a id='toc3_'></a>[Problem 3: Barycentric interpolation](#toc0_)"
   ]
  },
  {
   "cell_type": "markdown",
   "metadata": {},
   "source": [
    "**Problem:** We have a set of random points in the unit square,\n",
    "\n",
    "$$\n",
    "\\mathcal{X} = \\{(x_1,x_2)\\,|\\,x_1\\sim\\mathcal{U}(0,1),x_2\\sim\\mathcal{U}(0,1)\\}.\n",
    "$$\n",
    "\n",
    "For these points, we know the value of some function $f(x_1,x_2)$,\n",
    "\n",
    "$$\n",
    "\\mathcal{F} = \\{f(x_1,x_2) \\,|\\, (x_1,x_2) \\in \\mathcal{X}\\}.\n",
    "$$\n",
    "\n",
    "Now we want to approximate the value $f(y_1,y_2)$ for some  $y=(y_1,y_2)$, where $y_1\\sim\\mathcal{U}(0,1)$ and $y_2\\sim\\mathcal{U}(0,1)$.\n",
    "\n",
    "**Building block I**\n",
    "\n",
    "For an arbitrary triangle $ABC$ and a point $y$, define the so-called barycentric coordinates as:\n",
    "\n",
    "$$\n",
    "\\begin{align*}\n",
    "  r^{ABC}_1 &= \\frac{(B_2-C_2)(y_1-C_1) + (C_1-B_1)(y_2-C_2)}{(B_2-C_2)(A_1-C_1) + (C_1-B_1)(A_2-C_2)} \\\\\n",
    "  r^{ABC}_2 &= \\frac{(C_2-A_2)(y_1-C_1) + (A_1-C_1)(y_2-C_2)}{(B_2-C_2)(A_1-C_1) + (C_1-B_1)(A_2-C_2)} \\\\\n",
    "  r^{ABC}_3 &= 1 - r_1 - r_2.\n",
    "\\end{align*}\n",
    "$$\n",
    "\n",
    "If $r^{ABC}_1 \\in [0,1]$, $r^{ABC}_2 \\in [0,1]$, and $r^{ABC}_3 \\in [0,1]$, then the point is inside the triangle.\n",
    "\n",
    "We always have $y = r^{ABC}_1 A + r^{ABC}_2 B + r^{ABC}_3 C$.\n",
    "\n",
    "**Building block II**\n",
    "\n",
    "Define the following points:\n",
    "\n",
    "$$\n",
    "\\begin{align*}\n",
    "A&=\\arg\\min_{(x_{1},x_{2})\\in\\mathcal{X}}\\sqrt{\\left(x_{1}-y_{1}\\right)^{2}+\\left(x_{2}-y_{2}\\right)^{2}}\\text{ s.t. }x_{1}>y_{1}\\text{ and }x_{2}>y_{2}\\\\\n",
    "B&=\\arg\\min_{(x_{1},x_{2})\\in\\mathcal{X}}\\sqrt{\\left(x_{1}-y_{1}\\right)^{2}+\\left(x_{2}-y_{2}\\right)^{2}}\\text{ s.t. }x_{1}>y_{1}\\text{ and }x_{2}<y_{2}\\\\\n",
    "C&=\\arg\\min_{(x_{1},x_{2})\\in\\mathcal{X}}\\sqrt{\\left(x_{1}-y_{1}\\right)^{2}+\\left(x_{2}-y_{2}\\right)^{2}}\\text{ s.t. }x_{1}<y_{1}\\text{ and }x_{2}<y_{2}\\\\\n",
    "D&=\\arg\\min_{(x_{1},x_{2})\\in\\mathcal{X}}\\sqrt{\\left(x_{1}-y_{1}\\right)^{2}+\\left(x_{2}-y_{2}\\right)^{2}}\\text{ s.t. }x_{1}<y_{1}\\text{ and }x_{2}>y_{2}.\n",
    "\\end{align*}\n",
    "$$\n",
    "\n",
    "**Algorithm:**\n",
    "\n",
    "1. Compute $A$, $B$, $C$, and $D$. If not possible return `NaN`.\n",
    "1. If $y$ is inside the triangle $ABC$ return $r^{ABC}_1 f(A) + r^{ABC}_2 f(B) + r^{ABC}_3 f(C)$.\n",
    "1. If $y$ is inside the triangle $CDA$ return $r^{CDA}_1 f(C) + r^{CDA}_2 f(D) + r^{CDA}_3 f(A)$.\n",
    "1. Return `NaN`.\n",
    "\n"
   ]
  },
  {
   "cell_type": "markdown",
   "metadata": {},
   "source": [
    "**Sample:**"
   ]
  },
  {
   "cell_type": "code",
   "execution_count": null,
   "metadata": {},
   "outputs": [],
   "source": [
    "rng = np.random.default_rng(2024)\n",
    "\n",
    "X = rng.uniform(size=(50,2))\n",
    "y = rng.uniform(size=(2,))\n"
   ]
  },
  {
   "cell_type": "markdown",
   "metadata": {},
   "source": [
    "**Questions 1:** Find $A$, $B$, $C$ and $D$. Illustrate these together with $X$, $y$ and the triangles $ABC$ and $CDA$."
   ]
  },
  {
   "cell_type": "code",
   "execution_count": null,
   "metadata": {},
   "outputs": [],
   "source": [
    "# write your answer here"
   ]
  },
  {
   "cell_type": "markdown",
   "metadata": {},
   "source": [
    "**Question 2:** Compute the barycentric coordinates of the point $y$ with respect to the triangles $ABC$ and $CDA$. Which triangle is $y$ located inside?"
   ]
  },
  {
   "cell_type": "code",
   "execution_count": null,
   "metadata": {},
   "outputs": [],
   "source": [
    "# write your answer here"
   ]
  },
  {
   "cell_type": "markdown",
   "metadata": {},
   "source": [
    "Now consider the function:\n",
    "$$\n",
    "f(x_1,x_2) = x_1 \\cdot x_2\n",
    "$$"
   ]
  },
  {
   "cell_type": "code",
   "execution_count": null,
   "metadata": {},
   "outputs": [],
   "source": [
    "f = lambda x: x[0]*x[1]\n",
    "F = np.array([f(x) for x in X])"
   ]
  },
  {
   "cell_type": "markdown",
   "metadata": {},
   "source": [
    "**Question 3:** Compute the approximation of $f(y)$ using the full algorithm. Compare with the true value."
   ]
  },
  {
   "cell_type": "code",
   "execution_count": null,
   "metadata": {},
   "outputs": [],
   "source": [
    "# write your answer here"
   ]
  },
  {
   "cell_type": "markdown",
   "metadata": {},
   "source": [
    "**Question 4:** Repeat question 3 for all points in the set $Y$."
   ]
  },
  {
   "cell_type": "code",
   "execution_count": null,
   "metadata": {},
   "outputs": [],
   "source": [
    "Y = [(0.2,0.2),(0.8,0.2),(0.8,0.8),(0.8,0.2),(0.5,0.5)]"
   ]
  },
  {
   "cell_type": "code",
   "execution_count": null,
   "metadata": {},
   "outputs": [],
   "source": [
    "# write your answer here"
   ]
  }
 ],
 "metadata": {
  "kernelspec": {
   "display_name": "Python 3",
   "language": "python",
   "name": "python3"
  },
  "language_info": {
   "codemirror_mode": {
    "name": "ipython",
    "version": 3
   },
   "file_extension": ".py",
   "mimetype": "text/x-python",
   "name": "python",
   "nbconvert_exporter": "python",
   "pygments_lexer": "ipython3",
   "version": "3.11.7"
  },
  "vscode": {
   "interpreter": {
    "hash": "d082443479dcf0bb109497657c949fcf3a4bd1d96297faded59d95be7509270b"
   }
  }
 },
 "nbformat": 4,
 "nbformat_minor": 2
}
