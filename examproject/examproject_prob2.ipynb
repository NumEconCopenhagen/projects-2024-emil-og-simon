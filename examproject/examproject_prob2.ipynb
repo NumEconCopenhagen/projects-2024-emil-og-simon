{
 "cells": [
  {
   "cell_type": "markdown",
   "metadata": {},
   "source": [
    "**Table of contents**<a id='toc0_'></a>    \n",
    "- 1. [Problem 1: Production economy and CO2 taxation](#toc1_)    \n",
    "- 2. [Problem 2: Career choice model](#toc2_)    \n",
    "- 3. [Problem 3: Barycentric interpolation](#toc3_)    \n",
    "\n",
    "<!-- vscode-jupyter-toc-config\n",
    "\tnumbering=true\n",
    "\tanchor=true\n",
    "\tflat=false\n",
    "\tminLevel=2\n",
    "\tmaxLevel=6\n",
    "\t/vscode-jupyter-toc-config -->\n",
    "<!-- THIS CELL WILL BE REPLACED ON TOC UPDATE. DO NOT WRITE YOUR TEXT IN THIS CELL -->"
   ]
  },
  {
   "cell_type": "code",
   "execution_count": 1,
   "metadata": {},
   "outputs": [],
   "source": [
    "# Write your code here\n",
    "import numpy as np\n",
    "from types import SimpleNamespace"
   ]
  },
  {
   "cell_type": "markdown",
   "metadata": {},
   "source": [
    "## 1. <a id='toc1_'></a>[Problem 1: Production economy and CO2 taxation](#toc0_)"
   ]
  },
  {
   "cell_type": "markdown",
   "metadata": {},
   "source": [
    "Consider a production economy with two firms indexed by $j \\in \\{1,2\\}$. Each produce its own good. They solve\n",
    "\n",
    "$$\n",
    "\\begin{align*}\n",
    "\\max_{y_{j}}\\pi_{j}&=p_{j}y_{j}-w_{j}\\ell_{j}\\\\\\text{s.t.}\\;&y_{j}=A\\ell_{j}^{\\gamma}.\n",
    "\\end{align*}\n",
    "$$\n",
    "\n",
    "Optimal firm behavior is\n",
    "\n",
    "$$\n",
    "\\begin{align*}\n",
    "\\ell_{j}^{\\star}(w,p_{j})&=\\left(\\frac{p_{j}A\\gamma}{w}\\right)^{\\frac{1}{1-\\gamma}} \\\\\n",
    "y_{j}^{\\star}(w,p_{j})&=A\\left(\\ell_{j}^{\\star}(w,p_{j})\\right)^{\\gamma}\n",
    "\\end{align*}\n",
    "$$\n",
    "\n",
    "The implied profits are\n",
    "\n",
    "$$\n",
    "\\pi_{j}^*(w,p_{j})=\\frac{1-\\gamma}{\\gamma}w\\cdot\\left(\\frac{p_{j}A\\gamma}{w}\\right)^{\\frac{1}{1-\\gamma}}\n",
    "$$\n",
    "\n",
    "A single consumer supplies labor, and consumes the goods the firms produce. She also recieves the implied profits of the firm.<br>\n",
    "She solves:\n",
    "\n",
    "$$\n",
    "\\begin{align*}\n",
    "U(p_1,p_2,w,\\tau,T) = \\max_{c_{1},c_{2},\\ell} & \\log(c_{1}^{\\alpha}c_{2}^{1-\\alpha})-\\nu\\frac{\\ell^{1+\\epsilon}}{1+\\epsilon} \\\\\n",
    "\\text{s.t.}\\,\\,\\,&p_{1}c_{1}+(p_{2}+\\tau)c_{2}=w\\ell+T+\\pi_{1}^*(w,p_{1})+\\pi_{2}^*(w,p_{2})\n",
    "\\end{align*}\n",
    "$$\n",
    "\n",
    "where $\\tau$ is a tax and $T$ is lump-sum transfer. <br>\n",
    "For a given $\\ell$, it can be shown that optimal behavior is\n",
    "\n",
    "$$\n",
    "\\begin{align*}\n",
    "c_{1}(\\ell)&=\\alpha\\frac{w\\ell+T+\\pi_{1}^*(w,p_{1})+\\pi_{2}^*(w,p_{2})}{p_{1}} \\\\\n",
    "c_{2}(\\ell)&=(1-\\alpha)\\frac{w\\ell+T+\\pi_{1}^*(w,p_{1})+\\pi_{2}^*(w,p_{2})}{p_{2}+\\tau} \\\\\n",
    "\\end{align*}\n",
    "$$\n",
    "Such that optimal behavior is:\n",
    "$$\n",
    "\\ell^* = \\underset{\\ell}{\\arg\\max} \\log(\\left(c_{1}(\\ell)\\right)^{\\alpha}\\cdot \\left(c_{2}(\\ell)\\right)^{1-\\alpha})-\\nu\\frac{\\ell^{1+\\epsilon}}{1+\\epsilon} \n",
    "$$\n",
    "With optimal consumption:\n",
    "$$\n",
    "\\begin{align*}\n",
    "c_1^*=c_{1}(\\ell^*) \\\\\n",
    "c_2^*=c_{2}(\\ell^*)\\\\\n",
    "\\end{align*}\n",
    "$$\n",
    "\n",
    "\n",
    "The government chooses $\\tau$ and balances its budget so $T=\\tau c_2^*$. We initially set $\\tau,T=0$.\n",
    "\n",
    "Market clearing requires:\n",
    "\n",
    "1. Labor market: $\\ell^* = \\ell_1^* + \\ell_2^*$\n",
    "1. Good market 1: $c_1^* = y_1^*$\n",
    "1. Good market 2: $c_2^* = y_2^*$\n"
   ]
  },
  {
   "cell_type": "markdown",
   "metadata": {},
   "source": [
    "**Question 1:** Check market clearing conditions for $p_1$ in `linspace(0.1,2.0,10)` and $p_2$ in `linspace(0.1,2.0,10)`. We choose $w=1$ as numeraire."
   ]
  },
  {
   "cell_type": "code",
   "execution_count": 2,
   "metadata": {},
   "outputs": [],
   "source": [
    "par = SimpleNamespace()\n",
    "\n",
    "# firms\n",
    "par.A = 1.0\n",
    "par.gamma = 0.5\n",
    "\n",
    "# households\n",
    "par.alpha = 0.3\n",
    "par.nu = 1.0\n",
    "par.epsilon = 2.0\n",
    "\n",
    "# government\n",
    "par.tau = 0.0\n",
    "par.T = 0.0\n",
    "\n",
    "# Question 3\n",
    "par.kappa = 0.1"
   ]
  },
  {
   "cell_type": "code",
   "execution_count": 3,
   "metadata": {},
   "outputs": [],
   "source": [
    "# write you answer here"
   ]
  },
  {
   "cell_type": "markdown",
   "metadata": {},
   "source": [
    "**Question 2:** Find the equilibrium prices $p_1$ and $p_2$.<br>\n",
    "*Hint: you can use Walras' law to only check 2 of the market clearings*"
   ]
  },
  {
   "cell_type": "code",
   "execution_count": 4,
   "metadata": {},
   "outputs": [],
   "source": [
    "# write your answer here"
   ]
  },
  {
   "cell_type": "markdown",
   "metadata": {},
   "source": [
    "Assume the government care about the social welfare function:\n",
    "\n",
    "$$\n",
    "SWF = U - \\kappa y_2^*\n",
    "$$"
   ]
  },
  {
   "cell_type": "markdown",
   "metadata": {},
   "source": [
    "Here $\\kappa$ measures the social cost of carbon emitted by the production of $y_2$ in equilibrium."
   ]
  },
  {
   "cell_type": "markdown",
   "metadata": {},
   "source": [
    "**Question 3:** What values of $\\tau$ and (implied) $T$ should the government choose to maximize $SWF$?"
   ]
  },
  {
   "cell_type": "code",
   "execution_count": 5,
   "metadata": {},
   "outputs": [],
   "source": [
    "# write your answer here"
   ]
  },
  {
   "cell_type": "markdown",
   "metadata": {},
   "source": [
    "## 2. <a id='toc2_'></a>[Problem 2: Career choice model](#toc0_)"
   ]
  },
  {
   "cell_type": "markdown",
   "metadata": {},
   "source": [
    "Consider a graduate $i$ making a choice between entering $J$ different career tracks. <br>\n",
    "Entering career $j$ yields utility $u^k_{ij}$. This value is unknown to the graduate ex ante, but will ex post be: <br>\n",
    "$$\n",
    "    u_{i,j}^k = v_{j} + \\epsilon_{i,j}^k\n",
    "$$\n",
    "\n",
    "They know that $\\epsilon^k_{i,j}\\sim \\mathcal{N}(0,\\sigma^2)$, but they do not observe $\\epsilon^k_{i,j}$ before making their career choice. <br>"
   ]
  },
  {
   "cell_type": "markdown",
   "metadata": {},
   "source": [
    "Consider the concrete case of $J=3$ with:\n",
    "$$\n",
    "\\begin{align*}\n",
    "    v_{1} &= 1 \\\\\n",
    "    v_{2} &= 2 \\\\\n",
    "    v_{3} &= 3\n",
    "\\end{align*}\n",
    "$$"
   ]
  },
  {
   "cell_type": "markdown",
   "metadata": {},
   "source": [
    "If the graduates know the values of $v_j$ and the distribution of $\\epsilon_{i,j}^k$, they can calculate the expected utility of each career track using simulation: <br>\n",
    "$$\n",
    "    \\mathbb{E}\\left[ u^k_{i,j}\\vert v_j \\right] \\approx v_j + \\frac{1}{K}\\sum_{k=1}^K \\epsilon_{i,j}^k\n",
    "$$"
   ]
  },
  {
   "cell_type": "code",
   "execution_count": 6,
   "metadata": {},
   "outputs": [],
   "source": [
    "par = SimpleNamespace()\n",
    "par.J = 3\n",
    "par.N = 10\n",
    "par.K = 10000\n",
    "\n",
    "par.F = np.arange(1,par.N+1)\n",
    "par.sigma = 2\n",
    "\n",
    "par.v = np.array([1,2,3])\n",
    "par.c = 1"
   ]
  },
  {
   "cell_type": "markdown",
   "metadata": {},
   "source": [
    "**Question 1:** Simulate and calculate expected utility and the average realised utility for $K=10000$ draws, for each career choice $j$.\n"
   ]
  },
  {
   "cell_type": "code",
   "execution_count": 7,
   "metadata": {},
   "outputs": [
    {
     "name": "stdout",
     "output_type": "stream",
     "text": [
      "\n"
     ]
    }
   ],
   "source": [
    "# Import necessary libraries\n",
    "import subprocess\n",
    "\n",
    "# Run the exam_prob2.py script and capture the output\n",
    "result = subprocess.run(['python', 'exam_prob2.py'], capture_output=True, text=True)\n",
    "\n",
    "# Print the output\n",
    "print(result.stdout)"
   ]
  },
  {
   "cell_type": "code",
   "execution_count": 8,
   "metadata": {},
   "outputs": [
    {
     "data": {
      "text/html": [
       "<style type=\"text/css\">\n",
       "</style>\n",
       "<table id=\"T_56437_\">\n",
       "  <caption>Utilities for Different Career Choices</caption>\n",
       "  <thead>\n",
       "    <tr>\n",
       "      <th class=\"blank level0\" >&nbsp;</th>\n",
       "      <th class=\"col_heading level0 col0\" >Career Choice</th>\n",
       "      <th class=\"col_heading level0 col1\" >Expected Utility</th>\n",
       "      <th class=\"col_heading level0 col2\" >Realized Utility</th>\n",
       "      <th class=\"col_heading level0 col3\" >Mean Epsilon</th>\n",
       "    </tr>\n",
       "  </thead>\n",
       "  <tbody>\n",
       "    <tr>\n",
       "      <th id=\"T_56437_level0_row0\" class=\"row_heading level0 row0\" >0</th>\n",
       "      <td id=\"T_56437_row0_col0\" class=\"data row0 col0\" >Career 1</td>\n",
       "      <td id=\"T_56437_row0_col1\" class=\"data row0 col1\" >1.000000</td>\n",
       "      <td id=\"T_56437_row0_col2\" class=\"data row0 col2\" >0.995728</td>\n",
       "      <td id=\"T_56437_row0_col3\" class=\"data row0 col3\" >-0.004272</td>\n",
       "    </tr>\n",
       "    <tr>\n",
       "      <th id=\"T_56437_level0_row1\" class=\"row_heading level0 row1\" >1</th>\n",
       "      <td id=\"T_56437_row1_col0\" class=\"data row1 col0\" >Career 2</td>\n",
       "      <td id=\"T_56437_row1_col1\" class=\"data row1 col1\" >2.000000</td>\n",
       "      <td id=\"T_56437_row1_col2\" class=\"data row1 col2\" >2.027068</td>\n",
       "      <td id=\"T_56437_row1_col3\" class=\"data row1 col3\" >0.027068</td>\n",
       "    </tr>\n",
       "    <tr>\n",
       "      <th id=\"T_56437_level0_row2\" class=\"row_heading level0 row2\" >2</th>\n",
       "      <td id=\"T_56437_row2_col0\" class=\"data row2 col0\" >Career 3</td>\n",
       "      <td id=\"T_56437_row2_col1\" class=\"data row2 col1\" >3.000000</td>\n",
       "      <td id=\"T_56437_row2_col2\" class=\"data row2 col2\" >2.975074</td>\n",
       "      <td id=\"T_56437_row2_col3\" class=\"data row2 col3\" >-0.024926</td>\n",
       "    </tr>\n",
       "  </tbody>\n",
       "</table>\n"
      ],
      "text/plain": [
       "<pandas.io.formats.style.Styler at 0x114e821c0>"
      ]
     },
     "execution_count": 8,
     "metadata": {},
     "output_type": "execute_result"
    }
   ],
   "source": [
    "# Step 3: Read and display the CSV file\n",
    "import pandas as pd\n",
    "\n",
    "# Read the CSV file created by the exam_prob2.py script\n",
    "df = pd.read_csv('utilities.csv')\n",
    "\n",
    "# Display the DataFrame with a caption\n",
    "df.style.set_caption(\"Utilities for Different Career Choices\")"
   ]
  },
  {
   "cell_type": "code",
   "execution_count": 9,
   "metadata": {},
   "outputs": [],
   "source": [
    "import numpy as np\n",
    "import pandas as pd\n",
    "from types import SimpleNamespace\n",
    "\n",
    "def calculate_expected_utility(par):\n",
    "    # Extract parameters\n",
    "    J = par.J\n",
    "    K = par.K\n",
    "    sigma = par.sigma\n",
    "    v = par.v\n",
    "\n",
    "    # Initialize arrays to store expected utilities and realized utilities\n",
    "    expected_utilities = np.zeros(J)\n",
    "    realized_utilities = np.zeros(J)\n",
    "    mean_epsilons = np.zeros(J)  # To store the mean of the noise terms\n",
    "\n",
    "    # Loop over each career choice j\n",
    "    for j in range(J):\n",
    "        # Draw K samples from the normal distribution for each career choice\n",
    "        epsilon = np.random.normal(0, sigma, K)\n",
    "        \n",
    "        # Calculate the expected utility for career choice j\n",
    "        expected_utility = v[j]  # The expected value of the epsilon terms is zero\n",
    "        expected_utilities[j] = expected_utility\n",
    "        \n",
    "        # Calculate the average realized utility for career choice j\n",
    "        realized_utility = v[j] + np.mean(epsilon)\n",
    "        realized_utilities[j] = realized_utility\n",
    "        mean_epsilons[j] = np.mean(epsilon)\n",
    "    \n",
    "    return expected_utilities, realized_utilities, mean_epsilons\n",
    "\n",
    "def main():\n",
    "    # Initialize parameters\n",
    "    par = SimpleNamespace()\n",
    "    par.J = 3\n",
    "    par.N = 10\n",
    "    par.K = 10000\n",
    "    par.sigma = 2\n",
    "    par.v = np.array([1, 2, 3])\n",
    "    par.c = 1\n",
    "    \n",
    "    # List of seeds to try out\n",
    "    seeds = range(1, 11)\n",
    "    \n",
    "    # DataFrame to store results for each seed\n",
    "    all_results = []\n",
    "\n",
    "    for seed in seeds:\n",
    "        # Set the seed for reproducibility\n",
    "        par.seed = seed\n",
    "        np.random.seed(par.seed)\n",
    "        \n",
    "        # Calculate expected and realized utilities\n",
    "        expected_utilities, realized_utilities, mean_epsilons = calculate_expected_utility(par)\n",
    "        \n",
    "        # Store the results in the list\n",
    "        for j in range(par.J):\n",
    "            all_results.append({\n",
    "                'Seed': seed,\n",
    "                'Career Choice': f'Career {j+1}',\n",
    "                'Expected Utility': expected_utilities[j],\n",
    "                'Realized Utility': realized_utilities[j],\n",
    "                'Mean Epsilon': mean_epsilons[j]\n",
    "            })\n",
    "    \n",
    "    # Create a DataFrame from the results\n",
    "    df = pd.DataFrame(all_results)\n",
    "    \n",
    "    # Save the DataFrame to a CSV file\n",
    "    df.to_csv('utilities_multiple_seeds.csv', index=False)\n",
    "\n",
    "if __name__ == \"__main__\":\n",
    "    main()\n"
   ]
  },
  {
   "cell_type": "code",
   "execution_count": 10,
   "metadata": {},
   "outputs": [
    {
     "data": {
      "text/html": [
       "<style type=\"text/css\">\n",
       "</style>\n",
       "<table id=\"T_860db_\">\n",
       "  <caption>Utilities for Different Career Choices Across Multiple Seeds</caption>\n",
       "  <thead>\n",
       "    <tr>\n",
       "      <th class=\"blank level0\" >&nbsp;</th>\n",
       "      <th class=\"col_heading level0 col0\" >Seed</th>\n",
       "      <th class=\"col_heading level0 col1\" >Career Choice</th>\n",
       "      <th class=\"col_heading level0 col2\" >Expected Utility</th>\n",
       "      <th class=\"col_heading level0 col3\" >Realized Utility</th>\n",
       "      <th class=\"col_heading level0 col4\" >Mean Epsilon</th>\n",
       "    </tr>\n",
       "  </thead>\n",
       "  <tbody>\n",
       "    <tr>\n",
       "      <th id=\"T_860db_level0_row0\" class=\"row_heading level0 row0\" >0</th>\n",
       "      <td id=\"T_860db_row0_col0\" class=\"data row0 col0\" >1</td>\n",
       "      <td id=\"T_860db_row0_col1\" class=\"data row0 col1\" >Career 1</td>\n",
       "      <td id=\"T_860db_row0_col2\" class=\"data row0 col2\" >1.000000</td>\n",
       "      <td id=\"T_860db_row0_col3\" class=\"data row0 col3\" >1.019545</td>\n",
       "      <td id=\"T_860db_row0_col4\" class=\"data row0 col4\" >0.019545</td>\n",
       "    </tr>\n",
       "    <tr>\n",
       "      <th id=\"T_860db_level0_row1\" class=\"row_heading level0 row1\" >1</th>\n",
       "      <td id=\"T_860db_row1_col0\" class=\"data row1 col0\" >1</td>\n",
       "      <td id=\"T_860db_row1_col1\" class=\"data row1 col1\" >Career 2</td>\n",
       "      <td id=\"T_860db_row1_col2\" class=\"data row1 col2\" >2.000000</td>\n",
       "      <td id=\"T_860db_row1_col3\" class=\"data row1 col3\" >2.018871</td>\n",
       "      <td id=\"T_860db_row1_col4\" class=\"data row1 col4\" >0.018871</td>\n",
       "    </tr>\n",
       "    <tr>\n",
       "      <th id=\"T_860db_level0_row2\" class=\"row_heading level0 row2\" >2</th>\n",
       "      <td id=\"T_860db_row2_col0\" class=\"data row2 col0\" >1</td>\n",
       "      <td id=\"T_860db_row2_col1\" class=\"data row2 col1\" >Career 3</td>\n",
       "      <td id=\"T_860db_row2_col2\" class=\"data row2 col2\" >3.000000</td>\n",
       "      <td id=\"T_860db_row2_col3\" class=\"data row2 col3\" >2.970793</td>\n",
       "      <td id=\"T_860db_row2_col4\" class=\"data row2 col4\" >-0.029207</td>\n",
       "    </tr>\n",
       "    <tr>\n",
       "      <th id=\"T_860db_level0_row3\" class=\"row_heading level0 row3\" >3</th>\n",
       "      <td id=\"T_860db_row3_col0\" class=\"data row3 col0\" >2</td>\n",
       "      <td id=\"T_860db_row3_col1\" class=\"data row3 col1\" >Career 1</td>\n",
       "      <td id=\"T_860db_row3_col2\" class=\"data row3 col2\" >1.000000</td>\n",
       "      <td id=\"T_860db_row3_col3\" class=\"data row3 col3\" >0.961617</td>\n",
       "      <td id=\"T_860db_row3_col4\" class=\"data row3 col4\" >-0.038383</td>\n",
       "    </tr>\n",
       "    <tr>\n",
       "      <th id=\"T_860db_level0_row4\" class=\"row_heading level0 row4\" >4</th>\n",
       "      <td id=\"T_860db_row4_col0\" class=\"data row4 col0\" >2</td>\n",
       "      <td id=\"T_860db_row4_col1\" class=\"data row4 col1\" >Career 2</td>\n",
       "      <td id=\"T_860db_row4_col2\" class=\"data row4 col2\" >2.000000</td>\n",
       "      <td id=\"T_860db_row4_col3\" class=\"data row4 col3\" >2.035877</td>\n",
       "      <td id=\"T_860db_row4_col4\" class=\"data row4 col4\" >0.035877</td>\n",
       "    </tr>\n",
       "    <tr>\n",
       "      <th id=\"T_860db_level0_row5\" class=\"row_heading level0 row5\" >5</th>\n",
       "      <td id=\"T_860db_row5_col0\" class=\"data row5 col0\" >2</td>\n",
       "      <td id=\"T_860db_row5_col1\" class=\"data row5 col1\" >Career 3</td>\n",
       "      <td id=\"T_860db_row5_col2\" class=\"data row5 col2\" >3.000000</td>\n",
       "      <td id=\"T_860db_row5_col3\" class=\"data row5 col3\" >2.982064</td>\n",
       "      <td id=\"T_860db_row5_col4\" class=\"data row5 col4\" >-0.017936</td>\n",
       "    </tr>\n",
       "    <tr>\n",
       "      <th id=\"T_860db_level0_row6\" class=\"row_heading level0 row6\" >6</th>\n",
       "      <td id=\"T_860db_row6_col0\" class=\"data row6 col0\" >3</td>\n",
       "      <td id=\"T_860db_row6_col1\" class=\"data row6 col1\" >Career 1</td>\n",
       "      <td id=\"T_860db_row6_col2\" class=\"data row6 col2\" >1.000000</td>\n",
       "      <td id=\"T_860db_row6_col3\" class=\"data row6 col3\" >0.944683</td>\n",
       "      <td id=\"T_860db_row6_col4\" class=\"data row6 col4\" >-0.055317</td>\n",
       "    </tr>\n",
       "    <tr>\n",
       "      <th id=\"T_860db_level0_row7\" class=\"row_heading level0 row7\" >7</th>\n",
       "      <td id=\"T_860db_row7_col0\" class=\"data row7 col0\" >3</td>\n",
       "      <td id=\"T_860db_row7_col1\" class=\"data row7 col1\" >Career 2</td>\n",
       "      <td id=\"T_860db_row7_col2\" class=\"data row7 col2\" >2.000000</td>\n",
       "      <td id=\"T_860db_row7_col3\" class=\"data row7 col3\" >2.003254</td>\n",
       "      <td id=\"T_860db_row7_col4\" class=\"data row7 col4\" >0.003254</td>\n",
       "    </tr>\n",
       "    <tr>\n",
       "      <th id=\"T_860db_level0_row8\" class=\"row_heading level0 row8\" >8</th>\n",
       "      <td id=\"T_860db_row8_col0\" class=\"data row8 col0\" >3</td>\n",
       "      <td id=\"T_860db_row8_col1\" class=\"data row8 col1\" >Career 3</td>\n",
       "      <td id=\"T_860db_row8_col2\" class=\"data row8 col2\" >3.000000</td>\n",
       "      <td id=\"T_860db_row8_col3\" class=\"data row8 col3\" >2.993292</td>\n",
       "      <td id=\"T_860db_row8_col4\" class=\"data row8 col4\" >-0.006708</td>\n",
       "    </tr>\n",
       "    <tr>\n",
       "      <th id=\"T_860db_level0_row9\" class=\"row_heading level0 row9\" >9</th>\n",
       "      <td id=\"T_860db_row9_col0\" class=\"data row9 col0\" >4</td>\n",
       "      <td id=\"T_860db_row9_col1\" class=\"data row9 col1\" >Career 1</td>\n",
       "      <td id=\"T_860db_row9_col2\" class=\"data row9 col2\" >1.000000</td>\n",
       "      <td id=\"T_860db_row9_col3\" class=\"data row9 col3\" >1.002860</td>\n",
       "      <td id=\"T_860db_row9_col4\" class=\"data row9 col4\" >0.002860</td>\n",
       "    </tr>\n",
       "    <tr>\n",
       "      <th id=\"T_860db_level0_row10\" class=\"row_heading level0 row10\" >10</th>\n",
       "      <td id=\"T_860db_row10_col0\" class=\"data row10 col0\" >4</td>\n",
       "      <td id=\"T_860db_row10_col1\" class=\"data row10 col1\" >Career 2</td>\n",
       "      <td id=\"T_860db_row10_col2\" class=\"data row10 col2\" >2.000000</td>\n",
       "      <td id=\"T_860db_row10_col3\" class=\"data row10 col3\" >1.999948</td>\n",
       "      <td id=\"T_860db_row10_col4\" class=\"data row10 col4\" >-0.000052</td>\n",
       "    </tr>\n",
       "    <tr>\n",
       "      <th id=\"T_860db_level0_row11\" class=\"row_heading level0 row11\" >11</th>\n",
       "      <td id=\"T_860db_row11_col0\" class=\"data row11 col0\" >4</td>\n",
       "      <td id=\"T_860db_row11_col1\" class=\"data row11 col1\" >Career 3</td>\n",
       "      <td id=\"T_860db_row11_col2\" class=\"data row11 col2\" >3.000000</td>\n",
       "      <td id=\"T_860db_row11_col3\" class=\"data row11 col3\" >2.994057</td>\n",
       "      <td id=\"T_860db_row11_col4\" class=\"data row11 col4\" >-0.005943</td>\n",
       "    </tr>\n",
       "    <tr>\n",
       "      <th id=\"T_860db_level0_row12\" class=\"row_heading level0 row12\" >12</th>\n",
       "      <td id=\"T_860db_row12_col0\" class=\"data row12 col0\" >5</td>\n",
       "      <td id=\"T_860db_row12_col1\" class=\"data row12 col1\" >Career 1</td>\n",
       "      <td id=\"T_860db_row12_col2\" class=\"data row12 col2\" >1.000000</td>\n",
       "      <td id=\"T_860db_row12_col3\" class=\"data row12 col3\" >0.999413</td>\n",
       "      <td id=\"T_860db_row12_col4\" class=\"data row12 col4\" >-0.000587</td>\n",
       "    </tr>\n",
       "    <tr>\n",
       "      <th id=\"T_860db_level0_row13\" class=\"row_heading level0 row13\" >13</th>\n",
       "      <td id=\"T_860db_row13_col0\" class=\"data row13 col0\" >5</td>\n",
       "      <td id=\"T_860db_row13_col1\" class=\"data row13 col1\" >Career 2</td>\n",
       "      <td id=\"T_860db_row13_col2\" class=\"data row13 col2\" >2.000000</td>\n",
       "      <td id=\"T_860db_row13_col3\" class=\"data row13 col3\" >2.007047</td>\n",
       "      <td id=\"T_860db_row13_col4\" class=\"data row13 col4\" >0.007047</td>\n",
       "    </tr>\n",
       "    <tr>\n",
       "      <th id=\"T_860db_level0_row14\" class=\"row_heading level0 row14\" >14</th>\n",
       "      <td id=\"T_860db_row14_col0\" class=\"data row14 col0\" >5</td>\n",
       "      <td id=\"T_860db_row14_col1\" class=\"data row14 col1\" >Career 3</td>\n",
       "      <td id=\"T_860db_row14_col2\" class=\"data row14 col2\" >3.000000</td>\n",
       "      <td id=\"T_860db_row14_col3\" class=\"data row14 col3\" >3.018038</td>\n",
       "      <td id=\"T_860db_row14_col4\" class=\"data row14 col4\" >0.018038</td>\n",
       "    </tr>\n",
       "    <tr>\n",
       "      <th id=\"T_860db_level0_row15\" class=\"row_heading level0 row15\" >15</th>\n",
       "      <td id=\"T_860db_row15_col0\" class=\"data row15 col0\" >6</td>\n",
       "      <td id=\"T_860db_row15_col1\" class=\"data row15 col1\" >Career 1</td>\n",
       "      <td id=\"T_860db_row15_col2\" class=\"data row15 col2\" >1.000000</td>\n",
       "      <td id=\"T_860db_row15_col3\" class=\"data row15 col3\" >1.028506</td>\n",
       "      <td id=\"T_860db_row15_col4\" class=\"data row15 col4\" >0.028506</td>\n",
       "    </tr>\n",
       "    <tr>\n",
       "      <th id=\"T_860db_level0_row16\" class=\"row_heading level0 row16\" >16</th>\n",
       "      <td id=\"T_860db_row16_col0\" class=\"data row16 col0\" >6</td>\n",
       "      <td id=\"T_860db_row16_col1\" class=\"data row16 col1\" >Career 2</td>\n",
       "      <td id=\"T_860db_row16_col2\" class=\"data row16 col2\" >2.000000</td>\n",
       "      <td id=\"T_860db_row16_col3\" class=\"data row16 col3\" >1.972496</td>\n",
       "      <td id=\"T_860db_row16_col4\" class=\"data row16 col4\" >-0.027504</td>\n",
       "    </tr>\n",
       "    <tr>\n",
       "      <th id=\"T_860db_level0_row17\" class=\"row_heading level0 row17\" >17</th>\n",
       "      <td id=\"T_860db_row17_col0\" class=\"data row17 col0\" >6</td>\n",
       "      <td id=\"T_860db_row17_col1\" class=\"data row17 col1\" >Career 3</td>\n",
       "      <td id=\"T_860db_row17_col2\" class=\"data row17 col2\" >3.000000</td>\n",
       "      <td id=\"T_860db_row17_col3\" class=\"data row17 col3\" >2.994406</td>\n",
       "      <td id=\"T_860db_row17_col4\" class=\"data row17 col4\" >-0.005594</td>\n",
       "    </tr>\n",
       "    <tr>\n",
       "      <th id=\"T_860db_level0_row18\" class=\"row_heading level0 row18\" >18</th>\n",
       "      <td id=\"T_860db_row18_col0\" class=\"data row18 col0\" >7</td>\n",
       "      <td id=\"T_860db_row18_col1\" class=\"data row18 col1\" >Career 1</td>\n",
       "      <td id=\"T_860db_row18_col2\" class=\"data row18 col2\" >1.000000</td>\n",
       "      <td id=\"T_860db_row18_col3\" class=\"data row18 col3\" >0.981853</td>\n",
       "      <td id=\"T_860db_row18_col4\" class=\"data row18 col4\" >-0.018147</td>\n",
       "    </tr>\n",
       "    <tr>\n",
       "      <th id=\"T_860db_level0_row19\" class=\"row_heading level0 row19\" >19</th>\n",
       "      <td id=\"T_860db_row19_col0\" class=\"data row19 col0\" >7</td>\n",
       "      <td id=\"T_860db_row19_col1\" class=\"data row19 col1\" >Career 2</td>\n",
       "      <td id=\"T_860db_row19_col2\" class=\"data row19 col2\" >2.000000</td>\n",
       "      <td id=\"T_860db_row19_col3\" class=\"data row19 col3\" >1.985412</td>\n",
       "      <td id=\"T_860db_row19_col4\" class=\"data row19 col4\" >-0.014588</td>\n",
       "    </tr>\n",
       "    <tr>\n",
       "      <th id=\"T_860db_level0_row20\" class=\"row_heading level0 row20\" >20</th>\n",
       "      <td id=\"T_860db_row20_col0\" class=\"data row20 col0\" >7</td>\n",
       "      <td id=\"T_860db_row20_col1\" class=\"data row20 col1\" >Career 3</td>\n",
       "      <td id=\"T_860db_row20_col2\" class=\"data row20 col2\" >3.000000</td>\n",
       "      <td id=\"T_860db_row20_col3\" class=\"data row20 col3\" >2.986921</td>\n",
       "      <td id=\"T_860db_row20_col4\" class=\"data row20 col4\" >-0.013079</td>\n",
       "    </tr>\n",
       "    <tr>\n",
       "      <th id=\"T_860db_level0_row21\" class=\"row_heading level0 row21\" >21</th>\n",
       "      <td id=\"T_860db_row21_col0\" class=\"data row21 col0\" >8</td>\n",
       "      <td id=\"T_860db_row21_col1\" class=\"data row21 col1\" >Career 1</td>\n",
       "      <td id=\"T_860db_row21_col2\" class=\"data row21 col2\" >1.000000</td>\n",
       "      <td id=\"T_860db_row21_col3\" class=\"data row21 col3\" >1.001875</td>\n",
       "      <td id=\"T_860db_row21_col4\" class=\"data row21 col4\" >0.001875</td>\n",
       "    </tr>\n",
       "    <tr>\n",
       "      <th id=\"T_860db_level0_row22\" class=\"row_heading level0 row22\" >22</th>\n",
       "      <td id=\"T_860db_row22_col0\" class=\"data row22 col0\" >8</td>\n",
       "      <td id=\"T_860db_row22_col1\" class=\"data row22 col1\" >Career 2</td>\n",
       "      <td id=\"T_860db_row22_col2\" class=\"data row22 col2\" >2.000000</td>\n",
       "      <td id=\"T_860db_row22_col3\" class=\"data row22 col3\" >1.990185</td>\n",
       "      <td id=\"T_860db_row22_col4\" class=\"data row22 col4\" >-0.009815</td>\n",
       "    </tr>\n",
       "    <tr>\n",
       "      <th id=\"T_860db_level0_row23\" class=\"row_heading level0 row23\" >23</th>\n",
       "      <td id=\"T_860db_row23_col0\" class=\"data row23 col0\" >8</td>\n",
       "      <td id=\"T_860db_row23_col1\" class=\"data row23 col1\" >Career 3</td>\n",
       "      <td id=\"T_860db_row23_col2\" class=\"data row23 col2\" >3.000000</td>\n",
       "      <td id=\"T_860db_row23_col3\" class=\"data row23 col3\" >3.012018</td>\n",
       "      <td id=\"T_860db_row23_col4\" class=\"data row23 col4\" >0.012018</td>\n",
       "    </tr>\n",
       "    <tr>\n",
       "      <th id=\"T_860db_level0_row24\" class=\"row_heading level0 row24\" >24</th>\n",
       "      <td id=\"T_860db_row24_col0\" class=\"data row24 col0\" >9</td>\n",
       "      <td id=\"T_860db_row24_col1\" class=\"data row24 col1\" >Career 1</td>\n",
       "      <td id=\"T_860db_row24_col2\" class=\"data row24 col2\" >1.000000</td>\n",
       "      <td id=\"T_860db_row24_col3\" class=\"data row24 col3\" >0.982919</td>\n",
       "      <td id=\"T_860db_row24_col4\" class=\"data row24 col4\" >-0.017081</td>\n",
       "    </tr>\n",
       "    <tr>\n",
       "      <th id=\"T_860db_level0_row25\" class=\"row_heading level0 row25\" >25</th>\n",
       "      <td id=\"T_860db_row25_col0\" class=\"data row25 col0\" >9</td>\n",
       "      <td id=\"T_860db_row25_col1\" class=\"data row25 col1\" >Career 2</td>\n",
       "      <td id=\"T_860db_row25_col2\" class=\"data row25 col2\" >2.000000</td>\n",
       "      <td id=\"T_860db_row25_col3\" class=\"data row25 col3\" >2.017962</td>\n",
       "      <td id=\"T_860db_row25_col4\" class=\"data row25 col4\" >0.017962</td>\n",
       "    </tr>\n",
       "    <tr>\n",
       "      <th id=\"T_860db_level0_row26\" class=\"row_heading level0 row26\" >26</th>\n",
       "      <td id=\"T_860db_row26_col0\" class=\"data row26 col0\" >9</td>\n",
       "      <td id=\"T_860db_row26_col1\" class=\"data row26 col1\" >Career 3</td>\n",
       "      <td id=\"T_860db_row26_col2\" class=\"data row26 col2\" >3.000000</td>\n",
       "      <td id=\"T_860db_row26_col3\" class=\"data row26 col3\" >2.973655</td>\n",
       "      <td id=\"T_860db_row26_col4\" class=\"data row26 col4\" >-0.026345</td>\n",
       "    </tr>\n",
       "    <tr>\n",
       "      <th id=\"T_860db_level0_row27\" class=\"row_heading level0 row27\" >27</th>\n",
       "      <td id=\"T_860db_row27_col0\" class=\"data row27 col0\" >10</td>\n",
       "      <td id=\"T_860db_row27_col1\" class=\"data row27 col1\" >Career 1</td>\n",
       "      <td id=\"T_860db_row27_col2\" class=\"data row27 col2\" >1.000000</td>\n",
       "      <td id=\"T_860db_row27_col3\" class=\"data row27 col3\" >1.010204</td>\n",
       "      <td id=\"T_860db_row27_col4\" class=\"data row27 col4\" >0.010204</td>\n",
       "    </tr>\n",
       "    <tr>\n",
       "      <th id=\"T_860db_level0_row28\" class=\"row_heading level0 row28\" >28</th>\n",
       "      <td id=\"T_860db_row28_col0\" class=\"data row28 col0\" >10</td>\n",
       "      <td id=\"T_860db_row28_col1\" class=\"data row28 col1\" >Career 2</td>\n",
       "      <td id=\"T_860db_row28_col2\" class=\"data row28 col2\" >2.000000</td>\n",
       "      <td id=\"T_860db_row28_col3\" class=\"data row28 col3\" >1.987260</td>\n",
       "      <td id=\"T_860db_row28_col4\" class=\"data row28 col4\" >-0.012740</td>\n",
       "    </tr>\n",
       "    <tr>\n",
       "      <th id=\"T_860db_level0_row29\" class=\"row_heading level0 row29\" >29</th>\n",
       "      <td id=\"T_860db_row29_col0\" class=\"data row29 col0\" >10</td>\n",
       "      <td id=\"T_860db_row29_col1\" class=\"data row29 col1\" >Career 3</td>\n",
       "      <td id=\"T_860db_row29_col2\" class=\"data row29 col2\" >3.000000</td>\n",
       "      <td id=\"T_860db_row29_col3\" class=\"data row29 col3\" >2.995472</td>\n",
       "      <td id=\"T_860db_row29_col4\" class=\"data row29 col4\" >-0.004528</td>\n",
       "    </tr>\n",
       "  </tbody>\n",
       "</table>\n"
      ],
      "text/plain": [
       "<pandas.io.formats.style.Styler at 0x1160fc550>"
      ]
     },
     "execution_count": 10,
     "metadata": {},
     "output_type": "execute_result"
    }
   ],
   "source": [
    "# Step 3: Read and display the CSV file\n",
    "import pandas as pd\n",
    "\n",
    "# Read the CSV file created by the exam_prob2.py script\n",
    "df = pd.read_csv('utilities_multiple_seeds.csv')\n",
    "\n",
    "# Display the DataFrame with a caption\n",
    "df.style.set_caption(\"Utilities for Different Career Choices Across Multiple Seeds\")\n"
   ]
  },
  {
   "cell_type": "markdown",
   "metadata": {},
   "source": [
    "Now consider a new scenario: Imagine that the graduate does not know $v_j$. The *only* prior information they have on the value of each job, comes from their $F_{i}$ friends that work in each career $j$. After talking with them, they know the average utility of their friends (which includes their friends' noise term), giving them the prior expecation: <br>\n",
    "$$\n",
    "\\tilde{u}^k_{i,j}\\left( F_{i}\\right) = \\frac{1}{F_{i}}\\sum_{f=1}^{F_{i}} \\left(v_{j} + \\epsilon^k_{f,j}\\right), \\; \\epsilon^k_{f,j}\\sim \\mathcal{N}(0,\\sigma^2)\n",
    "$$\n",
    "For ease of notation consider that each graduate have $F_{i}=i$ friends in each career. <br>"
   ]
  },
  {
   "cell_type": "markdown",
   "metadata": {},
   "source": [
    "For $K$ times do the following: <br>\n",
    "1. For each person $i$ draw $J\\cdot F_i$ values of $\\epsilon_{f,j}^{k}$, and calculate the prior expected utility of each career track, $\\tilde{u}^k_{i,j}\\left( F_{i}\\right)$. <br>\n",
    "Also draw their own $J$ noise terms, $\\epsilon_{i,j}^k$\n",
    "1. Each person $i$ chooses the career track with the highest expected utility: $$j_i^{k*}= \\arg\\max_{j\\in{1,2\\dots,J}}\\left\\{ \\tilde{u}^k_{i,j}\\left( F_{i}\\right)\\right\\} $$\n",
    "1. Store the chosen careers: $j_i^{k*}$, the prior expectation of the value of their chosen career: $\\tilde{u}^k_{i,j=j_i^{k*}}\\left( F_{i}\\right)$, and the realized value of their chosen career track: $u^k_{i,j=j_i^{k*}}=v_{j=j_i^{k*}}+\\epsilon_{i,j=j_i^{k*}}^k$."
   ]
  },
  {
   "cell_type": "markdown",
   "metadata": {},
   "source": [
    "Chosen values will be: <br>\n",
    "$i\\in\\left\\{1,2\\dots,N\\right\\}, N=10$ <br>\n",
    "$F_i = i$<br>\n",
    "So there are 10 graduates. The first has 1 friend in each career, the second has 2 friends, ... the tenth has 10 friends."
   ]
  },
  {
   "cell_type": "markdown",
   "metadata": {},
   "source": [
    "**Question 2:** Simulate and visualize: For each type of graduate, $i$, the share of graduates choosing each career, the average subjective expected utility of the graduates, and the average ex post realized utility given their choice. <br>\n",
    "That is, calculate and visualize: <br>\n",
    "$$\n",
    "\\begin{align*}\n",
    "    \\frac{1}{K} \\sum_{k=1}^{K} \\mathbb{I}\\left\\{ j=j_i^{k*} \\right\\}  \\;\\forall j\\in\\left\\{1,2,\\dots,J\\right\\}\n",
    "\\end{align*}\n",
    "$$\n",
    "$$\n",
    "\\begin{align*}\n",
    "    \\frac{1}{K} \\sum_{k=1}^{K} \\tilde{u}^k_{ij=j_i^{k*}}\\left( F_{i}\\right)\n",
    "\\end{align*}\n",
    "$$\n",
    "And \n",
    "$$\n",
    "\\begin{align*}\n",
    "    \\frac{1}{K} \\sum_{k=1}^{K} u^k_{ij=j_i^{k*}} \n",
    "\\end{align*}\n",
    "$$\n",
    "For each graduate $i$."
   ]
  },
  {
   "cell_type": "code",
   "execution_count": 24,
   "metadata": {},
   "outputs": [
    {
     "data": {
      "image/png": "[encoded data removed]",
      "text/plain": [
       "<IPython.core.display.Image object>"
      ]
     },
     "metadata": {},
     "output_type": "display_data"
    },
    {
     "data": {
      "image/png": "[encoded data removed]",
      "text/plain": [
       "<IPython.core.display.Image object>"
      ]
     },
     "metadata": {},
     "output_type": "display_data"
    },
    {
     "data": {
      "image/png": "[encoded data removed]",
      "text/plain": [
       "<IPython.core.display.Image object>"
      ]
     },
     "metadata": {},
     "output_type": "display_data"
    }
   ],
   "source": [
    "import pandas as pd\n",
    "import matplotlib.pyplot as plt\n",
    "from IPython.display import Image, display\n",
    "\n",
    "# Display the plot for share of graduates choosing each career\n",
    "img_path = 'plot_share_choosing.png'\n",
    "display(Image(filename=img_path))\n",
    "\n",
    "# Display the plot for average subjective expected utility\n",
    "img_path = 'plot_avg_subjective_utility.png'\n",
    "display(Image(filename=img_path))\n",
    "\n",
    "# Display the plot for average realized utility\n",
    "img_path = 'plot_avg_realized_utility.png'\n",
    "display(Image(filename=img_path))"
   ]
  },
  {
   "cell_type": "markdown",
   "metadata": {},
   "source": [
    "After a year of working in their career, the graduates learn $u^k_{ij}$ for their chosen job $j_i^{k*}$ perfectly. <br>\n",
    "The can switch to one of the two remaining careers, for which they have the same prior as before, but it will now include a switching cost of $c$ which is known.\n",
    "Their new priors can be written as: \n",
    "$$\n",
    "\\tilde{u}^{k,2}_{ij}\\left( F_{i}\\right) = \\begin{cases}\n",
    "            \\tilde{u}^k_{ij}\\left( F_{i}\\right)-c & \\text{if } j \\neq j_i^{k*} \\\\\n",
    "            u_{ij=j_i^{k*}} & \\text{if } j = j_i^{k*}\n",
    "        \\end{cases}\n",
    "$$"
   ]
  },
  {
   "cell_type": "markdown",
   "metadata": {},
   "source": [
    "We will set $c=1$."
   ]
  },
  {
   "cell_type": "markdown",
   "metadata": {},
   "source": [
    "Their realized utility will be: <br>\n",
    "$$\n",
    "u^{k,2}_{ij}= \\begin{cases}\n",
    "            u_{ij}^k -c & \\text{if } j \\neq j_i^{k*} \\\\\n",
    "            u_{ij=j_i^{k*}} & \\text{if } j = j_i^{k*}\n",
    "        \\end{cases}\n",
    "$$"
   ]
  },
  {
   "cell_type": "markdown",
   "metadata": {},
   "source": [
    "**Question 3:** Following the same approach as in question 2, find the new optimal career choice for each $i$, $k$. Then for each $i$, calculate the average subjective expected utility from their new optimal career choice, and the ex post realized utility of that career. Also, for each $i$, calculate the share of graduates that chooses to switch careers, conditional on which career they chose in the first year. <br>"
   ]
  },
  {
   "cell_type": "code",
   "execution_count": 12,
   "metadata": {},
   "outputs": [],
   "source": [
    "# write your answer here"
   ]
  },
  {
   "cell_type": "markdown",
   "metadata": {},
   "source": [
    "## 3. <a id='toc3_'></a>[Problem 3: Barycentric interpolation](#toc0_)"
   ]
  },
  {
   "cell_type": "markdown",
   "metadata": {},
   "source": [
    "**Problem:** We have a set of random points in the unit square,\n",
    "\n",
    "$$\n",
    "\\mathcal{X} = \\{(x_1,x_2)\\,|\\,x_1\\sim\\mathcal{U}(0,1),x_2\\sim\\mathcal{U}(0,1)\\}.\n",
    "$$\n",
    "\n",
    "For these points, we know the value of some function $f(x_1,x_2)$,\n",
    "\n",
    "$$\n",
    "\\mathcal{F} = \\{f(x_1,x_2) \\,|\\, (x_1,x_2) \\in \\mathcal{X}\\}.\n",
    "$$\n",
    "\n",
    "Now we want to approximate the value $f(y_1,y_2)$ for some  $y=(y_1,y_2)$, where $y_1\\sim\\mathcal{U}(0,1)$ and $y_2\\sim\\mathcal{U}(0,1)$.\n",
    "\n",
    "**Building block I**\n",
    "\n",
    "For an arbitrary triangle $ABC$ and a point $y$, define the so-called barycentric coordinates as:\n",
    "\n",
    "$$\n",
    "\\begin{align*}\n",
    "  r^{ABC}_1 &= \\frac{(B_2-C_2)(y_1-C_1) + (C_1-B_1)(y_2-C_2)}{(B_2-C_2)(A_1-C_1) + (C_1-B_1)(A_2-C_2)} \\\\\n",
    "  r^{ABC}_2 &= \\frac{(C_2-A_2)(y_1-C_1) + (A_1-C_1)(y_2-C_2)}{(B_2-C_2)(A_1-C_1) + (C_1-B_1)(A_2-C_2)} \\\\\n",
    "  r^{ABC}_3 &= 1 - r_1 - r_2.\n",
    "\\end{align*}\n",
    "$$\n",
    "\n",
    "If $r^{ABC}_1 \\in [0,1]$, $r^{ABC}_2 \\in [0,1]$, and $r^{ABC}_3 \\in [0,1]$, then the point is inside the triangle.\n",
    "\n",
    "We always have $y = r^{ABC}_1 A + r^{ABC}_2 B + r^{ABC}_3 C$.\n",
    "\n",
    "**Building block II**\n",
    "\n",
    "Define the following points:\n",
    "\n",
    "$$\n",
    "\\begin{align*}\n",
    "A&=\\arg\\min_{(x_{1},x_{2})\\in\\mathcal{X}}\\sqrt{\\left(x_{1}-y_{1}\\right)^{2}+\\left(x_{2}-y_{2}\\right)^{2}}\\text{ s.t. }x_{1}>y_{1}\\text{ and }x_{2}>y_{2}\\\\\n",
    "B&=\\arg\\min_{(x_{1},x_{2})\\in\\mathcal{X}}\\sqrt{\\left(x_{1}-y_{1}\\right)^{2}+\\left(x_{2}-y_{2}\\right)^{2}}\\text{ s.t. }x_{1}>y_{1}\\text{ and }x_{2}<y_{2}\\\\\n",
    "C&=\\arg\\min_{(x_{1},x_{2})\\in\\mathcal{X}}\\sqrt{\\left(x_{1}-y_{1}\\right)^{2}+\\left(x_{2}-y_{2}\\right)^{2}}\\text{ s.t. }x_{1}<y_{1}\\text{ and }x_{2}<y_{2}\\\\\n",
    "D&=\\arg\\min_{(x_{1},x_{2})\\in\\mathcal{X}}\\sqrt{\\left(x_{1}-y_{1}\\right)^{2}+\\left(x_{2}-y_{2}\\right)^{2}}\\text{ s.t. }x_{1}<y_{1}\\text{ and }x_{2}>y_{2}.\n",
    "\\end{align*}\n",
    "$$\n",
    "\n",
    "**Algorithm:**\n",
    "\n",
    "1. Compute $A$, $B$, $C$, and $D$. If not possible return `NaN`.\n",
    "1. If $y$ is inside the triangle $ABC$ return $r^{ABC}_1 f(A) + r^{ABC}_2 f(B) + r^{ABC}_3 f(C)$.\n",
    "1. If $y$ is inside the triangle $CDA$ return $r^{CDA}_1 f(C) + r^{CDA}_2 f(D) + r^{CDA}_3 f(A)$.\n",
    "1. Return `NaN`.\n",
    "\n"
   ]
  },
  {
   "cell_type": "markdown",
   "metadata": {},
   "source": [
    "**Sample:**"
   ]
  },
  {
   "cell_type": "code",
   "execution_count": 13,
   "metadata": {},
   "outputs": [],
   "source": [
    "rng = np.random.default_rng(2024)\n",
    "\n",
    "X = rng.uniform(size=(50,2))\n",
    "y = rng.uniform(size=(2,))\n"
   ]
  },
  {
   "cell_type": "markdown",
   "metadata": {},
   "source": [
    "**Questions 1:** Find $A$, $B$, $C$ and $D$. Illustrate these together with $X$, $y$ and the triangles $ABC$ and $CDA$."
   ]
  },
  {
   "cell_type": "code",
   "execution_count": 14,
   "metadata": {},
   "outputs": [],
   "source": [
    "# write your answer here"
   ]
  },
  {
   "cell_type": "markdown",
   "metadata": {},
   "source": [
    "**Question 2:** Compute the barycentric coordinates of the point $y$ with respect to the triangles $ABC$ and $CDA$. Which triangle is $y$ located inside?"
   ]
  },
  {
   "cell_type": "code",
   "execution_count": 15,
   "metadata": {},
   "outputs": [],
   "source": [
    "# write your answer here"
   ]
  },
  {
   "cell_type": "markdown",
   "metadata": {},
   "source": [
    "Now consider the function:\n",
    "$$\n",
    "f(x_1,x_2) = x_1 \\cdot x_2\n",
    "$$"
   ]
  },
  {
   "cell_type": "code",
   "execution_count": 16,
   "metadata": {},
   "outputs": [],
   "source": [
    "f = lambda x: x[0]*x[1]\n",
    "F = np.array([f(x) for x in X])"
   ]
  },
  {
   "cell_type": "markdown",
   "metadata": {},
   "source": [
    "**Question 3:** Compute the approximation of $f(y)$ using the full algorithm. Compare with the true value."
   ]
  },
  {
   "cell_type": "code",
   "execution_count": 17,
   "metadata": {},
   "outputs": [],
   "source": [
    "# write your answer here"
   ]
  },
  {
   "cell_type": "markdown",
   "metadata": {},
   "source": [
    "**Question 4:** Repeat question 3 for all points in the set $Y$."
   ]
  },
  {
   "cell_type": "code",
   "execution_count": 18,
   "metadata": {},
   "outputs": [],
   "source": [
    "Y = [(0.2,0.2),(0.8,0.2),(0.8,0.8),(0.8,0.2),(0.5,0.5)]"
   ]
  },
  {
   "cell_type": "code",
   "execution_count": 19,
   "metadata": {},
   "outputs": [],
   "source": [
    "# write your answer here"
   ]
  }
 ],
 "metadata": {
  "kernelspec": {
   "display_name": "Python 3",
   "language": "python",
   "name": "python3"
  },
  "language_info": {
   "codemirror_mode": {
    "name": "ipython",
    "version": 3
   },
   "file_extension": ".py",
   "mimetype": "text/x-python",
   "name": "python",
   "nbconvert_exporter": "python",
   "pygments_lexer": "ipython3",
   "version": "3.9.7"
  },
  "vscode": {
   "interpreter": {
    "hash": "d082443479dcf0bb109497657c949fcf3a4bd1d96297faded59d95be7509270b"
   }
  }
 },
 "nbformat": 4,
 "nbformat_minor": 2
}
