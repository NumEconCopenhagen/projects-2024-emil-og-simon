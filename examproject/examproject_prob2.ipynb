{
 "cells": [
  {
   "cell_type": "markdown",
   "metadata": {},
   "source": [
    "**Table of contents**<a id='toc0_'></a>    \n",
    "- 1. [Problem 1: Production economy and CO2 taxation](#toc1_)    \n",
    "- 2. [Problem 2: Career choice model](#toc2_)    \n",
    "- 3. [Problem 3: Barycentric interpolation](#toc3_)    \n",
    "\n",
    "<!-- vscode-jupyter-toc-config\n",
    "\tnumbering=true\n",
    "\tanchor=true\n",
    "\tflat=false\n",
    "\tminLevel=2\n",
    "\tmaxLevel=6\n",
    "\t/vscode-jupyter-toc-config -->\n",
    "<!-- THIS CELL WILL BE REPLACED ON TOC UPDATE. DO NOT WRITE YOUR TEXT IN THIS CELL -->"
   ]
  },
  {
   "cell_type": "code",
   "execution_count": 1,
   "metadata": {},
   "outputs": [],
   "source": [
    "# Write your code here\n",
    "import numpy as np\n",
    "from types import SimpleNamespace"
   ]
  },
  {
   "cell_type": "markdown",
   "metadata": {},
   "source": [
    "## 1. <a id='toc1_'></a>[Problem 1: Production economy and CO2 taxation](#toc0_)"
   ]
  },
  {
   "cell_type": "markdown",
   "metadata": {},
   "source": [
    "Consider a production economy with two firms indexed by $j \\in \\{1,2\\}$. Each produce its own good. They solve\n",
    "\n",
    "$$\n",
    "\\begin{align*}\n",
    "\\max_{y_{j}}\\pi_{j}&=p_{j}y_{j}-w_{j}\\ell_{j}\\\\\\text{s.t.}\\;&y_{j}=A\\ell_{j}^{\\gamma}.\n",
    "\\end{align*}\n",
    "$$\n",
    "\n",
    "Optimal firm behavior is\n",
    "\n",
    "$$\n",
    "\\begin{align*}\n",
    "\\ell_{j}^{\\star}(w,p_{j})&=\\left(\\frac{p_{j}A\\gamma}{w}\\right)^{\\frac{1}{1-\\gamma}} \\\\\n",
    "y_{j}^{\\star}(w,p_{j})&=A\\left(\\ell_{j}^{\\star}(w,p_{j})\\right)^{\\gamma}\n",
    "\\end{align*}\n",
    "$$\n",
    "\n",
    "The implied profits are\n",
    "\n",
    "$$\n",
    "\\pi_{j}^*(w,p_{j})=\\frac{1-\\gamma}{\\gamma}w\\cdot\\left(\\frac{p_{j}A\\gamma}{w}\\right)^{\\frac{1}{1-\\gamma}}\n",
    "$$\n",
    "\n",
    "A single consumer supplies labor, and consumes the goods the firms produce. She also recieves the implied profits of the firm.<br>\n",
    "She solves:\n",
    "\n",
    "$$\n",
    "\\begin{align*}\n",
    "U(p_1,p_2,w,\\tau,T) = \\max_{c_{1},c_{2},\\ell} & \\log(c_{1}^{\\alpha}c_{2}^{1-\\alpha})-\\nu\\frac{\\ell^{1+\\epsilon}}{1+\\epsilon} \\\\\n",
    "\\text{s.t.}\\,\\,\\,&p_{1}c_{1}+(p_{2}+\\tau)c_{2}=w\\ell+T+\\pi_{1}^*(w,p_{1})+\\pi_{2}^*(w,p_{2})\n",
    "\\end{align*}\n",
    "$$\n",
    "\n",
    "where $\\tau$ is a tax and $T$ is lump-sum transfer. <br>\n",
    "For a given $\\ell$, it can be shown that optimal behavior is\n",
    "\n",
    "$$\n",
    "\\begin{align*}\n",
    "c_{1}(\\ell)&=\\alpha\\frac{w\\ell+T+\\pi_{1}^*(w,p_{1})+\\pi_{2}^*(w,p_{2})}{p_{1}} \\\\\n",
    "c_{2}(\\ell)&=(1-\\alpha)\\frac{w\\ell+T+\\pi_{1}^*(w,p_{1})+\\pi_{2}^*(w,p_{2})}{p_{2}+\\tau} \\\\\n",
    "\\end{align*}\n",
    "$$\n",
    "Such that optimal behavior is:\n",
    "$$\n",
    "\\ell^* = \\underset{\\ell}{\\arg\\max} \\log(\\left(c_{1}(\\ell)\\right)^{\\alpha}\\cdot \\left(c_{2}(\\ell)\\right)^{1-\\alpha})-\\nu\\frac{\\ell^{1+\\epsilon}}{1+\\epsilon} \n",
    "$$\n",
    "With optimal consumption:\n",
    "$$\n",
    "\\begin{align*}\n",
    "c_1^*=c_{1}(\\ell^*) \\\\\n",
    "c_2^*=c_{2}(\\ell^*)\\\\\n",
    "\\end{align*}\n",
    "$$\n",
    "\n",
    "\n",
    "The government chooses $\\tau$ and balances its budget so $T=\\tau c_2^*$. We initially set $\\tau,T=0$.\n",
    "\n",
    "Market clearing requires:\n",
    "\n",
    "1. Labor market: $\\ell^* = \\ell_1^* + \\ell_2^*$\n",
    "1. Good market 1: $c_1^* = y_1^*$\n",
    "1. Good market 2: $c_2^* = y_2^*$\n"
   ]
  },
  {
   "cell_type": "markdown",
   "metadata": {},
   "source": [
    "**Question 1:** Check market clearing conditions for $p_1$ in `linspace(0.1,2.0,10)` and $p_2$ in `linspace(0.1,2.0,10)`. We choose $w=1$ as numeraire."
   ]
  },
  {
   "cell_type": "code",
   "execution_count": 2,
   "metadata": {},
   "outputs": [],
   "source": [
    "par = SimpleNamespace()\n",
    "\n",
    "# firms\n",
    "par.A = 1.0\n",
    "par.gamma = 0.5\n",
    "\n",
    "# households\n",
    "par.alpha = 0.3\n",
    "par.nu = 1.0\n",
    "par.epsilon = 2.0\n",
    "\n",
    "# government\n",
    "par.tau = 0.0\n",
    "par.T = 0.0\n",
    "\n",
    "# Question 3\n",
    "par.kappa = 0.1"
   ]
  },
  {
   "cell_type": "code",
   "execution_count": 3,
   "metadata": {},
   "outputs": [],
   "source": [
    "# write you answer here"
   ]
  },
  {
   "cell_type": "markdown",
   "metadata": {},
   "source": [
    "**Question 2:** Find the equilibrium prices $p_1$ and $p_2$.<br>\n",
    "*Hint: you can use Walras' law to only check 2 of the market clearings*"
   ]
  },
  {
   "cell_type": "code",
   "execution_count": 4,
   "metadata": {},
   "outputs": [],
   "source": [
    "# write your answer here"
   ]
  },
  {
   "cell_type": "markdown",
   "metadata": {},
   "source": [
    "Assume the government care about the social welfare function:\n",
    "\n",
    "$$\n",
    "SWF = U - \\kappa y_2^*\n",
    "$$"
   ]
  },
  {
   "cell_type": "markdown",
   "metadata": {},
   "source": [
    "Here $\\kappa$ measures the social cost of carbon emitted by the production of $y_2$ in equilibrium."
   ]
  },
  {
   "cell_type": "markdown",
   "metadata": {},
   "source": [
    "**Question 3:** What values of $\\tau$ and (implied) $T$ should the government choose to maximize $SWF$?"
   ]
  },
  {
   "cell_type": "code",
   "execution_count": 5,
   "metadata": {},
   "outputs": [],
   "source": [
    "# write your answer here"
   ]
  },
  {
   "cell_type": "markdown",
   "metadata": {},
   "source": [
    "## 2. <a id='toc2_'></a>[Problem 2: Career choice model](#toc0_)"
   ]
  },
  {
   "cell_type": "markdown",
   "metadata": {},
   "source": [
    "Consider a graduate $i$ making a choice between entering $J$ different career tracks. <br>\n",
    "Entering career $j$ yields utility $u^k_{ij}$. This value is unknown to the graduate ex ante, but will ex post be: <br>\n",
    "$$\n",
    "    u_{i,j}^k = v_{j} + \\epsilon_{i,j}^k\n",
    "$$\n",
    "\n",
    "They know that $\\epsilon^k_{i,j}\\sim \\mathcal{N}(0,\\sigma^2)$, but they do not observe $\\epsilon^k_{i,j}$ before making their career choice. <br>"
   ]
  },
  {
   "cell_type": "markdown",
   "metadata": {},
   "source": [
    "Consider the concrete case of $J=3$ with:\n",
    "$$\n",
    "\\begin{align*}\n",
    "    v_{1} &= 1 \\\\\n",
    "    v_{2} &= 2 \\\\\n",
    "    v_{3} &= 3\n",
    "\\end{align*}\n",
    "$$"
   ]
  },
  {
   "cell_type": "markdown",
   "metadata": {},
   "source": [
    "If the graduates know the values of $v_j$ and the distribution of $\\epsilon_{i,j}^k$, they can calculate the expected utility of each career track using simulation: <br>\n",
    "$$\n",
    "    \\mathbb{E}\\left[ u^k_{i,j}\\vert v_j \\right] \\approx v_j + \\frac{1}{K}\\sum_{k=1}^K \\epsilon_{i,j}^k\n",
    "$$"
   ]
  },
  {
   "cell_type": "code",
   "execution_count": 6,
   "metadata": {},
   "outputs": [],
   "source": [
    "import numpy as np\n",
    "import matplotlib.pyplot as plt\n",
    "from types import SimpleNamespace\n",
    "import exam_prob2 as prob2"
   ]
  },
  {
   "cell_type": "code",
   "execution_count": 7,
   "metadata": {},
   "outputs": [],
   "source": [
    "par = SimpleNamespace()\n",
    "par.J = 3\n",
    "par.N = 10\n",
    "par.K = 10000\n",
    "\n",
    "par.F = np.arange(1,par.N+1)\n",
    "par.sigma = 2\n",
    "\n",
    "par.v = np.array([1,2,3])\n",
    "par.c = 1"
   ]
  },
  {
   "cell_type": "markdown",
   "metadata": {},
   "source": [
    "**Question 1:** Simulate and calculate expected utility and the average realised utility for $K=10000$ draws, for each career choice $j$.\n"
   ]
  },
  {
   "attachments": {},
   "cell_type": "markdown",
   "metadata": {},
   "source": [
    "We have setup the function for this task in out .py file (exam_prob2.py) where we have calculated the expected utility and the average realised utility. We set the seed to 2024 such that the results don't change each time we run the code."
   ]
  },
  {
   "cell_type": "code",
   "execution_count": 8,
   "metadata": {},
   "outputs": [
    {
     "name": "stdout",
     "output_type": "stream",
     "text": [
      "Career choice 1:\n",
      "  Expected Utility: 1.0\n",
      "  Average Realized Utility: 1.0195425157484137\n",
      "Career choice 2:\n",
      "  Expected Utility: 2.0\n",
      "  Average Realized Utility: 1.9923750890955787\n",
      "Career choice 3:\n",
      "  Expected Utility: 3.0\n",
      "  Average Realized Utility: 3.012821544049908\n"
     ]
    }
   ],
   "source": [
    "# Set seed for reproducibility \n",
    "set_seed = 2024\n",
    "np.random.seed(set_seed)\n",
    "\n",
    "# Run the simulation\n",
    "expected_u, avg_realized_u = prob2.simulate_q1(par)"
   ]
  },
  {
   "attachments": {},
   "cell_type": "markdown",
   "metadata": {},
   "source": [
    "As we know, the expected utility is derived from the theoretical expectation above. We also know, that the ϵ values are derived from a normal distribution with mean 0, which means that the expected value of ϵ is 0. Thus, for a large number of draws K as in this scenario (10000), the expected value of the sum of ϵ values divided by will approach 0. The expected utility formula will therefore be reduced to:\n",
    "$$\n",
    "    \\mathbb{E}\\left[ u^k_{i,j}\\vert v_j \\right] \\approx v_j \n",
    "$$\n",
    "This is why we get that the expected utility is equal to $ v_j $.\n"
   ]
  },
  {
   "cell_type": "markdown",
   "metadata": {},
   "source": [
    "Now consider a new scenario: Imagine that the graduate does not know $v_j$. The *only* prior information they have on the value of each job, comes from their $F_{i}$ friends that work in each career $j$. After talking with them, they know the average utility of their friends (which includes their friends' noise term), giving them the prior expecation: <br>\n",
    "$$\n",
    "\\tilde{u}^k_{i,j}\\left( F_{i}\\right) = \\frac{1}{F_{i}}\\sum_{f=1}^{F_{i}} \\left(v_{j} + \\epsilon^k_{f,j}\\right), \\; \\epsilon^k_{f,j}\\sim \\mathcal{N}(0,\\sigma^2)\n",
    "$$\n",
    "For ease of notation consider that each graduate have $F_{i}=i$ friends in each career. <br>"
   ]
  },
  {
   "cell_type": "markdown",
   "metadata": {},
   "source": [
    "For $K$ times do the following: <br>\n",
    "1. For each person $i$ draw $J\\cdot F_i$ values of $\\epsilon_{f,j}^{k}$, and calculate the prior expected utility of each career track, $\\tilde{u}^k_{i,j}\\left( F_{i}\\right)$. <br>\n",
    "Also draw their own $J$ noise terms, $\\epsilon_{i,j}^k$\n",
    "1. Each person $i$ chooses the career track with the highest expected utility: $$j_i^{k*}= \\arg\\max_{j\\in{1,2\\dots,J}}\\left\\{ \\tilde{u}^k_{i,j}\\left( F_{i}\\right)\\right\\} $$\n",
    "1. Store the chosen careers: $j_i^{k*}$, the prior expectation of the value of their chosen career: $\\tilde{u}^k_{i,j=j_i^{k*}}\\left( F_{i}\\right)$, and the realized value of their chosen career track: $u^k_{i,j=j_i^{k*}}=v_{j=j_i^{k*}}+\\epsilon_{i,j=j_i^{k*}}^k$."
   ]
  },
  {
   "cell_type": "markdown",
   "metadata": {},
   "source": [
    "Chosen values will be: <br>\n",
    "$i\\in\\left\\{1,2\\dots,N\\right\\}, N=10$ <br>\n",
    "$F_i = i$<br>\n",
    "So there are 10 graduates. The first has 1 friend in each career, the second has 2 friends, ... the tenth has 10 friends."
   ]
  },
  {
   "cell_type": "markdown",
   "metadata": {},
   "source": [
    "**Question 2:** Simulate and visualize: For each type of graduate, $i$, the share of graduates choosing each career, the average subjective expected utility of the graduates, and the average ex post realized utility given their choice. <br>\n",
    "That is, calculate and visualize: <br>\n",
    "$$\n",
    "\\begin{align*}\n",
    "    \\frac{1}{K} \\sum_{k=1}^{K} \\mathbb{I}\\left\\{ j=j_i^{k*} \\right\\}  \\;\\forall j\\in\\left\\{1,2,\\dots,J\\right\\}\n",
    "\\end{align*}\n",
    "$$\n",
    "$$\n",
    "\\begin{align*}\n",
    "    \\frac{1}{K} \\sum_{k=1}^{K} \\tilde{u}^k_{ij=j_i^{k*}}\\left( F_{i}\\right)\n",
    "\\end{align*}\n",
    "$$\n",
    "And \n",
    "$$\n",
    "\\begin{align*}\n",
    "    \\frac{1}{K} \\sum_{k=1}^{K} u^k_{ij=j_i^{k*}} \n",
    "\\end{align*}\n",
    "$$\n",
    "For each graduate $i$."
   ]
  },
  {
   "attachments": {},
   "cell_type": "markdown",
   "metadata": {},
   "source": [
    "We have to illustrate 3 different things in this task:\n",
    "\n",
    "* Shares of Career Choice for Graduates\n",
    "* Average Expected Utility for Graduates\n",
    "* Average Realized Utility for Graduates\n",
    "\n",
    "This has been done in the code below:"
   ]
  },
  {
   "cell_type": "code",
   "execution_count": 9,
   "metadata": {},
   "outputs": [
    {
     "data": {
      "image/png": "[encoded data removed]",
      "text/plain": [
       "<Figure size 720x360 with 1 Axes>"
      ]
     },
     "metadata": {
      "needs_background": "light"
     },
     "output_type": "display_data"
    },
    {
     "data": {
      "image/png": "[encoded data removed]",
      "text/plain": [
       "<Figure size 720x360 with 1 Axes>"
      ]
     },
     "metadata": {
      "needs_background": "light"
     },
     "output_type": "display_data"
    },
    {
     "data": {
      "image/png": "[encoded data removed]",
      "text/plain": [
       "<Figure size 720x360 with 1 Axes>"
      ]
     },
     "metadata": {
      "needs_background": "light"
     },
     "output_type": "display_data"
    }
   ],
   "source": [
    "# We start by using the same seed as previously\n",
    "set_seed = 2024\n",
    "np.random.seed(set_seed)\n",
    "\n",
    "# We initialize containers to store results\n",
    "career = np.zeros((par.N, par.K), dtype=int)\n",
    "prior_expect = np.zeros((par.N, par.K))\n",
    "realized_u = np.zeros((par.N, par.K))\n",
    "\n",
    "career_shares = np.zeros((par.N, par.J))\n",
    "avg_prior_expect = np.zeros(par.N)\n",
    "avg_realized_u = np.zeros(par.N)\n",
    "\n",
    "# We then simulate the process for K draws and N friends\n",
    "for k in range(par.K):\n",
    "    for i in range(par.N):\n",
    "        F_i = i + 1\n",
    "        \n",
    "        # We draw the epsilon values for each friend and for the graduate him-/her-self\n",
    "        epsilon_F = np.random.normal(0, par.sigma, (F_i, par.J))\n",
    "        epsilon_grad = np.random.normal(0, par.sigma, par.J)\n",
    "        \n",
    "        # We then calculate the graduates expected utility for each career track\n",
    "        expected_u = par.v + np.mean(epsilon_F, axis=0)\n",
    "                \n",
    "        # We choose the career track with the highest expected utility\n",
    "        j_star = np.argmax(expected_u)\n",
    "        \n",
    "        # Finally we store the results in the containers\n",
    "        career[i, k] = j_star\n",
    "        prior_expect[i, k] = expected_u[j_star]\n",
    "        realized_u[i, k] = par.v[j_star] + epsilon_grad[j_star]\n",
    "\n",
    "# We calculate shares of graduates choosing each career track and the average expectations and realized utilities\n",
    "for i in range(par.N):\n",
    "    for j in range(par.J):\n",
    "        career_shares[i, j] = np.sum(career[i, :] == j) / par.K  # Calculate share directly\n",
    "    avg_prior_expect[i] = np.sum(prior_expect[i, :]) / par.K  # Calculate average prior expectation\n",
    "    avg_realized_u[i] = np.sum(realized_u[i, :]) / par.K\n",
    "\n",
    "# We set up x for the Friends for plotting\n",
    "x = np.arange(1, par.N + 1)\n",
    "\n",
    "# We plot share of graduates choosing each career\n",
    "plt.figure(figsize=(10, 5))\n",
    "for j in range(par.J):\n",
    "    plt.bar(x + (j-1)*0.2, career_shares[:, j], width=0.2, label=f'Career {j+1}')\n",
    "plt.xlabel('Graduate i')\n",
    "plt.ylabel('Share')\n",
    "plt.title('Shares of Career Choice for Graduates')\n",
    "plt.legend()\n",
    "plt.show()\n",
    "\n",
    "# We plot the avg expected utility for graduates\n",
    "plt.figure(figsize=(10, 5))\n",
    "plt.bar(x, avg_prior_expect, color='lightblue')\n",
    "plt.xlabel('Graduate i')\n",
    "plt.ylabel('Average Expected Utility')\n",
    "plt.title('Average Expected Utility for Graduates')\n",
    "plt.show()\n",
    "\n",
    "# We plot the avg realized utility for graduates\n",
    "plt.figure(figsize=(10, 5))\n",
    "plt.bar(x, avg_realized_u, color='purple')\n",
    "plt.xlabel('Graduate i')\n",
    "plt.ylabel('Average Realized Utility')\n",
    "plt.title('Average Realized Utility for Graduates')\n",
    "plt.show()"
   ]
  },
  {
   "attachments": {},
   "cell_type": "markdown",
   "metadata": {},
   "source": [
    "#### Shares of career choice for graduates \n",
    "The share of the different career choises for the graduates is illustrated in the first plot. The formulation of the question sates that there are 10 different types of graduates where gratuate type 1 only has 1 friend that work in each of the careers, the second has 2 friends in each and so on. This means that graduates of type 1 limited amount of information in each of the career choises while graduates of type 10 has 10 sources in each career choises which is the most. All else equal, more information leads to better decisionmaking. This results in grauates of type 1 are more likely to choose career 1 or 2, where the utility is smaller compared to career 3. On the other hand, graduates of type 10 are more likely to choose career 3 where the utility are the highest beacuse of all the information he gets from his friends that work in the 3 different career choises points towards the utility is higher in career 3. Overall, this means that as the number of freinds increase for the graduates they are more likely to choose career choise 3. This results in the number of graduates chooesing a different career path other than career 3 becomes smaller.\n",
    "\n",
    "#### Average expected utility for graduates\n",
    "The average of the expected utility is displayed in the secound plot above. It shows that the graduates with the most friends (graduates of type 5-10) are around a value of 3 in expected utility. This indicates that the information possessed by these types of graduates converges towards the actual utility value of career 3. This means that they are also more likely to anticipate the utility they will get from their career choise. \n",
    "\n",
    "#### Average realized utility for graduates\n",
    "The realized utility is smaller for the types of graduates with less friends compared to the other types who have more. This is due to the fact that more of the e.g. type 1 graduates chooses a career in 1 or 2 which yield a lower realized utility than a career in 3 does. "
   ]
  },
  {
   "cell_type": "markdown",
   "metadata": {},
   "source": [
    "After a year of working in their career, the graduates learn $u^k_{ij}$ for their chosen job $j_i^{k*}$ perfectly. <br>\n",
    "The can switch to one of the two remaining careers, for which they have the same prior as before, but it will now include a switching cost of $c$ which is known.\n",
    "Their new priors can be written as: \n",
    "$$\n",
    "\\tilde{u}^{k,2}_{ij}\\left( F_{i}\\right) = \\begin{cases}\n",
    "            \\tilde{u}^k_{ij}\\left( F_{i}\\right)-c & \\text{if } j \\neq j_i^{k*} \\\\\n",
    "            u_{ij=j_i^{k*}} & \\text{if } j = j_i^{k*}\n",
    "        \\end{cases}\n",
    "$$"
   ]
  },
  {
   "cell_type": "markdown",
   "metadata": {},
   "source": [
    "We will set $c=1$."
   ]
  },
  {
   "cell_type": "markdown",
   "metadata": {},
   "source": [
    "Their realized utility will be: <br>\n",
    "$$\n",
    "u^{k,2}_{ij}= \\begin{cases}\n",
    "            u_{ij}^k -c & \\text{if } j \\neq j_i^{k*} \\\\\n",
    "            u_{ij=j_i^{k*}} & \\text{if } j = j_i^{k*}\n",
    "        \\end{cases}\n",
    "$$"
   ]
  },
  {
   "cell_type": "markdown",
   "metadata": {},
   "source": [
    "**Question 3:** Following the same approach as in question 2, find the new optimal career choice for each $i$, $k$. Then for each $i$, calculate the average subjective expected utility from their new optimal career choice, and the ex post realized utility of that career. Also, for each $i$, calculate the share of graduates that chooses to switch careers, conditional on which career they chose in the first year. <br>"
   ]
  },
  {
   "attachments": {},
   "cell_type": "markdown",
   "metadata": {},
   "source": [
    "To solve this problem we have to follow the same approach as in question 2 and illustrate the same 3 aspects as before:\n",
    "\n",
    "* Shares of career choice for graduates\n",
    "* Average expected utility for graduates\n",
    "* Average realized utility for graduates\n",
    "\n",
    "Now we also have to include:\n",
    "\n",
    "* Share of graduates that chooses to switch careers\n",
    "\n",
    "The code that solves this problem can be found below:"
   ]
  },
  {
   "cell_type": "code",
   "execution_count": 10,
   "metadata": {},
   "outputs": [
    {
     "data": {
      "image/png": "[encoded data removed]",
      "text/plain": [
       "<Figure size 720x360 with 1 Axes>"
      ]
     },
     "metadata": {
      "needs_background": "light"
     },
     "output_type": "display_data"
    },
    {
     "data": {
      "image/png": "[encoded data removed]",
      "text/plain": [
       "<Figure size 720x360 with 1 Axes>"
      ]
     },
     "metadata": {
      "needs_background": "light"
     },
     "output_type": "display_data"
    },
    {
     "data": {
      "image/png": "[encoded data removed]",
      "text/plain": [
       "<Figure size 720x360 with 1 Axes>"
      ]
     },
     "metadata": {
      "needs_background": "light"
     },
     "output_type": "display_data"
    },
    {
     "data": {
      "image/png": "[encoded data removed]",
      "text/plain": [
       "<Figure size 720x360 with 1 Axes>"
      ]
     },
     "metadata": {
      "needs_background": "light"
     },
     "output_type": "display_data"
    }
   ],
   "source": [
    "# We initialize containers to store results\n",
    "career = np.zeros((par.N, par.K), dtype=int)\n",
    "prior_expect = np.zeros((par.N, par.K))\n",
    "realized_u = np.zeros((par.N, par.K))\n",
    "\n",
    "avg_prior_expect = np.zeros(par.N)\n",
    "avg_realized_u = np.zeros(par.N)\n",
    "\n",
    "# We then simulate the process for K draws and N friends\n",
    "np.random.seed(set_seed)\n",
    "for k in range(par.K):\n",
    "    for i in range(par.N): # We retrieve the initial career choice and the realized utility along with that\n",
    "        F_i = i + 1\n",
    "        \n",
    "        # Draw the epsilon values for each friend and for the graduate him-/her-self\n",
    "        epsilon_F = np.random.normal(0, par.sigma, (F_i, par.J))\n",
    "        epsilon_grad = np.random.normal(0, par.sigma, par.J)\n",
    "        \n",
    "        # Derive the expected utility for each career track\n",
    "        expected_u = par.v + np.mean(epsilon_F, axis=0)\n",
    "                \n",
    "        # Choosing the career choise with the highest expected utility\n",
    "        j_star = np.argmax(expected_u)\n",
    "        \n",
    "        # Store the results in the containers\n",
    "        career[i, k] = j_star\n",
    "        prior_expect[i, k] = expected_u[j_star]\n",
    "        realized_u[i, k] = par.v[j_star] + epsilon_grad[j_star]\n",
    "\n",
    "# Initialize containers for the second year where they work\n",
    "career_switch = np.zeros((par.N, par.K), dtype=int)\n",
    "prior_expect_switch = np.zeros((par.N, par.K))\n",
    "realized_u_switch = np.zeros((par.N, par.K))\n",
    "switch = np.zeros((par.N, par.K), dtype=bool)\n",
    "\n",
    "# Simulating the second year with potential career switching\n",
    "for k in range(par.K):\n",
    "    for i in range(par.N):\n",
    "        j_star_init = career[i, k]\n",
    "        u_init = realized_u[i, k]\n",
    "\n",
    "        # Calculate expected and realized utility for each career choise\n",
    "        expected_u = np.zeros(par.J)\n",
    "        realized_u_options = np.zeros(par.J)\n",
    "        for j in range(par.J):\n",
    "            if j != j_star_init:\n",
    "                prior_expect_u = prior_expect[i, k] - par.c\n",
    "                u_switch = u_init - par.c\n",
    "            else:\n",
    "                prior_expect_u = prior_expect[i, k]\n",
    "                u_switch = u_init\n",
    "\n",
    "            expected_u[j] = prior_expect_u + par.v[j]\n",
    "            realized_u_options[j] = u_switch\n",
    "\n",
    "        # Determine the new optimal career choice\n",
    "        optimal_j = np.argmax(expected_u)\n",
    "        switch[i, k] = (optimal_j != j_star_init)\n",
    "        career_switch[i, k] = optimal_j\n",
    "        prior_expect_switch[i, k] = expected_u[optimal_j]\n",
    "        realized_u_switch[i, k] = realized_u_options[optimal_j]\n",
    "\n",
    "# Derives the averages and shares\n",
    "avg_prior_expect_switch = np.mean(prior_expect_switch, axis=1)\n",
    "avg_realized_u_switch = np.mean(realized_u_switch, axis=1)\n",
    "switch_shares = np.mean(switch, axis=1)\n",
    "\n",
    "# Derives  the shares of career choices\n",
    "career_counts = np.zeros((par.N, par.J))\n",
    "for i in range(par.N):\n",
    "    for j in range(par.J):\n",
    "        career_counts[i, j] = np.sum(career_switch[i] == j)\n",
    "\n",
    "career_shares = career_counts / par.K\n",
    "\n",
    "# Set up x for the graduates for plotting\n",
    "x = np.arange(1, par.N + 1)\n",
    "\n",
    "# (re)asuring the same seed as previously\n",
    "np.random.seed(set_seed)\n",
    "\n",
    "# Reinitialize containers to store results\n",
    "career_switch = np.zeros((par.N, par.K), dtype=int)\n",
    "prior_expect_switch = np.zeros((par.N, par.K))\n",
    "realized_u_switch = np.zeros((par.N, par.K))\n",
    "switch = np.zeros((par.N, par.K), dtype=bool)\n",
    "\n",
    "# Simulate the process for K draws and N friends\n",
    "for k in range(par.K):\n",
    "    for i in range(par.N):\n",
    "        j_star_init = career[i, k]\n",
    "        u_init = realized_u[i, k]\n",
    "        \n",
    "        for j in range(par.J):\n",
    "            if j != j_star_init:\n",
    "                prior_expect_u = prior_expect[i, k] - par.c\n",
    "            else:\n",
    "                prior_expect_u = prior_expect[i, k]\n",
    "            \n",
    "            if j == j_star_init:\n",
    "                u_switch = u_init\n",
    "            else:\n",
    "                u_switch = realized_u[i, k] - par.c\n",
    "            \n",
    "            prior_expect_switch[i, k] = prior_expect_u\n",
    "            realized_u_switch[i, k] = u_switch\n",
    "            \n",
    "            if prior_expect_u + par.v[j] > prior_expect[i, k] + par.v[j_star_init]:\n",
    "                switch[i, k] = True\n",
    "                career_switch[i, k] = j\n",
    "                prior_expect[i, k] = prior_expect_u\n",
    "                realized_u[i, k] = u_switch\n",
    "                career[i, k] = j\n",
    "\n",
    "# Derives the averages after the potential switch\n",
    "avg_prior_expect_switch = np.sum(prior_expect_switch, axis=1) / par.K\n",
    "avg_realized_u_switch = np.sum(realized_u_switch, axis=1) / par.K\n",
    "switch_shares = np.sum(switch, axis=1) / par.K\n",
    "\n",
    "# We set up x for the graduates for plotting\n",
    "x = np.arange(1, par.N + 1)\n",
    "\n",
    "# Plot the Share of graduates choosing to switch careers\n",
    "plt.figure(figsize=(10, 5))\n",
    "plt.bar(x, switch_shares, color='grey')\n",
    "plt.xlabel('Graduate i')\n",
    "plt.ylabel('Share Choosing to Switch Careers')\n",
    "plt.title('Share of Graduates Choosing to Switch Careers')\n",
    "plt.show()\n",
    "\n",
    "# We plot avg expected utility after a potential switch\n",
    "plt.figure(figsize=(10, 5))\n",
    "plt.bar(x, avg_prior_expect_switch, color='lightblue')\n",
    "plt.xlabel('Graduate i')\n",
    "plt.ylabel('Average Expected Utility (After Switch)')\n",
    "plt.title('Average Expected Utility After Switching Careers')\n",
    "plt.show()\n",
    "\n",
    "# We plot avg realized utility after a potential switch\n",
    "plt.figure(figsize=(10, 5))\n",
    "plt.bar(x, avg_realized_u_switch, color='purple')\n",
    "plt.xlabel('Graduate i')\n",
    "plt.ylabel('Average Realized Utility (After Switch)')\n",
    "plt.title('Average Realized Utility for Graduates After Switching Careers')\n",
    "plt.show()\n",
    "\n",
    "# We plot the shares of career choices for graduates\n",
    "plt.figure(figsize=(10, 5))\n",
    "for j in range(par.J):\n",
    "    plt.bar(x + (j-1)*0.2, career_shares[:, j], width=0.2, label=f'Career {j+1}')\n",
    "plt.xlabel('Graduate i')\n",
    "plt.ylabel('Share of Career Choice')\n",
    "plt.title('Shares of Career Choices for Graduates')\n",
    "plt.legend()\n",
    "plt.show()\n"
   ]
  },
  {
   "attachments": {},
   "cell_type": "markdown",
   "metadata": {},
   "source": [
    "#### Share of graduates that chooses to switch careers\n",
    "As the first plot illustrates, almost 16% of type 1 graduates chooses to swith careers where under 2% of type 10 graduates swithes. The reason for this is that type 10 graduates are more likely to choose the right career path initially since they have more information about the different types of careers compared to type 1 graduates. This demonstrates that when the graduates have increased information it leads to better initial career choices and fewer career switches in this particular case.\n",
    "\n",
    "#### Average expected utility after switching careers\n",
    "In the secound plot the illustration of the average expected utility after switching are displayed. This shows that the graduates of type 1 expect that the \"grass is greener on the other side\" which is why there expectation is high. However, they know that the switch come with a cost so the expected utility is slightly smaller than before when they still havn't chosesen their career path yet. \n",
    "\n",
    "#### Average realized utility for graduates after switching careers\n",
    "The realized utility is smaller than before in Q2 even after making the career switch. This is due to cost of switching careers and some of them might even choose a career 1 or 2 that doesn't yeild the highest possible utility."
   ]
  },
  {
   "attachments": {},
   "cell_type": "markdown",
   "metadata": {},
   "source": [
    "#### Conclusion\n",
    "From the 1. plot in this question 3 \"Share of Graduates Choosing to Switch Careers\" and the 1. plot in question 2 \"Shares of Career Choice for Graduates\" we see that all the graduates that choose career 1 are now swichting careers. In plot 4 \"Shares of Career Choices for Graduates\" we see that there are on longer any graduates that chooses career 1. Anoghter thing we notice is that all of the graduates that switches, switch to career 3. You can see that by examining the bars for career 2 and 3 - career 3 is the only one that increases in where career 2 is at a hold. This makes sence since the cost of switching is c=1 and therefore it will not make sence to switch if the graduates don't choose the career where v=3. "
   ]
  },
  {
   "cell_type": "markdown",
   "metadata": {},
   "source": [
    "## 3. <a id='toc3_'></a>[Problem 3: Barycentric interpolation](#toc0_)"
   ]
  },
  {
   "cell_type": "markdown",
   "metadata": {},
   "source": [
    "**Problem:** We have a set of random points in the unit square,\n",
    "\n",
    "$$\n",
    "\\mathcal{X} = \\{(x_1,x_2)\\,|\\,x_1\\sim\\mathcal{U}(0,1),x_2\\sim\\mathcal{U}(0,1)\\}.\n",
    "$$\n",
    "\n",
    "For these points, we know the value of some function $f(x_1,x_2)$,\n",
    "\n",
    "$$\n",
    "\\mathcal{F} = \\{f(x_1,x_2) \\,|\\, (x_1,x_2) \\in \\mathcal{X}\\}.\n",
    "$$\n",
    "\n",
    "Now we want to approximate the value $f(y_1,y_2)$ for some  $y=(y_1,y_2)$, where $y_1\\sim\\mathcal{U}(0,1)$ and $y_2\\sim\\mathcal{U}(0,1)$.\n",
    "\n",
    "**Building block I**\n",
    "\n",
    "For an arbitrary triangle $ABC$ and a point $y$, define the so-called barycentric coordinates as:\n",
    "\n",
    "$$\n",
    "\\begin{align*}\n",
    "  r^{ABC}_1 &= \\frac{(B_2-C_2)(y_1-C_1) + (C_1-B_1)(y_2-C_2)}{(B_2-C_2)(A_1-C_1) + (C_1-B_1)(A_2-C_2)} \\\\\n",
    "  r^{ABC}_2 &= \\frac{(C_2-A_2)(y_1-C_1) + (A_1-C_1)(y_2-C_2)}{(B_2-C_2)(A_1-C_1) + (C_1-B_1)(A_2-C_2)} \\\\\n",
    "  r^{ABC}_3 &= 1 - r_1 - r_2.\n",
    "\\end{align*}\n",
    "$$\n",
    "\n",
    "If $r^{ABC}_1 \\in [0,1]$, $r^{ABC}_2 \\in [0,1]$, and $r^{ABC}_3 \\in [0,1]$, then the point is inside the triangle.\n",
    "\n",
    "We always have $y = r^{ABC}_1 A + r^{ABC}_2 B + r^{ABC}_3 C$.\n",
    "\n",
    "**Building block II**\n",
    "\n",
    "Define the following points:\n",
    "\n",
    "$$\n",
    "\\begin{align*}\n",
    "A&=\\arg\\min_{(x_{1},x_{2})\\in\\mathcal{X}}\\sqrt{\\left(x_{1}-y_{1}\\right)^{2}+\\left(x_{2}-y_{2}\\right)^{2}}\\text{ s.t. }x_{1}>y_{1}\\text{ and }x_{2}>y_{2}\\\\\n",
    "B&=\\arg\\min_{(x_{1},x_{2})\\in\\mathcal{X}}\\sqrt{\\left(x_{1}-y_{1}\\right)^{2}+\\left(x_{2}-y_{2}\\right)^{2}}\\text{ s.t. }x_{1}>y_{1}\\text{ and }x_{2}<y_{2}\\\\\n",
    "C&=\\arg\\min_{(x_{1},x_{2})\\in\\mathcal{X}}\\sqrt{\\left(x_{1}-y_{1}\\right)^{2}+\\left(x_{2}-y_{2}\\right)^{2}}\\text{ s.t. }x_{1}<y_{1}\\text{ and }x_{2}<y_{2}\\\\\n",
    "D&=\\arg\\min_{(x_{1},x_{2})\\in\\mathcal{X}}\\sqrt{\\left(x_{1}-y_{1}\\right)^{2}+\\left(x_{2}-y_{2}\\right)^{2}}\\text{ s.t. }x_{1}<y_{1}\\text{ and }x_{2}>y_{2}.\n",
    "\\end{align*}\n",
    "$$\n",
    "\n",
    "**Algorithm:**\n",
    "\n",
    "1. Compute $A$, $B$, $C$, and $D$. If not possible return `NaN`.\n",
    "1. If $y$ is inside the triangle $ABC$ return $r^{ABC}_1 f(A) + r^{ABC}_2 f(B) + r^{ABC}_3 f(C)$.\n",
    "1. If $y$ is inside the triangle $CDA$ return $r^{CDA}_1 f(C) + r^{CDA}_2 f(D) + r^{CDA}_3 f(A)$.\n",
    "1. Return `NaN`.\n",
    "\n"
   ]
  },
  {
   "cell_type": "markdown",
   "metadata": {},
   "source": [
    "**Sample:**"
   ]
  },
  {
   "cell_type": "code",
   "execution_count": 11,
   "metadata": {},
   "outputs": [],
   "source": [
    "rng = np.random.default_rng(2024)\n",
    "\n",
    "X = rng.uniform(size=(50,2))\n",
    "y = rng.uniform(size=(2,))\n"
   ]
  },
  {
   "cell_type": "markdown",
   "metadata": {},
   "source": [
    "**Questions 1:** Find $A$, $B$, $C$ and $D$. Illustrate these together with $X$, $y$ and the triangles $ABC$ and $CDA$."
   ]
  },
  {
   "cell_type": "code",
   "execution_count": 12,
   "metadata": {},
   "outputs": [],
   "source": [
    "# write your answer here"
   ]
  },
  {
   "cell_type": "markdown",
   "metadata": {},
   "source": [
    "**Question 2:** Compute the barycentric coordinates of the point $y$ with respect to the triangles $ABC$ and $CDA$. Which triangle is $y$ located inside?"
   ]
  },
  {
   "cell_type": "code",
   "execution_count": 13,
   "metadata": {},
   "outputs": [],
   "source": [
    "# write your answer here"
   ]
  },
  {
   "cell_type": "markdown",
   "metadata": {},
   "source": [
    "Now consider the function:\n",
    "$$\n",
    "f(x_1,x_2) = x_1 \\cdot x_2\n",
    "$$"
   ]
  },
  {
   "cell_type": "code",
   "execution_count": 14,
   "metadata": {},
   "outputs": [],
   "source": [
    "f = lambda x: x[0]*x[1]\n",
    "F = np.array([f(x) for x in X])"
   ]
  },
  {
   "cell_type": "markdown",
   "metadata": {},
   "source": [
    "**Question 3:** Compute the approximation of $f(y)$ using the full algorithm. Compare with the true value."
   ]
  },
  {
   "cell_type": "code",
   "execution_count": 15,
   "metadata": {},
   "outputs": [],
   "source": [
    "# write your answer here"
   ]
  },
  {
   "cell_type": "markdown",
   "metadata": {},
   "source": [
    "**Question 4:** Repeat question 3 for all points in the set $Y$."
   ]
  },
  {
   "cell_type": "code",
   "execution_count": 16,
   "metadata": {},
   "outputs": [],
   "source": [
    "Y = [(0.2,0.2),(0.8,0.2),(0.8,0.8),(0.8,0.2),(0.5,0.5)]"
   ]
  },
  {
   "cell_type": "code",
   "execution_count": 17,
   "metadata": {},
   "outputs": [],
   "source": [
    "# write your answer here"
   ]
  }
 ],
 "metadata": {
  "kernelspec": {
   "display_name": "Python 3",
   "language": "python",
   "name": "python3"
  },
  "language_info": {
   "codemirror_mode": {
    "name": "ipython",
    "version": 3
   },
   "file_extension": ".py",
   "mimetype": "text/x-python",
   "name": "python",
   "nbconvert_exporter": "python",
   "pygments_lexer": "ipython3",
   "version": "3.9.7"
  },
  "vscode": {
   "interpreter": {
    "hash": "d082443479dcf0bb109497657c949fcf3a4bd1d96297faded59d95be7509270b"
   }
  }
 },
 "nbformat": 4,
 "nbformat_minor": 2
}
