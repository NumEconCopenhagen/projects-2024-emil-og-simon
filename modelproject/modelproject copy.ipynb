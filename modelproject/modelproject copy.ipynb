{
 "cells": [
  {
   "cell_type": "markdown",
   "metadata": {},
   "source": [
    "# Competition in an oligopolistic market \n",
    "## - The Cournot Model"
   ]
  },
  {
   "cell_type": "markdown",
   "metadata": {},
   "source": [
    "Imports and set magics:"
   ]
  },
  {
   "cell_type": "code",
   "execution_count": 80,
   "metadata": {},
   "outputs": [
    {
     "name": "stdout",
     "output_type": "stream",
     "text": [
      "The autoreload extension is already loaded. To reload it, use:\n",
      "  %reload_ext autoreload\n"
     ]
    }
   ],
   "source": [
    "import numpy as np\n",
    "from scipy import optimize\n",
    "import sympy as sm\n",
    "import matplotlib.pyplot as plt\n",
    "from mpl_toolkits.mplot3d import Axes3D\n",
    "import ipywidgets as widgets\n",
    "\n",
    "# autoreload modules when code is run\n",
    "%load_ext autoreload\n",
    "%autoreload 2\n",
    "\n",
    "# local modules\n",
    "#from modelproject import CournotModelClass"
   ]
  },
  {
   "cell_type": "markdown",
   "metadata": {},
   "source": [
    "# Model description"
   ]
  },
  {
   "attachments": {},
   "cell_type": "markdown",
   "metadata": {},
   "source": [
    "**Description**\n",
    "\n",
    "Cournot competition descibes an industry wherein competing firms, who offers identical products. The firms complete via the quantity of output they individually produce, simultaneously and autonomously. This model is named after its founder, the French mathematician Augustin Cournot."
   ]
  },
  {
   "attachments": {},
   "cell_type": "markdown",
   "metadata": {},
   "source": [
    "Firstly, we will take a look at the case of a duoploy where only two firms are competing the a given market. the model are given as followed:"
   ]
  },
  {
   "attachments": {},
   "cell_type": "markdown",
   "metadata": {},
   "source": [
    "$$\n",
    "\\begin{aligned}\n",
    "\\Pi_1(Q) & =p(Q)q_1-q_1MC_1 \\\\\n",
    "\\Pi_2(Q) & =p(Q)q_2-q_1MC_2 \\\\\n",
    "\\end{aligned}\n",
    "$$"
   ]
  },
  {
   "attachments": {},
   "cell_type": "markdown",
   "metadata": {},
   "source": [
    "In the profit functions provided earlier, price is determined by the total output denoted as $Q$, where for two firms, the total output $Q$ equals the sum of their individual outputs $q_1$ and $q_2$. As an illustrative example, let's assume that the price (expressed as the inverse demand function) follows a linear format, represented by $p = a + bQ$. Consequently, the inverse demand function can be expressed as $p = a + q_1b + q_2b$."
   ]
  },
  {
   "cell_type": "markdown",
   "metadata": {},
   "source": [
    "## Analytical solution"
   ]
  },
  {
   "cell_type": "code",
   "execution_count": 81,
   "metadata": {},
   "outputs": [],
   "source": [
    "#model = CournotModelClass()\n",
    "\n",
    "\n",
    "#sol = model.sympy_solve()\n",
    "#print(\"Symbolic solution for q1:\", sol)"
   ]
  },
  {
   "cell_type": "markdown",
   "metadata": {},
   "source": [
    "**Setting up with SymPy**"
   ]
  },
  {
   "cell_type": "code",
   "execution_count": 82,
   "metadata": {},
   "outputs": [],
   "source": [
    "a = sm.symbols('a')\n",
    "b = sm.symbols('b')\n",
    "pi_1 = sm.symbols('pi_1')\n",
    "pi_2 = sm.symbols('pi_2')\n",
    "mc = sm.symbols('MC')\n",
    "q1 = sm.symbols('q_1')\n",
    "q2 = sm.symbols('q_2')\n",
    "q_star = sm.symbols('q^*')"
   ]
  },
  {
   "cell_type": "markdown",
   "metadata": {},
   "source": [
    "**Profit functions for each firm**"
   ]
  },
  {
   "cell_type": "code",
   "execution_count": 83,
   "metadata": {},
   "outputs": [
    {
     "data": {
      "text/latex": [
       "$\\displaystyle \\pi_{1} = q_{1} \\left(- MC + a - b q_{1} - b q_{2}\\right)$"
      ],
      "text/plain": [
       "Eq(pi_1, q_1*(-MC + a - b*q_1 - b*q_2))"
      ]
     },
     "execution_count": 83,
     "metadata": {},
     "output_type": "execute_result"
    }
   ],
   "source": [
    "profit_1 = sm.Eq(pi_1,(a-b*q1-b*q2-mc)*q1)\n",
    "profit_1"
   ]
  },
  {
   "cell_type": "code",
   "execution_count": 84,
   "metadata": {},
   "outputs": [
    {
     "data": {
      "text/latex": [
       "$\\displaystyle \\pi_{2} = q_{2} \\left(- MC + a - b q_{1} - b q_{2}\\right)$"
      ],
      "text/plain": [
       "Eq(pi_2, q_2*(-MC + a - b*q_1 - b*q_2))"
      ]
     },
     "execution_count": 84,
     "metadata": {},
     "output_type": "execute_result"
    }
   ],
   "source": [
    "profit_2 = sm.Eq(pi_2,(a-b*q1-b*q2-mc)*q2)\n",
    "profit_2"
   ]
  },
  {
   "cell_type": "markdown",
   "metadata": {},
   "source": [
    "**FOC for each firm**"
   ]
  },
  {
   "cell_type": "code",
   "execution_count": 85,
   "metadata": {},
   "outputs": [
    {
     "data": {
      "text/latex": [
       "$\\displaystyle - MC + a - 2 b q_{1} - b q_{2}$"
      ],
      "text/plain": [
       "-MC + a - 2*b*q_1 - b*q_2"
      ]
     },
     "execution_count": 85,
     "metadata": {},
     "output_type": "execute_result"
    }
   ],
   "source": [
    "#FOC firm 1\n",
    "profit_1 = (a-b*q1-b*q2-mc)*q1\n",
    "foc_q1 = sm.diff(profit_1, q1)\n",
    "foc_q1"
   ]
  },
  {
   "cell_type": "code",
   "execution_count": 86,
   "metadata": {},
   "outputs": [
    {
     "data": {
      "text/latex": [
       "$\\displaystyle - MC + a - b q_{1} - 2 b q_{2}$"
      ],
      "text/plain": [
       "-MC + a - b*q_1 - 2*b*q_2"
      ]
     },
     "execution_count": 86,
     "metadata": {},
     "output_type": "execute_result"
    }
   ],
   "source": [
    "#FOC firm 2\n",
    "profit_2 = (a-b*q1-b*q2-mc)*q2\n",
    "foc_q2 = sm.diff(profit_2, q2)\n",
    "foc_q2"
   ]
  },
  {
   "cell_type": "markdown",
   "metadata": {},
   "source": [
    "**Solving for q1 and q2**"
   ]
  },
  {
   "cell_type": "code",
   "execution_count": 87,
   "metadata": {},
   "outputs": [
    {
     "data": {
      "text/latex": [
       "$\\displaystyle \\frac{- MC + a - b q_{2}}{2 b}$"
      ],
      "text/plain": [
       "(-MC + a - b*q_2)/(2*b)"
      ]
     },
     "execution_count": 87,
     "metadata": {},
     "output_type": "execute_result"
    }
   ],
   "source": [
    "#We solve FOC1 for q1\n",
    "solve_q1 = sm.solve(foc_q1,q1)\n",
    "solve_q1[0]"
   ]
  },
  {
   "cell_type": "code",
   "execution_count": 88,
   "metadata": {},
   "outputs": [
    {
     "data": {
      "text/latex": [
       "$\\displaystyle \\frac{- MC + a - b q_{1}}{2 b}$"
      ],
      "text/plain": [
       "(-MC + a - b*q_1)/(2*b)"
      ]
     },
     "execution_count": 88,
     "metadata": {},
     "output_type": "execute_result"
    }
   ],
   "source": [
    "#We solve FOC2 for q2\n",
    "solve_q2 = sm.solve(foc_q2,q2)\n",
    "solve_q2[0]"
   ]
  },
  {
   "cell_type": "code",
   "execution_count": 89,
   "metadata": {},
   "outputs": [
    {
     "data": {
      "text/latex": [
       "$\\displaystyle \\frac{- MC + a - b q^{*}}{2 b}$"
      ],
      "text/plain": [
       "(-MC + a - b*q^*)/(2*b)"
      ]
     },
     "execution_count": 89,
     "metadata": {},
     "output_type": "execute_result"
    }
   ],
   "source": [
    "solve_q1_subs = solve_q1[0].subs(q2,q_star)\n",
    "solve_q1_subs"
   ]
  },
  {
   "cell_type": "code",
   "execution_count": 90,
   "metadata": {},
   "outputs": [
    {
     "data": {
      "text/latex": [
       "$\\displaystyle \\frac{- MC + a - b q^{*}}{2 b}$"
      ],
      "text/plain": [
       "(-MC + a - b*q^*)/(2*b)"
      ]
     },
     "execution_count": 90,
     "metadata": {},
     "output_type": "execute_result"
    }
   ],
   "source": [
    "solve_q2_subs = solve_q2[0].subs(q1,q_star)\n",
    "solve_q2_subs"
   ]
  },
  {
   "cell_type": "code",
   "execution_count": 91,
   "metadata": {},
   "outputs": [
    {
     "data": {
      "text/latex": [
       "$\\displaystyle q^{*} = \\frac{- MC + a - b q^{*}}{2 b}$"
      ],
      "text/plain": [
       "Eq(q^*, (-MC + a - b*q^*)/(2*b))"
      ]
     },
     "execution_count": 91,
     "metadata": {},
     "output_type": "execute_result"
    }
   ],
   "source": [
    "nash_eq = sm.Eq(q_star,solve_q1_subs)\n",
    "nash_eq"
   ]
  },
  {
   "cell_type": "code",
   "execution_count": 92,
   "metadata": {},
   "outputs": [
    {
     "data": {
      "text/latex": [
       "$\\displaystyle \\frac{- MC + a}{3 b}$"
      ],
      "text/plain": [
       "(-MC + a)/(3*b)"
      ]
     },
     "execution_count": 92,
     "metadata": {},
     "output_type": "execute_result"
    }
   ],
   "source": [
    "nash_eq_solve = sm.solve(nash_eq,q_star)\n",
    "nash_eq_solve[0]"
   ]
  },
  {
   "cell_type": "markdown",
   "metadata": {},
   "source": [
    "**Creating functions using Lamdify**"
   ]
  },
  {
   "cell_type": "code",
   "execution_count": 93,
   "metadata": {},
   "outputs": [],
   "source": [
    "best_resp_q1 = sm.lambdify(args=(a,b,mc),expr=solve_q1[0])\n",
    "best_resp_q2 = sm.lambdify(args=(a,b,mc),expr=solve_q2[0])\n",
    "nash_qstar = sm.lambdify(args=(a,b,mc),expr=nash_eq_solve[0])"
   ]
  },
  {
   "cell_type": "code",
   "execution_count": 94,
   "metadata": {},
   "outputs": [
    {
     "name": "stdout",
     "output_type": "stream",
     "text": [
      "q*: 5.444\n",
      "q*: 5.333\n",
      "q*: 5.222\n",
      "q*: 5.111\n",
      "q*: 5.000\n"
     ]
    }
   ],
   "source": [
    "a_val = 50\n",
    "b_val = 3\n",
    "mc_vec = np.array([1,2,3,4,5])\n",
    "\n",
    "nash_mc = nash_qstar(a_val, b_val, mc_vec)\n",
    "\n",
    "for n in nash_mc:\n",
    "    print(f'q*: {n:1.3f}')\n"
   ]
  },
  {
   "cell_type": "markdown",
   "metadata": {},
   "source": [
    "If your model allows for an analytical solution, you should provide here.\n",
    "\n",
    "You may use Sympy for this. Then you can characterize the solution as a function of a parameter of the model.\n",
    "\n",
    "To characterize the solution, first derive a steady state equation as a function of a parameter using Sympy.solve and then turn it into a python function by Sympy.lambdify. See the lecture notes for details. "
   ]
  },
  {
   "cell_type": "markdown",
   "metadata": {},
   "source": [
    "## Numerical solution"
   ]
  },
  {
   "cell_type": "code",
   "execution_count": 95,
   "metadata": {},
   "outputs": [
    {
     "name": "stdout",
     "output_type": "stream",
     "text": [
      "Nash Equilibrium:\n",
      "q1* = 5.444444356380503\n",
      "q2* = 5.444444332332309\n"
     ]
    }
   ],
   "source": [
    "\n",
    "def profit_1_duo(a,b,q1,q2,mc):\n",
    "        return (a-b*q1-b*q2-mc)*q1\n",
    "\n",
    "def BR1_duo(q2,a,b,mc):\n",
    "       sol_BR1_duo = optimize.minimize(lambda q: -profit_1_duo(a,b,q,q2,mc),x0=0.1,bounds=[(0, None)])\n",
    "       return sol_BR1_duo.x[0]\n",
    "       \n",
    "def profit_2_duo(a,b,q1,q2,mc):\n",
    "        return (a-b*q1-b*q2-mc)*q2\n",
    "\n",
    "def BR2_duo(q1,a,b,mc):\n",
    "       sol_BR2_duo = optimize.minimize(lambda q: -profit_2_duo(a,b,q1,q,mc),x0=0.1,bounds=[(0, None)])\n",
    "       return sol_BR2_duo.x[0]\n",
    "\n",
    "def H_duo(q, a, b, mc):\n",
    "    q1,q2 = q\n",
    "    err1 = BR1_duo(q2,a,b,mc)-q1\n",
    "    err2 = BR2_duo(q1,a,b,mc)-q2\n",
    "    return [err1, err2]\n",
    "\n",
    "a = 50\n",
    "b = 3\n",
    "mc = 1\n",
    "\n",
    "# Solve for Nash equilibrium\n",
    "result = optimize.root(lambda q: H_duo(q, a, b, mc), [0.1, 0.1])\n",
    "\n",
    "# Extract equilibrium quantities\n",
    "q_star = result.x\n",
    "q1_star, q2_star = q_star\n",
    "\n",
    "print(\"Nash Equilibrium:\")\n",
    "print(\"q1* =\", q1_star)\n",
    "print(\"q2* =\", q2_star)\n"
   ]
  },
  {
   "cell_type": "code",
   "execution_count": 96,
   "metadata": {},
   "outputs": [
    {
     "ename": "ValueError",
     "evalue": "s must be a scalar, or float array-like with the same size as x and y",
     "output_type": "error",
     "traceback": [
      "\u001b[1;31m---------------------------------------------------------------------------\u001b[0m",
      "\u001b[1;31mValueError\u001b[0m                                Traceback (most recent call last)",
      "Cell \u001b[1;32mIn[96], line 15\u001b[0m\n\u001b[0;32m     12\u001b[0m plt\u001b[38;5;241m.\u001b[39mplot(q_values, q2_values, label\u001b[38;5;241m=\u001b[39m\u001b[38;5;124m'\u001b[39m\u001b[38;5;124mBest Response Firm 2\u001b[39m\u001b[38;5;124m'\u001b[39m, color\u001b[38;5;241m=\u001b[39m\u001b[38;5;124m'\u001b[39m\u001b[38;5;124mred\u001b[39m\u001b[38;5;124m'\u001b[39m)\n\u001b[0;32m     14\u001b[0m \u001b[38;5;66;03m# Plot the Nash Equilibrium point\u001b[39;00m\n\u001b[1;32m---> 15\u001b[0m plt\u001b[38;5;241m.\u001b[39mscatter(q1_star, q2_star, color\u001b[38;5;241m=\u001b[39m\u001b[38;5;124m'\u001b[39m\u001b[38;5;124mgreen\u001b[39m\u001b[38;5;124m'\u001b[39m, label\u001b[38;5;241m=\u001b[39m\u001b[38;5;124m'\u001b[39m\u001b[38;5;124mNash Equilibrium\u001b[39m\u001b[38;5;124m'\u001b[39m)\n\u001b[0;32m     17\u001b[0m \u001b[38;5;66;03m# Set x and y axis limits\u001b[39;00m\n\u001b[0;32m     18\u001b[0m plt\u001b[38;5;241m.\u001b[39mxlim(\u001b[38;5;241m0\u001b[39m, \u001b[38;5;241m17\u001b[39m)\n",
      "File \u001b[1;32mc:\\Users\\EmilW\\anaconda3\\Lib\\site-packages\\matplotlib\\pyplot.py:3687\u001b[0m, in \u001b[0;36mscatter\u001b[1;34m(x, y, s, c, marker, cmap, norm, vmin, vmax, alpha, linewidths, edgecolors, plotnonfinite, data, **kwargs)\u001b[0m\n\u001b[0;32m   3668\u001b[0m \u001b[38;5;129m@_copy_docstring_and_deprecators\u001b[39m(Axes\u001b[38;5;241m.\u001b[39mscatter)\n\u001b[0;32m   3669\u001b[0m \u001b[38;5;28;01mdef\u001b[39;00m \u001b[38;5;21mscatter\u001b[39m(\n\u001b[0;32m   3670\u001b[0m     x: \u001b[38;5;28mfloat\u001b[39m \u001b[38;5;241m|\u001b[39m ArrayLike,\n\u001b[1;32m   (...)\u001b[0m\n\u001b[0;32m   3685\u001b[0m     \u001b[38;5;241m*\u001b[39m\u001b[38;5;241m*\u001b[39mkwargs,\n\u001b[0;32m   3686\u001b[0m ) \u001b[38;5;241m-\u001b[39m\u001b[38;5;241m>\u001b[39m PathCollection:\n\u001b[1;32m-> 3687\u001b[0m     __ret \u001b[38;5;241m=\u001b[39m gca()\u001b[38;5;241m.\u001b[39mscatter(\n\u001b[0;32m   3688\u001b[0m         x,\n\u001b[0;32m   3689\u001b[0m         y,\n\u001b[0;32m   3690\u001b[0m         s\u001b[38;5;241m=\u001b[39ms,\n\u001b[0;32m   3691\u001b[0m         c\u001b[38;5;241m=\u001b[39mc,\n\u001b[0;32m   3692\u001b[0m         marker\u001b[38;5;241m=\u001b[39mmarker,\n\u001b[0;32m   3693\u001b[0m         cmap\u001b[38;5;241m=\u001b[39mcmap,\n\u001b[0;32m   3694\u001b[0m         norm\u001b[38;5;241m=\u001b[39mnorm,\n\u001b[0;32m   3695\u001b[0m         vmin\u001b[38;5;241m=\u001b[39mvmin,\n\u001b[0;32m   3696\u001b[0m         vmax\u001b[38;5;241m=\u001b[39mvmax,\n\u001b[0;32m   3697\u001b[0m         alpha\u001b[38;5;241m=\u001b[39malpha,\n\u001b[0;32m   3698\u001b[0m         linewidths\u001b[38;5;241m=\u001b[39mlinewidths,\n\u001b[0;32m   3699\u001b[0m         edgecolors\u001b[38;5;241m=\u001b[39medgecolors,\n\u001b[0;32m   3700\u001b[0m         plotnonfinite\u001b[38;5;241m=\u001b[39mplotnonfinite,\n\u001b[0;32m   3701\u001b[0m         \u001b[38;5;241m*\u001b[39m\u001b[38;5;241m*\u001b[39m({\u001b[38;5;124m\"\u001b[39m\u001b[38;5;124mdata\u001b[39m\u001b[38;5;124m\"\u001b[39m: data} \u001b[38;5;28;01mif\u001b[39;00m data \u001b[38;5;129;01mis\u001b[39;00m \u001b[38;5;129;01mnot\u001b[39;00m \u001b[38;5;28;01mNone\u001b[39;00m \u001b[38;5;28;01melse\u001b[39;00m {}),\n\u001b[0;32m   3702\u001b[0m         \u001b[38;5;241m*\u001b[39m\u001b[38;5;241m*\u001b[39mkwargs,\n\u001b[0;32m   3703\u001b[0m     )\n\u001b[0;32m   3704\u001b[0m     sci(__ret)\n\u001b[0;32m   3705\u001b[0m     \u001b[38;5;28;01mreturn\u001b[39;00m __ret\n",
      "File \u001b[1;32mc:\\Users\\EmilW\\anaconda3\\Lib\\site-packages\\matplotlib\\__init__.py:1465\u001b[0m, in \u001b[0;36m_preprocess_data.<locals>.inner\u001b[1;34m(ax, data, *args, **kwargs)\u001b[0m\n\u001b[0;32m   1462\u001b[0m \u001b[38;5;129m@functools\u001b[39m\u001b[38;5;241m.\u001b[39mwraps(func)\n\u001b[0;32m   1463\u001b[0m \u001b[38;5;28;01mdef\u001b[39;00m \u001b[38;5;21minner\u001b[39m(ax, \u001b[38;5;241m*\u001b[39margs, data\u001b[38;5;241m=\u001b[39m\u001b[38;5;28;01mNone\u001b[39;00m, \u001b[38;5;241m*\u001b[39m\u001b[38;5;241m*\u001b[39mkwargs):\n\u001b[0;32m   1464\u001b[0m     \u001b[38;5;28;01mif\u001b[39;00m data \u001b[38;5;129;01mis\u001b[39;00m \u001b[38;5;28;01mNone\u001b[39;00m:\n\u001b[1;32m-> 1465\u001b[0m         \u001b[38;5;28;01mreturn\u001b[39;00m func(ax, \u001b[38;5;241m*\u001b[39m\u001b[38;5;28mmap\u001b[39m(sanitize_sequence, args), \u001b[38;5;241m*\u001b[39m\u001b[38;5;241m*\u001b[39mkwargs)\n\u001b[0;32m   1467\u001b[0m     bound \u001b[38;5;241m=\u001b[39m new_sig\u001b[38;5;241m.\u001b[39mbind(ax, \u001b[38;5;241m*\u001b[39margs, \u001b[38;5;241m*\u001b[39m\u001b[38;5;241m*\u001b[39mkwargs)\n\u001b[0;32m   1468\u001b[0m     auto_label \u001b[38;5;241m=\u001b[39m (bound\u001b[38;5;241m.\u001b[39marguments\u001b[38;5;241m.\u001b[39mget(label_namer)\n\u001b[0;32m   1469\u001b[0m                   \u001b[38;5;129;01mor\u001b[39;00m bound\u001b[38;5;241m.\u001b[39mkwargs\u001b[38;5;241m.\u001b[39mget(label_namer))\n",
      "File \u001b[1;32mc:\\Users\\EmilW\\anaconda3\\Lib\\site-packages\\mpl_toolkits\\mplot3d\\axes3d.py:2384\u001b[0m, in \u001b[0;36mAxes3D.scatter\u001b[1;34m(self, xs, ys, zs, zdir, s, c, depthshade, *args, **kwargs)\u001b[0m\n\u001b[0;32m   2381\u001b[0m \u001b[38;5;28;01mif\u001b[39;00m np\u001b[38;5;241m.\u001b[39mmay_share_memory(zs_orig, zs):  \u001b[38;5;66;03m# Avoid unnecessary copies.\u001b[39;00m\n\u001b[0;32m   2382\u001b[0m     zs \u001b[38;5;241m=\u001b[39m zs\u001b[38;5;241m.\u001b[39mcopy()\n\u001b[1;32m-> 2384\u001b[0m patches \u001b[38;5;241m=\u001b[39m \u001b[38;5;28msuper\u001b[39m()\u001b[38;5;241m.\u001b[39mscatter(xs, ys, s\u001b[38;5;241m=\u001b[39ms, c\u001b[38;5;241m=\u001b[39mc, \u001b[38;5;241m*\u001b[39margs, \u001b[38;5;241m*\u001b[39m\u001b[38;5;241m*\u001b[39mkwargs)\n\u001b[0;32m   2385\u001b[0m art3d\u001b[38;5;241m.\u001b[39mpatch_collection_2d_to_3d(patches, zs\u001b[38;5;241m=\u001b[39mzs, zdir\u001b[38;5;241m=\u001b[39mzdir,\n\u001b[0;32m   2386\u001b[0m                                 depthshade\u001b[38;5;241m=\u001b[39mdepthshade)\n\u001b[0;32m   2388\u001b[0m \u001b[38;5;28;01mif\u001b[39;00m \u001b[38;5;28mself\u001b[39m\u001b[38;5;241m.\u001b[39m_zmargin \u001b[38;5;241m<\u001b[39m \u001b[38;5;241m0.05\u001b[39m \u001b[38;5;129;01mand\u001b[39;00m xs\u001b[38;5;241m.\u001b[39msize \u001b[38;5;241m>\u001b[39m \u001b[38;5;241m0\u001b[39m:\n",
      "File \u001b[1;32mc:\\Users\\EmilW\\anaconda3\\Lib\\site-packages\\matplotlib\\__init__.py:1465\u001b[0m, in \u001b[0;36m_preprocess_data.<locals>.inner\u001b[1;34m(ax, data, *args, **kwargs)\u001b[0m\n\u001b[0;32m   1462\u001b[0m \u001b[38;5;129m@functools\u001b[39m\u001b[38;5;241m.\u001b[39mwraps(func)\n\u001b[0;32m   1463\u001b[0m \u001b[38;5;28;01mdef\u001b[39;00m \u001b[38;5;21minner\u001b[39m(ax, \u001b[38;5;241m*\u001b[39margs, data\u001b[38;5;241m=\u001b[39m\u001b[38;5;28;01mNone\u001b[39;00m, \u001b[38;5;241m*\u001b[39m\u001b[38;5;241m*\u001b[39mkwargs):\n\u001b[0;32m   1464\u001b[0m     \u001b[38;5;28;01mif\u001b[39;00m data \u001b[38;5;129;01mis\u001b[39;00m \u001b[38;5;28;01mNone\u001b[39;00m:\n\u001b[1;32m-> 1465\u001b[0m         \u001b[38;5;28;01mreturn\u001b[39;00m func(ax, \u001b[38;5;241m*\u001b[39m\u001b[38;5;28mmap\u001b[39m(sanitize_sequence, args), \u001b[38;5;241m*\u001b[39m\u001b[38;5;241m*\u001b[39mkwargs)\n\u001b[0;32m   1467\u001b[0m     bound \u001b[38;5;241m=\u001b[39m new_sig\u001b[38;5;241m.\u001b[39mbind(ax, \u001b[38;5;241m*\u001b[39margs, \u001b[38;5;241m*\u001b[39m\u001b[38;5;241m*\u001b[39mkwargs)\n\u001b[0;32m   1468\u001b[0m     auto_label \u001b[38;5;241m=\u001b[39m (bound\u001b[38;5;241m.\u001b[39marguments\u001b[38;5;241m.\u001b[39mget(label_namer)\n\u001b[0;32m   1469\u001b[0m                   \u001b[38;5;129;01mor\u001b[39;00m bound\u001b[38;5;241m.\u001b[39mkwargs\u001b[38;5;241m.\u001b[39mget(label_namer))\n",
      "File \u001b[1;32mc:\\Users\\EmilW\\anaconda3\\Lib\\site-packages\\matplotlib\\axes\\_axes.py:4661\u001b[0m, in \u001b[0;36mAxes.scatter\u001b[1;34m(self, x, y, s, c, marker, cmap, norm, vmin, vmax, alpha, linewidths, edgecolors, plotnonfinite, **kwargs)\u001b[0m\n\u001b[0;32m   4657\u001b[0m s \u001b[38;5;241m=\u001b[39m np\u001b[38;5;241m.\u001b[39mma\u001b[38;5;241m.\u001b[39mravel(s)\n\u001b[0;32m   4658\u001b[0m \u001b[38;5;28;01mif\u001b[39;00m (\u001b[38;5;28mlen\u001b[39m(s) \u001b[38;5;129;01mnot\u001b[39;00m \u001b[38;5;129;01min\u001b[39;00m (\u001b[38;5;241m1\u001b[39m, x\u001b[38;5;241m.\u001b[39msize) \u001b[38;5;129;01mor\u001b[39;00m\n\u001b[0;32m   4659\u001b[0m         (\u001b[38;5;129;01mnot\u001b[39;00m np\u001b[38;5;241m.\u001b[39missubdtype(s\u001b[38;5;241m.\u001b[39mdtype, np\u001b[38;5;241m.\u001b[39mfloating) \u001b[38;5;129;01mand\u001b[39;00m\n\u001b[0;32m   4660\u001b[0m          \u001b[38;5;129;01mnot\u001b[39;00m np\u001b[38;5;241m.\u001b[39missubdtype(s\u001b[38;5;241m.\u001b[39mdtype, np\u001b[38;5;241m.\u001b[39minteger))):\n\u001b[1;32m-> 4661\u001b[0m     \u001b[38;5;28;01mraise\u001b[39;00m \u001b[38;5;167;01mValueError\u001b[39;00m(\n\u001b[0;32m   4662\u001b[0m         \u001b[38;5;124m\"\u001b[39m\u001b[38;5;124ms must be a scalar, \u001b[39m\u001b[38;5;124m\"\u001b[39m\n\u001b[0;32m   4663\u001b[0m         \u001b[38;5;124m\"\u001b[39m\u001b[38;5;124mor float array-like with the same size as x and y\u001b[39m\u001b[38;5;124m\"\u001b[39m)\n\u001b[0;32m   4665\u001b[0m \u001b[38;5;66;03m# get the original edgecolor the user passed before we normalize\u001b[39;00m\n\u001b[0;32m   4666\u001b[0m orig_edgecolor \u001b[38;5;241m=\u001b[39m edgecolors\n",
      "\u001b[1;31mValueError\u001b[0m: s must be a scalar, or float array-like with the same size as x and y"
     ]
    }
   ],
   "source": [
    "# Define the range of q1 and q2 values\n",
    "q_values = np.linspace(0, 16, 100)  # Adjust the range for q_values\n",
    "\n",
    "# Calculate corresponding q1 values using the best response function for firm 1\n",
    "q1_values = [BR1_duo(q2, a, b, mc) for q2 in q_values]\n",
    "\n",
    "# Calculate corresponding q2 values using the best response function for firm 2\n",
    "q2_values = [BR2_duo(q1, a, b, mc) for q1 in q_values]\n",
    "\n",
    "# Plot the best response functions for both firms\n",
    "plt.plot(q1_values, q_values, label='Best Response Firm 1', color='blue')\n",
    "plt.plot(q_values, q2_values, label='Best Response Firm 2', color='red')\n",
    "\n",
    "# Plot the Nash Equilibrium point\n",
    "plt.scatter(q1_star, q2_star, color='green', label='Nash Equilibrium')\n",
    "\n",
    "# Set x and y axis limits\n",
    "plt.xlim(0, 17)\n",
    "plt.ylim(0, 17)\n",
    "\n",
    "plt.xticks(np.arange(0, 17, step=1))\n",
    "plt.yticks(np.arange(0, 17, step=1))\n",
    "\n",
    "plt.gca().set_aspect('equal', adjustable='box')\n",
    "\n",
    "plt.xlabel('q1')\n",
    "plt.ylabel('q2')\n",
    "plt.title('Best Response Functions and Nash Equilibrium')\n",
    "plt.legend()\n",
    "plt.grid(True)\n",
    "\n",
    "plt.show()\n"
   ]
  },
  {
   "cell_type": "code",
   "execution_count": null,
   "metadata": {},
   "outputs": [],
   "source": [
    "%matplotlib widget\n",
    "\n",
    "def tot_profit_duo(q, a, b, mc):\n",
    "    q1, q2 = q\n",
    "    return profit_1_duo(a, b, q1, q2, mc) + profit_2_duo(a, b, q1, q2, mc)\n",
    "\n",
    "profit_star = tot_profit_duo(q_star, a, b, mc)\n",
    "\n",
    "q1_range = np.linspace(0, 20, 100)\n",
    "q2_range = np.linspace(0, 20, 100)\n",
    "q1, q2 = np.meshgrid(q1_range, q2_range)\n",
    "profit = tot_profit_duo([q1, q2], a, b, mc)\n",
    "\n",
    "profit[profit < 0] = np.nan\n",
    "\n",
    "fig = plt.figure(figsize=(10, 8))\n",
    "ax = fig.add_subplot(111, projection='3d')\n",
    "ax.plot_surface(q1, q2, profit, cmap='viridis', alpha=0.7)\n",
    "ax.scatter(q1_star, q2_star, profit_star, color='red', label='Nash Equilibrium')\n",
    "ax.set_xlabel('q1')\n",
    "ax.set_ylabel('q2')\n",
    "ax.set_zlabel('Total Profit')\n",
    "ax.set_title('Cournot Model')\n",
    "\n",
    "# Annotate Nash equilibrium point\n",
    "ax.text(q1_star, q2_star, profit_star, f'({q1_star:.2f}, {q2_star:.2f}, {profit_star:.2f})', color='black')\n",
    "\n",
    "ax.legend()\n",
    "plt.show()"
   ]
  },
  {
   "cell_type": "markdown",
   "metadata": {},
   "source": [
    "You can always solve a model numerically. \n",
    "\n",
    "Define first the set of parameters you need. \n",
    "\n",
    "Then choose one of the optimization algorithms that we have gone through in the lectures based on what you think is most fitting for your model.\n",
    "\n",
    "Are there any problems with convergence? Does the model converge for all starting values? Make a lot of testing to figure these things out. "
   ]
  },
  {
   "cell_type": "markdown",
   "metadata": {},
   "source": [
    "# Further analysis"
   ]
  },
  {
   "cell_type": "code",
   "execution_count": null,
   "metadata": {},
   "outputs": [],
   "source": [
    "# Define profit functions and best response functions for Firm 1\n",
    "def profit_1_oligo(a,b,q1,q2,q3,mc):\n",
    "    return (a-b*q1-b*q2-b*q3-mc)*q1\n",
    "\n",
    "def BR1_oligo(q2,q3,a,b,mc):\n",
    "    sol_BR1_oligo = optimize.minimize(lambda q: -profit_1_oligo(a,b,q,q2,q3,mc), x0=0.1, bounds=[(0, None)])\n",
    "    return sol_BR1_oligo.x[0]  \n",
    "\n",
    "# Define profit functions and best response functions for Firm 2\n",
    "def profit_2_oligo(a,b,q1,q2,q3,mc):\n",
    "    return (a-b*q1-b*q2-b*q3-mc)*q2\n",
    "\n",
    "def BR2_oligo(q1, q3, a, b, mc):\n",
    "    sol_BR2_oligo = optimize.minimize(lambda q: -profit_2_oligo(a,b,q1,q,q3,mc), x0=0.1, bounds=[(0, None)])\n",
    "    return sol_BR2_oligo.x[0]\n",
    "\n",
    "# Define profit functions and best response functions for Firm 3\n",
    "def profit_3_oligo(a,b,q1,q2,q3,mc):\n",
    "    return (a-b*q1-b*q2-b*q3-mc)*q3\n",
    "\n",
    "def BR3_oligo(q1,q2,a,b,mc):\n",
    "    sol_BR3_oligo = optimize.minimize(lambda q: -profit_3_oligo(a,b,q1,q2,q,mc), x0=0.1, bounds=[(0, None)])\n",
    "    return sol_BR3_oligo.x[0]\n",
    "\n",
    "# Define function H(q)\n",
    "def H_oligo(q,a,b,mc):\n",
    "    q1, q2, q3 = q\n",
    "    err1 = BR1_oligo(q2,q3,a,b,mc)-q1\n",
    "    err2 = BR2_oligo(q1,q3,a,b,mc)-q2\n",
    "    err3 = BR3_oligo(q1,q2,a,b,mc)-q3\n",
    "    return [err1, err2, err3]\n",
    "\n",
    "# Set parameters\n",
    "a = 50\n",
    "b = 3\n",
    "mc = 1\n",
    "\n",
    "# Solve for Nash equilibrium\n",
    "result = optimize.root(lambda q: H_oligo(q,a,b,mc), [0.1, 0.1, 0.1])\n",
    "\n",
    "# Extract equilibrium quantities\n",
    "q_star = result.x\n",
    "q1_star, q2_star, q3_star = q_star\n",
    "\n",
    "print(\"Nash Equilibrium:\")\n",
    "print(\"q1* =\", q1_star)\n",
    "print(\"q2* =\", q2_star)\n",
    "print(\"q3* =\", q3_star)"
   ]
  },
  {
   "cell_type": "code",
   "execution_count": null,
   "metadata": {},
   "outputs": [],
   "source": [
    "def mc1(q1):\n",
    "    return 1+(0.1*q1)\n",
    "\n",
    "def mc2(q2):\n",
    "    return 1+(0.00001*q2)\n",
    "\n",
    "def mc3(q3):\n",
    "    return 1+(0.00001*q3)\n",
    "\n",
    "\n",
    "def profit_1_mc_var(a, b, q1, q2, q3, mc1):\n",
    "    return (a - b * q1 - b * q2 - b * q3 - mc1) * q1\n",
    "\n",
    "def BR1_mc_var(q2, q3, a, b, mc1):\n",
    "    sol_BR1_mc_var = optimize.minimize(lambda q: -profit_1_mc_var(a, b, q, q2, q3, mc1), x0=0.1, bounds=[(0, None)])\n",
    "    return sol_BR1_mc_var.x[0]  \n",
    "\n",
    "\n",
    "def profit_2_mc_var(a, b, q1, q2, q3, mc2):\n",
    "    return (a - b * q1 - b * q2 - b * q3 - mc2) * q2\n",
    "\n",
    "def BR2_mc_var(q1, q3, a, b, mc2):\n",
    "    sol_BR2_mc_var = optimize.minimize(lambda q: -profit_2_mc_var(a, b, q1, q, q3, mc2), x0=0.1, bounds=[(0, None)])\n",
    "    return sol_BR2_mc_var.x[0]\n",
    "\n",
    "\n",
    "def profit_3_mc_var(a, b, q1, q2, q3, mc3):\n",
    "    return (a - b * q1 - b * q2 - b * q3 - mc3) * q3\n",
    "\n",
    "def BR3_mc_var(q1, q2, a, b, mc3):\n",
    "    sol_BR3_mc_var = optimize.minimize(lambda q: -profit_3_mc_var(a, b, q1, q2, q, mc3), x0=0.1, bounds=[(0, None)])\n",
    "    return sol_BR3_mc_var.x[0]\n",
    "\n",
    "# Define function H(q)\n",
    "def H_mc_var(q, a, b, mc1, mc2, mc3):\n",
    "    q1, q2, q3 = q\n",
    "    err1 = BR1_mc_var(q2, q3, a, b, mc1) - q1\n",
    "    err2 = BR2_mc_var(q1, q3, a, b, mc2) - q2\n",
    "    err3 = BR3_mc_var(q1, q2, a, b, mc3) - q3\n",
    "    return [err1, err2, err3]\n",
    "\n",
    "# Set parameters\n",
    "a = 50\n",
    "b = 3\n",
    "\n",
    "\n",
    "# Solve for Nash equilibrium with constraints on q >= 0 using minimize function\n",
    "result = optimize.minimize(lambda q: np.sum(np.square(H_mc_var(q, a, b, mc1(q[0]), mc2(q[1]), mc3(q[2])))),\n",
    "                           x0=[0.1, 0.1, 0.1], bounds=[(0, None), (0, None), (0, None)], method='nelder-mead')\n",
    "\n",
    "# Extract equilibrium quantities\n",
    "q_star = result.x\n",
    "q1_star, q2_star, q3_star = q_star\n",
    "\n",
    "print(\"Nash Equilibrium:\")\n",
    "print(\"q1* =\", q1_star)\n",
    "print(\"q2* =\", q2_star)\n",
    "print(\"q3* =\", q3_star)"
   ]
  },
  {
   "cell_type": "markdown",
   "metadata": {},
   "source": [
    "Make detailed vizualizations of how your model changes with parameter values. \n",
    "\n",
    "Try to make an extension of the model. "
   ]
  },
  {
   "attachments": {},
   "cell_type": "markdown",
   "metadata": {},
   "source": [
    "**The model**\n",
    "\n",
    "$$\n",
    "\\begin{aligned}\n",
    "\\pi_i(q_1,....,q_n) & =q_iP \\left( \\sum_{j=1}^{n}q_j\\right)-C_i(q_i) \\\\\n",
    "\n",
    "\\end{aligned}\n",
    "$$\n",
    "  "
   ]
  },
  {
   "cell_type": "markdown",
   "metadata": {},
   "source": [
    "# Conclusion"
   ]
  },
  {
   "cell_type": "markdown",
   "metadata": {},
   "source": [
    "Add concise conclusion. "
   ]
  }
 ],
 "metadata": {
  "kernelspec": {
   "display_name": "Python 3",
   "language": "python",
   "name": "python3"
  },
  "language_info": {
   "codemirror_mode": {
    "name": "ipython",
    "version": 3
   },
   "file_extension": ".py",
   "mimetype": "text/x-python",
   "name": "python",
   "nbconvert_exporter": "python",
   "pygments_lexer": "ipython3",
   "version": "3.11.7"
  },
  "toc-autonumbering": true,
  "vscode": {
   "interpreter": {
    "hash": "d082443479dcf0bb109497657c949fcf3a4bd1d96297faded59d95be7509270b"
   }
  }
 },
 "nbformat": 4,
 "nbformat_minor": 4
}
