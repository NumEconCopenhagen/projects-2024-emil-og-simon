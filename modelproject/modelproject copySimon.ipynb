{
 "cells": [
  {
   "cell_type": "markdown",
   "metadata": {},
   "source": [
    "# Competition in an oligopolistic market \n",
    "## - The Cournot Model"
   ]
  },
  {
   "cell_type": "markdown",
   "metadata": {},
   "source": [
    "Imports and set magics:"
   ]
  },
  {
   "cell_type": "code",
   "execution_count": 70,
   "metadata": {},
   "outputs": [
    {
     "name": "stdout",
     "output_type": "stream",
     "text": [
      "The autoreload extension is already loaded. To reload it, use:\n",
      "  %reload_ext autoreload\n"
     ]
    }
   ],
   "source": [
    "import numpy as np\n",
    "from scipy import optimize\n",
    "import sympy as sm\n",
    "import matplotlib.pyplot as plt\n",
    "from mpl_toolkits.mplot3d import Axes3D\n",
    "import ipywidgets as widgets\n",
    "\n",
    "# autoreload modules when code is run\n",
    "%load_ext autoreload\n",
    "%autoreload 2\n",
    "\n",
    "# local modules\n",
    "#from modelproject import CournotModelClass"
   ]
  },
  {
   "cell_type": "markdown",
   "metadata": {},
   "source": [
    "# Model description"
   ]
  },
  {
   "attachments": {},
   "cell_type": "markdown",
   "metadata": {},
   "source": [
    "**Description**\n",
    "\n",
    "Cournot competition descibes an industry wherein competing firms, who offers identical products. The firms complete via the quantity of output they individually produce, simultaneously and autonomously. This model is named after its founder, the French mathematician Augustin Cournot."
   ]
  },
  {
   "attachments": {},
   "cell_type": "markdown",
   "metadata": {},
   "source": [
    "Firstly, we will take a look at the case of a duoploy where only two firms are competing the a given market. the model are given as followed:"
   ]
  },
  {
   "attachments": {},
   "cell_type": "markdown",
   "metadata": {},
   "source": [
    "$$\n",
    "\\begin{aligned}\n",
    "\\Pi_1(Q) & =p(Q)q_1-q_1MC_1 \\\\\n",
    "\\Pi_2(Q) & =p(Q)q_2-q_1MC_2 \\\\\n",
    "\\end{aligned}\n",
    "$$"
   ]
  },
  {
   "attachments": {},
   "cell_type": "markdown",
   "metadata": {},
   "source": [
    "In the profit functions provided earlier, price is determined by the total output denoted as $Q$, where for two firms, the total output $Q$ equals the sum of their individual outputs $q_1$ and $q_2$. As an illustrative example, let's assume that the price (expressed as the inverse demand function) follows a linear format, represented by $p = a + bQ$. Consequently, the inverse demand function can be expressed as $p = a + q_1b + q_2b$."
   ]
  },
  {
   "cell_type": "markdown",
   "metadata": {},
   "source": [
    "## Analytical solution"
   ]
  },
  {
   "attachments": {},
   "cell_type": "markdown",
   "metadata": {},
   "source": [
    "The initial segment of this project involves an analytical solution to the Cournot model. Although we acknowledge that this aspect of the project may not be particularly crucial, it is nonetheless essential to include. We utilized the SymPy function for this purpose, and the solution is presented below."
   ]
  },
  {
   "cell_type": "code",
   "execution_count": 71,
   "metadata": {},
   "outputs": [],
   "source": [
    "#model = CournotModelClass()\n",
    "\n",
    "\n",
    "#sol = model.sympy_solve()\n",
    "#print(\"Symbolic solution for q1:\", sol)"
   ]
  },
  {
   "cell_type": "markdown",
   "metadata": {},
   "source": [
    "**Setting up with SymPy**"
   ]
  },
  {
   "cell_type": "code",
   "execution_count": 72,
   "metadata": {},
   "outputs": [],
   "source": [
    "a = sm.symbols('a')\n",
    "b = sm.symbols('b')\n",
    "pi_1 = sm.symbols('pi_1')\n",
    "pi_2 = sm.symbols('pi_2')\n",
    "mc = sm.symbols('MC')\n",
    "q1 = sm.symbols('q_1')\n",
    "q2 = sm.symbols('q_2')\n",
    "q_star = sm.symbols('q^*')"
   ]
  },
  {
   "cell_type": "markdown",
   "metadata": {},
   "source": [
    "**Profit functions for each firm**"
   ]
  },
  {
   "cell_type": "code",
   "execution_count": 73,
   "metadata": {},
   "outputs": [
    {
     "data": {
      "text/latex": [
       "$\\displaystyle \\pi_{1} = q_{1} \\left(- MC + a - b q_{1} - b q_{2}\\right)$"
      ],
      "text/plain": [
       "Eq(pi_1, q_1*(-MC + a - b*q_1 - b*q_2))"
      ]
     },
     "execution_count": 73,
     "metadata": {},
     "output_type": "execute_result"
    }
   ],
   "source": [
    "profit_1 = sm.Eq(pi_1,(a-b*q1-b*q2-mc)*q1)\n",
    "profit_1"
   ]
  },
  {
   "cell_type": "code",
   "execution_count": 74,
   "metadata": {},
   "outputs": [
    {
     "data": {
      "text/latex": [
       "$\\displaystyle \\pi_{2} = q_{2} \\left(- MC + a - b q_{1} - b q_{2}\\right)$"
      ],
      "text/plain": [
       "Eq(pi_2, q_2*(-MC + a - b*q_1 - b*q_2))"
      ]
     },
     "execution_count": 74,
     "metadata": {},
     "output_type": "execute_result"
    }
   ],
   "source": [
    "profit_2 = sm.Eq(pi_2,(a-b*q1-b*q2-mc)*q2)\n",
    "profit_2"
   ]
  },
  {
   "cell_type": "markdown",
   "metadata": {},
   "source": [
    "**FOC for each firm**"
   ]
  },
  {
   "cell_type": "code",
   "execution_count": 75,
   "metadata": {},
   "outputs": [
    {
     "data": {
      "text/latex": [
       "$\\displaystyle - MC + a - 2 b q_{1} - b q_{2}$"
      ],
      "text/plain": [
       "-MC + a - 2*b*q_1 - b*q_2"
      ]
     },
     "execution_count": 75,
     "metadata": {},
     "output_type": "execute_result"
    }
   ],
   "source": [
    "#FOC firm 1\n",
    "profit_1 = (a-b*q1-b*q2-mc)*q1\n",
    "foc_q1 = sm.diff(profit_1, q1)\n",
    "foc_q1"
   ]
  },
  {
   "cell_type": "code",
   "execution_count": 76,
   "metadata": {},
   "outputs": [
    {
     "data": {
      "text/latex": [
       "$\\displaystyle - MC + a - b q_{1} - 2 b q_{2}$"
      ],
      "text/plain": [
       "-MC + a - b*q_1 - 2*b*q_2"
      ]
     },
     "execution_count": 76,
     "metadata": {},
     "output_type": "execute_result"
    }
   ],
   "source": [
    "#FOC firm 2\n",
    "profit_2 = (a-b*q1-b*q2-mc)*q2\n",
    "foc_q2 = sm.diff(profit_2, q2)\n",
    "foc_q2"
   ]
  },
  {
   "cell_type": "markdown",
   "metadata": {},
   "source": [
    "**Solving for q1 and q2**"
   ]
  },
  {
   "cell_type": "code",
   "execution_count": 77,
   "metadata": {},
   "outputs": [
    {
     "data": {
      "text/latex": [
       "$\\displaystyle \\frac{- MC + a - b q_{2}}{2 b}$"
      ],
      "text/plain": [
       "(-MC + a - b*q_2)/(2*b)"
      ]
     },
     "execution_count": 77,
     "metadata": {},
     "output_type": "execute_result"
    }
   ],
   "source": [
    "#We solve FOC1 for q1\n",
    "solve_q1 = sm.solve(foc_q1,q1)\n",
    "solve_q1[0]"
   ]
  },
  {
   "cell_type": "code",
   "execution_count": 78,
   "metadata": {},
   "outputs": [
    {
     "data": {
      "text/latex": [
       "$\\displaystyle \\frac{- MC + a - b q_{1}}{2 b}$"
      ],
      "text/plain": [
       "(-MC + a - b*q_1)/(2*b)"
      ]
     },
     "execution_count": 78,
     "metadata": {},
     "output_type": "execute_result"
    }
   ],
   "source": [
    "#We solve FOC2 for q2\n",
    "solve_q2 = sm.solve(foc_q2,q2)\n",
    "solve_q2[0]"
   ]
  },
  {
   "cell_type": "code",
   "execution_count": 79,
   "metadata": {},
   "outputs": [
    {
     "data": {
      "text/latex": [
       "$\\displaystyle \\frac{- MC + a - b q^{*}}{2 b}$"
      ],
      "text/plain": [
       "(-MC + a - b*q^*)/(2*b)"
      ]
     },
     "execution_count": 79,
     "metadata": {},
     "output_type": "execute_result"
    }
   ],
   "source": [
    "solve_q1_subs = solve_q1[0].subs(q2,q_star)\n",
    "solve_q1_subs"
   ]
  },
  {
   "cell_type": "code",
   "execution_count": 80,
   "metadata": {},
   "outputs": [
    {
     "data": {
      "text/latex": [
       "$\\displaystyle \\frac{- MC + a - b q^{*}}{2 b}$"
      ],
      "text/plain": [
       "(-MC + a - b*q^*)/(2*b)"
      ]
     },
     "execution_count": 80,
     "metadata": {},
     "output_type": "execute_result"
    }
   ],
   "source": [
    "solve_q2_subs = solve_q2[0].subs(q1,q_star)\n",
    "solve_q2_subs"
   ]
  },
  {
   "cell_type": "code",
   "execution_count": 81,
   "metadata": {},
   "outputs": [
    {
     "data": {
      "text/latex": [
       "$\\displaystyle q^{*} = \\frac{- MC + a - b q^{*}}{2 b}$"
      ],
      "text/plain": [
       "Eq(q^*, (-MC + a - b*q^*)/(2*b))"
      ]
     },
     "execution_count": 81,
     "metadata": {},
     "output_type": "execute_result"
    }
   ],
   "source": [
    "nash_eq = sm.Eq(q_star,solve_q1_subs)\n",
    "nash_eq"
   ]
  },
  {
   "cell_type": "code",
   "execution_count": 82,
   "metadata": {},
   "outputs": [
    {
     "data": {
      "text/latex": [
       "$\\displaystyle \\frac{- MC + a}{3 b}$"
      ],
      "text/plain": [
       "(-MC + a)/(3*b)"
      ]
     },
     "execution_count": 82,
     "metadata": {},
     "output_type": "execute_result"
    }
   ],
   "source": [
    "nash_eq_solve = sm.solve(nash_eq,q_star)\n",
    "nash_eq_solve[0]"
   ]
  },
  {
   "attachments": {},
   "cell_type": "markdown",
   "metadata": {},
   "source": [
    "Using SymPy, we derived the response functions for both firms and determined the Nash Equilibrium, which is:\n",
    "\n",
    "$$\n",
    "\\begin{aligned}\n",
    "\\ q_1 = q_2 = \\frac{a - bq^*-MC}{2b} \\\n",
    "\\end{aligned}\n",
    "$$\n",
    "$$\n",
    "\\begin{aligned}\n",
    "\\ Nash & = \\frac{a - MC}{3b} \\\n",
    "\\end{aligned}\n",
    "$$"
   ]
  },
  {
   "cell_type": "markdown",
   "metadata": {},
   "source": [
    "**Creating functions using Lamdify**"
   ]
  },
  {
   "attachments": {},
   "cell_type": "markdown",
   "metadata": {},
   "source": [
    "After utilizing SymPy to derive the solution, we will employ lambdify to convert these  expressions into callable functions. By doing so, we can efficiently evaluate these expressions using specific numerical values, facilitating numerical analysis and computation"
   ]
  },
  {
   "cell_type": "code",
   "execution_count": 83,
   "metadata": {},
   "outputs": [],
   "source": [
    "best_resp_q1 = sm.lambdify(args=(a,b,mc),expr=solve_q1[0])\n",
    "best_resp_q2 = sm.lambdify(args=(a,b,mc),expr=solve_q2[0])\n",
    "nash_qstar = sm.lambdify(args=(a,b,mc),expr=nash_eq_solve[0])"
   ]
  },
  {
   "cell_type": "code",
   "execution_count": 84,
   "metadata": {},
   "outputs": [
    {
     "name": "stdout",
     "output_type": "stream",
     "text": [
      "For mc = 1.0, we have q* = 5.444\n",
      "For mc = 2.0, we have q* = 5.333\n",
      "For mc = 3.0, we have q* = 5.222\n",
      "For mc = 4.0, we have q* = 5.111\n",
      "For mc = 5.0, we have q* = 5.000\n",
      "For mc = 6.0, we have q* = 4.889\n",
      "For mc = 7.0, we have q* = 4.778\n",
      "For mc = 8.0, we have q* = 4.667\n",
      "For mc = 9.0, we have q* = 4.556\n",
      "For mc = 10.0, we have q* = 4.444\n"
     ]
    }
   ],
   "source": [
    "a_val = 50\n",
    "b_val = 3\n",
    "mc_vec = np.linspace(1,10,10)\n",
    "\n",
    "nash_eq = nash_qstar(a_val, b_val, mc_vec)\n",
    "\n",
    "for mc, n in zip(mc_vec, nash_eq):\n",
    "    print(f'For mc = {mc:1.1f}, we have q* = {n:1.3f}')\n"
   ]
  },
  {
   "cell_type": "markdown",
   "metadata": {},
   "source": [
    "## Numerical solution"
   ]
  },
  {
   "attachments": {},
   "cell_type": "markdown",
   "metadata": {},
   "source": [
    "Once the analytical solution has been obtained, we will proceed to solve the model numerically. Initially, we will employ an optimizer followed by a root finder to determine the quantities for the two firms. Before doing so we need to define a function (H_duo) that computes the errors in the Nash equilibrium conditions for a duopoly model. This function calculates the difference between each firm's best response quantity and its actual quantity produced. Then, it uses an optimization algorithm (optimize.root) to find the Nash equilibrium quantities, starting from an initial guess of [0.1, 0.1]. Below, you will find the relevant code for this numerical solution process."
   ]
  },
  {
   "cell_type": "code",
   "execution_count": 98,
   "metadata": {},
   "outputs": [
    {
     "name": "stdout",
     "output_type": "stream",
     "text": [
      "Nash Equilibrium for mc1 = mc2 = 1\n",
      "q1* = 5.444\n",
      "q2* = 5.444\n",
      "Total Output = 10.889\n"
     ]
    }
   ],
   "source": [
    "# Defining the profit function for firm 1\n",
    "def profit_1_duo(a,b,q1,q2,mc):\n",
    "        return (a-b*q1-b*q2-mc)*q1\n",
    "\n",
    "# Defining the best respons function for firm 1\n",
    "def BR1_duo(q2,a,b,mc):\n",
    "       sol_BR1_duo = optimize.minimize(lambda q: -profit_1_duo(a,b,q,q2,mc),x0=0.1,bounds=[(0, None)])\n",
    "       return sol_BR1_duo.x[0]\n",
    "\n",
    "# Defining the profit function for firm 2       \n",
    "def profit_2_duo(a,b,q1,q2,mc):\n",
    "        return (a-b*q1-b*q2-mc)*q2\n",
    "\n",
    "# Defining the best respons function for firm 2\n",
    "def BR2_duo(q1,a,b,mc):\n",
    "       sol_BR2_duo = optimize.minimize(lambda q: -profit_2_duo(a,b,q1,q,mc),x0=0.1,bounds=[(0, None)])\n",
    "       return sol_BR2_duo.x[0]\n",
    "\n",
    "# Defining the h_duo function which computes the errors in Nash EQ\n",
    "def H_duo(q, a, b, mc):\n",
    "    q1,q2 = q\n",
    "    err1 = BR1_duo(q2,a,b,mc)-q1\n",
    "    err2 = BR2_duo(q1,a,b,mc)-q2\n",
    "    return [err1, err2]\n",
    "\n",
    "a = 50\n",
    "b = 3\n",
    "mc_duo = 1\n",
    "\n",
    "# Solving for the Nash EQ\n",
    "result_duo = optimize.root(lambda q: H_duo(q, a, b, mc_duo), [0.1, 0.1])\n",
    "\n",
    "# Extracting the quantities\n",
    "q_star = result_duo.x\n",
    "q1_star, q2_star = q_star\n",
    "total_output = q1_star + q2_star\n",
    "\n",
    "print(\"Nash Equilibrium for mc1 = mc2 = {:.0f}\".format(mc_duo))\n",
    "print(\"q1* = {:.3f}\".format(q1_star))\n",
    "print(\"q2* = {:.3f}\".format(q2_star))\n",
    "print(\"Total Output = {:.3f}\".format(total_output))\n"
   ]
  },
  {
   "attachments": {},
   "cell_type": "markdown",
   "metadata": {},
   "source": [
    "By experimenting with the value of MC within the range of 1 to 5, you will observe that both the analytical and numerical solutions yield identical results, indicating a promising consistency between the two methods."
   ]
  },
  {
   "attachments": {},
   "cell_type": "markdown",
   "metadata": {},
   "source": [
    "To illustarte this, we will plot the solution below."
   ]
  },
  {
   "cell_type": "code",
   "execution_count": 97,
   "metadata": {},
   "outputs": [
    {
     "data": {
      "application/vnd.jupyter.widget-view+json": {
       "model_id": "f79bac54347c4b798d8cbb9884cb42a7",
       "version_major": 2,
       "version_minor": 0
      },
      "text/plain": [
       "interactive(children=(IntSlider(value=5, description='mc', max=30, min=1), Output()), _dom_classes=('widget-in…"
      ]
     },
     "metadata": {},
     "output_type": "display_data"
    },
    {
     "data": {
      "text/plain": [
       "<function __main__.update_plot(mc=5)>"
      ]
     },
     "execution_count": 97,
     "metadata": {},
     "output_type": "execute_result"
    }
   ],
   "source": [
    "a = 50\n",
    "b = 3\n",
    "mc_default = 5\n",
    "\n",
    "result = optimize.root(lambda q: H_duo(q, a, b, mc_default), [0.1, 0.1])\n",
    "q_star = result.x\n",
    "q1_star, q2_star = q_star\n",
    "\n",
    "q_values = np.linspace(0, 15, 100)\n",
    "\n",
    "def update_plot(mc=mc_default):\n",
    "    q1_values = [BR1_duo(q2, a, b, mc) for q2 in q_values]\n",
    "    q2_values = [BR2_duo(q1, a, b, mc) for q1 in q_values]\n",
    "    \n",
    "    result = optimize.root(lambda q: H_duo(q, a, b, mc), [0.1, 0.1])\n",
    "    q_star = result.x\n",
    "    q1_star, q2_star = q_star\n",
    "    \n",
    "    plt.figure(figsize=(8, 6))\n",
    "    plt.plot(q1_values, q_values, label='Best Response Firm 1', color='blue')\n",
    "    plt.plot(q_values, q2_values, label='Best Response Firm 2', color='red')\n",
    "    plt.scatter(q1_star, q2_star, color='green', label='Nash Equilibrium')\n",
    "    plt.plot([q1_star, q1_star], [0, q2_star], color='green', linestyle='--')\n",
    "    plt.plot([0, q1_star], [q2_star, q2_star], color='green', linestyle='--')\n",
    "    plt.text(q1_star, q2_star + 0.5, f'({q1_star:.2f}, {q2_star:.2f})', horizontalalignment='center')\n",
    "    plt.xlim(0, None)\n",
    "    plt.ylim(0, None)\n",
    "    plt.xlabel('q1')\n",
    "    plt.ylabel('q2')\n",
    "    plt.title('Best Response Functions and Nash Equilibrium')\n",
    "    plt.legend()\n",
    "    plt.grid(True)\n",
    "    plt.show()\n",
    "\n",
    "widgets.interact(update_plot, mc=(1, 30, 1))\n"
   ]
  },
  {
   "attachments": {},
   "cell_type": "markdown",
   "metadata": {},
   "source": [
    "We've incorporated a slider for the marginal cost (MC) to demonstrate how changes in firms' marginal costs affect the solution of the model. As anticipated, when firms face rising marginal costs, their total output decreases."
   ]
  },
  {
   "cell_type": "code",
   "execution_count": 87,
   "metadata": {},
   "outputs": [],
   "source": [
    "#%matplotlib widget\n",
    "\n",
    "#def tot_profit_duo(q, a, b, mc):\n",
    "    #q1, q2 = q\n",
    "    #return profit_1_duo(a, b, q1, q2, mc) + profit_2_duo(a, b, q1, q2, mc)\n",
    "\n",
    "#profit_star = tot_profit_duo(q_star, a, b, mc)\n",
    "\n",
    "#q1_range = np.linspace(0, 20, 100)\n",
    "#q2_range = np.linspace(0, 20, 100)\n",
    "#q1, q2 = np.meshgrid(q1_range, q2_range)\n",
    "#profit = tot_profit_duo([q1, q2], a, b, mc)\n",
    "\n",
    "#profit[profit < 0] = np.nan\n",
    "\n",
    "#fig = plt.figure(figsize=(10, 8))\n",
    "#ax = fig.add_subplot(111, projection='3d')\n",
    "#ax.plot_surface(q1, q2, profit, cmap='viridis', alpha=0.7)\n",
    "#ax.scatter(q1_star, q2_star, profit_star, color='red', label='Nash Equilibrium')\n",
    "#ax.set_xlabel('q1')\n",
    "#ax.set_ylabel('q2')\n",
    "#ax.set_zlabel('Total Profit')\n",
    "#ax.set_title('Cournot Model')\n",
    "\n",
    "# Annotate Nash equilibrium point\n",
    "#ax.text(q1_star, q2_star, profit_star, f'({q1_star:.2f}, {q2_star:.2f}, {profit_star:.2f})', color='black')\n",
    "\n",
    "#ax.legend()\n",
    "#plt.show()"
   ]
  },
  {
   "cell_type": "markdown",
   "metadata": {},
   "source": [
    "# Further analysis"
   ]
  },
  {
   "attachments": {},
   "cell_type": "markdown",
   "metadata": {},
   "source": [
    "The Cournot model can be extended to \"n\" firms. For our project, we'll concentrate on the case involving three firms in the market, forming an oligopoly. Additionally, we'll make one more extention to the model by making the marginal cost a function of the quantity produced by each firm.\n",
    "\n",
    "Here's the modified Cournot model:\n",
    "\n",
    "**The model**\n",
    "\n",
    "$$\n",
    "\\begin{aligned}\n",
    "\\pi_i(q_1,....,q_n) & =q_iP \\left( \\sum_{j=1}^{n}q_j\\right)-MC_i(q_i) \\\\\n",
    "\n",
    "\\end{aligned}\n",
    "$$\n",
    "  "
   ]
  },
  {
   "cell_type": "code",
   "execution_count": 88,
   "metadata": {},
   "outputs": [
    {
     "name": "stdout",
     "output_type": "stream",
     "text": [
      "Nash Equilibrium:\n",
      "q1* = 4.083333358357541\n",
      "q2* = 4.0833330289272185\n",
      "q3* = 4.083333475753608\n"
     ]
    }
   ],
   "source": [
    "# Define profit functions and best response functions for Firm 1\n",
    "def profit_1_oligo(a,b,q1,q2,q3,mc):\n",
    "    return (a-b*q1-b*q2-b*q3-mc)*q1\n",
    "\n",
    "def BR1_oligo(q2,q3,a,b,mc):\n",
    "    sol_BR1_oligo = optimize.minimize(lambda q: -profit_1_oligo(a,b,q,q2,q3,mc), x0=0.1, bounds=[(0, None)])\n",
    "    return sol_BR1_oligo.x[0]  \n",
    "\n",
    "# Define profit functions and best response functions for Firm 2\n",
    "def profit_2_oligo(a,b,q1,q2,q3,mc):\n",
    "    return (a-b*q1-b*q2-b*q3-mc)*q2\n",
    "\n",
    "def BR2_oligo(q1, q3, a, b, mc):\n",
    "    sol_BR2_oligo = optimize.minimize(lambda q: -profit_2_oligo(a,b,q1,q,q3,mc), x0=0.1, bounds=[(0, None)])\n",
    "    return sol_BR2_oligo.x[0]\n",
    "\n",
    "# Define profit functions and best response functions for Firm 3\n",
    "def profit_3_oligo(a,b,q1,q2,q3,mc):\n",
    "    return (a-b*q1-b*q2-b*q3-mc)*q3\n",
    "\n",
    "def BR3_oligo(q1,q2,a,b,mc):\n",
    "    sol_BR3_oligo = optimize.minimize(lambda q: -profit_3_oligo(a,b,q1,q2,q,mc), x0=0.1, bounds=[(0, None)])\n",
    "    return sol_BR3_oligo.x[0]\n",
    "\n",
    "# Define function H(q)\n",
    "def H_oligo(q,a,b,mc):\n",
    "    q1, q2, q3 = q\n",
    "    err1 = BR1_oligo(q2,q3,a,b,mc)-q1\n",
    "    err2 = BR2_oligo(q1,q3,a,b,mc)-q2\n",
    "    err3 = BR3_oligo(q1,q2,a,b,mc)-q3\n",
    "    return [err1, err2, err3]\n",
    "\n",
    "# Set parameters\n",
    "a = 50\n",
    "b = 3\n",
    "mc = 1\n",
    "\n",
    "# Solve for Nash equilibrium\n",
    "result = optimize.root(lambda q: H_oligo(q,a,b,mc), [0.1, 0.1, 0.1])\n",
    "\n",
    "# Extract equilibrium quantities\n",
    "q_star = result.x\n",
    "q1_star, q2_star, q3_star = q_star\n",
    "\n",
    "print(\"Nash Equilibrium:\")\n",
    "print(\"q1* =\", q1_star)\n",
    "print(\"q2* =\", q2_star)\n",
    "print(\"q3* =\", q3_star)"
   ]
  },
  {
   "cell_type": "code",
   "execution_count": 89,
   "metadata": {},
   "outputs": [
    {
     "name": "stdout",
     "output_type": "stream",
     "text": [
      "Total Output: 12.249999863038369\n"
     ]
    }
   ],
   "source": [
    "q1_star = 4.083333358357541\n",
    "q2_star = 4.0833330289272185\n",
    "q3_star = 4.083333475753608\n",
    "\n",
    "total_output = q1_star + q2_star + q3_star\n",
    "print(\"Total Output:\", total_output)\n"
   ]
  },
  {
   "cell_type": "code",
   "execution_count": 90,
   "metadata": {},
   "outputs": [
    {
     "name": "stdout",
     "output_type": "stream",
     "text": [
      "Total Output: 12.216779127358816\n"
     ]
    }
   ],
   "source": [
    "q1_star = 3.9837492542581083\n",
    "q2_star = 4.116544520347763\n",
    "q3_star = 4.116485352752944\n",
    "\n",
    "total_output = q1_star + q2_star + q3_star\n",
    "print(\"Total Output:\", total_output)\n"
   ]
  },
  {
   "cell_type": "code",
   "execution_count": 91,
   "metadata": {},
   "outputs": [
    {
     "name": "stdout",
     "output_type": "stream",
     "text": [
      "Nash Equilibrium:\n",
      "q1* = 2.88233243909016\n",
      "q2* = 2.882333621479558\n",
      "q3* = 2.882378225482002\n"
     ]
    }
   ],
   "source": [
    "def mc1(q1):\n",
    "    return 1+(5*q1)\n",
    "\n",
    "def mc2(q2):\n",
    "    return 1+(5*q2)\n",
    "\n",
    "def mc3(q3):\n",
    "    return 1+(5*q3)\n",
    "\n",
    "\n",
    "def profit_1_mc_var(a, b, q1, q2, q3, mc1):\n",
    "    return (a - b * q1 - b * q2 - b * q3 - mc1) * q1\n",
    "\n",
    "def BR1_mc_var(q2, q3, a, b, mc1):\n",
    "    sol_BR1_mc_var = optimize.minimize(lambda q: -profit_1_mc_var(a, b, q, q2, q3, mc1), x0=0.1, bounds=[(0, None)])\n",
    "    return sol_BR1_mc_var.x[0]  \n",
    "\n",
    "\n",
    "def profit_2_mc_var(a, b, q1, q2, q3, mc2):\n",
    "    return (a - b * q1 - b * q2 - b * q3 - mc2) * q2\n",
    "\n",
    "def BR2_mc_var(q1, q3, a, b, mc2):\n",
    "    sol_BR2_mc_var = optimize.minimize(lambda q: -profit_2_mc_var(a, b, q1, q, q3, mc2), x0=0.1, bounds=[(0, None)])\n",
    "    return sol_BR2_mc_var.x[0]\n",
    "\n",
    "\n",
    "def profit_3_mc_var(a, b, q1, q2, q3, mc3):\n",
    "    return (a - b * q1 - b * q2 - b * q3 - mc3) * q3\n",
    "\n",
    "def BR3_mc_var(q1, q2, a, b, mc3):\n",
    "    sol_BR3_mc_var = optimize.minimize(lambda q: -profit_3_mc_var(a, b, q1, q2, q, mc3), x0=0.1, bounds=[(0, None)])\n",
    "    return sol_BR3_mc_var.x[0]\n",
    "\n",
    "# Define function H(q)\n",
    "def H_mc_var(q, a, b, mc1, mc2, mc3):\n",
    "    q1, q2, q3 = q\n",
    "    err1 = BR1_mc_var(q2, q3, a, b, mc1) - q1\n",
    "    err2 = BR2_mc_var(q1, q3, a, b, mc2) - q2\n",
    "    err3 = BR3_mc_var(q1, q2, a, b, mc3) - q3\n",
    "    return [err1, err2, err3]\n",
    "\n",
    "# Set parameters\n",
    "a = 50\n",
    "b = 3\n",
    "\n",
    "\n",
    "# Solve for Nash equilibrium with constraints on q >= 0 using minimize function\n",
    "result = optimize.minimize(lambda q: np.sum(np.square(H_mc_var(q, a, b, mc1(q[0]), mc2(q[1]), mc3(q[2])))),\n",
    "                           x0=[0.1, 0.1, 0.1], bounds=[(0, None), (0, None), (0, None)], method='nelder-mead')\n",
    "\n",
    "# Extract equilibrium quantities\n",
    "q_star = result.x\n",
    "q1_star, q2_star, q3_star = q_star\n",
    "\n",
    "print(\"Nash Equilibrium:\")\n",
    "print(\"q1* =\", q1_star)\n",
    "print(\"q2* =\", q2_star)\n",
    "print(\"q3* =\", q3_star)"
   ]
  },
  {
   "cell_type": "markdown",
   "metadata": {},
   "source": [
    "Make detailed vizualizations of how your model changes with parameter values. \n",
    "\n",
    "Try to make an extension of the model. "
   ]
  },
  {
   "attachments": {},
   "cell_type": "markdown",
   "metadata": {},
   "source": [
    "**The model**\n",
    "\n",
    "$$\n",
    "\\begin{aligned}\n",
    "\\pi_i(q_1,....,q_n) & =q_iP \\left( \\sum_{j=1}^{n}q_j\\right)-C_i(q_i) \\\\\n",
    "\n",
    "\\end{aligned}\n",
    "$$\n",
    "  "
   ]
  },
  {
   "cell_type": "markdown",
   "metadata": {},
   "source": [
    "# Conclusion"
   ]
  },
  {
   "cell_type": "markdown",
   "metadata": {},
   "source": []
  },
  {
   "cell_type": "code",
   "execution_count": 100,
   "metadata": {},
   "outputs": [
    {
     "data": {
      "application/vnd.jupyter.widget-view+json": {
       "model_id": "40718d49f4b344c68ba56630c0f4e46a",
       "version_major": 2,
       "version_minor": 0
      },
      "image/png": "[encoded data removed]",
      "text/html": [
       "\n",
       "            <div style=\"display: inline-block;\">\n",
       "                <div class=\"jupyter-widgets widget-label\" style=\"text-align: center;\">\n",
       "                    Figure\n",
       "                </div>\n",
       "                <img src='data:image/png;base64,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' width=1000.0/>\n",
       "            </div>\n",
       "        "
      ],
      "text/plain": [
       "Canvas(toolbar=Toolbar(toolitems=[('Home', 'Reset original view', 'home', 'home'), ('Back', 'Back to previous …"
      ]
     },
     "metadata": {},
     "output_type": "display_data"
    }
   ],
   "source": [
    "# Define parameters\n",
    "a = 50\n",
    "b = 3\n",
    "mc_duo = 1\n",
    "mc = 1\n",
    "\n",
    "# Calculate quantities for each case\n",
    "duopoly_q1_star, duopoly_q2_star, duopoly_total_output = duopoly_case(a, b, mc_duo)\n",
    "oligopoly_q1_star, oligopoly_q2_star, oligopoly_q3_star, oligopoly_total_output = oligopoly_case(a, b, mc)\n",
    "oligopoly_mc_var_q1_star, oligopoly_mc_var_q2_star, oligopoly_mc_var_q3_star, oligopoly_mc_var_total_output = oligopoly_case_mc_var(a, b)\n",
    "\n",
    "# Create a bar plot\n",
    "labels = ['Duopoly', 'Oligopoly\\n(without MC function)', 'Oligopoly\\n(with MC function)']\n",
    "outputs = [duopoly_total_output, oligopoly_total_output, oligopoly_mc_var_total_output]\n",
    "\n",
    "plt.figure(figsize=(10, 6))\n",
    "plt.bar(labels, outputs, color=['blue', 'orange', 'green'])\n",
    "plt.xlabel('Market Structure')\n",
    "plt.ylabel('Total Output')\n",
    "plt.title('Comparison of Total Output Across Market Structures')\n",
    "plt.show()\n"
   ]
  },
  {
   "attachments": {},
   "cell_type": "markdown",
   "metadata": {},
   "source": [
    "The bar plot illustrates the total output across various market structures: duopoly, oligopoly without the marginal cost function, and oligopoly with the marginal cost function.\n",
    "\n",
    "+ In the duopoly case, where only two firms compete, the total output is moderate compered to the other two, reflecting the balance of competition between the two firms.\n",
    "\n",
    "+ In contrast, the total output significantly increases in the oligopoly cases, where three firms compete. In the oligopoly without the marginal cost function leads to a slightly higher total output compared to the duopoly case. This suggests that while the addition of a third firm enhances competition and output, the individual output for each firm is slighly lower compered to the duopoly case.\n",
    "\n",
    "+ Interestingly, when incorporating the marginal cost function in the oligopoly case, the total output further decreases, falling below both the duopoly and oligopoly cases without the marginal cost function. This highlights the importance of considering the marginal cost dynamics in modeling oligopolistic competition, as firms adjust their production levels based on cost considerations.\n",
    "\n",
    "In summary, the figure demonstrates how different market structures and the incorporation of marginal cost dynamics can impact the total output in an industry. Understanding these dynamics is crucial for analyzing market behavior and making informed policy decisions."
   ]
  },
  {
   "attachments": {},
   "cell_type": "markdown",
   "metadata": {},
   "source": [
    "**Acknowledging the Stackelberg Model Extension**\n",
    "\n",
    "We could have expanded our analysis to include the Stackelberg model, where one firm acts as a leader and sets both price and quantity, while the other firm, the follower, adjusts its output accordingly. In this model, the leader typically enjoys higher profits, benefiting from its first-mover advantage. However, the follower may experience reduced profits due to the competitive response required. This extension would have provided insights into leadership dynamics and their impact on profitability in oligopolistic markets"
   ]
  }
 ],
 "metadata": {
  "kernelspec": {
   "display_name": "Python 3",
   "language": "python",
   "name": "python3"
  },
  "language_info": {
   "codemirror_mode": {
    "name": "ipython",
    "version": 3
   },
   "file_extension": ".py",
   "mimetype": "text/x-python",
   "name": "python",
   "nbconvert_exporter": "python",
   "pygments_lexer": "ipython3",
   "version": "3.11.7"
  },
  "toc-autonumbering": true,
  "vscode": {
   "interpreter": {
    "hash": "d082443479dcf0bb109497657c949fcf3a4bd1d96297faded59d95be7509270b"
   }
  }
 },
 "nbformat": 4,
 "nbformat_minor": 4
}
