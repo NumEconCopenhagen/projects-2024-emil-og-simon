{
 "cells": [
  {
   "cell_type": "markdown",
   "metadata": {},
   "source": [
    "# Competition in an oligopolistic market \n",
    "## - The Cournot Model"
   ]
  },
  {
   "cell_type": "markdown",
   "metadata": {},
   "source": [
    "Imports and set magics:"
   ]
  },
  {
   "cell_type": "code",
   "execution_count": null,
   "metadata": {},
   "outputs": [],
   "source": [
    "import numpy as np\n",
    "from scipy import optimize\n",
    "import sympy as sm\n",
    "import matplotlib.pyplot as plt\n",
    "from mpl_toolkits.mplot3d import Axes3D\n",
    "import ipywidgets as widgets\n",
    "\n",
    "# autoreload modules when code is run\n",
    "%load_ext autoreload\n",
    "%autoreload 2\n",
    "\n",
    "# local modules\n",
    "#from modelproject import CournotModelClass"
   ]
  },
  {
   "cell_type": "markdown",
   "metadata": {},
   "source": [
    "# Model description"
   ]
  },
  {
   "attachments": {},
   "cell_type": "markdown",
   "metadata": {},
   "source": [
    "**Description**\n",
    "\n",
    "Cournot competition descibes an industry wherein competing firms, who offers identical products. The firms complete via the quantity of output they individually produce, simultaneously and autonomously. This model is named after its founder, the French mathematician Augustin Cournot."
   ]
  },
  {
   "attachments": {},
   "cell_type": "markdown",
   "metadata": {},
   "source": [
    "Firstly, we will take a look at the case of a duoploy where only two firms are competing the a given market. the model are given as followed:"
   ]
  },
  {
   "attachments": {},
   "cell_type": "markdown",
   "metadata": {},
   "source": [
    "$$\n",
    "\\begin{aligned}\n",
    "\\Pi_1(Q) & =p(Q)q_1-q_1MC_1 \\\\\n",
    "\\Pi_2(Q) & =p(Q)q_2-q_1MC_2 \\\\\n",
    "\\end{aligned}\n",
    "$$"
   ]
  },
  {
   "attachments": {},
   "cell_type": "markdown",
   "metadata": {},
   "source": [
    "In the profit functions provided earlier, price is determined by the total output denoted as $Q$, where for two firms, the total output $Q$ equals the sum of their individual outputs $q_1$ and $q_2$. As an illustrative example, let's assume that the price (expressed as the inverse demand function) follows a linear format, represented by $p = a + bQ$. Consequently, the inverse demand function can be expressed as $p = a + q_1b + q_2b$."
   ]
  },
  {
   "cell_type": "markdown",
   "metadata": {},
   "source": [
    "## Analytical solution"
   ]
  },
  {
   "attachments": {},
   "cell_type": "markdown",
   "metadata": {},
   "source": [
    "The initial segment of this project involves an analytical solution to the Cournot model. Although we acknowledge that this aspect of the project may not be particularly crucial, it is nonetheless essential to include. We utilized the SymPy function for this purpose, and the solution is presented below."
   ]
  },
  {
   "cell_type": "code",
   "execution_count": null,
   "metadata": {},
   "outputs": [],
   "source": [
    "#model = CournotModelClass()\n",
    "\n",
    "\n",
    "#sol = model.sympy_solve()\n",
    "#print(\"Symbolic solution for q1:\", sol)"
   ]
  },
  {
   "cell_type": "markdown",
   "metadata": {},
   "source": [
    "**Setting up with SymPy**"
   ]
  },
  {
   "cell_type": "code",
   "execution_count": null,
   "metadata": {},
   "outputs": [],
   "source": [
    "a = sm.symbols('a')\n",
    "b = sm.symbols('b')\n",
    "pi_1 = sm.symbols('pi_1')\n",
    "pi_2 = sm.symbols('pi_2')\n",
    "mc = sm.symbols('MC')\n",
    "q1 = sm.symbols('q_1')\n",
    "q2 = sm.symbols('q_2')\n",
    "q_star = sm.symbols('q^*')"
   ]
  },
  {
   "cell_type": "markdown",
   "metadata": {},
   "source": [
    "**Profit functions for each firm**"
   ]
  },
  {
   "cell_type": "code",
   "execution_count": null,
   "metadata": {},
   "outputs": [],
   "source": [
    "profit_1 = sm.Eq(pi_1,(a-b*q1-b*q2-mc)*q1)\n",
    "profit_1"
   ]
  },
  {
   "cell_type": "code",
   "execution_count": null,
   "metadata": {},
   "outputs": [],
   "source": [
    "profit_2 = sm.Eq(pi_2,(a-b*q1-b*q2-mc)*q2)\n",
    "profit_2"
   ]
  },
  {
   "cell_type": "markdown",
   "metadata": {},
   "source": [
    "**FOC for each firm**"
   ]
  },
  {
   "cell_type": "code",
   "execution_count": null,
   "metadata": {},
   "outputs": [],
   "source": [
    "#FOC firm 1\n",
    "profit_1 = (a-b*q1-b*q2-mc)*q1\n",
    "foc_q1 = sm.diff(profit_1, q1)\n",
    "foc_q1"
   ]
  },
  {
   "cell_type": "code",
   "execution_count": null,
   "metadata": {},
   "outputs": [],
   "source": [
    "#FOC firm 2\n",
    "profit_2 = (a-b*q1-b*q2-mc)*q2\n",
    "foc_q2 = sm.diff(profit_2, q2)\n",
    "foc_q2"
   ]
  },
  {
   "cell_type": "markdown",
   "metadata": {},
   "source": [
    "**Solving for q1 and q2**"
   ]
  },
  {
   "cell_type": "code",
   "execution_count": null,
   "metadata": {},
   "outputs": [],
   "source": [
    "#We solve FOC1 for q1\n",
    "solve_q1 = sm.solve(foc_q1,q1)\n",
    "solve_q1[0]"
   ]
  },
  {
   "cell_type": "code",
   "execution_count": null,
   "metadata": {},
   "outputs": [],
   "source": [
    "#We solve FOC2 for q2\n",
    "solve_q2 = sm.solve(foc_q2,q2)\n",
    "solve_q2[0]"
   ]
  },
  {
   "cell_type": "code",
   "execution_count": null,
   "metadata": {},
   "outputs": [],
   "source": [
    "solve_q1_subs = solve_q1[0].subs(q2,q_star)\n",
    "solve_q1_subs"
   ]
  },
  {
   "cell_type": "code",
   "execution_count": null,
   "metadata": {},
   "outputs": [],
   "source": [
    "solve_q2_subs = solve_q2[0].subs(q1,q_star)\n",
    "solve_q2_subs"
   ]
  },
  {
   "cell_type": "code",
   "execution_count": null,
   "metadata": {},
   "outputs": [],
   "source": [
    "nash_eq = sm.Eq(q_star,solve_q1_subs)\n",
    "nash_eq"
   ]
  },
  {
   "cell_type": "code",
   "execution_count": null,
   "metadata": {},
   "outputs": [],
   "source": [
    "nash_eq_solve = sm.solve(nash_eq,q_star)\n",
    "nash_eq_solve[0]"
   ]
  },
  {
   "attachments": {},
   "cell_type": "markdown",
   "metadata": {},
   "source": [
    "Using SymPy, we derived the response functions for both firms and determined the Nash Equilibrium, which is:\n",
    "\n",
    "$$\n",
    "\\begin{aligned}\n",
    "\\ q_1 = q_2 = \\frac{a - bq^*-MC}{2b} \\\n",
    "\\end{aligned}\n",
    "$$\n",
    "$$\n",
    "\\begin{aligned}\n",
    "\\ Nash & = \\frac{a - MC}{3b} \\\n",
    "\\end{aligned}\n",
    "$$"
   ]
  },
  {
   "cell_type": "markdown",
   "metadata": {},
   "source": [
    "**Creating functions using Lamdify**"
   ]
  },
  {
   "attachments": {},
   "cell_type": "markdown",
   "metadata": {},
   "source": [
    "After utilizing SymPy to derive the solution, we will employ lambdify to convert these  expressions into callable functions. By doing so, we can efficiently evaluate these expressions using specific numerical values, facilitating numerical analysis and computation"
   ]
  },
  {
   "cell_type": "code",
   "execution_count": null,
   "metadata": {},
   "outputs": [],
   "source": [
    "best_resp_q1 = sm.lambdify(args=(a,b,mc),expr=solve_q1[0])\n",
    "best_resp_q2 = sm.lambdify(args=(a,b,mc),expr=solve_q2[0])\n",
    "nash_qstar = sm.lambdify(args=(a,b,mc),expr=nash_eq_solve[0])"
   ]
  },
  {
   "cell_type": "code",
   "execution_count": null,
   "metadata": {},
   "outputs": [],
   "source": [
    "a_val = 50\n",
    "b_val = 3\n",
    "mc_vec = np.array([1,2,3,4,5])\n",
    "\n",
    "nash_mc = nash_qstar(a_val, b_val, mc_vec)\n",
    "\n",
    "for n in nash_mc:\n",
    "    print(f'q*: {n:1.3f}')\n"
   ]
  },
  {
   "cell_type": "markdown",
   "metadata": {},
   "source": [
    "## Numerical solution"
   ]
  },
  {
   "attachments": {},
   "cell_type": "markdown",
   "metadata": {},
   "source": [
    "Once the analytical solution has been obtained, we will proceed to solve the model numerically. Initially, we will employ an optimizer followed by a root finder to determine the quantities for the two firms. Below, you will find the relevant code for this numerical solution process."
   ]
  },
  {
   "cell_type": "code",
   "execution_count": null,
   "metadata": {},
   "outputs": [],
   "source": [
    "\n",
    "def profit_1_num(a,b,q1,q2,mc):\n",
    "        return (a-b*q1-b*q2-mc)*q1\n",
    "\n",
    "def BR1(q2,a,b,mc):\n",
    "       sol_BR1 = optimize.minimize(lambda q: -profit_1_num(a,b,q,q2,mc),x0=0.1,bounds=[(0, None)])\n",
    "       return sol_BR1.x[0]\n",
    "       \n",
    "def profit_2_num(a,b,q1,q2,mc):\n",
    "        return (a-b*q1-b*q2-mc)*q2\n",
    "\n",
    "def BR2(q1,a,b,mc):\n",
    "       sol_BR2 = optimize.minimize(lambda q: -profit_2_num(a,b,q1,q,mc),x0=0.1,bounds=[(0, None)])\n",
    "       return sol_BR2.x[0]\n",
    "\n",
    "def H(q, a, b, mc):\n",
    "    q1,q2 = q\n",
    "    err1 = BR1(q2,a,b,mc)-q1\n",
    "    err2 = BR2(q1,a,b,mc)-q2\n",
    "    return [err1, err2]\n",
    "\n",
    "a = 50\n",
    "b = 3\n",
    "mc = 2\n",
    "\n",
    "# Solve for Nash equilibrium\n",
    "result = optimize.root(lambda q: H(q, a, b, mc), [0.1, 0.1])\n",
    "\n",
    "# Extract equilibrium quantities\n",
    "q_star = result.x\n",
    "q1_star, q2_star = q_star\n",
    "\n",
    "print(\"Nash Equilibrium:\")\n",
    "print(\"q1* =\", q1_star)\n",
    "print(\"q2* =\", q2_star)\n"
   ]
  },
  {
   "attachments": {},
   "cell_type": "markdown",
   "metadata": {},
   "source": [
    "By experimenting with the value of MC within the range of 1 to 5, you will observe that both the analytical and numerical solutions yield identical results, indicating a promising consistency between the two methods."
   ]
  },
  {
   "attachments": {},
   "cell_type": "markdown",
   "metadata": {},
   "source": [
    "To illustarte this, we will plot the solution below."
   ]
  },
  {
   "cell_type": "code",
   "execution_count": null,
   "metadata": {},
   "outputs": [],
   "source": [
    "# Define the range of q1 and q2 values\n",
    "q_values = np.linspace(0, 15, 100)\n",
    "\n",
    "# Calculate corresponding q1 values using the best response function for firm 1\n",
    "q1_values = [BR1(q2, a, b, mc) for q2 in q_values]\n",
    "\n",
    "# Calculate corresponding q2 values using the best response function for firm 2\n",
    "q2_values = [BR2(q1, a, b, mc) for q1 in q_values]\n",
    "\n",
    "plt.plot(q1_values, q_values, label='Best Response Firm 1', color='blue')\n",
    "plt.plot(q_values, q2_values, label='Best Response Firm 2', color='red')\n",
    "\n",
    "plt.scatter(q1_star, q2_star, color='green', label='Nash Equilibrium')\n",
    "\n",
    "plt.xlabel('q1')\n",
    "plt.ylabel('q2')\n",
    "plt.title('Best Response Functions and Nash Equilibrium')\n",
    "plt.legend()\n",
    "plt.grid(True)\n",
    "\n",
    "plt.show()\n"
   ]
  },
  {
   "cell_type": "code",
   "execution_count": null,
   "metadata": {},
   "outputs": [],
   "source": [
    "import numpy as np\n",
    "import matplotlib.pyplot as plt\n",
    "from scipy import optimize\n",
    "import ipywidgets as widgets\n",
    "\n",
    "def profit_1_num(a, b, q1, q2, mc):\n",
    "    return (a - b * q1 - b * q2 - mc) * q1\n",
    "\n",
    "def BR1(q2, a, b, mc):\n",
    "    sol_BR1 = optimize.minimize(lambda q: -profit_1_num(a, b, q, q2, mc), x0=0.1, bounds=[(0, None)])\n",
    "    return sol_BR1.x[0]\n",
    "\n",
    "def profit_2_num(a, b, q1, q2, mc):\n",
    "    return (a - b * q1 - b * q2 - mc) * q2\n",
    "\n",
    "def BR2(q1, a, b, mc):\n",
    "    sol_BR2 = optimize.minimize(lambda q: -profit_2_num(a, b, q1, q, mc), x0=0.1, bounds=[(0, None)])\n",
    "    return sol_BR2.x[0]\n",
    "\n",
    "def H(q, a, b, mc):\n",
    "    q1, q2 = q\n",
    "    err1 = BR1(q2, a, b, mc) - q1\n",
    "    err2 = BR2(q1, a, b, mc) - q2\n",
    "    return [err1, err2]\n",
    "\n",
    "a = 50\n",
    "b = 3\n",
    "mc_default = 5\n",
    "\n",
    "result = optimize.root(lambda q: H(q, a, b, mc_default), [0.1, 0.1])\n",
    "q_star = result.x\n",
    "q1_star, q2_star = q_star\n",
    "\n",
    "q_values = np.linspace(0, 15, 100)\n",
    "\n",
    "def update_plot(mc=mc_default):\n",
    "    q1_values = [BR1(q2, a, b, mc) for q2 in q_values]\n",
    "    q2_values = [BR2(q1, a, b, mc) for q1 in q_values]\n",
    "    \n",
    "    plt.figure(figsize=(8, 6))\n",
    "    plt.plot(q1_values, q_values, label='Best Response Firm 1', color='blue')\n",
    "    plt.plot(q_values, q2_values, label='Best Response Firm 2', color='red')\n",
    "    plt.scatter(q1_star, q2_star, color='green', label='Nash Equilibrium')\n",
    "    plt.xlabel('q1')\n",
    "    plt.ylabel('q2')\n",
    "    plt.title('Best Response Functions and Nash Equilibrium')\n",
    "    plt.legend()\n",
    "    plt.grid(True)\n",
    "    plt.show()\n",
    "\n",
    "widgets.interact(update_plot, mc=(1, 5, 0.1))\n"
   ]
  },
  {
   "cell_type": "code",
   "execution_count": null,
   "metadata": {},
   "outputs": [],
   "source": [
    "%matplotlib widget\n",
    "\n",
    "def total_profit(q, a, b, mc):\n",
    "    q1, q2 = q\n",
    "    return profit_1_num(a, b, q1, q2, mc) + profit_2_num(a, b, q1, q2, mc)\n",
    "\n",
    "profit_star = total_profit(q_star, a, b, mc)\n",
    "\n",
    "q1_range = np.linspace(0, 20, 100)\n",
    "q2_range = np.linspace(0, 20, 100)\n",
    "q1, q2 = np.meshgrid(q1_range, q2_range)\n",
    "profit = total_profit([q1, q2], a, b, mc)\n",
    "\n",
    "profit[profit < 0] = np.nan\n",
    "\n",
    "fig = plt.figure(figsize=(10, 8))\n",
    "ax = fig.add_subplot(111, projection='3d')\n",
    "ax.plot_surface(q1, q2, profit, cmap='viridis', alpha=0.7)\n",
    "ax.scatter(q1_star, q2_star, profit_star, color='red', label='Nash Equilibrium')\n",
    "ax.set_xlabel('q1')\n",
    "ax.set_ylabel('q2')\n",
    "ax.set_zlabel('Total Profit')\n",
    "ax.set_title('Cournot Model')\n",
    "\n",
    "# Annotate Nash equilibrium point\n",
    "ax.text(q1_star, q2_star, profit_star, f'({q1_star:.2f}, {q2_star:.2f}, {profit_star:.2f})', color='black')\n",
    "\n",
    "ax.legend()\n",
    "plt.show()"
   ]
  },
  {
   "cell_type": "markdown",
   "metadata": {},
   "source": [
    "You can always solve a model numerically. \n",
    "\n",
    "Define first the set of parameters you need. \n",
    "\n",
    "Then choose one of the optimization algorithms that we have gone through in the lectures based on what you think is most fitting for your model.\n",
    "\n",
    "Are there any problems with convergence? Does the model converge for all starting values? Make a lot of testing to figure these things out. "
   ]
  },
  {
   "cell_type": "markdown",
   "metadata": {},
   "source": [
    "# Further analysis"
   ]
  },
  {
   "cell_type": "code",
   "execution_count": null,
   "metadata": {},
   "outputs": [],
   "source": [
    "# Define profit functions and best response functions for Firm 1\n",
    "def profit_1_num(a, b, q1, q2, q3, mc):\n",
    "    return (a - b*q1 - b*q2 - b*q3 - mc) * q1\n",
    "\n",
    "def BR1(q2, q3, a, b, mc):\n",
    "    sol_BR1 = optimize.minimize(lambda q: -profit_1_num(a, b, q, q2, q3, mc), x0=0.1, bounds=[(0, None)])\n",
    "    return sol_BR1.x[0]  \n",
    "\n",
    "# Define profit functions and best response functions for Firm 2\n",
    "def profit_2_num(a, b, q1, q2, q3, mc):\n",
    "    return (a - b*q1 - b*q2 - b*q3 - mc) * q2\n",
    "\n",
    "def BR2(q1, q3, a, b, mc):\n",
    "    sol_BR2 = optimize.minimize(lambda q: -profit_2_num(a, b, q1, q, q3, mc), x0=0.1, bounds=[(0, None)])\n",
    "    return sol_BR2.x[0]\n",
    "\n",
    "# Define profit functions and best response functions for Firm 3\n",
    "def profit_3_num(a, b, q1, q2, q3, mc):\n",
    "    return (a - b*q1 - b*q2 - b*q3 - mc) * q3\n",
    "\n",
    "def BR3(q1, q2, a, b, mc):\n",
    "    sol_BR3 = optimize.minimize(lambda q: -profit_3_num(a, b, q1, q2, q, mc), x0=0.1, bounds=[(0, None)])\n",
    "    return sol_BR3.x[0]\n",
    "\n",
    "# Define function H(q)\n",
    "def H(q, a, b, mc):\n",
    "    q1, q2, q3 = q\n",
    "    err1 = BR1(q2, q3, a, b, mc) - q1\n",
    "    err2 = BR2(q1, q3, a, b, mc) - q2\n",
    "    err3 = BR3(q1, q2, a, b, mc) - q3\n",
    "    return [err1, err2, err3]\n",
    "\n",
    "# Set parameters\n",
    "a = 50\n",
    "b = 3\n",
    "mc = 1\n",
    "\n",
    "# Solve for Nash equilibrium\n",
    "result = optimize.root(lambda q: H(q, a, b, mc), [0.1, 0.1, 0.1])\n",
    "\n",
    "# Extract equilibrium quantities\n",
    "q_star = result.x\n",
    "q1_star, q2_star, q3_star = q_star\n",
    "\n",
    "print(\"Nash Equilibrium:\")\n",
    "print(\"q1* =\", q1_star)\n",
    "print(\"q2* =\", q2_star)\n",
    "print(\"q3* =\", q3_star)"
   ]
  },
  {
   "cell_type": "markdown",
   "metadata": {},
   "source": [
    "Make detailed vizualizations of how your model changes with parameter values. \n",
    "\n",
    "Try to make an extension of the model. "
   ]
  },
  {
   "attachments": {},
   "cell_type": "markdown",
   "metadata": {},
   "source": [
    "**The model**\n",
    "\n",
    "$$\n",
    "\\begin{aligned}\n",
    "\\pi_i(q_1,....,q_n) & =q_iP \\left( \\sum_{j=1}^{n}q_j\\right)-C_i(q_i) \\\\\n",
    "\n",
    "\\end{aligned}\n",
    "$$\n",
    "  "
   ]
  },
  {
   "cell_type": "markdown",
   "metadata": {},
   "source": [
    "# Conclusion"
   ]
  },
  {
   "cell_type": "markdown",
   "metadata": {},
   "source": [
    "Add concise conclusion. "
   ]
  }
 ],
 "metadata": {
  "kernelspec": {
   "display_name": "Python 3",
   "language": "python",
   "name": "python3"
  },
  "language_info": {
   "codemirror_mode": {
    "name": "ipython",
    "version": 3
   },
   "file_extension": ".py",
   "mimetype": "text/x-python",
   "name": "python",
   "nbconvert_exporter": "python",
   "pygments_lexer": "ipython3",
   "version": "3.9.7"
  },
  "toc-autonumbering": true,
  "vscode": {
   "interpreter": {
    "hash": "d082443479dcf0bb109497657c949fcf3a4bd1d96297faded59d95be7509270b"
   }
  }
 },
 "nbformat": 4,
 "nbformat_minor": 4
}
