{
 "cells": [
  {
   "cell_type": "markdown",
   "metadata": {},
   "source": [
    "# Competition in an oligopolistic market \n",
    "## - The Cournot Model"
   ]
  },
  {
   "cell_type": "markdown",
   "metadata": {},
   "source": [
    "Imports and set magics:"
   ]
  },
  {
   "cell_type": "code",
   "execution_count": 2,
   "metadata": {},
   "outputs": [],
   "source": [
    "import numpy as np\n",
    "from scipy import optimize\n",
    "import sympy as sm\n",
    "import matplotlib.pyplot as plt\n",
    "from mpl_toolkits.mplot3d import Axes3D\n",
    "import ipywidgets as widgets\n",
    "\n",
    "from modelproject import *\n",
    "\n",
    "# autoreload modules when code is run\n",
    "%load_ext autoreload\n",
    "%autoreload 2\n",
    "\n",
    "# local modules\n",
    "#from modelproject import CournotModelClass"
   ]
  },
  {
   "cell_type": "markdown",
   "metadata": {},
   "source": [
    "# Model description"
   ]
  },
  {
   "attachments": {},
   "cell_type": "markdown",
   "metadata": {},
   "source": [
    "**Description**\n",
    "\n",
    "Cournot competition descibes an industry wherein competing firms, who offers identical products. The firms complete via the quantity of output they individually produce, simultaneously and autonomously. This model is named after its founder, the French mathematician Augustin Cournot."
   ]
  },
  {
   "attachments": {},
   "cell_type": "markdown",
   "metadata": {},
   "source": [
    "Firstly, we will take a look at the case of a duoploy where only two firms are competing the a given market. the model are given as followed:"
   ]
  },
  {
   "attachments": {},
   "cell_type": "markdown",
   "metadata": {},
   "source": [
    "$$\n",
    "\\begin{aligned}\n",
    "\\Pi_1(Q) & =p(Q)q_1-q_1MC_1 \\\\\n",
    "\\Pi_2(Q) & =p(Q)q_2-q_1MC_2 \\\\\n",
    "\\end{aligned}\n",
    "$$"
   ]
  },
  {
   "attachments": {},
   "cell_type": "markdown",
   "metadata": {},
   "source": [
    "In the profit functions provided earlier, price is determined by the total output denoted as $Q$, where for two firms, the total output $Q$ equals the sum of their individual outputs $q_1$ and $q_2$. As an illustrative example, let's assume that the price (expressed as the inverse demand function) follows a linear format, represented by $p = a + bQ$. Consequently, the inverse demand function can be expressed as $p = a + q_1b + q_2b$."
   ]
  },
  {
   "cell_type": "markdown",
   "metadata": {},
   "source": [
    "## Analytical solution"
   ]
  },
  {
   "attachments": {},
   "cell_type": "markdown",
   "metadata": {},
   "source": [
    "The initial segment of this project involves an analytical solution to the Cournot model. Although we acknowledge that this aspect of the project may not be particularly crucial, it is nonetheless essential to include. We utilized the SymPy function for this purpose, and the solution is presented below."
   ]
  },
  {
   "cell_type": "code",
   "execution_count": null,
   "metadata": {},
   "outputs": [],
   "source": [
    "#model = CournotModelClass()\n",
    "\n",
    "\n",
    "#sol = model.sympy_solve()\n",
    "#print(\"Symbolic solution for q1:\", sol)"
   ]
  },
  {
   "cell_type": "markdown",
   "metadata": {},
   "source": [
    "**Setting up with SymPy**"
   ]
  },
  {
   "cell_type": "code",
   "execution_count": null,
   "metadata": {},
   "outputs": [],
   "source": [
    "a = sm.symbols('a')\n",
    "b = sm.symbols('b')\n",
    "pi_1 = sm.symbols('pi_1')\n",
    "pi_2 = sm.symbols('pi_2')\n",
    "mc = sm.symbols('MC')\n",
    "q1 = sm.symbols('q_1')\n",
    "q2 = sm.symbols('q_2')\n",
    "q_star = sm.symbols('q^*')"
   ]
  },
  {
   "cell_type": "markdown",
   "metadata": {},
   "source": [
    "**Profit functions for each firm**"
   ]
  },
  {
   "cell_type": "code",
   "execution_count": null,
   "metadata": {},
   "outputs": [],
   "source": [
    "profit_1 = sm.Eq(pi_1,(a-b*q1-b*q2-mc)*q1)\n",
    "profit_1"
   ]
  },
  {
   "cell_type": "code",
   "execution_count": null,
   "metadata": {},
   "outputs": [],
   "source": [
    "profit_2 = sm.Eq(pi_2,(a-b*q1-b*q2-mc)*q2)\n",
    "profit_2"
   ]
  },
  {
   "cell_type": "markdown",
   "metadata": {},
   "source": [
    "**FOC for each firm**"
   ]
  },
  {
   "cell_type": "code",
   "execution_count": null,
   "metadata": {},
   "outputs": [],
   "source": [
    "#FOC firm 1\n",
    "profit_1 = (a-b*q1-b*q2-mc)*q1\n",
    "foc_q1 = sm.diff(profit_1, q1)\n",
    "foc_q1"
   ]
  },
  {
   "cell_type": "code",
   "execution_count": null,
   "metadata": {},
   "outputs": [],
   "source": [
    "#FOC firm 2\n",
    "profit_2 = (a-b*q1-b*q2-mc)*q2\n",
    "foc_q2 = sm.diff(profit_2, q2)\n",
    "foc_q2"
   ]
  },
  {
   "cell_type": "markdown",
   "metadata": {},
   "source": [
    "**Solving for q1 and q2**"
   ]
  },
  {
   "cell_type": "code",
   "execution_count": null,
   "metadata": {},
   "outputs": [],
   "source": [
    "#We solve FOC1 for q1\n",
    "solve_q1 = sm.solve(foc_q1,q1)\n",
    "solve_q1[0]"
   ]
  },
  {
   "cell_type": "code",
   "execution_count": null,
   "metadata": {},
   "outputs": [],
   "source": [
    "#We solve FOC2 for q2\n",
    "solve_q2 = sm.solve(foc_q2,q2)\n",
    "solve_q2[0]"
   ]
  },
  {
   "cell_type": "code",
   "execution_count": null,
   "metadata": {},
   "outputs": [],
   "source": [
    "solve_q1_subs = solve_q1[0].subs(q2,q_star)\n",
    "solve_q1_subs"
   ]
  },
  {
   "cell_type": "code",
   "execution_count": null,
   "metadata": {},
   "outputs": [],
   "source": [
    "solve_q2_subs = solve_q2[0].subs(q1,q_star)\n",
    "solve_q2_subs"
   ]
  },
  {
   "cell_type": "code",
   "execution_count": null,
   "metadata": {},
   "outputs": [],
   "source": [
    "nash_eq = sm.Eq(q_star,solve_q1_subs)\n",
    "nash_eq"
   ]
  },
  {
   "cell_type": "code",
   "execution_count": null,
   "metadata": {},
   "outputs": [],
   "source": [
    "nash_eq_solve = sm.solve(nash_eq,q_star)\n",
    "nash_eq_solve[0]"
   ]
  },
  {
   "attachments": {},
   "cell_type": "markdown",
   "metadata": {},
   "source": [
    "Using SymPy, we derived the response functions for both firms and determined the Nash Equilibrium, which is:\n",
    "\n",
    "$$\n",
    "\\begin{aligned}\n",
    "\\ q_1 = q_2 = \\frac{a - bq^*-MC}{2b} \\\n",
    "\\end{aligned}\n",
    "$$\n",
    "$$\n",
    "\\begin{aligned}\n",
    "\\ Nash & = \\frac{a - MC}{3b} \\\n",
    "\\end{aligned}\n",
    "$$"
   ]
  },
  {
   "cell_type": "markdown",
   "metadata": {},
   "source": [
    "**Creating functions using Lamdify**"
   ]
  },
  {
   "attachments": {},
   "cell_type": "markdown",
   "metadata": {},
   "source": [
    "After utilizing SymPy to derive the solution, we will employ lambdify to convert these  expressions into callable functions. By doing so, we can efficiently evaluate these expressions using specific numerical values, facilitating numerical analysis and computation"
   ]
  },
  {
   "cell_type": "code",
   "execution_count": null,
   "metadata": {},
   "outputs": [],
   "source": [
    "best_resp_q1 = sm.lambdify(args=(a,b,mc),expr=solve_q1[0])\n",
    "best_resp_q2 = sm.lambdify(args=(a,b,mc),expr=solve_q2[0])\n",
    "nash_qstar = sm.lambdify(args=(a,b,mc),expr=nash_eq_solve[0])"
   ]
  },
  {
   "cell_type": "code",
   "execution_count": null,
   "metadata": {},
   "outputs": [],
   "source": [
    "a_val = 50\n",
    "b_val = 3\n",
    "mc_vec = np.linspace(1,10,10)\n",
    "\n",
    "nash_eq = nash_qstar(a_val, b_val, mc_vec)\n",
    "\n",
    "for mc, n in zip(mc_vec, nash_eq):\n",
    "    print(f'For mc = {mc:1.1f}, we have q* = {n:1.3f}')\n"
   ]
  },
  {
   "cell_type": "markdown",
   "metadata": {},
   "source": [
    "## Numerical solution"
   ]
  },
  {
   "attachments": {},
   "cell_type": "markdown",
   "metadata": {},
   "source": [
    "Once the analytical solution has been obtained, we will proceed to solve the model numerically. Initially, we will employ an optimizer followed by a root finder to determine the quantities for the two firms. Below, you will find the relevant code for this numerical solution process."
   ]
  },
  {
   "cell_type": "code",
   "execution_count": 8,
   "metadata": {},
   "outputs": [
    {
     "name": "stdout",
     "output_type": "stream",
     "text": [
      "Nash Equilibrium for mc1 = mc2 = 1\n",
      "q1* = 5.444\n",
      "q2* = 5.444\n",
      "Total Output = 10.889\n"
     ]
    }
   ],
   "source": [
    "\n",
    "a = 50\n",
    "b = 3\n",
    "mc_duo = 1\n",
    "\n",
    "# We call the function from our py-file.\n",
    "q1_star, q2_star, total_output = nash_eq_duo(a, b, mc_duo)"
   ]
  },
  {
   "attachments": {},
   "cell_type": "markdown",
   "metadata": {},
   "source": [
    "By experimenting with the value of MC within the range of 1 to 5, you will observe that both the analytical and numerical solutions yield identical results, indicating a promising consistency between the two methods."
   ]
  },
  {
   "attachments": {},
   "cell_type": "markdown",
   "metadata": {},
   "source": [
    "To illustarte this, we will plot the solution below."
   ]
  },
  {
   "cell_type": "code",
   "execution_count": null,
   "metadata": {},
   "outputs": [],
   "source": [
    "a = 50\n",
    "b = 3\n",
    "mc_default = 5\n",
    "\n",
    "result = optimize.root(lambda q: H_duo(q, a, b, mc_default), [0.1, 0.1])\n",
    "q_star = result.x\n",
    "q1_star, q2_star = q_star\n",
    "\n",
    "q_values = np.linspace(0, 15, 100)\n",
    "\n",
    "def update_plot(mc=mc_default):\n",
    "    q1_values = [BR1_duo(q2, a, b, mc) for q2 in q_values]\n",
    "    q2_values = [BR2_duo(q1, a, b, mc) for q1 in q_values]\n",
    "    \n",
    "    result = optimize.root(lambda q: H_duo(q, a, b, mc), [0.1, 0.1])\n",
    "    q_star = result.x\n",
    "    q1_star, q2_star = q_star\n",
    "    \n",
    "    plt.figure(figsize=(8, 6))\n",
    "    plt.plot(q1_values, q_values, label='Best Response Firm 1', color='blue')\n",
    "    plt.plot(q_values, q2_values, label='Best Response Firm 2', color='red')\n",
    "    plt.scatter(q1_star, q2_star, color='green', label='Nash Equilibrium')\n",
    "    plt.plot([q1_star, q1_star], [0, q2_star], color='green', linestyle='--')\n",
    "    plt.plot([0, q1_star], [q2_star, q2_star], color='green', linestyle='--')\n",
    "    plt.xlim(0, None)  # Setting x-axis limit to only show positive values\n",
    "    plt.ylim(0, None)  # Setting y-axis limit to only show positive values\n",
    "    plt.xlabel('q1')\n",
    "    plt.ylabel('q2')\n",
    "    plt.title('Best Response Functions and Nash Equilibrium')\n",
    "    plt.legend()\n",
    "    plt.grid(True)\n",
    "    plt.show()\n",
    "\n",
    "widgets.interact(update_plot, mc=(1, 30, 1))\n"
   ]
  },
  {
   "cell_type": "code",
   "execution_count": null,
   "metadata": {},
   "outputs": [],
   "source": [
    "a = 50\n",
    "b = 3\n",
    "mc_duo = 1\n",
    "\n",
    "# We call the function from our py-file.\n",
    "q1_star, q2_star, total_output = nash_eq_duo(a, b, mc_duo)"
   ]
  },
  {
   "attachments": {},
   "cell_type": "markdown",
   "metadata": {},
   "source": [
    "We've incorporated a slider for the marginal cost (MC) to demonstrate how changes in firms' marginal costs affect the solution of the model. As anticipated, when firms face rising marginal costs, their total output decreases."
   ]
  },
  {
   "cell_type": "code",
   "execution_count": null,
   "metadata": {},
   "outputs": [],
   "source": [
    "#%matplotlib widget\n",
    "\n",
    "#def tot_profit_duo(q, a, b, mc):\n",
    "    #q1, q2 = q\n",
    "    #return profit_1_duo(a, b, q1, q2, mc) + profit_2_duo(a, b, q1, q2, mc)\n",
    "\n",
    "#profit_star = tot_profit_duo(q_star, a, b, mc)\n",
    "\n",
    "#q1_range = np.linspace(0, 20, 100)\n",
    "#q2_range = np.linspace(0, 20, 100)\n",
    "#q1, q2 = np.meshgrid(q1_range, q2_range)\n",
    "#profit = tot_profit_duo([q1, q2], a, b, mc)\n",
    "\n",
    "#profit[profit < 0] = np.nan\n",
    "\n",
    "#fig = plt.figure(figsize=(10, 8))\n",
    "#ax = fig.add_subplot(111, projection='3d')\n",
    "#ax.plot_surface(q1, q2, profit, cmap='viridis', alpha=0.7)\n",
    "#ax.scatter(q1_star, q2_star, profit_star, color='red', label='Nash Equilibrium')\n",
    "#ax.set_xlabel('q1')\n",
    "#ax.set_ylabel('q2')\n",
    "#ax.set_zlabel('Total Profit')\n",
    "#ax.set_title('Cournot Model')\n",
    "\n",
    "# Annotate Nash equilibrium point\n",
    "#ax.text(q1_star, q2_star, profit_star, f'({q1_star:.2f}, {q2_star:.2f}, {profit_star:.2f})', color='black')\n",
    "\n",
    "#ax.legend()\n",
    "#plt.show()"
   ]
  },
  {
   "cell_type": "markdown",
   "metadata": {},
   "source": [
    "You can always solve a model numerically. \n",
    "\n",
    "Define first the set of parameters you need. \n",
    "\n",
    "Then choose one of the optimization algorithms that we have gone through in the lectures based on what you think is most fitting for your model.\n",
    "\n",
    "Are there any problems with convergence? Does the model converge for all starting values? Make a lot of testing to figure these things out. "
   ]
  },
  {
   "cell_type": "markdown",
   "metadata": {},
   "source": [
    "# Further analysis"
   ]
  },
  {
   "cell_type": "markdown",
   "metadata": {},
   "source": []
  },
  {
   "cell_type": "markdown",
   "metadata": {},
   "source": [
    "**Adding another firm - From duopoly to oligopoly**\n",
    "\n",
    "We start by adapting the model to a oligopoly scenario by adding a profit function and a best response function for Firm 3. This alters the profit functions for Firm 1 and 2, as they now have to take into account the quantity produced by Firm 3. This also effects the best response functions of the three firms as we see below and also the H-function. However, aside from this, the method is the same as used in the numerical solution with the duopol above. "
   ]
  },
  {
   "cell_type": "code",
   "execution_count": null,
   "metadata": {},
   "outputs": [],
   "source": [
    "# We define the profit function and Best Response function for firm 1:\n",
    "def profit_1_oligo(a,b,q1,q2,q3,mc):\n",
    "    return (a-b*q1-b*q2-b*q3-mc)*q1\n",
    "\n",
    "def BR1_oligo(q2,q3,a,b,mc):\n",
    "    sol_BR1_oligo = optimize.minimize(lambda q: -profit_1_oligo(a,b,q,q2,q3,mc), x0=0.1, bounds=[(0, None)])\n",
    "    return sol_BR1_oligo.x[0]  \n",
    "\n",
    "# We define the profit function and Best Response function for firm 2:\n",
    "def profit_2_oligo(a,b,q1,q2,q3,mc):\n",
    "    return (a-b*q1-b*q2-b*q3-mc)*q2\n",
    "\n",
    "def BR2_oligo(q1, q3, a, b, mc):\n",
    "    sol_BR2_oligo = optimize.minimize(lambda q: -profit_2_oligo(a,b,q1,q,q3,mc), x0=0.1, bounds=[(0, None)])\n",
    "    return sol_BR2_oligo.x[0]\n",
    "\n",
    "# We define the profit function and Best Response function for firm 3 that makes it and oligopoly:\n",
    "def profit_3_oligo(a,b,q1,q2,q3,mc):\n",
    "    return (a-b*q1-b*q2-b*q3-mc)*q3\n",
    "\n",
    "def BR3_oligo(q1,q2,a,b,mc):\n",
    "    sol_BR3_oligo = optimize.minimize(lambda q: -profit_3_oligo(a,b,q1,q2,q,mc), x0=0.1, bounds=[(0, None)])\n",
    "    return sol_BR3_oligo.x[0]\n",
    "\n",
    "# We adjust the H-function to take into account Firm 3 as it is now returning err3 aswell:\n",
    "def H_oligo(q,a,b,mc):\n",
    "    q1, q2, q3 = q\n",
    "    err1 = BR1_oligo(q2,q3,a,b,mc)-q1\n",
    "    err2 = BR2_oligo(q1,q3,a,b,mc)-q2\n",
    "    err3 = BR3_oligo(q1,q2,a,b,mc)-q3\n",
    "    return [err1, err2, err3]\n",
    "\n",
    "# We set the parameters as we have done previously to se the effect of adding another firm to the market\n",
    "a = 50\n",
    "b = 3\n",
    "mc_oligo = 1\n",
    "\n",
    "# We use optimize.root to solve for the equilibrium quantities and extract them \n",
    "result_oligo = optimize.root(lambda q: H_oligo(q,a,b,mc_oligo), [0.1, 0.1, 0.1])\n",
    "\n",
    "q_star_oligo = result_oligo.x\n",
    "q1_star_oligo, q2_star_oligo, q3_star_oligo = q_star_oligo\n",
    "total_output_oligo = q1_star_oligo + q2_star_oligo + q3_star_oligo\n",
    "\n",
    "print(f'Nash Equilibrium for mc1 = mc2 = mc3 = {mc_oligo:.0f}')\n",
    "print(f'q1* = {q1_star_oligo:1.3f}')\n",
    "print(f'q2* = {q2_star_oligo:1.3f}')\n",
    "print(f'q3* = {q3_star_oligo:1.3f}')\n",
    "print(f'For mc = {mc_oligo:.0f}, the total output in an oligopoly with three firms is: {total_output_oligo:1.3f}')"
   ]
  },
  {
   "cell_type": "markdown",
   "metadata": {},
   "source": [
    "**Oligopoly with individual marginal costs**\n",
    "\n",
    "Next up we want to add to the analysis the effects of marginal costs positively related to the individual quantities produced by the firms. For the optimize problem, we use the nelder-mead method. We have tried with a few other methods, but found that the Nelder-Mead gave the best result, as the bounds provided in the problem ensure that the solution remains within feasible regions (non-negative quantities for production). In this case, the lower bound of 0 ensures that negative quantities are not considered as solutions."
   ]
  },
  {
   "cell_type": "code",
   "execution_count": null,
   "metadata": {},
   "outputs": [],
   "source": [
    "#We define the functions for the firm individual marginal costs\n",
    "def mc1(q1):\n",
    "    return 1.1+(3*q1)\n",
    "\n",
    "def mc2(q2):\n",
    "    return 5+(3*q2)\n",
    "\n",
    "def mc3(q3):\n",
    "    return 3+(1.5*q3)\n",
    "\n",
    "#We adapt the profit functions and Best Response functions for the three firms to account for the marginal cost functions depending on q\n",
    "def profit_1_mc_var(a,b,q1,q2,q3,mc1):\n",
    "    return (a-(q1+q2+q3)*b-mc1)*q1\n",
    "\n",
    "def BR1_mc_var(q2,q3,a,b,mc1):\n",
    "    sol_BR1_mc_var = optimize.minimize(lambda q: -profit_1_mc_var(a,b,q,q2,q3,mc1), x0=0.1, bounds=[(0, None)])\n",
    "    return sol_BR1_mc_var.x[0]  \n",
    "\n",
    "\n",
    "def profit_2_mc_var(a,b,q1,q2,q3,mc2):\n",
    "    return (a-(q1+q2+q3)*b-mc2)*q2\n",
    "\n",
    "def BR2_mc_var(q1,q3,a,b,mc2):\n",
    "    sol_BR2_mc_var = optimize.minimize(lambda q: -profit_2_mc_var(a,b,q1,q,q3,mc2), x0=0.1, bounds=[(0, None)])\n",
    "    return sol_BR2_mc_var.x[0]\n",
    "\n",
    "\n",
    "def profit_3_mc_var(a,b,q1,q2,q3,mc3):\n",
    "    return (a-(q1+q2+q3)*b-mc3)*q3\n",
    "\n",
    "def BR3_mc_var(q1,q2,a,b,mc3):\n",
    "    sol_BR3_mc_var = optimize.minimize(lambda q: -profit_3_mc_var(a,b,q1,q2,q,mc3), x0=0.1, bounds=[(0, None)])\n",
    "    return sol_BR3_mc_var.x[0]\n",
    "\n",
    "#We define the H-function to take into account the individual q\n",
    "def H_mc_var(q,a,b,mc1,mc2,mc3):\n",
    "    q1, q2, q3 = q\n",
    "    err1 = BR1_mc_var(q2,q3,a,b,mc1)-q1\n",
    "    err2 = BR2_mc_var(q1,q3,a,b,mc2)-q2\n",
    "    err3 = BR3_mc_var(q1,q2,a,b,mc3)-q3\n",
    "    return [err1, err2, err3]\n",
    "\n",
    "# We set the parameters as previously\n",
    "a = 50\n",
    "b = 3\n",
    "\n",
    "# We formulate the Cournot equilibrium problem as a minimization problem using the optimize.minimize function. \n",
    "# It minimizes the sum of squares of the errors in the system of equations, while we set the bounds to include only positive solutions.\n",
    "result_mc_var = optimize.minimize(lambda q: np.sum(np.square(H_mc_var(q,a,b, mc1(q[0]), mc2(q[1]), mc3(q[2])))),\n",
    "                           x0=[0.1, 0.1, 0.1], bounds=[(0, None), (0, None), (0, None)], method='nelder-mead')\n",
    "\n",
    "# We extract equilibrium quantities\n",
    "q_star_mc_var = result_mc_var.x\n",
    "q1_star_mc_var, q2_star_mc_var, q3_star_mc_var = q_star_mc_var\n",
    "total_output_mc_var = q1_star_mc_var + q2_star_mc_var + q3_star_mc_var\n",
    "\n",
    "print(\"Nash Equilibrium:\")\n",
    "print(f'q1* = {q1_star_mc_var:1.3f}')\n",
    "print(f'q2* = {q2_star_mc_var:1.3f}')\n",
    "print(f'q3* = {q3_star_mc_var:1.3f}')\n",
    "print(f'In an oligopoly with firm individual and variable MC, the total output is: {total_output_mc_var:1.3f}')"
   ]
  },
  {
   "cell_type": "markdown",
   "metadata": {},
   "source": [
    "We see, that marginal costs for each firm that initially larger than 1 result in less output for each firm as we would expect. Looking closer at the firms, we see:\n",
    "* a larger initial marginal cost result in a smaller output for companies with the same increase in mc per quantity of output (comparing firm 1 and 2).\n",
    "* a relatively smaller increase in mc per quantity of output can have a significant effect on the overall output, as mc is kept low (comparing firm 1 and 3)."
   ]
  },
  {
   "cell_type": "code",
   "execution_count": null,
   "metadata": {},
   "outputs": [],
   "source": [
    "#def mc1(q1):\n",
    "    #return 1+(3*q1)\n",
    "\n",
    "#def mc2(q2):\n",
    "    #return 5+(3*q2)\n",
    "\n",
    "#def mc3(q3):\n",
    "    #return 3+(1.5*q3)\n",
    "\n",
    "\n",
    "#def profit_1_mc_var(a, b, q1, q2, q3, mc1):\n",
    "    #return (a - b * q1 - b * q2 - b * q3 - mc1) * q1\n",
    "\n",
    "#def BR1_mc_var(q2, q3, a, b, mc1):\n",
    "    #sol_BR1_mc_var = optimize.minimize(lambda q: -profit_1_mc_var(a, b, q, q2, q3, mc1), x0=0.1, bounds=[(0, None)])\n",
    "    #return sol_BR1_mc_var.x[0]  \n",
    "\n",
    "\n",
    "#def profit_2_mc_var(a, b, q1, q2, q3, mc2):\n",
    "    #return (a - b * q1 - b * q2 - b * q3 - mc2) * q2\n",
    "\n",
    "#def BR2_mc_var(q1, q3, a, b, mc2):\n",
    "    #sol_BR2_mc_var = optimize.minimize(lambda q: -profit_2_mc_var(a, b, q1, q, q3, mc2), x0=0.1, bounds=[(0, None)])\n",
    "    #return sol_BR2_mc_var.x[0]\n",
    "\n",
    "\n",
    "#def profit_3_mc_var(a, b, q1, q2, q3, mc3):\n",
    "    #return (a - b * q1 - b * q2 - b * q3 - mc3) * q3\n",
    "\n",
    "#def BR3_mc_var(q1, q2, a, b, mc3):\n",
    "    #sol_BR3_mc_var = optimize.minimize(lambda q: -profit_3_mc_var(a, b, q1, q2, q, mc3), x0=0.1, bounds=[(0, None)])\n",
    "    #return sol_BR3_mc_var.x[0]\n",
    "\n",
    "# Define function H(q)\n",
    "#def H_mc_var(q, a, b, mc1, mc2, mc3):\n",
    "    #q1, q2, q3 = q\n",
    "    #err1 = BR1_mc_var(q2, q3, a, b, mc1) - q1\n",
    "    #err2 = BR2_mc_var(q1, q3, a, b, mc2) - q2\n",
    "    #err3 = BR3_mc_var(q1, q2, a, b, mc3) - q3\n",
    "    #return [err1, err2, err3]\n",
    "\n",
    "# Set parameters\n",
    "#a = 50\n",
    "#b = 3\n",
    "\n",
    "#result = optimize.root(lambda q: H_mc_var(q, a, b, mc1, mc2, mc3), [0.1, 0.1, 0.1], method='hybr')\n",
    "\n",
    "# Extract equilibrium quantities\n",
    "#q1_star, q2_star, q3_star = result.x\n",
    "#total_output = q1_star + q2_star + q3_star\n",
    "\n",
    "# Print results\n",
    "#print(\"Nash Equilibrium:\")\n",
    "#print(f'q1* = {q1_star:1.3f}')\n",
    "#print(f'q2* = {q2_star:1.3f}')\n",
    "#print(f'q3* = {q3_star:1.3f}')\n",
    "#print(f'In an oligopoly with firm individual and variable MC, the total output is: {total_output:1.3f}')"
   ]
  },
  {
   "cell_type": "markdown",
   "metadata": {},
   "source": [
    "Make detailed vizualizations of how your model changes with parameter values. \n",
    "\n",
    "Try to make an extension of the model. "
   ]
  },
  {
   "attachments": {},
   "cell_type": "markdown",
   "metadata": {},
   "source": [
    "**The model**\n",
    "\n",
    "$$\n",
    "\\begin{aligned}\n",
    "\\pi_i(q_1,....,q_n) & =q_iP \\left( \\sum_{j=1}^{n}q_j\\right)-C_i(q_i) \\\\\n",
    "\n",
    "\\end{aligned}\n",
    "$$\n",
    "  "
   ]
  },
  {
   "cell_type": "markdown",
   "metadata": {},
   "source": [
    "# Conclusion"
   ]
  },
  {
   "cell_type": "markdown",
   "metadata": {},
   "source": [
    "Add concise conclusion. "
   ]
  }
 ],
 "metadata": {
  "kernelspec": {
   "display_name": "Python 3",
   "language": "python",
   "name": "python3"
  },
  "language_info": {
   "codemirror_mode": {
    "name": "ipython",
    "version": 3
   },
   "file_extension": ".py",
   "mimetype": "text/x-python",
   "name": "python",
   "nbconvert_exporter": "python",
   "pygments_lexer": "ipython3",
   "version": "3.11.7"
  },
  "toc-autonumbering": true,
  "vscode": {
   "interpreter": {
    "hash": "d082443479dcf0bb109497657c949fcf3a4bd1d96297faded59d95be7509270b"
   }
  }
 },
 "nbformat": 4,
 "nbformat_minor": 4
}
