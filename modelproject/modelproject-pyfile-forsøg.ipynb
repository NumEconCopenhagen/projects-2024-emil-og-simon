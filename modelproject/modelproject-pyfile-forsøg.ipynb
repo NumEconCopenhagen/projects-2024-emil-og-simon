{
 "cells": [
  {
   "cell_type": "markdown",
   "metadata": {},
   "source": [
    "# Competition in an oligopolistic market \n",
    "## - The Cournot Model"
   ]
  },
  {
   "cell_type": "markdown",
   "metadata": {},
   "source": [
    "Imports and set magics:"
   ]
  },
  {
   "cell_type": "code",
   "execution_count": 1,
   "metadata": {},
   "outputs": [],
   "source": [
    "import numpy as np\n",
    "from scipy import optimize\n",
    "import sympy as sm\n",
    "import matplotlib.pyplot as plt\n",
    "from mpl_toolkits.mplot3d import Axes3D\n",
    "import ipywidgets as widgets\n",
    "\n",
    "from modelproject import *\n",
    "\n",
    "# autoreload modules when code is run\n",
    "%load_ext autoreload\n",
    "%autoreload 2\n",
    "\n",
    "# local modules\n",
    "#from modelproject import CournotModelClass"
   ]
  },
  {
   "cell_type": "markdown",
   "metadata": {},
   "source": [
    "# Model description"
   ]
  },
  {
   "attachments": {},
   "cell_type": "markdown",
   "metadata": {},
   "source": [
    "**Description**\n",
    "\n",
    "Cournot competition descibes an industry wherein competing firms, who offers identical products. The firms complete via the quantity of output they individually produce, simultaneously and autonomously. This model is named after its founder, the French mathematician Augustin Cournot."
   ]
  },
  {
   "attachments": {},
   "cell_type": "markdown",
   "metadata": {},
   "source": [
    "Firstly, we will take a look at the case of a duoploy where only two firms are competing the a given market. the model are given as followed:"
   ]
  },
  {
   "attachments": {},
   "cell_type": "markdown",
   "metadata": {},
   "source": [
    "$$\n",
    "\\begin{aligned}\n",
    "\\Pi_1(Q) & =p(Q)q_1-q_1MC_1 \\\\\n",
    "\\Pi_2(Q) & =p(Q)q_2-q_1MC_2 \\\\\n",
    "\\end{aligned}\n",
    "$$"
   ]
  },
  {
   "attachments": {},
   "cell_type": "markdown",
   "metadata": {},
   "source": [
    "In the profit functions provided earlier, price is determined by the total output denoted as $Q$, where for two firms, the total output $Q$ equals the sum of their individual outputs $q_1$ and $q_2$. As an illustrative example, let's assume that the price (expressed as the inverse demand function) follows a linear format, represented by $p = a + bQ$. Consequently, the inverse demand function can be expressed as $p = a + q_1b + q_2b$."
   ]
  },
  {
   "cell_type": "markdown",
   "metadata": {},
   "source": [
    "## Analytical solution"
   ]
  },
  {
   "attachments": {},
   "cell_type": "markdown",
   "metadata": {},
   "source": [
    "The initial segment of this project involves an analytical solution to the Cournot model. Although we acknowledge that this aspect of the project may not be particularly crucial, it is nonetheless essential to include. We utilized the SymPy function for this purpose, and the solution is presented below."
   ]
  },
  {
   "cell_type": "markdown",
   "metadata": {},
   "source": [
    "**Setting up with SymPy**"
   ]
  },
  {
   "cell_type": "code",
   "execution_count": null,
   "metadata": {},
   "outputs": [],
   "source": [
    "a = sm.symbols('a')\n",
    "b = sm.symbols('b')\n",
    "pi_1 = sm.symbols('pi_1')\n",
    "pi_2 = sm.symbols('pi_2')\n",
    "mc = sm.symbols('MC')\n",
    "q1 = sm.symbols('q_1')\n",
    "q2 = sm.symbols('q_2')\n",
    "q_star = sm.symbols('q^*')"
   ]
  },
  {
   "cell_type": "markdown",
   "metadata": {},
   "source": [
    "**Profit functions for each firm**"
   ]
  },
  {
   "cell_type": "code",
   "execution_count": null,
   "metadata": {},
   "outputs": [],
   "source": [
    "profit_1 = sm.Eq(pi_1,(a-b*q1-b*q2-mc)*q1)\n",
    "profit_1"
   ]
  },
  {
   "cell_type": "code",
   "execution_count": null,
   "metadata": {},
   "outputs": [],
   "source": [
    "profit_2 = sm.Eq(pi_2,(a-b*q1-b*q2-mc)*q2)\n",
    "profit_2"
   ]
  },
  {
   "cell_type": "markdown",
   "metadata": {},
   "source": [
    "**FOC for each firm**"
   ]
  },
  {
   "cell_type": "code",
   "execution_count": null,
   "metadata": {},
   "outputs": [],
   "source": [
    "#FOC firm 1\n",
    "profit_1 = (a-b*q1-b*q2-mc)*q1\n",
    "foc_q1 = sm.diff(profit_1, q1)\n",
    "foc_q1"
   ]
  },
  {
   "cell_type": "code",
   "execution_count": null,
   "metadata": {},
   "outputs": [],
   "source": [
    "#FOC firm 2\n",
    "profit_2 = (a-b*q1-b*q2-mc)*q2\n",
    "foc_q2 = sm.diff(profit_2, q2)\n",
    "foc_q2"
   ]
  },
  {
   "cell_type": "markdown",
   "metadata": {},
   "source": [
    "**Solving for q1 and q2**"
   ]
  },
  {
   "cell_type": "code",
   "execution_count": null,
   "metadata": {},
   "outputs": [],
   "source": [
    "#We solve FOC1 for q1\n",
    "solve_q1 = sm.solve(foc_q1,q1)\n",
    "solve_q1[0]"
   ]
  },
  {
   "cell_type": "code",
   "execution_count": null,
   "metadata": {},
   "outputs": [],
   "source": [
    "#We solve FOC2 for q2\n",
    "solve_q2 = sm.solve(foc_q2,q2)\n",
    "solve_q2[0]"
   ]
  },
  {
   "cell_type": "code",
   "execution_count": null,
   "metadata": {},
   "outputs": [],
   "source": [
    "solve_q1_subs = solve_q1[0].subs(q2,q_star)\n",
    "solve_q1_subs"
   ]
  },
  {
   "cell_type": "code",
   "execution_count": null,
   "metadata": {},
   "outputs": [],
   "source": [
    "solve_q2_subs = solve_q2[0].subs(q1,q_star)\n",
    "solve_q2_subs"
   ]
  },
  {
   "cell_type": "code",
   "execution_count": null,
   "metadata": {},
   "outputs": [],
   "source": [
    "nash_eq = sm.Eq(q_star,solve_q1_subs)\n",
    "nash_eq"
   ]
  },
  {
   "cell_type": "code",
   "execution_count": null,
   "metadata": {},
   "outputs": [],
   "source": [
    "nash_eq_solve = sm.solve(nash_eq,q_star)\n",
    "nash_eq_solve[0]"
   ]
  },
  {
   "attachments": {},
   "cell_type": "markdown",
   "metadata": {},
   "source": [
    "Using SymPy, we derived the response functions for both firms and determined the Nash Equilibrium, which is:\n",
    "\n",
    "$$\n",
    "\\begin{aligned}\n",
    "\\ q_1 = q_2 = \\frac{a - bq^*-MC}{2b} \\\n",
    "\\end{aligned}\n",
    "$$\n",
    "$$\n",
    "\\begin{aligned}\n",
    "\\ Nash & = \\frac{a - MC}{3b} \\\n",
    "\\end{aligned}\n",
    "$$"
   ]
  },
  {
   "cell_type": "markdown",
   "metadata": {},
   "source": [
    "**Creating functions using Lamdify**"
   ]
  },
  {
   "attachments": {},
   "cell_type": "markdown",
   "metadata": {},
   "source": [
    "After utilizing SymPy to derive the solution, we will employ lambdify to convert these  expressions into callable functions. By doing so, we can efficiently evaluate these expressions using specific numerical values, facilitating numerical analysis and computation"
   ]
  },
  {
   "cell_type": "code",
   "execution_count": null,
   "metadata": {},
   "outputs": [],
   "source": [
    "best_resp_q1 = sm.lambdify(args=(a,b,mc),expr=solve_q1[0])\n",
    "best_resp_q2 = sm.lambdify(args=(a,b,mc),expr=solve_q2[0])\n",
    "nash_qstar = sm.lambdify(args=(a,b,mc),expr=nash_eq_solve[0])"
   ]
  },
  {
   "cell_type": "code",
   "execution_count": null,
   "metadata": {},
   "outputs": [],
   "source": [
    "a_val = 50\n",
    "b_val = 3\n",
    "mc_vec = np.linspace(1,10,10)\n",
    "\n",
    "nash_eq = nash_qstar(a_val, b_val, mc_vec)\n",
    "\n",
    "for mc, n in zip(mc_vec, nash_eq):\n",
    "    print(f'For mc = {mc:1.1f}, we have q* = {n:1.3f}')\n"
   ]
  },
  {
   "cell_type": "markdown",
   "metadata": {},
   "source": [
    "## Numerical solution"
   ]
  },
  {
   "attachments": {},
   "cell_type": "markdown",
   "metadata": {},
   "source": [
    "Once the analytical solution has been obtained, we will proceed to solve the model numerically. Initially, we will employ an optimizer followed by a root finder to determine the quantities for the two firms. Below, you will find the relevant code for this numerical solution process."
   ]
  },
  {
   "cell_type": "code",
   "execution_count": 2,
   "metadata": {},
   "outputs": [
    {
     "name": "stdout",
     "output_type": "stream",
     "text": [
      "Nash Equilibrium for mc1 = mc2 = 1\n",
      "q1* = 5.444\n",
      "q2* = 5.444\n",
      "Total Output = 10.889\n"
     ]
    }
   ],
   "source": [
    "a = 50\n",
    "b = 3\n",
    "mc_duo = 1\n",
    "\n",
    "# We call the function from our py-file.\n",
    "q1_star, q2_star, total_output = nash_eq_duo(a, b, mc_duo)"
   ]
  },
  {
   "attachments": {},
   "cell_type": "markdown",
   "metadata": {},
   "source": [
    "By experimenting with the value of MC within the range of 1 to 5, you will observe that both the analytical and numerical solutions yield identical results, indicating a promising consistency between the two methods."
   ]
  },
  {
   "attachments": {},
   "cell_type": "markdown",
   "metadata": {},
   "source": [
    "To illustarte this, we will plot the solution below."
   ]
  },
  {
   "cell_type": "code",
   "execution_count": 3,
   "metadata": {},
   "outputs": [
    {
     "data": {
      "application/vnd.jupyter.widget-view+json": {
       "model_id": "d04549a11d8f46f7bb5dd9b1c63371e6",
       "version_major": 2,
       "version_minor": 0
      },
      "text/plain": [
       "interactive(children=(IntSlider(value=8, description='mc_duo', max=15, min=1), Output()), _dom_classes=('widge…"
      ]
     },
     "metadata": {},
     "output_type": "display_data"
    },
    {
     "data": {
      "text/plain": [
       "<function modelproject.plot_duo(mc_duo)>"
      ]
     },
     "execution_count": 3,
     "metadata": {},
     "output_type": "execute_result"
    }
   ],
   "source": [
    "# We call the function from our py-file.\n",
    "widgets.interact(plot_duo, mc_duo=(1, 15, 1))"
   ]
  },
  {
   "attachments": {},
   "cell_type": "markdown",
   "metadata": {},
   "source": [
    "We've incorporated a slider for the marginal cost (MC) to demonstrate how changes in firms' marginal costs affect the solution of the model. As anticipated, when firms face rising marginal costs, their total output decreases."
   ]
  },
  {
   "cell_type": "code",
   "execution_count": null,
   "metadata": {},
   "outputs": [],
   "source": [
    "#%matplotlib widget\n",
    "\n",
    "#def tot_profit_duo(q, a, b, mc):\n",
    "    #q1, q2 = q\n",
    "    #return profit_1_duo(a, b, q1, q2, mc) + profit_2_duo(a, b, q1, q2, mc)\n",
    "\n",
    "#profit_star = tot_profit_duo(q_star, a, b, mc)\n",
    "\n",
    "#q1_range = np.linspace(0, 20, 100)\n",
    "#q2_range = np.linspace(0, 20, 100)\n",
    "#q1, q2 = np.meshgrid(q1_range, q2_range)\n",
    "#profit = tot_profit_duo([q1, q2], a, b, mc)\n",
    "\n",
    "#profit[profit < 0] = np.nan\n",
    "\n",
    "#fig = plt.figure(figsize=(10, 8))\n",
    "#ax = fig.add_subplot(111, projection='3d')\n",
    "#ax.plot_surface(q1, q2, profit, cmap='viridis', alpha=0.7)\n",
    "#ax.scatter(q1_star, q2_star, profit_star, color='red', label='Nash Equilibrium')\n",
    "#ax.set_xlabel('q1')\n",
    "#ax.set_ylabel('q2')\n",
    "#ax.set_zlabel('Total Profit')\n",
    "#ax.set_title('Cournot Model')\n",
    "\n",
    "# Annotate Nash equilibrium point\n",
    "#ax.text(q1_star, q2_star, profit_star, f'({q1_star:.2f}, {q2_star:.2f}, {profit_star:.2f})', color='black')\n",
    "\n",
    "#ax.legend()\n",
    "#plt.show()"
   ]
  },
  {
   "cell_type": "markdown",
   "metadata": {},
   "source": [
    "You can always solve a model numerically. \n",
    "\n",
    "Define first the set of parameters you need. \n",
    "\n",
    "Then choose one of the optimization algorithms that we have gone through in the lectures based on what you think is most fitting for your model.\n",
    "\n",
    "Are there any problems with convergence? Does the model converge for all starting values? Make a lot of testing to figure these things out. "
   ]
  },
  {
   "cell_type": "markdown",
   "metadata": {},
   "source": [
    "# Further analysis"
   ]
  },
  {
   "cell_type": "markdown",
   "metadata": {},
   "source": []
  },
  {
   "cell_type": "markdown",
   "metadata": {},
   "source": [
    "**Adding another firm - From duopoly to oligopoly**\n",
    "\n",
    "We start by adapting the model to a oligopoly scenario by adding a profit function and a best response function for Firm 3. This alters the profit functions for Firm 1 and 2, as they now have to take into account the quantity produced by Firm 3. This also effects the best response functions of the three firms as we see below and also the H-function. However, aside from this, the method is the same as used in the numerical solution with the duopol above. "
   ]
  },
  {
   "cell_type": "code",
   "execution_count": 4,
   "metadata": {},
   "outputs": [
    {
     "name": "stdout",
     "output_type": "stream",
     "text": [
      "Nash Equilibrium for mc1 = mc2 = mc3 = 1\n",
      "q1* = 4.083\n",
      "q2* = 4.083\n",
      "q3* = 4.083\n",
      "For mc = 1, the total output in an oligopoly with three firms is: 12.250\n"
     ]
    }
   ],
   "source": [
    "# We set the parameters as we have done previously to see the effect of adding another firm to the market\n",
    "a = 50\n",
    "b = 3\n",
    "mc_oligo = 1\n",
    "\n",
    "# We call the function from our py-file.\n",
    "q1_star_oligo, q2_star_oligo, q3_star_oligo, total_output_oligo = nash_eq_oligo(a, b, mc_oligo)"
   ]
  },
  {
   "cell_type": "markdown",
   "metadata": {},
   "source": [
    "**Oligopoly with individual marginal costs**\n",
    "\n",
    "Next up we want to add to the analysis the effects of marginal costs positively related to the individual quantities produced by the firms. For the optimize problem, we use the nelder-mead method. We have tried with a few other methods, but found that the Nelder-Mead gave the best result, as the bounds provided in the problem ensure that the solution remains within feasible regions (non-negative quantities for production). In this case, the lower bound of 0 ensures that negative quantities are not considered as solutions."
   ]
  },
  {
   "cell_type": "code",
   "execution_count": null,
   "metadata": {},
   "outputs": [],
   "source": [
    "#We define the functions for the firm individual marginal costs\n",
    "def mc1(q1):\n",
    "    return 1.1+(3*q1)\n",
    "\n",
    "def mc2(q2):\n",
    "    return 5+(3*q2)\n",
    "\n",
    "def mc3(q3):\n",
    "    return 3+(1.5*q3)\n",
    "\n",
    "#We adapt the profit functions and Best Response functions for the three firms to account for the marginal cost functions depending on q\n",
    "def profit_1_mc_var(a,b,q1,q2,q3,mc1):\n",
    "    return (a-(q1+q2+q3)*b-mc1)*q1\n",
    "\n",
    "def BR1_mc_var(q2,q3,a,b,mc1):\n",
    "    sol_BR1_mc_var = optimize.minimize(lambda q: -profit_1_mc_var(a,b,q,q2,q3,mc1), x0=0.1, bounds=[(0, None)])\n",
    "    return sol_BR1_mc_var.x[0]  \n",
    "\n",
    "\n",
    "def profit_2_mc_var(a,b,q1,q2,q3,mc2):\n",
    "    return (a-(q1+q2+q3)*b-mc2)*q2\n",
    "\n",
    "def BR2_mc_var(q1,q3,a,b,mc2):\n",
    "    sol_BR2_mc_var = optimize.minimize(lambda q: -profit_2_mc_var(a,b,q1,q,q3,mc2), x0=0.1, bounds=[(0, None)])\n",
    "    return sol_BR2_mc_var.x[0]\n",
    "\n",
    "\n",
    "def profit_3_mc_var(a,b,q1,q2,q3,mc3):\n",
    "    return (a-(q1+q2+q3)*b-mc3)*q3\n",
    "\n",
    "def BR3_mc_var(q1,q2,a,b,mc3):\n",
    "    sol_BR3_mc_var = optimize.minimize(lambda q: -profit_3_mc_var(a,b,q1,q2,q,mc3), x0=0.1, bounds=[(0, None)])\n",
    "    return sol_BR3_mc_var.x[0]\n",
    "\n",
    "#We define the H-function to take into account the individual q\n",
    "def H_mc_var(q,a,b,mc1,mc2,mc3):\n",
    "    q1, q2, q3 = q\n",
    "    err1 = BR1_mc_var(q2,q3,a,b,mc1)-q1\n",
    "    err2 = BR2_mc_var(q1,q3,a,b,mc2)-q2\n",
    "    err3 = BR3_mc_var(q1,q2,a,b,mc3)-q3\n",
    "    return [err1, err2, err3]\n",
    "\n",
    "# We set the parameters as previously\n",
    "a = 50\n",
    "b = 3\n",
    "\n",
    "# We formulate the Cournot equilibrium problem as a minimization problem using the optimize.minimize function. \n",
    "# It minimizes the sum of squares of the errors in the system of equations, while we set the bounds to include only positive solutions.\n",
    "result_mc_var = optimize.minimize(lambda q: np.sum(np.square(H_mc_var(q,a,b, mc1(q[0]), mc2(q[1]), mc3(q[2])))),\n",
    "                           x0=[0.1, 0.1, 0.1], bounds=[(0, None), (0, None), (0, None)], method='nelder-mead')\n",
    "\n",
    "# We extract equilibrium quantities\n",
    "q_star_mc_var = result_mc_var.x\n",
    "q1_star_mc_var, q2_star_mc_var, q3_star_mc_var = q_star_mc_var\n",
    "total_output_mc_var = q1_star_mc_var + q2_star_mc_var + q3_star_mc_var\n",
    "\n",
    "print(\"Nash Equilibrium:\")\n",
    "print(f'q1* = {q1_star_mc_var:1.3f}')\n",
    "print(f'q2* = {q2_star_mc_var:1.3f}')\n",
    "print(f'q3* = {q3_star_mc_var:1.3f}')\n",
    "print(f'In an oligopoly with firm individual and variable MC, the total output is: {total_output_mc_var:1.3f}')"
   ]
  },
  {
   "cell_type": "code",
   "execution_count": 5,
   "metadata": {},
   "outputs": [
    {
     "name": "stdout",
     "output_type": "stream",
     "text": [
      "Nash Equilibrium:\n",
      "q1* = 3.882\n",
      "q2* = 3.232\n",
      "q3* = 4.754\n",
      "In an oligopoly with firm individual and variable MC, the total output is: 11.869\n"
     ]
    }
   ],
   "source": [
    "a = 60\n",
    "b = 3\n",
    "\n",
    "# We call the function from our py-file.\n",
    "q1_star_mc_var, q2_star_mc_var, q3_star_mc_var, total_output_mc_var = nash_eq_mc_var(a, b)"
   ]
  },
  {
   "cell_type": "markdown",
   "metadata": {},
   "source": [
    "We see, that marginal costs for each firm that initially larger than 1 result in less output for each firm as we would expect. Looking closer at the firms, we see:\n",
    "* a larger initial marginal cost result in a smaller output for companies with the same increase in mc per quantity of output (comparing firm 1 and 2).\n",
    "* a relatively smaller increase in mc per quantity of output can have a significant effect on the overall output, as mc is kept low (comparing firm 1 and 3)."
   ]
  },
  {
   "cell_type": "code",
   "execution_count": null,
   "metadata": {},
   "outputs": [],
   "source": [
    "#def mc1(q1):\n",
    "    #return 1+(3*q1)\n",
    "\n",
    "#def mc2(q2):\n",
    "    #return 5+(3*q2)\n",
    "\n",
    "#def mc3(q3):\n",
    "    #return 3+(1.5*q3)\n",
    "\n",
    "\n",
    "#def profit_1_mc_var(a, b, q1, q2, q3, mc1):\n",
    "    #return (a - b * q1 - b * q2 - b * q3 - mc1) * q1\n",
    "\n",
    "#def BR1_mc_var(q2, q3, a, b, mc1):\n",
    "    #sol_BR1_mc_var = optimize.minimize(lambda q: -profit_1_mc_var(a, b, q, q2, q3, mc1), x0=0.1, bounds=[(0, None)])\n",
    "    #return sol_BR1_mc_var.x[0]  \n",
    "\n",
    "\n",
    "#def profit_2_mc_var(a, b, q1, q2, q3, mc2):\n",
    "    #return (a - b * q1 - b * q2 - b * q3 - mc2) * q2\n",
    "\n",
    "#def BR2_mc_var(q1, q3, a, b, mc2):\n",
    "    #sol_BR2_mc_var = optimize.minimize(lambda q: -profit_2_mc_var(a, b, q1, q, q3, mc2), x0=0.1, bounds=[(0, None)])\n",
    "    #return sol_BR2_mc_var.x[0]\n",
    "\n",
    "\n",
    "#def profit_3_mc_var(a, b, q1, q2, q3, mc3):\n",
    "    #return (a - b * q1 - b * q2 - b * q3 - mc3) * q3\n",
    "\n",
    "#def BR3_mc_var(q1, q2, a, b, mc3):\n",
    "    #sol_BR3_mc_var = optimize.minimize(lambda q: -profit_3_mc_var(a, b, q1, q2, q, mc3), x0=0.1, bounds=[(0, None)])\n",
    "    #return sol_BR3_mc_var.x[0]\n",
    "\n",
    "# Define function H(q)\n",
    "#def H_mc_var(q, a, b, mc1, mc2, mc3):\n",
    "    #q1, q2, q3 = q\n",
    "    #err1 = BR1_mc_var(q2, q3, a, b, mc1) - q1\n",
    "    #err2 = BR2_mc_var(q1, q3, a, b, mc2) - q2\n",
    "    #err3 = BR3_mc_var(q1, q2, a, b, mc3) - q3\n",
    "    #return [err1, err2, err3]\n",
    "\n",
    "# Set parameters\n",
    "#a = 50\n",
    "#b = 3\n",
    "\n",
    "#result = optimize.root(lambda q: H_mc_var(q, a, b, mc1, mc2, mc3), [0.1, 0.1, 0.1], method='hybr')\n",
    "\n",
    "# Extract equilibrium quantities\n",
    "#q1_star, q2_star, q3_star = result.x\n",
    "#total_output = q1_star + q2_star + q3_star\n",
    "\n",
    "# Print results\n",
    "#print(\"Nash Equilibrium:\")\n",
    "#print(f'q1* = {q1_star:1.3f}')\n",
    "#print(f'q2* = {q2_star:1.3f}')\n",
    "#print(f'q3* = {q3_star:1.3f}')\n",
    "#print(f'In an oligopoly with firm individual and variable MC, the total output is: {total_output:1.3f}')"
   ]
  },
  {
   "cell_type": "markdown",
   "metadata": {},
   "source": [
    "Make detailed vizualizations of how your model changes with parameter values. \n",
    "\n",
    "Try to make an extension of the model. "
   ]
  },
  {
   "attachments": {},
   "cell_type": "markdown",
   "metadata": {},
   "source": [
    "**The model**\n",
    "\n",
    "$$\n",
    "\\begin{aligned}\n",
    "\\pi_i(q_1,....,q_n) & =q_iP \\left( \\sum_{j=1}^{n}q_j\\right)-C_i(q_i) \\\\\n",
    "\n",
    "\\end{aligned}\n",
    "$$\n",
    "  "
   ]
  },
  {
   "cell_type": "markdown",
   "metadata": {},
   "source": [
    "# Conclusion"
   ]
  },
  {
   "cell_type": "code",
   "execution_count": null,
   "metadata": {},
   "outputs": [],
   "source": [
    "a = 50\n",
    "b = 3\n",
    "mc_duo = 1\n",
    "mc_oligo = 1\n",
    "\n",
    "# Calculate quantities for each case\n",
    "duopoly_q1_star, duopoly_q2_star, duopoly_total_output = nash_eq_duo(a, b, mc_duo)\n",
    "oligopoly_q1_star, oligopoly_q2_star, oligopoly_q3_star, oligopoly_total_output = nash_eq_oligo(a, b, mc_oligo)\n",
    "oligopoly_mc_var_q1_star, oligopoly_mc_var_q2_star, oligopoly_mc_var_q3_star, oligopoly_mc_var_total_output = nash_eq_mc_var(a, b)\n",
    "\n",
    "# Create a bar plot\n",
    "labels = ['Duopoly', 'Oligopoly\\n(without MC function)', 'Oligopoly\\n(with MC function)']\n",
    "outputs = [duopoly_total_output, oligopoly_total_output, oligopoly_mc_var_total_output]\n",
    "\n",
    "plt.figure(figsize=(10, 6))\n",
    "plt.bar(labels, outputs, color=['blue', 'orange', 'green'])\n",
    "plt.xlabel('Market Structure')\n",
    "plt.ylabel('Total Output')\n",
    "plt.title('Comparison of Total Output Across Market Structures')\n",
    "plt.show()"
   ]
  },
  {
   "cell_type": "code",
   "execution_count": 10,
   "metadata": {},
   "outputs": [
    {
     "name": "stdout",
     "output_type": "stream",
     "text": [
      "Nash Equilibrium for mc1 = mc2 = 1\n",
      "q1* = 3.267\n",
      "q2* = 3.267\n",
      "Total Output = 6.533\n",
      "Nash Equilibrium for mc1 = mc2 = mc3 = 3\n",
      "q1* = 2.350\n",
      "q2* = 2.350\n",
      "q3* = 2.350\n",
      "For mc = 3, the total output in an oligopoly with three firms is: 7.050\n",
      "Nash Equilibrium:\n",
      "q1* = 2.186\n",
      "q2* = 1.698\n",
      "q3* = 2.398\n",
      "In an oligopoly with firm individual and variable MC, the total output is: 6.282\n"
     ]
    },
    {
     "data": {
      "image/png": "[encoded data removed]",
      "text/plain": [
       "<Figure size 1000x600 with 1 Axes>"
      ]
     },
     "metadata": {},
     "output_type": "display_data"
    },
    {
     "data": {
      "text/plain": [
       "<Figure size 640x480 with 0 Axes>"
      ]
     },
     "execution_count": 10,
     "metadata": {},
     "output_type": "execute_result"
    },
    {
     "data": {
      "text/plain": [
       "<Figure size 640x480 with 0 Axes>"
      ]
     },
     "metadata": {},
     "output_type": "display_data"
    }
   ],
   "source": [
    "a = 50\n",
    "b = 5\n",
    "mc_duo = 1\n",
    "mc_oligo = 3\n",
    "\n",
    "# Call the function\n",
    "plot_results(a, b, mc_duo, mc_oligo)"
   ]
  },
  {
   "cell_type": "markdown",
   "metadata": {},
   "source": [
    "Add concise conclusion. "
   ]
  }
 ],
 "metadata": {
  "kernelspec": {
   "display_name": "Python 3",
   "language": "python",
   "name": "python3"
  },
  "language_info": {
   "codemirror_mode": {
    "name": "ipython",
    "version": 3
   },
   "file_extension": ".py",
   "mimetype": "text/x-python",
   "name": "python",
   "nbconvert_exporter": "python",
   "pygments_lexer": "ipython3",
   "version": "3.11.7"
  },
  "toc-autonumbering": true,
  "vscode": {
   "interpreter": {
    "hash": "d082443479dcf0bb109497657c949fcf3a4bd1d96297faded59d95be7509270b"
   }
  }
 },
 "nbformat": 4,
 "nbformat_minor": 4
}
