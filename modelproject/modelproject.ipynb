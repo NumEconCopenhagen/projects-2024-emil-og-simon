{
 "cells": [
  {
   "cell_type": "markdown",
   "metadata": {},
   "source": [
    "# Competition in an oligopolistic market \n",
    "## - The Cournot Model"
   ]
  },
  {
   "cell_type": "markdown",
   "metadata": {},
   "source": [
    "Imports and set magics:"
   ]
  },
  {
   "cell_type": "code",
   "execution_count": 2,
   "metadata": {},
   "outputs": [],
   "source": [
    "import numpy as np\n",
    "from scipy import optimize\n",
    "import sympy as sm\n",
    "import matplotlib.pyplot as plt\n",
    "from mpl_toolkits.mplot3d import Axes3D\n",
    "import ipywidgets as widgets\n",
    "\n",
    "# autoreload modules when code is run\n",
    "%load_ext autoreload\n",
    "%autoreload 2\n",
    "\n",
    "# local modules\n",
    "from modelproject import *"
   ]
  },
  {
   "cell_type": "markdown",
   "metadata": {},
   "source": [
    "# Model description"
   ]
  },
  {
   "attachments": {},
   "cell_type": "markdown",
   "metadata": {},
   "source": [
    "The model of Cournot competition descibes an industry wherein competing firms offers identical products. The firms complete via the quantity of output they individually produce, simultaneously and autonomously. This model is named after its founder, the French mathematician Augustin Cournot."
   ]
  },
  {
   "attachments": {},
   "cell_type": "markdown",
   "metadata": {},
   "source": [
    "First, we will take a look at the most simple case of a duoploy where only two firms are competing the a given market. The model is given as followed:"
   ]
  },
  {
   "attachments": {},
   "cell_type": "markdown",
   "metadata": {},
   "source": [
    "$$\n",
    "\\begin{aligned}\n",
    "\\Pi_1(Q) & =p(Q)q_1-q_1MC_1 \\\\\n",
    "\\Pi_2(Q) & =p(Q)q_2-q_2MC_2 \\\\\n",
    "\\end{aligned}\n",
    "$$"
   ]
  },
  {
   "attachments": {},
   "cell_type": "markdown",
   "metadata": {},
   "source": [
    "In the profit functions above, price is determined by the total output denoted as $Q$, where for the two firms, the total output $Q$ equals the sum of their individual outputs $q_1$ and $q_2$. As an illustrative example, let's assume that the price (expressed as the inverse demand function) follows a linear format, represented by $p = a + bQ$ with a indicating the intersection, and b indicating the slope.\n",
    "\n",
    "Consequently, the inverse demand function can be expressed as $p = a + q_1b + q_2b$. This means, that each firm, when deciding how much to produce and thus the size of their profit, they take the other firms quantity produced into account as it affects the price.\n",
    "\n",
    "From the functions above, we see, that the firms profit is negatively affected by the marginal costs of producing one of the goods. In this very simple case, we will first look at a case, where $MC_1 = MC_2 = MC$. That is identical and fixed marginal costs."
   ]
  },
  {
   "cell_type": "markdown",
   "metadata": {},
   "source": [
    "## Analytical solution"
   ]
  },
  {
   "attachments": {},
   "cell_type": "markdown",
   "metadata": {},
   "source": [
    "In the initial part of this project we will find an analytical solution to the Cournot model. Although we acknowledge that this aspect of the project may not be particularly crucial, it is nonetheless essential to include. We utilized the SymPy function for this purpose, and the solution is presented below."
   ]
  },
  {
   "cell_type": "markdown",
   "metadata": {},
   "source": [
    "**Setting up with SymPy**\n",
    "\n",
    "Here we now define the parameters we need when defining the functions with SymPy according to the model."
   ]
  },
  {
   "cell_type": "code",
   "execution_count": 3,
   "metadata": {},
   "outputs": [],
   "source": [
    "a = sm.symbols('a')\n",
    "b = sm.symbols('b')\n",
    "pi_1 = sm.symbols('pi_1')\n",
    "pi_2 = sm.symbols('pi_2')\n",
    "mc = sm.symbols('MC')\n",
    "q1 = sm.symbols('q_1')\n",
    "q2 = sm.symbols('q_2')\n",
    "q_star = sm.symbols('q^*')"
   ]
  },
  {
   "cell_type": "markdown",
   "metadata": {},
   "source": [
    "**Profit functions for each firm**\n",
    "\n",
    "We now set up the profit functions for each firm using the sm.Eq().\n"
   ]
  },
  {
   "cell_type": "code",
   "execution_count": 4,
   "metadata": {},
   "outputs": [
    {
     "data": {
      "text/latex": [
       "$\\displaystyle \\pi_{1} = q_{1} \\left(- MC + a - b q_{1} - b q_{2}\\right)$"
      ],
      "text/plain": [
       "Eq(pi_1, q_1*(-MC + a - b*q_1 - b*q_2))"
      ]
     },
     "execution_count": 4,
     "metadata": {},
     "output_type": "execute_result"
    }
   ],
   "source": [
    "# Profit function for firm 1\n",
    "\n",
    "profit_1 = sm.Eq(pi_1,(a-b*q1-b*q2-mc)*q1)\n",
    "profit_1"
   ]
  },
  {
   "cell_type": "code",
   "execution_count": 7,
   "metadata": {},
   "outputs": [
    {
     "data": {
      "text/latex": [
       "$\\displaystyle \\pi_{2} = q_{2} \\left(- MC + a - b q_{1} - b q_{2}\\right)$"
      ],
      "text/plain": [
       "Eq(pi_2, q_2*(-MC + a - b*q_1 - b*q_2))"
      ]
     },
     "execution_count": 7,
     "metadata": {},
     "output_type": "execute_result"
    }
   ],
   "source": [
    "# Profit function for firm 1\n",
    "\n",
    "profit_2 = sm.Eq(pi_2,(a-b*q1-b*q2-mc)*q2)\n",
    "profit_2"
   ]
  },
  {
   "cell_type": "markdown",
   "metadata": {},
   "source": [
    "**FOC for each firm**\n",
    "\n",
    "We take the first order conditions since we assume, that the firms are profit-maximizing. That is, the firms will produce up to the level, where the $MC = MR$ meaning $MR - MC = 0$, so we can set the FOCs equal to 0, when we later solve for q1 and q2 respectively."
   ]
  },
  {
   "cell_type": "code",
   "execution_count": 15,
   "metadata": {},
   "outputs": [
    {
     "data": {
      "text/latex": [
       "$\\displaystyle - MC + a - 2 b q_{1} - b q_{2} = 0$"
      ],
      "text/plain": [
       "Eq(-MC + a - 2*b*q_1 - b*q_2, 0)"
      ]
     },
     "execution_count": 15,
     "metadata": {},
     "output_type": "execute_result"
    }
   ],
   "source": [
    "#FOC firm 1\n",
    "profit_1 = (a-b*q1-b*q2-mc)*q1\n",
    "foc_q1 = sm.diff(profit_1, q1)\n",
    "foc_q1_eq0 = sm.Eq(foc_q1,0)\n",
    "foc_q1_eq0"
   ]
  },
  {
   "cell_type": "code",
   "execution_count": 16,
   "metadata": {},
   "outputs": [
    {
     "data": {
      "text/latex": [
       "$\\displaystyle - MC + a - b q_{1} - 2 b q_{2} = 0$"
      ],
      "text/plain": [
       "Eq(-MC + a - b*q_1 - 2*b*q_2, 0)"
      ]
     },
     "execution_count": 16,
     "metadata": {},
     "output_type": "execute_result"
    }
   ],
   "source": [
    "#FOC firm 2\n",
    "profit_2 = (a-b*q1-b*q2-mc)*q2\n",
    "foc_q2 = sm.diff(profit_2, q2)\n",
    "foc_q2_eq0 = sm.Eq(foc_q2,0)\n",
    "foc_q2_eq0"
   ]
  },
  {
   "cell_type": "markdown",
   "metadata": {},
   "source": [
    "**Solving for q1 and q2**\n",
    "\n",
    "We can now solve for q1 and q2 respectively. That is, we find the quantities each firm will produce given the amount produced by the other firm, their marginal cost, a and b. We refer to these functions as the firms best response functions."
   ]
  },
  {
   "cell_type": "code",
   "execution_count": 17,
   "metadata": {},
   "outputs": [
    {
     "data": {
      "text/latex": [
       "$\\displaystyle q_{1} = \\frac{- MC + a - b q_{2}}{2 b}$"
      ],
      "text/plain": [
       "Eq(q_1, (-MC + a - b*q_2)/(2*b))"
      ]
     },
     "execution_count": 17,
     "metadata": {},
     "output_type": "execute_result"
    }
   ],
   "source": [
    "#We solve FOC1 for q1 to obtain best response function for firm 1\n",
    "solve_q1 = sm.solve(foc_q1,q1)\n",
    "solve_q1_eq = sm.Eq(q1,solve_q1[0])\n",
    "solve_q1_eq"
   ]
  },
  {
   "cell_type": "code",
   "execution_count": 18,
   "metadata": {},
   "outputs": [
    {
     "data": {
      "text/latex": [
       "$\\displaystyle q_{2} = \\frac{- MC + a - b q_{1}}{2 b}$"
      ],
      "text/plain": [
       "Eq(q_2, (-MC + a - b*q_1)/(2*b))"
      ]
     },
     "execution_count": 18,
     "metadata": {},
     "output_type": "execute_result"
    }
   ],
   "source": [
    "#We solve FOC2 for q2 to obtain best response function for firm 2\n",
    "solve_q2 = sm.solve(foc_q2,q2)\n",
    "solve_q2_eq = sm.Eq(q2,solve_q2[0])\n",
    "solve_q2_eq"
   ]
  },
  {
   "cell_type": "markdown",
   "metadata": {},
   "source": [
    "Since the firms have identical marginal costs and price, the relationship between the quantity produced by each firm is symmetrical that is $q1 = q2 = q^*$. "
   ]
  },
  {
   "cell_type": "code",
   "execution_count": 20,
   "metadata": {},
   "outputs": [
    {
     "data": {
      "text/latex": [
       "$\\displaystyle \\frac{- MC + a - b q^{*}}{2 b}$"
      ],
      "text/plain": [
       "(-MC + a - b*q^*)/(2*b)"
      ]
     },
     "execution_count": 20,
     "metadata": {},
     "output_type": "execute_result"
    }
   ],
   "source": [
    "solve_q1_subs = solve_q1[0].subs(q2,q_star)\n",
    "solve_q1_subs"
   ]
  },
  {
   "cell_type": "code",
   "execution_count": 13,
   "metadata": {},
   "outputs": [
    {
     "data": {
      "text/latex": [
       "$\\displaystyle \\frac{- MC + a - b q^{*}}{2 b}$"
      ],
      "text/plain": [
       "(-MC + a - b*q^*)/(2*b)"
      ]
     },
     "execution_count": 13,
     "metadata": {},
     "output_type": "execute_result"
    }
   ],
   "source": [
    "solve_q2_subs = solve_q2[0].subs(q1,q_star)\n",
    "solve_q2_subs"
   ]
  },
  {
   "cell_type": "markdown",
   "metadata": {},
   "source": [
    "**Finding the Nash Equilibrium**"
   ]
  },
  {
   "cell_type": "code",
   "execution_count": 14,
   "metadata": {},
   "outputs": [
    {
     "data": {
      "text/latex": [
       "$\\displaystyle q^{*} = \\frac{- MC + a - b q^{*}}{2 b}$"
      ],
      "text/plain": [
       "Eq(q^*, (-MC + a - b*q^*)/(2*b))"
      ]
     },
     "execution_count": 14,
     "metadata": {},
     "output_type": "execute_result"
    }
   ],
   "source": [
    "# We set up the nash equilibrium equation from inserting q1 = q2 = q* into each of the best response functions\n",
    "nash_eq = sm.Eq(q_star,solve_q1_subs)\n",
    "nash_eq"
   ]
  },
  {
   "cell_type": "code",
   "execution_count": 21,
   "metadata": {},
   "outputs": [
    {
     "data": {
      "text/latex": [
       "$\\displaystyle \\frac{- MC + a}{3 b}$"
      ],
      "text/plain": [
       "(-MC + a)/(3*b)"
      ]
     },
     "execution_count": 21,
     "metadata": {},
     "output_type": "execute_result"
    }
   ],
   "source": [
    "# We solve for the q*\n",
    "nash_eq_solve = sm.solve(nash_eq,q_star)\n",
    "nash_eq_solve[0]"
   ]
  },
  {
   "cell_type": "markdown",
   "metadata": {},
   "source": []
  },
  {
   "attachments": {},
   "cell_type": "markdown",
   "metadata": {},
   "source": [
    "Using SymPy, we derived the best response (BR) functions for both firms and determined the Nash Equilibrium, which is:\n",
    "\n",
    "$$\n",
    "\\begin{aligned}\n",
    "\\ BR: q_1 = q_2 = \\frac{a - bq^*-MC}{2b} \\\n",
    "\\end{aligned}\n",
    "$$\n",
    "$$\n",
    "\\begin{aligned}\n",
    "\\ Nash & = \\frac{a - MC}{3b} \\\n",
    "\\end{aligned}\n",
    "$$"
   ]
  },
  {
   "cell_type": "markdown",
   "metadata": {},
   "source": [
    "**Creating functions using Lamdify**"
   ]
  },
  {
   "attachments": {},
   "cell_type": "markdown",
   "metadata": {},
   "source": [
    "After utilizing SymPy to derive the solution, we will employ lambdify to convert these  expressions into callable functions. By doing so, we can efficiently evaluate these expressions using specific numerical values, facilitating numerical analysis and computation"
   ]
  },
  {
   "cell_type": "code",
   "execution_count": null,
   "metadata": {},
   "outputs": [],
   "source": [
    "best_resp_q1 = sm.lambdify(args=(a,b,mc),expr=solve_q1[0])\n",
    "best_resp_q2 = sm.lambdify(args=(a,b,mc),expr=solve_q2[0])\n",
    "nash_qstar = sm.lambdify(args=(a,b,mc),expr=nash_eq_solve[0])"
   ]
  },
  {
   "cell_type": "code",
   "execution_count": null,
   "metadata": {},
   "outputs": [],
   "source": [
    "a_val = 50\n",
    "b_val = 3\n",
    "mc_vec = np.linspace(1,10,10)\n",
    "\n",
    "nash_eq = nash_qstar(a_val, b_val, mc_vec)\n",
    "\n",
    "for mc, n in zip(mc_vec, nash_eq):\n",
    "    print(f'For mc = {mc:1.1f}, we have q* = {n:1.3f}')\n"
   ]
  },
  {
   "cell_type": "markdown",
   "metadata": {},
   "source": [
    "## Numerical solution"
   ]
  },
  {
   "attachments": {},
   "cell_type": "markdown",
   "metadata": {},
   "source": [
    "Once the analytical solution has been obtained, we will proceed to solve the model numerically. Initially, we will employ an optimizer followed by a root finder to determine the quantities for the two firms. Before doing so we need to define a function (H_duo) that computes the errors in the Nash equilibrium conditions for a duopoly model. This function calculates the difference between each firm's best response quantity and its actual quantity produced. Then, it uses an optimization algorithm (optimize.root) to find the Nash equilibrium quantities, starting from an initial guess of [0.1, 0.1]. Below, you will find the relevant code for this numerical solution process."
   ]
  },
  {
   "cell_type": "code",
   "execution_count": null,
   "metadata": {},
   "outputs": [],
   "source": [
    "a = 50\n",
    "b = 3\n",
    "mc_duo = 1\n",
    "\n",
    "# We call the function from our py-file.\n",
    "q1_star, q2_star, total_output = nash_eq_duo(a, b, mc_duo)"
   ]
  },
  {
   "cell_type": "code",
   "execution_count": null,
   "metadata": {},
   "outputs": [],
   "source": [
    "# We define the profit function for firm 1\n",
    "def profit_1_duo(a,b,q1,q2,mc):\n",
    "        return (a-b*q1-b*q2-mc)*q1\n",
    "\n",
    "# We define the best response function for firm 1\n",
    "def BR1_duo(q2,a,b,mc):\n",
    "       sol_BR1_duo = optimize.minimize(lambda q: -profit_1_duo(a,b,q,q2,mc),x0=0.1,bounds=[(0, None)])\n",
    "       return sol_BR1_duo.x[0]\n",
    "\n",
    "# We define the profit function for firm 2     \n",
    "def profit_2_duo(a,b,q1,q2,mc):\n",
    "        return (a-b*q1-b*q2-mc)*q2\n",
    "\n",
    "# We define the best response function for firm 2\n",
    "def BR2_duo(q1,a,b,mc):\n",
    "       sol_BR2_duo = optimize.minimize(lambda q: -profit_2_duo(a,b,q1,q,mc),x0=0.1,bounds=[(0, None)])\n",
    "       return sol_BR2_duo.x[0]\n",
    "\n",
    "# W now define the h_duo function which computes the errors in Nash EQ\n",
    "def H_duo(q, a, b, mc):\n",
    "    q1,q2 = q\n",
    "    err1 = BR1_duo(q2,a,b,mc)-q1\n",
    "    err2 = BR2_duo(q1,a,b,mc)-q2\n",
    "    return [err1, err2]\n",
    "\n",
    "a = 50\n",
    "b = 3\n",
    "mc_duo = 1\n",
    "\n",
    "# We now solve for the Nash EQ using a root finder\n",
    "result_duo = optimize.root(lambda q: H_duo(q, a, b, mc_duo), [0.1, 0.1])\n",
    "\n",
    "# We now extract the quantities so we can plot them\n",
    "q_star = result_duo.x\n",
    "q1_star, q2_star = q_star\n",
    "total_output = q1_star + q2_star\n",
    "\n",
    "print(\"Nash Equilibrium for mc1 = mc2 = {:.0f}\".format(mc_duo))\n",
    "print(\"q1* = {:.3f}\".format(q1_star))\n",
    "print(\"q2* = {:.3f}\".format(q2_star))\n",
    "print(\"Total Output = {:.3f}\".format(total_output))\n"
   ]
  },
  {
   "attachments": {},
   "cell_type": "markdown",
   "metadata": {},
   "source": [
    "By experimenting with the value of MC within the range of 1 to 5, you will observe that both the analytical and numerical solutions yield identical results, indicating a promising consistency between the two methods."
   ]
  },
  {
   "attachments": {},
   "cell_type": "markdown",
   "metadata": {},
   "source": [
    "To illustarte this, we will plot the solution below."
   ]
  },
  {
   "cell_type": "code",
   "execution_count": null,
   "metadata": {},
   "outputs": [],
   "source": [
    "# We call the function from our py-file.\n",
    "widgets.interact(plot_duo, mc_duo=(1, 15, 1))"
   ]
  },
  {
   "cell_type": "code",
   "execution_count": null,
   "metadata": {},
   "outputs": [],
   "source": [
    "# We set the parameters\n",
    "a = 50\n",
    "b = 3\n",
    "mc_default = 5\n",
    "\n",
    "\n",
    "result = optimize.root(lambda q: H_duo(q, a, b, mc_default), [0.1, 0.1])\n",
    "q_star = result.x\n",
    "q1_star, q2_star = q_star\n",
    "\n",
    "q_values = np.linspace(0, 15, 100)\n",
    "\n",
    "def update_plot(mc=mc_default):\n",
    "    q1_values = [BR1_duo(q2, a, b, mc) for q2 in q_values]\n",
    "    q2_values = [BR2_duo(q1, a, b, mc) for q1 in q_values]\n",
    "    \n",
    "    result = optimize.root(lambda q: H_duo(q, a, b, mc), [0.1, 0.1])\n",
    "    q_star = result.x\n",
    "    q1_star, q2_star = q_star\n",
    "    \n",
    "    plt.figure(figsize=(8, 6))\n",
    "    plt.plot(q1_values, q_values, label='Best Response Firm 1', color='blue')\n",
    "    plt.plot(q_values, q2_values, label='Best Response Firm 2', color='red')\n",
    "    plt.scatter(q1_star, q2_star, color='green', label='Nash Equilibrium')\n",
    "    plt.plot([q1_star, q1_star], [0, q2_star], color='green', linestyle='--')\n",
    "    plt.plot([0, q1_star], [q2_star, q2_star], color='green', linestyle='--')\n",
    "    plt.text(q1_star, q2_star + 0.5, f'({q1_star:.2f}, {q2_star:.2f})', horizontalalignment='center')\n",
    "    plt.xlim(0, None)\n",
    "    plt.ylim(0, None)\n",
    "    plt.xlabel('q1')\n",
    "    plt.ylabel('q2')\n",
    "    plt.title('Best Response Functions and Nash Equilibrium')\n",
    "    plt.legend()\n",
    "    plt.grid(True)\n",
    "    plt.show()\n",
    "\n",
    "widgets.interact(update_plot, mc=(1, 30, 1))\n"
   ]
  },
  {
   "attachments": {},
   "cell_type": "markdown",
   "metadata": {},
   "source": [
    "We've incorporated a slider for the marginal cost (MC) to demonstrate how changes in firms' marginal costs affect the solution of the model. As anticipated, when firms face rising marginal costs, their total output decreases."
   ]
  },
  {
   "cell_type": "code",
   "execution_count": null,
   "metadata": {},
   "outputs": [],
   "source": [
    "#%matplotlib widget\n",
    "\n",
    "#def tot_profit_duo(q, a, b, mc):\n",
    "    #q1, q2 = q\n",
    "    #return profit_1_duo(a, b, q1, q2, mc) + profit_2_duo(a, b, q1, q2, mc)\n",
    "\n",
    "#profit_star = tot_profit_duo(q_star, a, b, mc)\n",
    "\n",
    "#q1_range = np.linspace(0, 20, 100)\n",
    "#q2_range = np.linspace(0, 20, 100)\n",
    "#q1, q2 = np.meshgrid(q1_range, q2_range)\n",
    "#profit = tot_profit_duo([q1, q2], a, b, mc)\n",
    "\n",
    "#profit[profit < 0] = np.nan\n",
    "\n",
    "#fig = plt.figure(figsize=(10, 8))\n",
    "#ax = fig.add_subplot(111, projection='3d')\n",
    "#ax.plot_surface(q1, q2, profit, cmap='viridis', alpha=0.7)\n",
    "#ax.scatter(q1_star, q2_star, profit_star, color='red', label='Nash Equilibrium')\n",
    "#ax.set_xlabel('q1')\n",
    "#ax.set_ylabel('q2')\n",
    "#ax.set_zlabel('Total Profit')\n",
    "#ax.set_title('Cournot Model')\n",
    "\n",
    "\n",
    "#ax.text(q1_star, q2_star, profit_star, f'({q1_star:.2f}, {q2_star:.2f}, {profit_star:.2f})', color='black')\n",
    "\n",
    "#ax.legend()\n",
    "#plt.show()"
   ]
  },
  {
   "cell_type": "markdown",
   "metadata": {},
   "source": [
    "# Further analysis"
   ]
  },
  {
   "attachments": {},
   "cell_type": "markdown",
   "metadata": {},
   "source": [
    "The Cournot model can be extended to \"n\" firms. For our project, we'll concentrate on the case involving three firms in the market, forming an oligopoly. Additionally, we'll make one more extention to the model by making the marginal cost a function of the quantity produced by each firm.\n",
    "\n",
    "Here's the modified Cournot model:\n",
    "\n",
    "**The model**\n",
    "\n",
    "$$\n",
    "\\begin{aligned}\n",
    "\\pi_i(q_1,....,q_n) & =q_iP \\left( \\sum_{j=1}^{n}q_j\\right)-MC_i(q_i) \\\\\n",
    "\n",
    "\\end{aligned}\n",
    "$$\n",
    "  "
   ]
  },
  {
   "cell_type": "markdown",
   "metadata": {},
   "source": [
    "**Adding another firm - From duopoly to oligopoly**\n",
    "\n",
    "We start by adapting the model to a oligopoly scenario by adding a profit function and a best response function for Firm 3. This alters the profit functions for Firm 1 and 2, as they now have to take into account the quantity produced by Firm 3. This also effects the best response functions of the three firms as we see below and also the H-function. However, aside from this, the method is the same as used in the numerical solution with the duopol above. "
   ]
  },
  {
   "cell_type": "code",
   "execution_count": null,
   "metadata": {},
   "outputs": [],
   "source": [
    "# We set the parameters as we have done previously to see the effect of adding another firm to the market\n",
    "a = 50\n",
    "b = 3\n",
    "mc_oligo = 1\n",
    "\n",
    "# We call the function from our py-file.\n",
    "q1_star_oligo, q2_star_oligo, q3_star_oligo, total_output_oligo = nash_eq_oligo(a, b, mc_oligo)"
   ]
  },
  {
   "cell_type": "code",
   "execution_count": null,
   "metadata": {},
   "outputs": [],
   "source": [
    "# We define the profit function and Best Response function for firm 1:\n",
    "def profit_1_oligo(a,b,q1,q2,q3,mc):\n",
    "    return (a-b*q1-b*q2-b*q3-mc)*q1\n",
    "\n",
    "def BR1_oligo(q2,q3,a,b,mc):\n",
    "    sol_BR1_oligo = optimize.minimize(lambda q: -profit_1_oligo(a,b,q,q2,q3,mc), x0=0.1, bounds=[(0, None)])\n",
    "    return sol_BR1_oligo.x[0]  \n",
    "\n",
    "# We define the profit function and Best Response function for firm 2:\n",
    "def profit_2_oligo(a,b,q1,q2,q3,mc):\n",
    "    return (a-b*q1-b*q2-b*q3-mc)*q2\n",
    "\n",
    "def BR2_oligo(q1, q3, a, b, mc):\n",
    "    sol_BR2_oligo = optimize.minimize(lambda q: -profit_2_oligo(a,b,q1,q,q3,mc), x0=0.1, bounds=[(0, None)])\n",
    "    return sol_BR2_oligo.x[0]\n",
    "\n",
    "# We define the profit function and Best Response function for firm 3 that makes it and oligopoly:\n",
    "def profit_3_oligo(a,b,q1,q2,q3,mc):\n",
    "    return (a-b*q1-b*q2-b*q3-mc)*q3\n",
    "\n",
    "def BR3_oligo(q1,q2,a,b,mc):\n",
    "    sol_BR3_oligo = optimize.minimize(lambda q: -profit_3_oligo(a,b,q1,q2,q,mc), x0=0.1, bounds=[(0, None)])\n",
    "    return sol_BR3_oligo.x[0]\n",
    "\n",
    "# We adjust the H-function to take into account Firm 3 as it is now returning err3 aswell:\n",
    "def H_oligo(q,a,b,mc):\n",
    "    q1, q2, q3 = q\n",
    "    err1 = BR1_oligo(q2,q3,a,b,mc)-q1\n",
    "    err2 = BR2_oligo(q1,q3,a,b,mc)-q2\n",
    "    err3 = BR3_oligo(q1,q2,a,b,mc)-q3\n",
    "    return [err1, err2, err3]\n",
    "\n",
    "# We set the parameters as we have done previously to se the effect of adding another firm to the market\n",
    "a = 50\n",
    "b = 3\n",
    "mc_oligo = 1\n",
    "\n",
    "# We use optimize.root to solve for the equilibrium quantities and extract them \n",
    "result_oligo = optimize.root(lambda q: H_oligo(q,a,b,mc_oligo), [0.1, 0.1, 0.1])\n",
    "\n",
    "q_star_oligo = result_oligo.x\n",
    "q1_star_oligo, q2_star_oligo, q3_star_oligo = q_star_oligo\n",
    "total_output_oligo = q1_star_oligo + q2_star_oligo + q3_star_oligo\n",
    "\n",
    "print(f'Nash Equilibrium for mc1 = mc2 = mc3 = {mc_oligo:.0f}')\n",
    "print(f'q1* = {q1_star_oligo:1.3f}')\n",
    "print(f'q2* = {q2_star_oligo:1.3f}')\n",
    "print(f'q3* = {q3_star_oligo:1.3f}')\n",
    "print(f'For mc = {mc_oligo:.0f}, the total output in an oligopoly with three firms is: {total_output_oligo:1.3f}')"
   ]
  },
  {
   "cell_type": "markdown",
   "metadata": {},
   "source": [
    "**Oligopoly with individual marginal costs**\n",
    "\n",
    "Next up we want to add to the analysis the effects of marginal costs positively related to the individual quantities produced by the firms. For the optimize problem, we use the nelder-mead method. We have tried with a few other methods, but found that the Nelder-Mead gave the best result, as the bounds provided in the problem ensure that the solution remains within feasible regions (non-negative quantities for production). In this case, the lower bound of 0 ensures that negative quantities are not considered as solutions."
   ]
  },
  {
   "cell_type": "code",
   "execution_count": null,
   "metadata": {},
   "outputs": [],
   "source": [
    "a = 60\n",
    "b = 3\n",
    "\n",
    "# We call the function from our py-file.\n",
    "q1_star_mc_var, q2_star_mc_var, q3_star_mc_var, total_output_mc_var = nash_eq_mc_var(a, b)"
   ]
  },
  {
   "cell_type": "code",
   "execution_count": null,
   "metadata": {},
   "outputs": [],
   "source": [
    "#We define the functions for the firm individual marginal costs\n",
    "def mc1(q1):\n",
    "    return 1.1+(3*q1)\n",
    "\n",
    "def mc2(q2):\n",
    "    return 5+(3*q2)\n",
    "\n",
    "def mc3(q3):\n",
    "    return 3+(1.5*q3)\n",
    "\n",
    "#We adapt the profit functions and Best Response functions for the three firms to account for the marginal cost functions depending on q\n",
    "def profit_1_mc_var(a,b,q1,q2,q3,mc1):\n",
    "    return (a-(q1+q2+q3)*b-mc1)*q1\n",
    "\n",
    "def BR1_mc_var(q2,q3,a,b,mc1):\n",
    "    sol_BR1_mc_var = optimize.minimize(lambda q: -profit_1_mc_var(a,b,q,q2,q3,mc1), x0=0.1, bounds=[(0, None)])\n",
    "    return sol_BR1_mc_var.x[0]  \n",
    "\n",
    "\n",
    "def profit_2_mc_var(a,b,q1,q2,q3,mc2):\n",
    "    return (a-(q1+q2+q3)*b-mc2)*q2\n",
    "\n",
    "def BR2_mc_var(q1,q3,a,b,mc2):\n",
    "    sol_BR2_mc_var = optimize.minimize(lambda q: -profit_2_mc_var(a,b,q1,q,q3,mc2), x0=0.1, bounds=[(0, None)])\n",
    "    return sol_BR2_mc_var.x[0]\n",
    "\n",
    "\n",
    "def profit_3_mc_var(a,b,q1,q2,q3,mc3):\n",
    "    return (a-(q1+q2+q3)*b-mc3)*q3\n",
    "\n",
    "def BR3_mc_var(q1,q2,a,b,mc3):\n",
    "    sol_BR3_mc_var = optimize.minimize(lambda q: -profit_3_mc_var(a,b,q1,q2,q,mc3), x0=0.1, bounds=[(0, None)])\n",
    "    return sol_BR3_mc_var.x[0]\n",
    "\n",
    "#We define the H-function to take into account the individual q\n",
    "def H_mc_var(q,a,b,mc1,mc2,mc3):\n",
    "    q1, q2, q3 = q\n",
    "    err1 = BR1_mc_var(q2,q3,a,b,mc1)-q1\n",
    "    err2 = BR2_mc_var(q1,q3,a,b,mc2)-q2\n",
    "    err3 = BR3_mc_var(q1,q2,a,b,mc3)-q3\n",
    "    return [err1, err2, err3]\n",
    "\n",
    "# We set the parameters as previously\n",
    "a = 50\n",
    "b = 3\n",
    "\n",
    "# We formulate the Cournot equilibrium problem as a minimization problem using the optimize.minimize function. \n",
    "# It minimizes the sum of squares of the errors in the system of equations, while we set the bounds to include only positive solutions.\n",
    "result_mc_var = optimize.minimize(lambda q: np.sum(np.square(H_mc_var(q,a,b, mc1(q[0]), mc2(q[1]), mc3(q[2])))),\n",
    "                           x0=[0.1, 0.1, 0.1], bounds=[(0, None), (0, None), (0, None)], method='nelder-mead')\n",
    "\n",
    "# We extract equilibrium quantities\n",
    "q_star_mc_var = result_mc_var.x\n",
    "q1_star_mc_var, q2_star_mc_var, q3_star_mc_var = q_star_mc_var\n",
    "total_output_mc_var = q1_star_mc_var + q2_star_mc_var + q3_star_mc_var\n",
    "\n",
    "print(\"Nash Equilibrium:\")\n",
    "print(f'q1* = {q1_star_mc_var:1.3f}')\n",
    "print(f'q2* = {q2_star_mc_var:1.3f}')\n",
    "print(f'q3* = {q3_star_mc_var:1.3f}')\n",
    "print(f'In an oligopoly with firm individual and variable MC, the total output is: {total_output_mc_var:1.3f}')"
   ]
  },
  {
   "cell_type": "markdown",
   "metadata": {},
   "source": [
    "We see, that marginal costs for each firm that initially larger than 1 result in less output for each firm as we would expect. Looking closer at the firms, we see:\n",
    "* a larger initial marginal cost result in a smaller output for companies with the same increase in mc per quantity of output (comparing firm 1 and 2).\n",
    "* a relatively smaller increase in mc per quantity of output can have a significant effect on the overall output, as mc is kept low (comparing firm 1 and 3)."
   ]
  },
  {
   "cell_type": "code",
   "execution_count": null,
   "metadata": {},
   "outputs": [],
   "source": [
    "#def mc1(q1):\n",
    "    #return 1+(3*q1)\n",
    "\n",
    "#def mc2(q2):\n",
    "    #return 5+(3*q2)\n",
    "\n",
    "#def mc3(q3):\n",
    "    #return 3+(1.5*q3)\n",
    "\n",
    "\n",
    "#def profit_1_mc_var(a, b, q1, q2, q3, mc1):\n",
    "    #return (a - b * q1 - b * q2 - b * q3 - mc1) * q1\n",
    "\n",
    "#def BR1_mc_var(q2, q3, a, b, mc1):\n",
    "    #sol_BR1_mc_var = optimize.minimize(lambda q: -profit_1_mc_var(a, b, q, q2, q3, mc1), x0=0.1, bounds=[(0, None)])\n",
    "    #return sol_BR1_mc_var.x[0]  \n",
    "\n",
    "\n",
    "#def profit_2_mc_var(a, b, q1, q2, q3, mc2):\n",
    "    #return (a - b * q1 - b * q2 - b * q3 - mc2) * q2\n",
    "\n",
    "#def BR2_mc_var(q1, q3, a, b, mc2):\n",
    "    #sol_BR2_mc_var = optimize.minimize(lambda q: -profit_2_mc_var(a, b, q1, q, q3, mc2), x0=0.1, bounds=[(0, None)])\n",
    "    #return sol_BR2_mc_var.x[0]\n",
    "\n",
    "\n",
    "#def profit_3_mc_var(a, b, q1, q2, q3, mc3):\n",
    "    #return (a - b * q1 - b * q2 - b * q3 - mc3) * q3\n",
    "\n",
    "#def BR3_mc_var(q1, q2, a, b, mc3):\n",
    "    #sol_BR3_mc_var = optimize.minimize(lambda q: -profit_3_mc_var(a, b, q1, q2, q, mc3), x0=0.1, bounds=[(0, None)])\n",
    "    #return sol_BR3_mc_var.x[0]\n",
    "\n",
    "# Define function H(q)\n",
    "#def H_mc_var(q, a, b, mc1, mc2, mc3):\n",
    "    #q1, q2, q3 = q\n",
    "    #err1 = BR1_mc_var(q2, q3, a, b, mc1) - q1\n",
    "    #err2 = BR2_mc_var(q1, q3, a, b, mc2) - q2\n",
    "    #err3 = BR3_mc_var(q1, q2, a, b, mc3) - q3\n",
    "    #return [err1, err2, err3]\n",
    "\n",
    "# Set parameters\n",
    "#a = 50\n",
    "#b = 3\n",
    "\n",
    "#result = optimize.root(lambda q: H_mc_var(q, a, b, mc1, mc2, mc3), [0.1, 0.1, 0.1])\n",
    "\n",
    "# Extract equilibrium quantities\n",
    "#q1_star, q2_star, q3_star = result.x\n",
    "#total_output = q1_star + q2_star + q3_star\n",
    "\n",
    "# Print results\n",
    "#print(\"Nash Equilibrium:\")\n",
    "#print(f'q1* = {q1_star:1.3f}')\n",
    "#print(f'q2* = {q2_star:1.3f}')\n",
    "#print(f'q3* = {q3_star:1.3f}')\n",
    "#print(f'In an oligopoly with firm individual and variable MC, the total output is: {total_output:1.3f}')"
   ]
  },
  {
   "cell_type": "markdown",
   "metadata": {},
   "source": [
    "# Conclusion"
   ]
  },
  {
   "cell_type": "code",
   "execution_count": null,
   "metadata": {},
   "outputs": [],
   "source": [
    "a = 50\n",
    "b = 5\n",
    "mc_duo = 1\n",
    "mc_oligo = 3\n",
    "\n",
    "# Call the function\n",
    "plot_results(a, b, mc_duo, mc_oligo)"
   ]
  },
  {
   "cell_type": "code",
   "execution_count": null,
   "metadata": {},
   "outputs": [],
   "source": [
    "# Define parameters\n",
    "a = 50\n",
    "b = 3\n",
    "mc_duo = 1\n",
    "mc_oligo = 1\n",
    "\n",
    "# Calculate quantities for each case\n",
    "duopoly_q1_star, duopoly_q2_star, duopoly_total_output = nash_eq_duo(a, b, mc_duo)\n",
    "oligopoly_q1_star, oligopoly_q2_star, oligopoly_q3_star, oligopoly_total_output = nash_eq_oligo(a, b, mc)\n",
    "oligopoly_mc_var_q1_star, oligopoly_mc_var_q2_star, oligopoly_mc_var_q3_star, oligopoly_mc_var_total_output = nash_eq_mc_var(a, b)\n",
    "\n",
    "# Create a bar plot\n",
    "labels = ['Duopoly', 'Oligopoly\\n(without MC function)', 'Oligopoly\\n(with MC function)']\n",
    "outputs = [duopoly_total_output, oligopoly_total_output, oligopoly_mc_var_total_output]\n",
    "\n",
    "plt.figure(figsize=(10, 6))\n",
    "plt.bar(labels, outputs, color=['blue', 'orange', 'green'])\n",
    "plt.xlabel('Market Structure')\n",
    "plt.ylabel('Total Output')\n",
    "plt.title('Comparison of Total Output Across Market Structures')\n",
    "plt.show()"
   ]
  },
  {
   "cell_type": "code",
   "execution_count": null,
   "metadata": {},
   "outputs": [],
   "source": [
    "# Define parameters\n",
    "a = 50\n",
    "b = 3\n",
    "mc_duo = 1\n",
    "mc_oligo = 1\n",
    "\n",
    "# Calculate quantities for each case\n",
    "duopoly_q1_star, duopoly_q2_star, duopoly_total_output = duopoly_case(a, b, mc_duo)\n",
    "oligopoly_q1_star, oligopoly_q2_star, oligopoly_q3_star, oligopoly_total_output = oligopoly_case(a, b, mc)\n",
    "oligopoly_mc_var_q1_star, oligopoly_mc_var_q2_star, oligopoly_mc_var_q3_star, oligopoly_mc_var_total_output = oligopoly_case_mc_var(a, b)\n",
    "\n",
    "# Create a bar plot\n",
    "labels = ['Duopoly', 'Oligopoly\\n(without MC function)', 'Oligopoly\\n(with MC function)']\n",
    "outputs = [duopoly_total_output, oligopoly_total_output, oligopoly_mc_var_total_output]\n",
    "\n",
    "plt.figure(figsize=(10, 6))\n",
    "plt.bar(labels, outputs, color=['blue', 'orange', 'green'])\n",
    "plt.xlabel('Market Structure')\n",
    "plt.ylabel('Total Output')\n",
    "plt.title('Comparison of Total Output Across Market Structures')\n",
    "plt.show()"
   ]
  },
  {
   "attachments": {},
   "cell_type": "markdown",
   "metadata": {},
   "source": [
    "The bar plot illustrates the total output across various market structures: duopoly, oligopoly without the marginal cost function, and oligopoly with the marginal cost function.\n",
    "\n",
    "+ In the duopoly case, where only two firms compete, the total output is moderate compered to the other two, reflecting the balance of competition between the two firms.\n",
    "\n",
    "+ In contrast, the total output significantly increases in the oligopoly cases, where three firms compete. In the oligopoly without the marginal cost function leads to a slightly higher total output compared to the duopoly case. This suggests that while the addition of a third firm enhances competition and output, the individual output for each firm is slighly lower compered to the duopoly case.\n",
    "\n",
    "+ Interestingly, when incorporating the marginal cost function in the oligopoly case, the total output further decreases, falling below both the duopoly and oligopoly cases without the marginal cost function. This highlights the importance of considering the marginal cost dynamics in modeling oligopolistic competition, as firms adjust their production levels based on cost considerations.\n",
    "\n",
    "In summary, the figure demonstrates how different market structures and the incorporation of marginal cost dynamics can impact the total output in an industry. Understanding these dynamics is crucial for analyzing market behavior and making informed policy decisions."
   ]
  },
  {
   "attachments": {},
   "cell_type": "markdown",
   "metadata": {},
   "source": [
    "**Acknowledging the Stackelberg Model Extension**\n",
    "\n",
    "We could have expanded our analysis to include the Stackelberg model, where one firm acts as a leader and sets both price and quantity, while the other firm, the follower, adjusts its output accordingly. In this model, the leader typically enjoys higher profits, benefiting from its first-mover advantage. However, the follower may experience reduced profits due to the competitive response required. This extension would have provided insights into leadership dynamics and their impact on profitability in oligopolistic markets"
   ]
  }
 ],
 "metadata": {
  "kernelspec": {
   "display_name": "Python 3",
   "language": "python",
   "name": "python3"
  },
  "language_info": {
   "codemirror_mode": {
    "name": "ipython",
    "version": 3
   },
   "file_extension": ".py",
   "mimetype": "text/x-python",
   "name": "python",
   "nbconvert_exporter": "python",
   "pygments_lexer": "ipython3",
   "version": "3.11.7"
  },
  "toc-autonumbering": true,
  "vscode": {
   "interpreter": {
    "hash": "d082443479dcf0bb109497657c949fcf3a4bd1d96297faded59d95be7509270b"
   }
  }
 },
 "nbformat": 4,
 "nbformat_minor": 4
}
