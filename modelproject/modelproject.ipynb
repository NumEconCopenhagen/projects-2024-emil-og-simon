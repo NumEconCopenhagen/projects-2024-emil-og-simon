{
 "cells": [
  {
   "cell_type": "markdown",
   "metadata": {},
   "source": [
    "# Competition in an oligopolistic market \n",
    "## - The Cournot Model"
   ]
  },
  {
   "cell_type": "markdown",
   "metadata": {},
   "source": [
    "Imports and set magics:"
   ]
  },
  {
   "cell_type": "code",
   "execution_count": 104,
   "metadata": {},
   "outputs": [
    {
     "name": "stdout",
     "output_type": "stream",
     "text": [
      "The autoreload extension is already loaded. To reload it, use:\n",
      "  %reload_ext autoreload\n"
     ]
    }
   ],
   "source": [
    "import numpy as np\n",
    "from scipy import optimize\n",
    "import sympy as sm\n",
    "import matplotlib.pyplot as plt\n",
    "from mpl_toolkits.mplot3d import Axes3D\n",
    "import ipywidgets as widgets\n",
    "\n",
    "# autoreload modules when code is run\n",
    "%load_ext autoreload\n",
    "%autoreload 2\n",
    "\n",
    "# local modules\n",
    "#from modelproject import CournotModelClass"
   ]
  },
  {
   "cell_type": "markdown",
   "metadata": {},
   "source": [
    "# Model description"
   ]
  },
  {
   "attachments": {},
   "cell_type": "markdown",
   "metadata": {},
   "source": [
    "**Description**\n",
    "\n",
    "Cournot competition descibes an industry wherein competing firms, who offers identical products. The firms complete via the quantity of output they individually produce, simultaneously and autonomously. This model is named after its founder, the French mathematician Augustin Cournot."
   ]
  },
  {
   "attachments": {},
   "cell_type": "markdown",
   "metadata": {},
   "source": [
    "Firstly, we will take a look at the case of a duoploy where only two firms are competing the a given market. the model are given as followed:"
   ]
  },
  {
   "attachments": {},
   "cell_type": "markdown",
   "metadata": {},
   "source": [
    "$$\n",
    "\\begin{aligned}\n",
    "\\Pi_1(Q) & =p(Q)q_1-q_1MC_1 \\\\\n",
    "\\Pi_2(Q) & =p(Q)q_2-q_1MC_2 \\\\\n",
    "\\end{aligned}\n",
    "$$"
   ]
  },
  {
   "attachments": {},
   "cell_type": "markdown",
   "metadata": {},
   "source": [
    "In the profit functions provided earlier, price is determined by the total output denoted as $Q$, where for two firms, the total output $Q$ equals the sum of their individual outputs $q_1$ and $q_2$. As an illustrative example, let's assume that the price (expressed as the inverse demand function) follows a linear format, represented by $p = a + bQ$. Consequently, the inverse demand function can be expressed as $p = a + q_1b + q_2b$."
   ]
  },
  {
   "cell_type": "markdown",
   "metadata": {},
   "source": [
    "## Analytical solution"
   ]
  },
  {
   "attachments": {},
   "cell_type": "markdown",
   "metadata": {},
   "source": [
    "The initial segment of this project involves an analytical solution to the Cournot model. Although we acknowledge that this aspect of the project may not be particularly crucial, it is nonetheless essential to include. We utilized the SymPy function for this purpose, and the solution is presented below."
   ]
  },
  {
   "cell_type": "code",
   "execution_count": 105,
   "metadata": {},
   "outputs": [],
   "source": [
    "#model = CournotModelClass()\n",
    "\n",
    "\n",
    "#sol = model.sympy_solve()\n",
    "#print(\"Symbolic solution for q1:\", sol)"
   ]
  },
  {
   "cell_type": "markdown",
   "metadata": {},
   "source": [
    "**Setting up with SymPy**"
   ]
  },
  {
   "cell_type": "code",
   "execution_count": 106,
   "metadata": {},
   "outputs": [],
   "source": [
    "a = sm.symbols('a')\n",
    "b = sm.symbols('b')\n",
    "pi_1 = sm.symbols('pi_1')\n",
    "pi_2 = sm.symbols('pi_2')\n",
    "mc = sm.symbols('MC')\n",
    "q1 = sm.symbols('q_1')\n",
    "q2 = sm.symbols('q_2')\n",
    "q_star = sm.symbols('q^*')"
   ]
  },
  {
   "cell_type": "markdown",
   "metadata": {},
   "source": [
    "**Profit functions for each firm**"
   ]
  },
  {
   "cell_type": "code",
   "execution_count": 107,
   "metadata": {},
   "outputs": [
    {
     "data": {
      "text/latex": [
       "$\\displaystyle \\pi_{1} = q_{1} \\left(- MC + a - b q_{1} - b q_{2}\\right)$"
      ],
      "text/plain": [
       "Eq(pi_1, q_1*(-MC + a - b*q_1 - b*q_2))"
      ]
     },
     "execution_count": 107,
     "metadata": {},
     "output_type": "execute_result"
    }
   ],
   "source": [
    "profit_1 = sm.Eq(pi_1,(a-b*q1-b*q2-mc)*q1)\n",
    "profit_1"
   ]
  },
  {
   "cell_type": "code",
   "execution_count": 108,
   "metadata": {},
   "outputs": [
    {
     "data": {
      "text/latex": [
       "$\\displaystyle \\pi_{2} = q_{2} \\left(- MC + a - b q_{1} - b q_{2}\\right)$"
      ],
      "text/plain": [
       "Eq(pi_2, q_2*(-MC + a - b*q_1 - b*q_2))"
      ]
     },
     "execution_count": 108,
     "metadata": {},
     "output_type": "execute_result"
    }
   ],
   "source": [
    "profit_2 = sm.Eq(pi_2,(a-b*q1-b*q2-mc)*q2)\n",
    "profit_2"
   ]
  },
  {
   "cell_type": "markdown",
   "metadata": {},
   "source": [
    "**FOC for each firm**"
   ]
  },
  {
   "cell_type": "code",
   "execution_count": 109,
   "metadata": {},
   "outputs": [
    {
     "data": {
      "text/latex": [
       "$\\displaystyle - MC + a - 2 b q_{1} - b q_{2}$"
      ],
      "text/plain": [
       "-MC + a - 2*b*q_1 - b*q_2"
      ]
     },
     "execution_count": 109,
     "metadata": {},
     "output_type": "execute_result"
    }
   ],
   "source": [
    "#FOC firm 1\n",
    "profit_1 = (a-b*q1-b*q2-mc)*q1\n",
    "foc_q1 = sm.diff(profit_1, q1)\n",
    "foc_q1"
   ]
  },
  {
   "cell_type": "code",
   "execution_count": 110,
   "metadata": {},
   "outputs": [
    {
     "data": {
      "text/latex": [
       "$\\displaystyle - MC + a - b q_{1} - 2 b q_{2}$"
      ],
      "text/plain": [
       "-MC + a - b*q_1 - 2*b*q_2"
      ]
     },
     "execution_count": 110,
     "metadata": {},
     "output_type": "execute_result"
    }
   ],
   "source": [
    "#FOC firm 2\n",
    "profit_2 = (a-b*q1-b*q2-mc)*q2\n",
    "foc_q2 = sm.diff(profit_2, q2)\n",
    "foc_q2"
   ]
  },
  {
   "cell_type": "markdown",
   "metadata": {},
   "source": [
    "**Solving for q1 and q2**"
   ]
  },
  {
   "cell_type": "code",
   "execution_count": 111,
   "metadata": {},
   "outputs": [
    {
     "data": {
      "text/latex": [
       "$\\displaystyle \\frac{- MC + a - b q_{2}}{2 b}$"
      ],
      "text/plain": [
       "(-MC + a - b*q_2)/(2*b)"
      ]
     },
     "execution_count": 111,
     "metadata": {},
     "output_type": "execute_result"
    }
   ],
   "source": [
    "#We solve FOC1 for q1\n",
    "solve_q1 = sm.solve(foc_q1,q1)\n",
    "solve_q1[0]"
   ]
  },
  {
   "cell_type": "code",
   "execution_count": 112,
   "metadata": {},
   "outputs": [
    {
     "data": {
      "text/latex": [
       "$\\displaystyle \\frac{- MC + a - b q_{1}}{2 b}$"
      ],
      "text/plain": [
       "(-MC + a - b*q_1)/(2*b)"
      ]
     },
     "execution_count": 112,
     "metadata": {},
     "output_type": "execute_result"
    }
   ],
   "source": [
    "#We solve FOC2 for q2\n",
    "solve_q2 = sm.solve(foc_q2,q2)\n",
    "solve_q2[0]"
   ]
  },
  {
   "cell_type": "code",
   "execution_count": 113,
   "metadata": {},
   "outputs": [
    {
     "data": {
      "text/latex": [
       "$\\displaystyle \\frac{- MC + a - b q^{*}}{2 b}$"
      ],
      "text/plain": [
       "(-MC + a - b*q^*)/(2*b)"
      ]
     },
     "execution_count": 113,
     "metadata": {},
     "output_type": "execute_result"
    }
   ],
   "source": [
    "solve_q1_subs = solve_q1[0].subs(q2,q_star)\n",
    "solve_q1_subs"
   ]
  },
  {
   "cell_type": "code",
   "execution_count": 114,
   "metadata": {},
   "outputs": [
    {
     "data": {
      "text/latex": [
       "$\\displaystyle \\frac{- MC + a - b q^{*}}{2 b}$"
      ],
      "text/plain": [
       "(-MC + a - b*q^*)/(2*b)"
      ]
     },
     "execution_count": 114,
     "metadata": {},
     "output_type": "execute_result"
    }
   ],
   "source": [
    "solve_q2_subs = solve_q2[0].subs(q1,q_star)\n",
    "solve_q2_subs"
   ]
  },
  {
   "cell_type": "code",
   "execution_count": 115,
   "metadata": {},
   "outputs": [
    {
     "data": {
      "text/latex": [
       "$\\displaystyle q^{*} = \\frac{- MC + a - b q^{*}}{2 b}$"
      ],
      "text/plain": [
       "Eq(q^*, (-MC + a - b*q^*)/(2*b))"
      ]
     },
     "execution_count": 115,
     "metadata": {},
     "output_type": "execute_result"
    }
   ],
   "source": [
    "nash_eq = sm.Eq(q_star,solve_q1_subs)\n",
    "nash_eq"
   ]
  },
  {
   "cell_type": "code",
   "execution_count": 116,
   "metadata": {},
   "outputs": [
    {
     "data": {
      "text/latex": [
       "$\\displaystyle \\frac{- MC + a}{3 b}$"
      ],
      "text/plain": [
       "(-MC + a)/(3*b)"
      ]
     },
     "execution_count": 116,
     "metadata": {},
     "output_type": "execute_result"
    }
   ],
   "source": [
    "nash_eq_solve = sm.solve(nash_eq,q_star)\n",
    "nash_eq_solve[0]"
   ]
  },
  {
   "attachments": {},
   "cell_type": "markdown",
   "metadata": {},
   "source": [
    "Using SymPy, we derived the response functions for both firms and determined the Nash Equilibrium, which is:\n",
    "\n",
    "$$\n",
    "\\begin{aligned}\n",
    "\\ q_1 = q_2 = \\frac{a - bq^*-MC}{2b} \\\n",
    "\\end{aligned}\n",
    "$$\n",
    "$$\n",
    "\\begin{aligned}\n",
    "\\ Nash & = \\frac{a - MC}{3b} \\\n",
    "\\end{aligned}\n",
    "$$"
   ]
  },
  {
   "cell_type": "markdown",
   "metadata": {},
   "source": [
    "**Creating functions using Lamdify**"
   ]
  },
  {
   "attachments": {},
   "cell_type": "markdown",
   "metadata": {},
   "source": [
    "After utilizing SymPy to derive the solution, we will employ lambdify to convert these  expressions into callable functions. By doing so, we can efficiently evaluate these expressions using specific numerical values, facilitating numerical analysis and computation"
   ]
  },
  {
   "cell_type": "code",
   "execution_count": 117,
   "metadata": {},
   "outputs": [],
   "source": [
    "best_resp_q1 = sm.lambdify(args=(a,b,mc),expr=solve_q1[0])\n",
    "best_resp_q2 = sm.lambdify(args=(a,b,mc),expr=solve_q2[0])\n",
    "nash_qstar = sm.lambdify(args=(a,b,mc),expr=nash_eq_solve[0])"
   ]
  },
  {
   "cell_type": "code",
   "execution_count": 118,
   "metadata": {},
   "outputs": [
    {
     "name": "stdout",
     "output_type": "stream",
     "text": [
      "For mc = 1.0, we have q* = 5.444\n",
      "For mc = 2.0, we have q* = 5.333\n",
      "For mc = 3.0, we have q* = 5.222\n",
      "For mc = 4.0, we have q* = 5.111\n",
      "For mc = 5.0, we have q* = 5.000\n",
      "For mc = 6.0, we have q* = 4.889\n",
      "For mc = 7.0, we have q* = 4.778\n",
      "For mc = 8.0, we have q* = 4.667\n",
      "For mc = 9.0, we have q* = 4.556\n",
      "For mc = 10.0, we have q* = 4.444\n"
     ]
    }
   ],
   "source": [
    "a_val = 50\n",
    "b_val = 3\n",
    "mc_vec = np.linspace(1,10,10)\n",
    "\n",
    "nash_eq = nash_qstar(a_val, b_val, mc_vec)\n",
    "\n",
    "for mc, n in zip(mc_vec, nash_eq):\n",
    "    print(f'For mc = {mc:1.1f}, we have q* = {n:1.3f}')\n"
   ]
  },
  {
   "cell_type": "markdown",
   "metadata": {},
   "source": [
    "## Numerical solution"
   ]
  },
  {
   "attachments": {},
   "cell_type": "markdown",
   "metadata": {},
   "source": [
    "Once the analytical solution has been obtained, we will proceed to solve the model numerically. Initially, we will employ an optimizer followed by a root finder to determine the quantities for the two firms. Before doing so we need to define a function (H_duo) that computes the errors in the Nash equilibrium conditions for a duopoly model. This function calculates the difference between each firm's best response quantity and its actual quantity produced. Then, it uses an optimization algorithm (optimize.root) to find the Nash equilibrium quantities, starting from an initial guess of [0.1, 0.1]. Below, you will find the relevant code for this numerical solution process."
   ]
  },
  {
   "cell_type": "code",
   "execution_count": 119,
   "metadata": {},
   "outputs": [
    {
     "name": "stdout",
     "output_type": "stream",
     "text": [
      "Nash Equilibrium for mc1 = mc2 = 1\n",
      "q1* = 5.444\n",
      "q2* = 5.444\n",
      "Total Output = 10.889\n"
     ]
    }
   ],
   "source": [
    "# Defining the profit function for firm 1\n",
    "def profit_1_duo(a,b,q1,q2,mc):\n",
    "        return (a-b*q1-b*q2-mc)*q1\n",
    "\n",
    "# Defining the best respons function for firm 1\n",
    "def BR1_duo(q2,a,b,mc):\n",
    "       sol_BR1_duo = optimize.minimize(lambda q: -profit_1_duo(a,b,q,q2,mc),x0=0.1,bounds=[(0, None)])\n",
    "       return sol_BR1_duo.x[0]\n",
    "\n",
    "# Defining the profit function for firm 2       \n",
    "def profit_2_duo(a,b,q1,q2,mc):\n",
    "        return (a-b*q1-b*q2-mc)*q2\n",
    "\n",
    "# Defining the best respons function for firm 2\n",
    "def BR2_duo(q1,a,b,mc):\n",
    "       sol_BR2_duo = optimize.minimize(lambda q: -profit_2_duo(a,b,q1,q,mc),x0=0.1,bounds=[(0, None)])\n",
    "       return sol_BR2_duo.x[0]\n",
    "\n",
    "# Defining the h_duo function which computes the errors in Nash EQ\n",
    "def H_duo(q, a, b, mc):\n",
    "    q1,q2 = q\n",
    "    err1 = BR1_duo(q2,a,b,mc)-q1\n",
    "    err2 = BR2_duo(q1,a,b,mc)-q2\n",
    "    return [err1, err2]\n",
    "\n",
    "a = 50\n",
    "b = 3\n",
    "mc_duo = 1\n",
    "\n",
    "# Solving for the Nash EQ\n",
    "result_duo = optimize.root(lambda q: H_duo(q, a, b, mc_duo), [0.1, 0.1])\n",
    "\n",
    "# Extracting the quantities\n",
    "q_star = result_duo.x\n",
    "q1_star, q2_star = q_star\n",
    "total_output = q1_star + q2_star\n",
    "\n",
    "print(\"Nash Equilibrium for mc1 = mc2 = {:.0f}\".format(mc_duo))\n",
    "print(\"q1* = {:.3f}\".format(q1_star))\n",
    "print(\"q2* = {:.3f}\".format(q2_star))\n",
    "print(\"Total Output = {:.3f}\".format(total_output))\n"
   ]
  },
  {
   "attachments": {},
   "cell_type": "markdown",
   "metadata": {},
   "source": [
    "By experimenting with the value of MC within the range of 1 to 5, you will observe that both the analytical and numerical solutions yield identical results, indicating a promising consistency between the two methods."
   ]
  },
  {
   "attachments": {},
   "cell_type": "markdown",
   "metadata": {},
   "source": [
    "To illustarte this, we will plot the solution below."
   ]
  },
  {
   "cell_type": "code",
   "execution_count": 120,
   "metadata": {},
   "outputs": [
    {
     "data": {
      "application/vnd.jupyter.widget-view+json": {
       "model_id": "e5f5a3ee094146a2a5fe1eed37e60f4f",
       "version_major": 2,
       "version_minor": 0
      },
      "text/plain": [
       "interactive(children=(IntSlider(value=5, description='mc', max=30, min=1), Output()), _dom_classes=('widget-in…"
      ]
     },
     "metadata": {},
     "output_type": "display_data"
    },
    {
     "data": {
      "text/plain": [
       "<function __main__.update_plot(mc=5)>"
      ]
     },
     "execution_count": 120,
     "metadata": {},
     "output_type": "execute_result"
    }
   ],
   "source": [
    "a = 50\n",
    "b = 3\n",
    "mc_default = 5\n",
    "\n",
    "result = optimize.root(lambda q: H_duo(q, a, b, mc_default), [0.1, 0.1])\n",
    "q_star = result.x\n",
    "q1_star, q2_star = q_star\n",
    "\n",
    "q_values = np.linspace(0, 15, 100)\n",
    "\n",
    "def update_plot(mc=mc_default):\n",
    "    q1_values = [BR1_duo(q2, a, b, mc) for q2 in q_values]\n",
    "    q2_values = [BR2_duo(q1, a, b, mc) for q1 in q_values]\n",
    "    \n",
    "    result = optimize.root(lambda q: H_duo(q, a, b, mc), [0.1, 0.1])\n",
    "    q_star = result.x\n",
    "    q1_star, q2_star = q_star\n",
    "    \n",
    "    plt.figure(figsize=(8, 6))\n",
    "    plt.plot(q1_values, q_values, label='Best Response Firm 1', color='blue')\n",
    "    plt.plot(q_values, q2_values, label='Best Response Firm 2', color='red')\n",
    "    plt.scatter(q1_star, q2_star, color='green', label='Nash Equilibrium')\n",
    "    plt.plot([q1_star, q1_star], [0, q2_star], color='green', linestyle='--')\n",
    "    plt.plot([0, q1_star], [q2_star, q2_star], color='green', linestyle='--')\n",
    "    plt.text(q1_star, q2_star + 0.5, f'({q1_star:.2f}, {q2_star:.2f})', horizontalalignment='center')\n",
    "    plt.xlim(0, None)\n",
    "    plt.ylim(0, None)\n",
    "    plt.xlabel('q1')\n",
    "    plt.ylabel('q2')\n",
    "    plt.title('Best Response Functions and Nash Equilibrium')\n",
    "    plt.legend()\n",
    "    plt.grid(True)\n",
    "    plt.show()\n",
    "\n",
    "widgets.interact(update_plot, mc=(1, 30, 1))\n"
   ]
  },
  {
   "attachments": {},
   "cell_type": "markdown",
   "metadata": {},
   "source": [
    "We've incorporated a slider for the marginal cost (MC) to demonstrate how changes in firms' marginal costs affect the solution of the model. As anticipated, when firms face rising marginal costs, their total output decreases."
   ]
  },
  {
   "cell_type": "code",
   "execution_count": 121,
   "metadata": {},
   "outputs": [],
   "source": [
    "#%matplotlib widget\n",
    "\n",
    "#def tot_profit_duo(q, a, b, mc):\n",
    "    #q1, q2 = q\n",
    "    #return profit_1_duo(a, b, q1, q2, mc) + profit_2_duo(a, b, q1, q2, mc)\n",
    "\n",
    "#profit_star = tot_profit_duo(q_star, a, b, mc)\n",
    "\n",
    "#q1_range = np.linspace(0, 20, 100)\n",
    "#q2_range = np.linspace(0, 20, 100)\n",
    "#q1, q2 = np.meshgrid(q1_range, q2_range)\n",
    "#profit = tot_profit_duo([q1, q2], a, b, mc)\n",
    "\n",
    "#profit[profit < 0] = np.nan\n",
    "\n",
    "#fig = plt.figure(figsize=(10, 8))\n",
    "#ax = fig.add_subplot(111, projection='3d')\n",
    "#ax.plot_surface(q1, q2, profit, cmap='viridis', alpha=0.7)\n",
    "#ax.scatter(q1_star, q2_star, profit_star, color='red', label='Nash Equilibrium')\n",
    "#ax.set_xlabel('q1')\n",
    "#ax.set_ylabel('q2')\n",
    "#ax.set_zlabel('Total Profit')\n",
    "#ax.set_title('Cournot Model')\n",
    "\n",
    "# Annotate Nash equilibrium point\n",
    "#ax.text(q1_star, q2_star, profit_star, f'({q1_star:.2f}, {q2_star:.2f}, {profit_star:.2f})', color='black')\n",
    "\n",
    "#ax.legend()\n",
    "#plt.show()"
   ]
  },
  {
   "cell_type": "markdown",
   "metadata": {},
   "source": [
    "# Further analysis"
   ]
  },
  {
   "attachments": {},
   "cell_type": "markdown",
   "metadata": {},
   "source": [
    "The Cournot model can be extended to \"n\" firms. For our project, we'll concentrate on the case involving three firms in the market, forming an oligopoly. Additionally, we'll make one more extention to the model by making the marginal cost a function of the quantity produced by each firm.\n",
    "\n",
    "Here's the modified Cournot model:\n",
    "\n",
    "**The model**\n",
    "\n",
    "$$\n",
    "\\begin{aligned}\n",
    "\\pi_i(q_1,....,q_n) & =q_iP \\left( \\sum_{j=1}^{n}q_j\\right)-MC_i(q_i) \\\\\n",
    "\n",
    "\\end{aligned}\n",
    "$$\n",
    "  "
   ]
  },
  {
   "cell_type": "markdown",
   "metadata": {},
   "source": [
    "**Adding another firm - From duopoly to oligopoly**\n",
    "\n",
    "We start by adapting the model to a oligopoly scenario by adding a profit function and a best response function for Firm 3. This alters the profit functions for Firm 1 and 2, as they now have to take into account the quantity produced by Firm 3. This also effects the best response functions of the three firms as we see below and also the H-function. However, aside from this, the method is the same as used in the numerical solution with the duopol above. "
   ]
  },
  {
   "cell_type": "code",
   "execution_count": 122,
   "metadata": {},
   "outputs": [
    {
     "name": "stdout",
     "output_type": "stream",
     "text": [
      "Nash Equilibrium for mc1 = mc2 = mc3 = 1\n",
      "q1* = 4.083\n",
      "q2* = 4.083\n",
      "q3* = 4.083\n",
      "For mc = 1, the total output in an oligopoly with three firms is: 12.250\n"
     ]
    }
   ],
   "source": [
    "# We define the profit function and Best Response function for firm 1:\n",
    "def profit_1_oligo(a,b,q1,q2,q3,mc):\n",
    "    return (a-b*q1-b*q2-b*q3-mc)*q1\n",
    "\n",
    "def BR1_oligo(q2,q3,a,b,mc):\n",
    "    sol_BR1_oligo = optimize.minimize(lambda q: -profit_1_oligo(a,b,q,q2,q3,mc), x0=0.1, bounds=[(0, None)])\n",
    "    return sol_BR1_oligo.x[0]  \n",
    "\n",
    "# We define the profit function and Best Response function for firm 2:\n",
    "def profit_2_oligo(a,b,q1,q2,q3,mc):\n",
    "    return (a-b*q1-b*q2-b*q3-mc)*q2\n",
    "\n",
    "def BR2_oligo(q1, q3, a, b, mc):\n",
    "    sol_BR2_oligo = optimize.minimize(lambda q: -profit_2_oligo(a,b,q1,q,q3,mc), x0=0.1, bounds=[(0, None)])\n",
    "    return sol_BR2_oligo.x[0]\n",
    "\n",
    "# We define the profit function and Best Response function for firm 3 that makes it and oligopoly:\n",
    "def profit_3_oligo(a,b,q1,q2,q3,mc):\n",
    "    return (a-b*q1-b*q2-b*q3-mc)*q3\n",
    "\n",
    "def BR3_oligo(q1,q2,a,b,mc):\n",
    "    sol_BR3_oligo = optimize.minimize(lambda q: -profit_3_oligo(a,b,q1,q2,q,mc), x0=0.1, bounds=[(0, None)])\n",
    "    return sol_BR3_oligo.x[0]\n",
    "\n",
    "# We adjust the H-function to take into account Firm 3 as it is now returning err3 aswell:\n",
    "def H_oligo(q,a,b,mc):\n",
    "    q1, q2, q3 = q\n",
    "    err1 = BR1_oligo(q2,q3,a,b,mc)-q1\n",
    "    err2 = BR2_oligo(q1,q3,a,b,mc)-q2\n",
    "    err3 = BR3_oligo(q1,q2,a,b,mc)-q3\n",
    "    return [err1, err2, err3]\n",
    "\n",
    "# We set the parameters as we have done previously to se the effect of adding another firm to the market\n",
    "a = 50\n",
    "b = 3\n",
    "mc_oligo = 1\n",
    "\n",
    "# We use optimize.root to solve for the equilibrium quantities and extract them \n",
    "result_oligo = optimize.root(lambda q: H_oligo(q,a,b,mc_oligo), [0.1, 0.1, 0.1])\n",
    "\n",
    "q_star_oligo = result_oligo.x\n",
    "q1_star_oligo, q2_star_oligo, q3_star_oligo = q_star_oligo\n",
    "total_output_oligo = q1_star_oligo + q2_star_oligo + q3_star_oligo\n",
    "\n",
    "print(f'Nash Equilibrium for mc1 = mc2 = mc3 = {mc_oligo:.0f}')\n",
    "print(f'q1* = {q1_star_oligo:1.3f}')\n",
    "print(f'q2* = {q2_star_oligo:1.3f}')\n",
    "print(f'q3* = {q3_star_oligo:1.3f}')\n",
    "print(f'For mc = {mc_oligo:.0f}, the total output in an oligopoly with three firms is: {total_output_oligo:1.3f}')"
   ]
  },
  {
   "cell_type": "markdown",
   "metadata": {},
   "source": [
    "**Oligopoly with individual marginal costs**\n",
    "\n",
    "Next up we want to add to the analysis the effects of marginal costs positively related to the individual quantities produced by the firms. For the optimize problem, we use the nelder-mead method. We have tried with a few other methods, but found that the Nelder-Mead gave the best result, as the bounds provided in the problem ensure that the solution remains within feasible regions (non-negative quantities for production). In this case, the lower bound of 0 ensures that negative quantities are not considered as solutions."
   ]
  },
  {
   "cell_type": "code",
   "execution_count": 123,
   "metadata": {},
   "outputs": [
    {
     "name": "stdout",
     "output_type": "stream",
     "text": [
      "Nash Equilibrium:\n",
      "q1* = 3.257\n",
      "q2* = 2.607\n",
      "q3* = 3.921\n",
      "In an oligopoly with firm individual and variable MC, the total output is: 9.785\n"
     ]
    }
   ],
   "source": [
    "#We define the functions for the firm individual marginal costs\n",
    "def mc1(q1):\n",
    "    return 1.1+(3*q1)\n",
    "\n",
    "def mc2(q2):\n",
    "    return 5+(3*q2)\n",
    "\n",
    "def mc3(q3):\n",
    "    return 3+(1.5*q3)\n",
    "\n",
    "#We adapt the profit functions and Best Response functions for the three firms to account for the marginal cost functions depending on q\n",
    "def profit_1_mc_var(a,b,q1,q2,q3,mc1):\n",
    "    return (a-(q1+q2+q3)*b-mc1)*q1\n",
    "\n",
    "def BR1_mc_var(q2,q3,a,b,mc1):\n",
    "    sol_BR1_mc_var = optimize.minimize(lambda q: -profit_1_mc_var(a,b,q,q2,q3,mc1), x0=0.1, bounds=[(0, None)])\n",
    "    return sol_BR1_mc_var.x[0]  \n",
    "\n",
    "\n",
    "def profit_2_mc_var(a,b,q1,q2,q3,mc2):\n",
    "    return (a-(q1+q2+q3)*b-mc2)*q2\n",
    "\n",
    "def BR2_mc_var(q1,q3,a,b,mc2):\n",
    "    sol_BR2_mc_var = optimize.minimize(lambda q: -profit_2_mc_var(a,b,q1,q,q3,mc2), x0=0.1, bounds=[(0, None)])\n",
    "    return sol_BR2_mc_var.x[0]\n",
    "\n",
    "\n",
    "def profit_3_mc_var(a,b,q1,q2,q3,mc3):\n",
    "    return (a-(q1+q2+q3)*b-mc3)*q3\n",
    "\n",
    "def BR3_mc_var(q1,q2,a,b,mc3):\n",
    "    sol_BR3_mc_var = optimize.minimize(lambda q: -profit_3_mc_var(a,b,q1,q2,q,mc3), x0=0.1, bounds=[(0, None)])\n",
    "    return sol_BR3_mc_var.x[0]\n",
    "\n",
    "#We define the H-function to take into account the individual q\n",
    "def H_mc_var(q,a,b,mc1,mc2,mc3):\n",
    "    q1, q2, q3 = q\n",
    "    err1 = BR1_mc_var(q2,q3,a,b,mc1)-q1\n",
    "    err2 = BR2_mc_var(q1,q3,a,b,mc2)-q2\n",
    "    err3 = BR3_mc_var(q1,q2,a,b,mc3)-q3\n",
    "    return [err1, err2, err3]\n",
    "\n",
    "# We set the parameters as previously\n",
    "a = 50\n",
    "b = 3\n",
    "\n",
    "# We formulate the Cournot equilibrium problem as a minimization problem using the optimize.minimize function. \n",
    "# It minimizes the sum of squares of the errors in the system of equations, while we set the bounds to include only positive solutions.\n",
    "result_mc_var = optimize.minimize(lambda q: np.sum(np.square(H_mc_var(q,a,b, mc1(q[0]), mc2(q[1]), mc3(q[2])))),\n",
    "                           x0=[0.1, 0.1, 0.1], bounds=[(0, None), (0, None), (0, None)], method='nelder-mead')\n",
    "\n",
    "# We extract equilibrium quantities\n",
    "q_star_mc_var = result_mc_var.x\n",
    "q1_star_mc_var, q2_star_mc_var, q3_star_mc_var = q_star_mc_var\n",
    "total_output_mc_var = q1_star_mc_var + q2_star_mc_var + q3_star_mc_var\n",
    "\n",
    "print(\"Nash Equilibrium:\")\n",
    "print(f'q1* = {q1_star_mc_var:1.3f}')\n",
    "print(f'q2* = {q2_star_mc_var:1.3f}')\n",
    "print(f'q3* = {q3_star_mc_var:1.3f}')\n",
    "print(f'In an oligopoly with firm individual and variable MC, the total output is: {total_output_mc_var:1.3f}')"
   ]
  },
  {
   "cell_type": "markdown",
   "metadata": {},
   "source": [
    "We see, that marginal costs for each firm that initially larger than 1 result in less output for each firm as we would expect. Looking closer at the firms, we see:\n",
    "* a larger initial marginal cost result in a smaller output for companies with the same increase in mc per quantity of output (comparing firm 1 and 2).\n",
    "* a relatively smaller increase in mc per quantity of output can have a significant effect on the overall output, as mc is kept low (comparing firm 1 and 3)."
   ]
  },
  {
   "cell_type": "code",
   "execution_count": 124,
   "metadata": {},
   "outputs": [],
   "source": [
    "#def mc1(q1):\n",
    "    #return 1+(3*q1)\n",
    "\n",
    "#def mc2(q2):\n",
    "    #return 5+(3*q2)\n",
    "\n",
    "#def mc3(q3):\n",
    "    #return 3+(1.5*q3)\n",
    "\n",
    "\n",
    "#def profit_1_mc_var(a, b, q1, q2, q3, mc1):\n",
    "    #return (a - b * q1 - b * q2 - b * q3 - mc1) * q1\n",
    "\n",
    "#def BR1_mc_var(q2, q3, a, b, mc1):\n",
    "    #sol_BR1_mc_var = optimize.minimize(lambda q: -profit_1_mc_var(a, b, q, q2, q3, mc1), x0=0.1, bounds=[(0, None)])\n",
    "    #return sol_BR1_mc_var.x[0]  \n",
    "\n",
    "\n",
    "#def profit_2_mc_var(a, b, q1, q2, q3, mc2):\n",
    "    #return (a - b * q1 - b * q2 - b * q3 - mc2) * q2\n",
    "\n",
    "#def BR2_mc_var(q1, q3, a, b, mc2):\n",
    "    #sol_BR2_mc_var = optimize.minimize(lambda q: -profit_2_mc_var(a, b, q1, q, q3, mc2), x0=0.1, bounds=[(0, None)])\n",
    "    #return sol_BR2_mc_var.x[0]\n",
    "\n",
    "\n",
    "#def profit_3_mc_var(a, b, q1, q2, q3, mc3):\n",
    "    #return (a - b * q1 - b * q2 - b * q3 - mc3) * q3\n",
    "\n",
    "#def BR3_mc_var(q1, q2, a, b, mc3):\n",
    "    #sol_BR3_mc_var = optimize.minimize(lambda q: -profit_3_mc_var(a, b, q1, q2, q, mc3), x0=0.1, bounds=[(0, None)])\n",
    "    #return sol_BR3_mc_var.x[0]\n",
    "\n",
    "# Define function H(q)\n",
    "#def H_mc_var(q, a, b, mc1, mc2, mc3):\n",
    "    #q1, q2, q3 = q\n",
    "    #err1 = BR1_mc_var(q2, q3, a, b, mc1) - q1\n",
    "    #err2 = BR2_mc_var(q1, q3, a, b, mc2) - q2\n",
    "    #err3 = BR3_mc_var(q1, q2, a, b, mc3) - q3\n",
    "    #return [err1, err2, err3]\n",
    "\n",
    "# Set parameters\n",
    "#a = 50\n",
    "#b = 3\n",
    "\n",
    "#result = optimize.root(lambda q: H_mc_var(q, a, b, mc1, mc2, mc3), [0.1, 0.1, 0.1], method='hybr')\n",
    "\n",
    "# Extract equilibrium quantities\n",
    "#q1_star, q2_star, q3_star = result.x\n",
    "#total_output = q1_star + q2_star + q3_star\n",
    "\n",
    "# Print results\n",
    "#print(\"Nash Equilibrium:\")\n",
    "#print(f'q1* = {q1_star:1.3f}')\n",
    "#print(f'q2* = {q2_star:1.3f}')\n",
    "#print(f'q3* = {q3_star:1.3f}')\n",
    "#print(f'In an oligopoly with firm individual and variable MC, the total output is: {total_output:1.3f}')"
   ]
  },
  {
   "cell_type": "markdown",
   "metadata": {},
   "source": [
    "# Conclusion"
   ]
  },
  {
   "cell_type": "code",
   "execution_count": 125,
   "metadata": {},
   "outputs": [
    {
     "data": {
      "application/vnd.jupyter.widget-view+json": {
       "model_id": "1539775cb1eb47f690d381da8848741d",
       "version_major": 2,
       "version_minor": 0
      },
      "image/png": "[encoded data removed]",
      "text/html": [
       "\n",
       "            <div style=\"display: inline-block;\">\n",
       "                <div class=\"jupyter-widgets widget-label\" style=\"text-align: center;\">\n",
       "                    Figure\n",
       "                </div>\n",
       "                <img src='data:image/png;base64,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' width=1000.0/>\n",
       "            </div>\n",
       "        "
      ],
      "text/plain": [
       "Canvas(toolbar=Toolbar(toolitems=[('Home', 'Reset original view', 'home', 'home'), ('Back', 'Back to previous …"
      ]
     },
     "metadata": {},
     "output_type": "display_data"
    }
   ],
   "source": [
    "# Define parameters\n",
    "a = 50\n",
    "b = 3\n",
    "mc_duo = 1\n",
    "mc = 1\n",
    "\n",
    "# Calculate quantities for each case\n",
    "duopoly_q1_star, duopoly_q2_star, duopoly_total_output = duopoly_case(a, b, mc_duo)\n",
    "oligopoly_q1_star, oligopoly_q2_star, oligopoly_q3_star, oligopoly_total_output = oligopoly_case(a, b, mc)\n",
    "oligopoly_mc_var_q1_star, oligopoly_mc_var_q2_star, oligopoly_mc_var_q3_star, oligopoly_mc_var_total_output = oligopoly_case_mc_var(a, b)\n",
    "\n",
    "# Create a bar plot\n",
    "labels = ['Duopoly', 'Oligopoly\\n(without MC function)', 'Oligopoly\\n(with MC function)']\n",
    "outputs = [duopoly_total_output, oligopoly_total_output, oligopoly_mc_var_total_output]\n",
    "\n",
    "plt.figure(figsize=(10, 6))\n",
    "plt.bar(labels, outputs, color=['blue', 'orange', 'green'])\n",
    "plt.xlabel('Market Structure')\n",
    "plt.ylabel('Total Output')\n",
    "plt.title('Comparison of Total Output Across Market Structures')\n",
    "plt.show()"
   ]
  },
  {
   "attachments": {},
   "cell_type": "markdown",
   "metadata": {},
   "source": [
    "The bar plot illustrates the total output across various market structures: duopoly, oligopoly without the marginal cost function, and oligopoly with the marginal cost function.\n",
    "\n",
    "+ In the duopoly case, where only two firms compete, the total output is moderate compered to the other two, reflecting the balance of competition between the two firms.\n",
    "\n",
    "+ In contrast, the total output significantly increases in the oligopoly cases, where three firms compete. In the oligopoly without the marginal cost function leads to a slightly higher total output compared to the duopoly case. This suggests that while the addition of a third firm enhances competition and output, the individual output for each firm is slighly lower compered to the duopoly case.\n",
    "\n",
    "+ Interestingly, when incorporating the marginal cost function in the oligopoly case, the total output further decreases, falling below both the duopoly and oligopoly cases without the marginal cost function. This highlights the importance of considering the marginal cost dynamics in modeling oligopolistic competition, as firms adjust their production levels based on cost considerations.\n",
    "\n",
    "In summary, the figure demonstrates how different market structures and the incorporation of marginal cost dynamics can impact the total output in an industry. Understanding these dynamics is crucial for analyzing market behavior and making informed policy decisions."
   ]
  },
  {
   "attachments": {},
   "cell_type": "markdown",
   "metadata": {},
   "source": [
    "**Acknowledging the Stackelberg Model Extension**\n",
    "\n",
    "We could have expanded our analysis to include the Stackelberg model, where one firm acts as a leader and sets both price and quantity, while the other firm, the follower, adjusts its output accordingly. In this model, the leader typically enjoys higher profits, benefiting from its first-mover advantage. However, the follower may experience reduced profits due to the competitive response required. This extension would have provided insights into leadership dynamics and their impact on profitability in oligopolistic markets"
   ]
  }
 ],
 "metadata": {
  "kernelspec": {
   "display_name": "Python 3",
   "language": "python",
   "name": "python3"
  },
  "language_info": {
   "codemirror_mode": {
    "name": "ipython",
    "version": 3
   },
   "file_extension": ".py",
   "mimetype": "text/x-python",
   "name": "python",
   "nbconvert_exporter": "python",
   "pygments_lexer": "ipython3",
   "version": "3.11.7"
  },
  "toc-autonumbering": true,
  "vscode": {
   "interpreter": {
    "hash": "d082443479dcf0bb109497657c949fcf3a4bd1d96297faded59d95be7509270b"
   }
  }
 },
 "nbformat": 4,
 "nbformat_minor": 4
}
