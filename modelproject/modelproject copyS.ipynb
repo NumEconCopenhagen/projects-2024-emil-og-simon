{
 "cells": [
  {
   "cell_type": "markdown",
   "metadata": {},
   "source": [
    "# Competition in an oligopolistic market \n",
    "## - The Cournot Model"
   ]
  },
  {
   "cell_type": "markdown",
   "metadata": {},
   "source": [
    "Imports and set magics:"
   ]
  },
  {
   "cell_type": "code",
   "execution_count": 1,
   "metadata": {},
   "outputs": [],
   "source": [
    "import numpy as np\n",
    "from scipy import optimize\n",
    "import sympy as sm\n",
    "import matplotlib.pyplot as plt\n",
    "from mpl_toolkits.mplot3d import Axes3D\n",
    "import ipywidgets as widgets\n",
    "\n",
    "# autoreload modules when code is run\n",
    "%load_ext autoreload\n",
    "%autoreload 2\n",
    "\n",
    "# local modules\n",
    "from modelproject import *"
   ]
  },
  {
   "cell_type": "markdown",
   "metadata": {},
   "source": [
    "# Model description"
   ]
  },
  {
   "attachments": {},
   "cell_type": "markdown",
   "metadata": {},
   "source": [
    "The model of Cournot competition descibes an industry wherein competing firms offers identical products. The firms complete via the quantity of output they individually produce, simultaneously and autonomously. This model is named after its founder, the French mathematician Augustin Cournot."
   ]
  },
  {
   "attachments": {},
   "cell_type": "markdown",
   "metadata": {},
   "source": [
    "First, we will take a look at the most simple case of a duoploy where only two firms are competing the a given market. The model is given as followed:"
   ]
  },
  {
   "attachments": {},
   "cell_type": "markdown",
   "metadata": {},
   "source": [
    "$$\n",
    "\\begin{aligned}\n",
    "\\Pi_1(Q) & =p(Q)q_1-q_1MC_1 \\\\\n",
    "\\Pi_2(Q) & =p(Q)q_2-q_2MC_2 \\\\\n",
    "\\end{aligned}\n",
    "$$"
   ]
  },
  {
   "attachments": {},
   "cell_type": "markdown",
   "metadata": {},
   "source": [
    "In the profit functions above, price is determined by the total output denoted as $Q$, where for the two firms, the total output $Q$ equals the sum of their individual outputs $q_1$ and $q_2$. As an illustrative example, let's assume that the price (expressed as the inverse demand function) follows a linear format, represented by $p = a + bQ$ with a indicating the intersection, and b indicating the slope.\n",
    "\n",
    "Consequently, the inverse demand function can be expressed as $p = a + q_1b + q_2b$. This means, that each firm, when deciding how much to produce and thus the size of their profit, they take the other firms quantity produced into account as it affects the price.\n",
    "\n",
    "From the functions above, we see, that the firms profit is negatively affected by the marginal costs of producing one of the goods. In this very simple case, we will first look at a case, where $MC_1 = MC_2 = MC$. That is identical and fixed marginal costs."
   ]
  },
  {
   "cell_type": "markdown",
   "metadata": {},
   "source": [
    "## Analytical solution"
   ]
  },
  {
   "attachments": {},
   "cell_type": "markdown",
   "metadata": {},
   "source": [
    "In the initial part of this project we will find an analytical solution to the Cournot model. Although we acknowledge that this aspect of the project may not be particularly crucial, it is nonetheless essential to include. We utilized the SymPy function for this purpose, and the solution is presented below."
   ]
  },
  {
   "cell_type": "markdown",
   "metadata": {},
   "source": [
    "**Setting up with SymPy**\n",
    "\n",
    "Here we now define the parameters we need when defining the functions with SymPy according to the model."
   ]
  },
  {
   "cell_type": "code",
   "execution_count": 2,
   "metadata": {},
   "outputs": [],
   "source": [
    "a = sm.symbols('a')\n",
    "b = sm.symbols('b')\n",
    "pi_1 = sm.symbols('pi_1')\n",
    "pi_2 = sm.symbols('pi_2')\n",
    "mc = sm.symbols('MC')\n",
    "q1 = sm.symbols('q_1')\n",
    "q2 = sm.symbols('q_2')\n",
    "q_star = sm.symbols('q^*')"
   ]
  },
  {
   "cell_type": "markdown",
   "metadata": {},
   "source": [
    "**Profit functions for each firm**\n",
    "\n",
    "We now set up the profit functions for each firm using the sm.Eq().\n"
   ]
  },
  {
   "cell_type": "code",
   "execution_count": 3,
   "metadata": {},
   "outputs": [
    {
     "data": {
      "text/latex": [
       "$\\displaystyle \\pi_{1} = q_{1} \\left(- MC + a - b q_{1} - b q_{2}\\right)$"
      ],
      "text/plain": [
       "Eq(pi_1, q_1*(-MC + a - b*q_1 - b*q_2))"
      ]
     },
     "execution_count": 3,
     "metadata": {},
     "output_type": "execute_result"
    }
   ],
   "source": [
    "# Profit function for firm 1\n",
    "\n",
    "profit_1 = sm.Eq(pi_1,(a-b*q1-b*q2-mc)*q1)\n",
    "profit_1"
   ]
  },
  {
   "cell_type": "code",
   "execution_count": 4,
   "metadata": {},
   "outputs": [
    {
     "data": {
      "text/latex": [
       "$\\displaystyle \\pi_{2} = q_{2} \\left(- MC + a - b q_{1} - b q_{2}\\right)$"
      ],
      "text/plain": [
       "Eq(pi_2, q_2*(-MC + a - b*q_1 - b*q_2))"
      ]
     },
     "execution_count": 4,
     "metadata": {},
     "output_type": "execute_result"
    }
   ],
   "source": [
    "# Profit function for firm 1\n",
    "\n",
    "profit_2 = sm.Eq(pi_2,(a-b*q1-b*q2-mc)*q2)\n",
    "profit_2"
   ]
  },
  {
   "cell_type": "markdown",
   "metadata": {},
   "source": [
    "**FOC for each firm**\n",
    "\n",
    "We take the first order conditions since we assume, that the firms are profit-maximizing. That is, the firms will produce up to the level, where the $MC = MR$ meaning $MR - MC = 0$, so we can set the FOCs equal to 0, when we later solve for q1 and q2 respectively."
   ]
  },
  {
   "cell_type": "code",
   "execution_count": 5,
   "metadata": {},
   "outputs": [
    {
     "data": {
      "text/latex": [
       "$\\displaystyle - MC + a - 2 b q_{1} - b q_{2} = 0$"
      ],
      "text/plain": [
       "Eq(-MC + a - 2*b*q_1 - b*q_2, 0)"
      ]
     },
     "execution_count": 5,
     "metadata": {},
     "output_type": "execute_result"
    }
   ],
   "source": [
    "#FOC firm 1\n",
    "profit_1 = (a-b*q1-b*q2-mc)*q1\n",
    "foc_q1 = sm.diff(profit_1, q1)\n",
    "foc_q1_eq0 = sm.Eq(foc_q1,0)\n",
    "foc_q1_eq0"
   ]
  },
  {
   "cell_type": "code",
   "execution_count": 6,
   "metadata": {},
   "outputs": [
    {
     "data": {
      "text/latex": [
       "$\\displaystyle - MC + a - b q_{1} - 2 b q_{2} = 0$"
      ],
      "text/plain": [
       "Eq(-MC + a - b*q_1 - 2*b*q_2, 0)"
      ]
     },
     "execution_count": 6,
     "metadata": {},
     "output_type": "execute_result"
    }
   ],
   "source": [
    "#FOC firm 2\n",
    "profit_2 = (a-b*q1-b*q2-mc)*q2\n",
    "foc_q2 = sm.diff(profit_2, q2)\n",
    "foc_q2_eq0 = sm.Eq(foc_q2,0)\n",
    "foc_q2_eq0"
   ]
  },
  {
   "cell_type": "markdown",
   "metadata": {},
   "source": [
    "**Solving for q1 and q2**\n",
    "\n",
    "We can now solve for q1 and q2 respectively. That is, we find the quantities each firm will produce given the amount produced by the other firm, their marginal cost, a and b. We refer to these functions as the firms best response functions."
   ]
  },
  {
   "cell_type": "code",
   "execution_count": 7,
   "metadata": {},
   "outputs": [
    {
     "data": {
      "text/latex": [
       "$\\displaystyle q_{1} = \\frac{- MC + a - b q_{2}}{2 b}$"
      ],
      "text/plain": [
       "Eq(q_1, (-MC + a - b*q_2)/(2*b))"
      ]
     },
     "execution_count": 7,
     "metadata": {},
     "output_type": "execute_result"
    }
   ],
   "source": [
    "#We solve FOC1 for q1 to obtain best response function for firm 1\n",
    "solve_q1 = sm.solve(foc_q1,q1)\n",
    "solve_q1_eq = sm.Eq(q1,solve_q1[0])\n",
    "solve_q1_eq"
   ]
  },
  {
   "cell_type": "code",
   "execution_count": 8,
   "metadata": {},
   "outputs": [
    {
     "data": {
      "text/latex": [
       "$\\displaystyle q_{2} = \\frac{- MC + a - b q_{1}}{2 b}$"
      ],
      "text/plain": [
       "Eq(q_2, (-MC + a - b*q_1)/(2*b))"
      ]
     },
     "execution_count": 8,
     "metadata": {},
     "output_type": "execute_result"
    }
   ],
   "source": [
    "#We solve FOC2 for q2 to obtain best response function for firm 2\n",
    "solve_q2 = sm.solve(foc_q2,q2)\n",
    "solve_q2_eq = sm.Eq(q2,solve_q2[0])\n",
    "solve_q2_eq"
   ]
  },
  {
   "cell_type": "markdown",
   "metadata": {},
   "source": [
    "Since the firms have identical marginal costs and price, the relationship between the quantity produced by each firm is symmetrical that is $q1 = q2 = q^*$. "
   ]
  },
  {
   "cell_type": "code",
   "execution_count": 9,
   "metadata": {},
   "outputs": [
    {
     "data": {
      "text/latex": [
       "$\\displaystyle \\frac{- MC + a - b q^{*}}{2 b}$"
      ],
      "text/plain": [
       "(-MC + a - b*q^*)/(2*b)"
      ]
     },
     "execution_count": 9,
     "metadata": {},
     "output_type": "execute_result"
    }
   ],
   "source": [
    "solve_q1_subs = solve_q1[0].subs(q2,q_star)\n",
    "solve_q1_subs"
   ]
  },
  {
   "cell_type": "code",
   "execution_count": 10,
   "metadata": {},
   "outputs": [
    {
     "data": {
      "text/latex": [
       "$\\displaystyle \\frac{- MC + a - b q^{*}}{2 b}$"
      ],
      "text/plain": [
       "(-MC + a - b*q^*)/(2*b)"
      ]
     },
     "execution_count": 10,
     "metadata": {},
     "output_type": "execute_result"
    }
   ],
   "source": [
    "solve_q2_subs = solve_q2[0].subs(q1,q_star)\n",
    "solve_q2_subs"
   ]
  },
  {
   "cell_type": "markdown",
   "metadata": {},
   "source": [
    "**Finding the Nash Equilibrium**"
   ]
  },
  {
   "cell_type": "code",
   "execution_count": 11,
   "metadata": {},
   "outputs": [
    {
     "data": {
      "text/latex": [
       "$\\displaystyle q^{*} = \\frac{- MC + a - b q^{*}}{2 b}$"
      ],
      "text/plain": [
       "Eq(q^*, (-MC + a - b*q^*)/(2*b))"
      ]
     },
     "execution_count": 11,
     "metadata": {},
     "output_type": "execute_result"
    }
   ],
   "source": [
    "# We set up the nash equilibrium equation from inserting q1 = q2 = q* into each of the best response functions\n",
    "nash_eq = sm.Eq(q_star,solve_q1_subs)\n",
    "nash_eq"
   ]
  },
  {
   "cell_type": "code",
   "execution_count": 12,
   "metadata": {},
   "outputs": [
    {
     "data": {
      "text/latex": [
       "$\\displaystyle \\frac{- MC + a}{3 b}$"
      ],
      "text/plain": [
       "(-MC + a)/(3*b)"
      ]
     },
     "execution_count": 12,
     "metadata": {},
     "output_type": "execute_result"
    }
   ],
   "source": [
    "# We solve for the q*\n",
    "nash_eq_solve = sm.solve(nash_eq,q_star)\n",
    "nash_eq_solve[0]"
   ]
  },
  {
   "attachments": {},
   "cell_type": "markdown",
   "metadata": {},
   "source": [
    "Using SymPy, we have derived the best response (BR) functions for both firms and determined the Nash Equilibrium, a quantity of $q^*$ for each, which means that the total quantity in equilibrium is $Q = 2q^*$. Thus we have:\n",
    "\n",
    "$$\n",
    "\\begin{aligned}\n",
    "\\ BR: q_1 = q_2 = \\frac{a - bq^*-MC}{2b} \\\n",
    "\\end{aligned}\n",
    "$$\n",
    "$$\n",
    "\\begin{aligned}\n",
    "\\ Nash: q^* = \\frac{a - MC}{3b} \\\n",
    "\\end{aligned}\n",
    "$$\n",
    "$$\n",
    "\\begin{aligned}\n",
    "\\ Q = 2q^* = \\frac{2(a - MC)}{3b} \\\n",
    "\\end{aligned}\n",
    "$$"
   ]
  },
  {
   "cell_type": "markdown",
   "metadata": {},
   "source": [
    "**Creating functions using Lamdify**"
   ]
  },
  {
   "attachments": {},
   "cell_type": "markdown",
   "metadata": {},
   "source": [
    "After utilizing SymPy to derive the solution, we will employ lambdify to convert these  expressions into callable functions. By doing so, we can efficiently evaluate these expressions using specific numerical values, facilitating numerical analysis and computation."
   ]
  },
  {
   "cell_type": "code",
   "execution_count": 13,
   "metadata": {},
   "outputs": [],
   "source": [
    "best_resp_q1 = sm.lambdify(args=(a,b,mc),expr=solve_q1[0])\n",
    "best_resp_q2 = sm.lambdify(args=(a,b,mc),expr=solve_q2[0])\n",
    "nash_qstar = sm.lambdify(args=(a,b,mc),expr=nash_eq_solve[0])"
   ]
  },
  {
   "cell_type": "code",
   "execution_count": 14,
   "metadata": {},
   "outputs": [
    {
     "name": "stdout",
     "output_type": "stream",
     "text": [
      "For mc = 1.0, we have q* = 5.444\n",
      "For mc = 2.0, we have q* = 5.333\n",
      "For mc = 3.0, we have q* = 5.222\n",
      "For mc = 4.0, we have q* = 5.111\n",
      "For mc = 5.0, we have q* = 5.000\n",
      "For mc = 6.0, we have q* = 4.889\n",
      "For mc = 7.0, we have q* = 4.778\n",
      "For mc = 8.0, we have q* = 4.667\n",
      "For mc = 9.0, we have q* = 4.556\n",
      "For mc = 10.0, we have q* = 4.444\n"
     ]
    }
   ],
   "source": [
    "# we set the parameters and want to vary over marginal costs\n",
    "a_val = 50\n",
    "b_val = 3\n",
    "mc_vec = np.linspace(1,10,10)\n",
    "\n",
    "nash_eq = nash_qstar(a_val, b_val, mc_vec)\n",
    "\n",
    "for mc, n in zip(mc_vec, nash_eq):\n",
    "    print(f'For mc = {mc:1.1f}, we have q* = {n:1.3f}')\n"
   ]
  },
  {
   "cell_type": "markdown",
   "metadata": {},
   "source": [
    "We see, that with increasing marginal costs, the equilibrium quantity produced by each firm decreases, thus decreasing the total quantity produced."
   ]
  },
  {
   "cell_type": "markdown",
   "metadata": {},
   "source": [
    "## Numerical solution"
   ]
  },
  {
   "attachments": {},
   "cell_type": "markdown",
   "metadata": {},
   "source": [
    "**Setting up the code**\n",
    "\n",
    "Once the analytical solution has been obtained, we will proceed to solve the model numerically. Initially, we will employ an optimizer followed by a root finder to determine the quantities for the two firms. Before doing so we need to define a function (H_duo) that computes the errors in the Nash equilibrium conditions for a duopoly model. This function calculates the difference between each firm's best response quantity and its actual quantity produced. Then, it uses an optimization algorithm (optimize.root) to find the Nash equilibrium quantities, starting from an initial guess of [0.1, 0.1]. The relevant code for this numerical solution can be found in the py-file."
   ]
  },
  {
   "cell_type": "code",
   "execution_count": 15,
   "metadata": {},
   "outputs": [
    {
     "name": "stdout",
     "output_type": "stream",
     "text": [
      "Nash Equilibrium for mc1 = mc2 = 1\n",
      "q1* = 5.444\n",
      "q2* = 5.444\n",
      "Total Output = 10.889\n"
     ]
    }
   ],
   "source": [
    "a = 50\n",
    "b = 3\n",
    "mc_duo = 1\n",
    "\n",
    "# We call the function from our py-file.\n",
    "q1_star, q2_star, total_output = nash_eq_duo(a, b, mc_duo)"
   ]
  },
  {
   "attachments": {},
   "cell_type": "markdown",
   "metadata": {},
   "source": [
    "By experimenting with the value of the marginal cost, mc_duo above, within the range of 1 to 10, you will observe that both the analytical and numerical solutions yield identical results, indicating a promising consistency between the two methods."
   ]
  },
  {
   "attachments": {},
   "cell_type": "markdown",
   "metadata": {},
   "source": [
    "**An illustration of the numerical solution**\n",
    "\n",
    "To illustarte the result from above, we will plot the solution below using an interactive plot."
   ]
  },
  {
   "cell_type": "code",
   "execution_count": 16,
   "metadata": {},
   "outputs": [
    {
     "data": {
      "application/vnd.jupyter.widget-view+json": {
       "model_id": "2c467f11f2a44187a3310643e067e323",
       "version_major": 2,
       "version_minor": 0
      },
      "text/plain": [
       "interactive(children=(IntSlider(value=5, description='mc_duo', max=10, min=1), Output()), _dom_classes=('widge…"
      ]
     },
     "metadata": {},
     "output_type": "display_data"
    },
    {
     "data": {
      "text/plain": [
       "<function modelproject.plot_duo(mc_duo)>"
      ]
     },
     "execution_count": 16,
     "metadata": {},
     "output_type": "execute_result"
    }
   ],
   "source": [
    "# We call the function from our py-file.\n",
    "\n",
    "widgets.interact(plot_duo, mc_duo=(1, 10, 1))\n",
    "#%matplotlib widget\n",
    "# Using the (#) function ensures proper plot display in Jupyter Notebook. However, this may lead to duplicate plots. We don't know why."
   ]
  },
  {
   "attachments": {},
   "cell_type": "markdown",
   "metadata": {},
   "source": [
    "We've incorporated a slider for the marginal cost (MC) to demonstrate how changes in firms' marginal costs affect the solution of the model. As anticipated, when firms face rising marginal costs, their total output decreases."
   ]
  },
  {
   "cell_type": "markdown",
   "metadata": {},
   "source": [
    "**Illustrating the loss from competition**\n",
    "\n",
    "In the diagram below we have plotted the total profit (the mesh surface) for the two firms by adding the two individual profits for different quantities. We see, that the Nash Equilibrium does not sit on the peak of the combined profit. We expect that to be due to \"the lost profit\" as each of the firms produce a little less than they would, if there would not have been a second firm."
   ]
  },
  {
   "cell_type": "code",
   "execution_count": 17,
   "metadata": {},
   "outputs": [
    {
     "name": "stderr",
     "output_type": "stream",
     "text": [
      "/Users/Simon/Desktop/UNI/Polit/Intro/Emil og Simon/projects-2024-emil-og-simon/modelproject/modelproject.py:103: UserWarning: Z contains NaN values. This may result in rendering artifacts.\n",
      "  ax.plot_surface(q1, q2, profit, cmap='viridis', alpha=0.7)\n"
     ]
    },
    {
     "data": {
      "image/png": "[encoded data removed]",
      "text/plain": [
       "<Figure size 720x576 with 1 Axes>"
      ]
     },
     "metadata": {
      "needs_background": "light"
     },
     "output_type": "display_data"
    },
    {
     "data": {
      "text/plain": [
       "<Figure size 432x288 with 0 Axes>"
      ]
     },
     "execution_count": 17,
     "metadata": {},
     "output_type": "execute_result"
    },
    {
     "data": {
      "text/plain": [
       "<Figure size 432x288 with 0 Axes>"
      ]
     },
     "metadata": {},
     "output_type": "display_data"
    }
   ],
   "source": [
    "a_val = 50\n",
    "b_val = 3\n",
    "mc_duo_val = 1\n",
    "\n",
    "plot_profit_duo(a_val, b_val, mc_duo_val)\n",
    "\n",
    "#%matplotlib widget\n",
    "# Using the (#) function ensures proper plot display in Jupyter Notebook. However, this may lead to duplicate plots. We don't know why."
   ]
  },
  {
   "cell_type": "markdown",
   "metadata": {},
   "source": [
    "# Further analysis"
   ]
  },
  {
   "attachments": {},
   "cell_type": "markdown",
   "metadata": {},
   "source": [
    "The Cournot model can be extended to \"n\" firms. For our project, we will concentrate on the case involving three firms in the market, forming an oligopoly (n=3). Additionally, we will make one more extention to the model by making the marginal cost a function of the quantity produced by each firm.\n",
    "\n",
    "Here's the modified Cournot model:\n",
    "\n",
    "**The model**\n",
    "\n",
    "$$\n",
    "\\begin{aligned}\n",
    "\\pi_i(q_1,....,q_n) & =q_iP \\left( \\sum_{j=1}^{n}q_j\\right)-MC_i(q_i) \\\\\n",
    "\n",
    "\\end{aligned}\n",
    "$$\n",
    "  "
   ]
  },
  {
   "cell_type": "markdown",
   "metadata": {},
   "source": [
    "**Adding another firm - From duopoly to oligopoly**\n",
    "\n",
    "We start by adapting the model to a oligopoly scenario by adding a profit function and a best response function for Firm 3. This alters the profit functions for Firm 1 and 2, as they now have to take into account the quantity produced by Firm 3. This also effects the best response functions of the three firms as we see below and also the H-function. However, aside from this, the method is the same as used in the numerical solution with the duopol above. The code can be found in the py-file."
   ]
  },
  {
   "cell_type": "code",
   "execution_count": 18,
   "metadata": {},
   "outputs": [
    {
     "name": "stdout",
     "output_type": "stream",
     "text": [
      "Nash Equilibrium for mc1 = mc2 = mc3 = 1\n",
      "q1* = 4.083\n",
      "q2* = 4.083\n",
      "q3* = 4.083\n",
      "For mc = 1, the total output in an oligopoly with three firms is: 12.250\n"
     ]
    }
   ],
   "source": [
    "# We set the parameters as we have done previously to see the effect of adding another firm to the market\n",
    "a = 50\n",
    "b = 3\n",
    "mc_oligo = 1\n",
    "\n",
    "# We call the function from our py-file.\n",
    "q1_star_oligo, q2_star_oligo, q3_star_oligo, total_output_oligo = nash_eq_oligo(a, b, mc_oligo)"
   ]
  },
  {
   "cell_type": "markdown",
   "metadata": {},
   "source": [
    "We see, that the additional firm decreases the equilibrium quantity produced by each firm. This makes sense, as another firm now contribute to the total quantity produced thus increasing the competition on the market. However, the total quantity produced increases (from 10,889 found above). We will elaborate more on this in the conclusion."
   ]
  },
  {
   "cell_type": "markdown",
   "metadata": {},
   "source": [
    "**Oligopoly with individual marginal costs**\n",
    "\n",
    "Next up we want to add to the analysis the effects of marginal costs positively related to the individual quantities produced by the firms. We thus add the following functions to the model:\n",
    "\n",
    "$$\n",
    "\\begin{aligned}\n",
    "\\ mc_1(q_1) = 1.1 + 3q_1 \\\n",
    "\\end{aligned}\n",
    "$$\n",
    "$$\n",
    "\\begin{aligned}\n",
    "\\ mc_2(q_2) = 5 + 3q_2 \\\n",
    "\\end{aligned}\n",
    "$$\n",
    "$$\n",
    "\\begin{aligned}\n",
    "\\ mc_3(q_3) = 1.1 + 1.5q_3 \\\n",
    "\\end{aligned}\n",
    "$$\n",
    "\n",
    "In case you want to see the results for different individual marginal costs, the code can be altered in the py-file.\n",
    "\n",
    "For the optimization problem, we use the nelder-mead method. We have tried with a few other methods, but found that the Nelder-Mead gave the best result, as the bounds provided in the problem ensure that the solution remains within feasible regions (non-negative quantities for production). In this case, the lower bound of 0 ensures that negative quantities are not considered as solutions."
   ]
  },
  {
   "cell_type": "code",
   "execution_count": 19,
   "metadata": {},
   "outputs": [
    {
     "name": "stdout",
     "output_type": "stream",
     "text": [
      "Nash Equilibrium:\n",
      "q1* = 3.257\n",
      "q2* = 2.607\n",
      "q3* = 3.921\n",
      "In an oligopoly with firm individual and variable MC, the total output is: 9.785\n"
     ]
    }
   ],
   "source": [
    "# We use the same parameters as previously (a = 50 and b = 3), for comparability reasons, but they can be set differently here\n",
    "a = 50\n",
    "b = 3\n",
    "\n",
    "# We call the function from our py-file.\n",
    "q1_star_mc_var, q2_star_mc_var, q3_star_mc_var, total_output_mc_var = nash_eq_mc_var(a, b)"
   ]
  },
  {
   "cell_type": "markdown",
   "metadata": {},
   "source": [
    "We see, that marginal costs for each firm that initially larger than 1 result in less output for each firm as we would expect. Looking closer at the firms, we see:\n",
    "* a larger initial marginal cost result in a smaller output for companies with the same increase in mc per quantity of output (comparing firm 1 and 2).\n",
    "* a relatively smaller increase in mc per quantity of output can have a significant effect on the overall output, as mc is kept low (comparing firm 1 and 3)."
   ]
  },
  {
   "cell_type": "markdown",
   "metadata": {},
   "source": [
    "# Conclusion"
   ]
  },
  {
   "cell_type": "code",
   "execution_count": 20,
   "metadata": {},
   "outputs": [
    {
     "name": "stdout",
     "output_type": "stream",
     "text": [
      "Nash Equilibrium for mc1 = mc2 = 1\n",
      "q1* = 5.444\n",
      "q2* = 5.444\n",
      "Total Output = 10.889\n",
      "Nash Equilibrium for mc1 = mc2 = mc3 = 1\n",
      "q1* = 4.083\n",
      "q2* = 4.083\n",
      "q3* = 4.083\n",
      "For mc = 1, the total output in an oligopoly with three firms is: 12.250\n",
      "Nash Equilibrium:\n",
      "q1* = 3.257\n",
      "q2* = 2.607\n",
      "q3* = 3.921\n",
      "In an oligopoly with firm individual and variable MC, the total output is: 9.785\n"
     ]
    },
    {
     "data": {
      "image/png": "[encoded data removed]",
      "text/plain": [
       "<Figure size 720x432 with 1 Axes>"
      ]
     },
     "metadata": {
      "needs_background": "light"
     },
     "output_type": "display_data"
    },
    {
     "data": {
      "text/plain": [
       "<Figure size 432x288 with 0 Axes>"
      ]
     },
     "execution_count": 20,
     "metadata": {},
     "output_type": "execute_result"
    },
    {
     "data": {
      "text/plain": [
       "<Figure size 432x288 with 0 Axes>"
      ]
     },
     "metadata": {},
     "output_type": "display_data"
    }
   ],
   "source": [
    "# again we set the parameters\n",
    "a = 50\n",
    "b = 3\n",
    "mc_duo = 1\n",
    "mc_oligo = 1\n",
    "\n",
    "# We call the function from our py-file\n",
    "plot_results(a, b, mc_duo, mc_oligo)\n",
    "\n",
    "#%matplotlib widget\n",
    "# Using the (#) function ensures proper plot display in Jupyter Notebook. However, this may lead to duplicate plots. We don't know why."
   ]
  },
  {
   "attachments": {},
   "cell_type": "markdown",
   "metadata": {},
   "source": [
    "The bar plot illustrates the total output across various market structures: duopoly (n=2), oligopoly (n=3) without the marginal cost function, and oligopoly (n=3) with the marginal cost function.\n",
    "\n",
    "+ In the duopoly case, where only two firms compete, the total output is moderate compered to the other two, reflecting the balance of competition between the two firms.\n",
    "\n",
    "+ In contrast, the total output significantly increases in the oligopoly cases, where three firms compete. This indicates that while the addition of a third firm enhances competition and output, the individual output for each firm is slighly lower compered to the duopoly case.\n",
    "\n",
    "+ Interestingly, when incorporating the marginal cost function in the oligopoly case, the total output further decreases, falling below both the duopoly and oligopoly cases without the marginal cost function. This highlights the importance of considering the marginal cost dynamics in modeling oligopolistic competition, as firms adjust their production levels based on cost considerations. However, the decrease in total output are of course also due to the individual MC being set relatively higher than in the first part of the analysis, ehere mc were set to 1 for aech firm.\n",
    "\n",
    "In summary, the figure demonstrates how different market structures and the incorporation of marginal cost dynamics can impact the total output in an industry. Understanding these dynamics is crucial for analyzing market behavior and making informed policy decisions."
   ]
  },
  {
   "attachments": {},
   "cell_type": "markdown",
   "metadata": {},
   "source": [
    "**Acknowledging the Stackelberg Model Extension**\n",
    "\n",
    "We could have expanded our analysis to include the Stackelberg model, where one firm acts as a leader and sets both price and quantity, while the other firm, the follower, adjusts its output accordingly. In this model, the leader typically enjoys higher profits, benefiting from its first-mover advantage. However, the follower may experience reduced profits due to the competitive response required. This extension would have provided insights into leadership dynamics and their impact on profitability in oligopolistic markets"
   ]
  }
 ],
 "metadata": {
  "kernelspec": {
   "display_name": "Python 3",
   "language": "python",
   "name": "python3"
  },
  "language_info": {
   "codemirror_mode": {
    "name": "ipython",
    "version": 3
   },
   "file_extension": ".py",
   "mimetype": "text/x-python",
   "name": "python",
   "nbconvert_exporter": "python",
   "pygments_lexer": "ipython3",
   "version": "3.9.7"
  },
  "toc-autonumbering": true,
  "vscode": {
   "interpreter": {
    "hash": "d082443479dcf0bb109497657c949fcf3a4bd1d96297faded59d95be7509270b"
   }
  }
 },
 "nbformat": 4,
 "nbformat_minor": 4
}
